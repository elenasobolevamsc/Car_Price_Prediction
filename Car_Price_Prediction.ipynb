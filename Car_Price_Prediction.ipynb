{
 "cells": [
  {
   "cell_type": "markdown",
   "source": [
    "# Подготовка данных\n",
    "## Анализ данных"
   ],
   "metadata": {
    "collapsed": false
   },
   "id": "8768fa11ec44c3fc"
  },
  {
   "cell_type": "code",
   "execution_count": 1,
   "outputs": [],
   "source": [
    "# импортируем библиотеки:\n",
    "import warnings\n",
    "warnings.filterwarnings('ignore')\n",
    "\n",
    "import mlflow\n",
    "import optuna\n",
    "import sklearn\n",
    "import pandas as pd\n",
    "import numpy as np\n",
    "import matplotlib.pyplot as plt\n",
    "\n",
    "from phik.report import plot_correlation_matrix\n",
    "from lightgbm import LGBMRegressor\n",
    "from catboost import CatBoostRegressor\n",
    "from sklearn.linear_model import LinearRegression\n",
    "from sklearn.pipeline import Pipeline\n",
    "from sklearn.compose import ColumnTransformer\n",
    "from sklearn.impute import SimpleImputer\n",
    "from sklearn.model_selection import train_test_split, cross_val_score\n",
    "from sklearn.preprocessing import OneHotEncoder, StandardScaler, PowerTransformer, LabelEncoder, OrdinalEncoder\n",
    "from sklearn.base import BaseEstimator, TransformerMixin\n",
    "from sklearn.metrics import mean_squared_error\n",
    "\n",
    "mlflow.set_tracking_uri(\"http://127.0.0.1:9000\")\n",
    "client=mlflow.MlflowClient(tracking_uri='http://127.0.0.1:9000')\n",
    "sklearn.set_config(transform_output='pandas')"
   ],
   "metadata": {
    "collapsed": false,
    "ExecuteTime": {
     "end_time": "2023-12-09T09:37:59.540125100Z",
     "start_time": "2023-12-09T09:37:51.944792100Z"
    }
   },
   "id": "883181964c124b05"
  },
  {
   "cell_type": "code",
   "execution_count": 2,
   "outputs": [
    {
     "data": {
      "text/plain": "           DateCrawled  Price VehicleType  RegistrationYear Gearbox  Power  \\\n0  2016-03-24 11:52:17    480         NaN              1993  manual      0   \n1  2016-03-24 10:58:45  18300       coupe              2011  manual    190   \n2  2016-03-14 12:52:21   9800         suv              2004    auto    163   \n3  2016-03-17 16:54:04   1500       small              2001  manual     75   \n4  2016-03-31 17:25:20   3600       small              2008  manual     69   \n\n   Model  Kilometer  RegistrationMonth  FuelType       Brand Repaired  \\\n0   golf     150000                  0    petrol  volkswagen      NaN   \n1    NaN     125000                  5  gasoline        audi      yes   \n2  grand     125000                  8  gasoline        jeep      NaN   \n3   golf     150000                  6    petrol  volkswagen       no   \n4  fabia      90000                  7  gasoline       skoda       no   \n\n           DateCreated  NumberOfPictures  PostalCode             LastSeen  \n0  2016-03-24 00:00:00                 0       70435  2016-04-07 03:16:57  \n1  2016-03-24 00:00:00                 0       66954  2016-04-07 01:46:50  \n2  2016-03-14 00:00:00                 0       90480  2016-04-05 12:47:46  \n3  2016-03-17 00:00:00                 0       91074  2016-03-17 17:40:17  \n4  2016-03-31 00:00:00                 0       60437  2016-04-06 10:17:21  ",
      "text/html": "<div>\n<style scoped>\n    .dataframe tbody tr th:only-of-type {\n        vertical-align: middle;\n    }\n\n    .dataframe tbody tr th {\n        vertical-align: top;\n    }\n\n    .dataframe thead th {\n        text-align: right;\n    }\n</style>\n<table border=\"1\" class=\"dataframe\">\n  <thead>\n    <tr style=\"text-align: right;\">\n      <th></th>\n      <th>DateCrawled</th>\n      <th>Price</th>\n      <th>VehicleType</th>\n      <th>RegistrationYear</th>\n      <th>Gearbox</th>\n      <th>Power</th>\n      <th>Model</th>\n      <th>Kilometer</th>\n      <th>RegistrationMonth</th>\n      <th>FuelType</th>\n      <th>Brand</th>\n      <th>Repaired</th>\n      <th>DateCreated</th>\n      <th>NumberOfPictures</th>\n      <th>PostalCode</th>\n      <th>LastSeen</th>\n    </tr>\n  </thead>\n  <tbody>\n    <tr>\n      <th>0</th>\n      <td>2016-03-24 11:52:17</td>\n      <td>480</td>\n      <td>NaN</td>\n      <td>1993</td>\n      <td>manual</td>\n      <td>0</td>\n      <td>golf</td>\n      <td>150000</td>\n      <td>0</td>\n      <td>petrol</td>\n      <td>volkswagen</td>\n      <td>NaN</td>\n      <td>2016-03-24 00:00:00</td>\n      <td>0</td>\n      <td>70435</td>\n      <td>2016-04-07 03:16:57</td>\n    </tr>\n    <tr>\n      <th>1</th>\n      <td>2016-03-24 10:58:45</td>\n      <td>18300</td>\n      <td>coupe</td>\n      <td>2011</td>\n      <td>manual</td>\n      <td>190</td>\n      <td>NaN</td>\n      <td>125000</td>\n      <td>5</td>\n      <td>gasoline</td>\n      <td>audi</td>\n      <td>yes</td>\n      <td>2016-03-24 00:00:00</td>\n      <td>0</td>\n      <td>66954</td>\n      <td>2016-04-07 01:46:50</td>\n    </tr>\n    <tr>\n      <th>2</th>\n      <td>2016-03-14 12:52:21</td>\n      <td>9800</td>\n      <td>suv</td>\n      <td>2004</td>\n      <td>auto</td>\n      <td>163</td>\n      <td>grand</td>\n      <td>125000</td>\n      <td>8</td>\n      <td>gasoline</td>\n      <td>jeep</td>\n      <td>NaN</td>\n      <td>2016-03-14 00:00:00</td>\n      <td>0</td>\n      <td>90480</td>\n      <td>2016-04-05 12:47:46</td>\n    </tr>\n    <tr>\n      <th>3</th>\n      <td>2016-03-17 16:54:04</td>\n      <td>1500</td>\n      <td>small</td>\n      <td>2001</td>\n      <td>manual</td>\n      <td>75</td>\n      <td>golf</td>\n      <td>150000</td>\n      <td>6</td>\n      <td>petrol</td>\n      <td>volkswagen</td>\n      <td>no</td>\n      <td>2016-03-17 00:00:00</td>\n      <td>0</td>\n      <td>91074</td>\n      <td>2016-03-17 17:40:17</td>\n    </tr>\n    <tr>\n      <th>4</th>\n      <td>2016-03-31 17:25:20</td>\n      <td>3600</td>\n      <td>small</td>\n      <td>2008</td>\n      <td>manual</td>\n      <td>69</td>\n      <td>fabia</td>\n      <td>90000</td>\n      <td>7</td>\n      <td>gasoline</td>\n      <td>skoda</td>\n      <td>no</td>\n      <td>2016-03-31 00:00:00</td>\n      <td>0</td>\n      <td>60437</td>\n      <td>2016-04-06 10:17:21</td>\n    </tr>\n  </tbody>\n</table>\n</div>"
     },
     "execution_count": 2,
     "metadata": {},
     "output_type": "execute_result"
    }
   ],
   "source": [
    "# загрузим файл и изучим общую информацию о нем:\n",
    "df = pd.read_csv('Autos.csv')\n",
    "df.head()"
   ],
   "metadata": {
    "collapsed": false,
    "ExecuteTime": {
     "end_time": "2023-12-09T09:38:07.860256400Z",
     "start_time": "2023-12-09T09:38:06.221752900Z"
    }
   },
   "id": "b0af43632c46f1b1"
  },
  {
   "cell_type": "code",
   "execution_count": 3,
   "outputs": [
    {
     "name": "stdout",
     "output_type": "stream",
     "text": [
      "<class 'pandas.core.frame.DataFrame'>\n",
      "RangeIndex: 354369 entries, 0 to 354368\n",
      "Data columns (total 16 columns):\n",
      " #   Column             Non-Null Count   Dtype \n",
      "---  ------             --------------   ----- \n",
      " 0   DateCrawled        354369 non-null  object\n",
      " 1   Price              354369 non-null  int64 \n",
      " 2   VehicleType        316879 non-null  object\n",
      " 3   RegistrationYear   354369 non-null  int64 \n",
      " 4   Gearbox            334536 non-null  object\n",
      " 5   Power              354369 non-null  int64 \n",
      " 6   Model              334664 non-null  object\n",
      " 7   Kilometer          354369 non-null  int64 \n",
      " 8   RegistrationMonth  354369 non-null  int64 \n",
      " 9   FuelType           321474 non-null  object\n",
      " 10  Brand              354369 non-null  object\n",
      " 11  Repaired           283215 non-null  object\n",
      " 12  DateCreated        354369 non-null  object\n",
      " 13  NumberOfPictures   354369 non-null  int64 \n",
      " 14  PostalCode         354369 non-null  int64 \n",
      " 15  LastSeen           354369 non-null  object\n",
      "dtypes: int64(7), object(9)\n",
      "memory usage: 43.3+ MB\n"
     ]
    }
   ],
   "source": [
    "df.info()"
   ],
   "metadata": {
    "collapsed": false,
    "ExecuteTime": {
     "end_time": "2023-12-09T09:38:12.453739900Z",
     "start_time": "2023-12-09T09:38:12.167791300Z"
    }
   },
   "id": "d9d7d1ce38c1526"
  },
  {
   "cell_type": "code",
   "execution_count": 4,
   "outputs": [
    {
     "data": {
      "text/plain": "DateCrawled              0\nPrice                    0\nVehicleType          37490\nRegistrationYear         0\nGearbox              19833\nPower                    0\nModel                19705\nKilometer                0\nRegistrationMonth        0\nFuelType             32895\nBrand                    0\nRepaired             71154\nDateCreated              0\nNumberOfPictures         0\nPostalCode               0\nLastSeen                 0\ndtype: int64"
     },
     "execution_count": 4,
     "metadata": {},
     "output_type": "execute_result"
    }
   ],
   "source": [
    "# найдем пропуски в данных:\n",
    "df.isna().sum()"
   ],
   "metadata": {
    "collapsed": false,
    "ExecuteTime": {
     "end_time": "2023-12-09T09:38:12.698895900Z",
     "start_time": "2023-12-09T09:38:12.388141600Z"
    }
   },
   "id": "34db213060a406cc"
  },
  {
   "cell_type": "code",
   "execution_count": 5,
   "outputs": [
    {
     "data": {
      "text/plain": "4"
     },
     "execution_count": 5,
     "metadata": {},
     "output_type": "execute_result"
    }
   ],
   "source": [
    "# найдем явные дубликаты:\n",
    "df.duplicated().sum()"
   ],
   "metadata": {
    "collapsed": false,
    "ExecuteTime": {
     "end_time": "2023-12-09T09:38:13.603780600Z",
     "start_time": "2023-12-09T09:38:12.887480600Z"
    }
   },
   "id": "d6c8cb22c31f9f32"
  },
  {
   "cell_type": "code",
   "execution_count": 6,
   "outputs": [],
   "source": [
    "# удалим явные дубликаты:\n",
    "df = df.drop_duplicates()"
   ],
   "metadata": {
    "collapsed": false,
    "ExecuteTime": {
     "end_time": "2023-12-09T09:38:14.447666Z",
     "start_time": "2023-12-09T09:38:13.576154800Z"
    }
   },
   "id": "21cf90896e924f1f"
  },
  {
   "cell_type": "markdown",
   "source": [
    "Определим признаки, важные для модели.\n",
    "\n",
    "К значимым признакам отнесем следующие столбцы:\n",
    "\n",
    "- VehicleType. Тип машины определяет ее функционал. Чем больше возможностей у машины, тем выше цена.\n",
    "- Gearbox. Наличие автоматической коробки передач повышает стоимость машины из-за сложности конструкции.\n",
    "- Power. Мощность в лошадиных силах (далее л.с.) напрямую влияют на цену.\n",
    "- Kilometer. Имеет обратно пропорциональную зависимость от цены. Чем больше километров проехала машина, тем меньше ее надежность и, соответственно, цена.\n",
    "- FuelType. Тип топлива определяет конструкцию двигателя внутреннего сгорания.\n",
    "- Brand. Концерн/компания, которая создала автомобиль, показывает качество и надежность автомобиля.\n",
    "- Repaired. Машины, которые побывали в дорожно-транспортных происшествиях, подверглись изменениям, и их надежность ниже.\n",
    "- RegistrationYear. Год регистрации определяет, сколько уже лет машина на ходу, соответственно, чем больше возраст, тем меньше цена.\n",
    "- Model. Тоже может влиять на популярность у покупателей.\n",
    "\n",
    "Остальные столбцы для модели не требуются, так как не влияют на стоимость и не являются информативными: \n",
    "- DateCrawled (дата скачивания анкеты из базы), \n",
    "- RegistrationMonth(месяц регистрации автомобиля), \n",
    "- DateCreated (дата создания анкеты), \n",
    "- NumberOfPictures (количество фотографий автомобиля), \n",
    "- PostalCode (почтовый индекс владельца анкеты (пользователя)),\n",
    "- LastSeen (дата последней активности пользователя)."
   ],
   "metadata": {
    "collapsed": false
   },
   "id": "bdb7d040fe5aa67"
  },
  {
   "cell_type": "markdown",
   "source": [
    "## Предобработка данных"
   ],
   "metadata": {
    "collapsed": false
   },
   "id": "9a15bacb0d0072c3"
  },
  {
   "cell_type": "code",
   "execution_count": 7,
   "outputs": [
    {
     "name": "stdout",
     "output_type": "stream",
     "text": [
      "<class 'pandas.core.frame.DataFrame'>\n",
      "Index: 354365 entries, 0 to 354368\n",
      "Data columns (total 16 columns):\n",
      " #   Column             Non-Null Count   Dtype \n",
      "---  ------             --------------   ----- \n",
      " 0   DateCrawled        354365 non-null  object\n",
      " 1   Price              354365 non-null  int64 \n",
      " 2   VehicleType        316875 non-null  object\n",
      " 3   RegistrationYear   354365 non-null  int64 \n",
      " 4   Gearbox            334532 non-null  object\n",
      " 5   Power              354365 non-null  int64 \n",
      " 6   Model              334660 non-null  object\n",
      " 7   Kilometer          354365 non-null  int64 \n",
      " 8   RegistrationMonth  354365 non-null  int64 \n",
      " 9   FuelType           321470 non-null  object\n",
      " 10  Brand              354365 non-null  object\n",
      " 11  Repaired           283211 non-null  object\n",
      " 12  DateCreated        354365 non-null  object\n",
      " 13  NumberOfPictures   354365 non-null  int64 \n",
      " 14  PostalCode         354365 non-null  int64 \n",
      " 15  LastSeen           354365 non-null  object\n",
      "dtypes: int64(7), object(9)\n",
      "memory usage: 46.0+ MB\n"
     ]
    }
   ],
   "source": [
    "df.info()"
   ],
   "metadata": {
    "collapsed": false,
    "ExecuteTime": {
     "end_time": "2023-12-09T09:38:14.637469Z",
     "start_time": "2023-12-09T09:38:14.353458700Z"
    }
   },
   "id": "ee2c9497b8c4eb0"
  },
  {
   "cell_type": "code",
   "execution_count": 8,
   "outputs": [
    {
     "data": {
      "text/plain": "                DateCrawled          Price VehicleType  RegistrationYear  \\\ncount                354365  354365.000000      316875     354365.000000   \nunique               271174            NaN           8               NaN   \ntop     2016-03-24 14:49:47            NaN       sedan               NaN   \nfreq                      7            NaN       91457               NaN   \nmean                    NaN    4416.679830         NaN       2004.234481   \nstd                     NaN    4514.176349         NaN         90.228466   \nmin                     NaN       0.000000         NaN       1000.000000   \n25%                     NaN    1050.000000         NaN       1999.000000   \n50%                     NaN    2700.000000         NaN       2003.000000   \n75%                     NaN    6400.000000         NaN       2008.000000   \nmax                     NaN   20000.000000         NaN       9999.000000   \n\n       Gearbox          Power   Model      Kilometer  RegistrationMonth  \\\ncount   334532  354365.000000  334660  354365.000000      354365.000000   \nunique       2            NaN     250            NaN                NaN   \ntop     manual            NaN    golf            NaN                NaN   \nfreq    268249            NaN   29232            NaN                NaN   \nmean       NaN     110.093816     NaN  128211.363989           5.714650   \nstd        NaN     189.851330     NaN   37905.083858           3.726432   \nmin        NaN       0.000000     NaN    5000.000000           0.000000   \n25%        NaN      69.000000     NaN  125000.000000           3.000000   \n50%        NaN     105.000000     NaN  150000.000000           6.000000   \n75%        NaN     143.000000     NaN  150000.000000           9.000000   \nmax        NaN   20000.000000     NaN  150000.000000          12.000000   \n\n       FuelType       Brand Repaired          DateCreated  NumberOfPictures  \\\ncount    321470      354365   283211               354365          354365.0   \nunique        7          40        2                  109               NaN   \ntop      petrol  volkswagen       no  2016-04-03 00:00:00               NaN   \nfreq     216349       77012   247158                13718               NaN   \nmean        NaN         NaN      NaN                  NaN               0.0   \nstd         NaN         NaN      NaN                  NaN               0.0   \nmin         NaN         NaN      NaN                  NaN               0.0   \n25%         NaN         NaN      NaN                  NaN               0.0   \n50%         NaN         NaN      NaN                  NaN               0.0   \n75%         NaN         NaN      NaN                  NaN               0.0   \nmax         NaN         NaN      NaN                  NaN               0.0   \n\n           PostalCode             LastSeen  \ncount   354365.000000               354365  \nunique            NaN               179150  \ntop               NaN  2016-04-06 13:45:54  \nfreq              NaN                   17  \nmean     50508.503800                  NaN  \nstd      25783.100078                  NaN  \nmin       1067.000000                  NaN  \n25%      30165.000000                  NaN  \n50%      49413.000000                  NaN  \n75%      71083.000000                  NaN  \nmax      99998.000000                  NaN  ",
      "text/html": "<div>\n<style scoped>\n    .dataframe tbody tr th:only-of-type {\n        vertical-align: middle;\n    }\n\n    .dataframe tbody tr th {\n        vertical-align: top;\n    }\n\n    .dataframe thead th {\n        text-align: right;\n    }\n</style>\n<table border=\"1\" class=\"dataframe\">\n  <thead>\n    <tr style=\"text-align: right;\">\n      <th></th>\n      <th>DateCrawled</th>\n      <th>Price</th>\n      <th>VehicleType</th>\n      <th>RegistrationYear</th>\n      <th>Gearbox</th>\n      <th>Power</th>\n      <th>Model</th>\n      <th>Kilometer</th>\n      <th>RegistrationMonth</th>\n      <th>FuelType</th>\n      <th>Brand</th>\n      <th>Repaired</th>\n      <th>DateCreated</th>\n      <th>NumberOfPictures</th>\n      <th>PostalCode</th>\n      <th>LastSeen</th>\n    </tr>\n  </thead>\n  <tbody>\n    <tr>\n      <th>count</th>\n      <td>354365</td>\n      <td>354365.000000</td>\n      <td>316875</td>\n      <td>354365.000000</td>\n      <td>334532</td>\n      <td>354365.000000</td>\n      <td>334660</td>\n      <td>354365.000000</td>\n      <td>354365.000000</td>\n      <td>321470</td>\n      <td>354365</td>\n      <td>283211</td>\n      <td>354365</td>\n      <td>354365.0</td>\n      <td>354365.000000</td>\n      <td>354365</td>\n    </tr>\n    <tr>\n      <th>unique</th>\n      <td>271174</td>\n      <td>NaN</td>\n      <td>8</td>\n      <td>NaN</td>\n      <td>2</td>\n      <td>NaN</td>\n      <td>250</td>\n      <td>NaN</td>\n      <td>NaN</td>\n      <td>7</td>\n      <td>40</td>\n      <td>2</td>\n      <td>109</td>\n      <td>NaN</td>\n      <td>NaN</td>\n      <td>179150</td>\n    </tr>\n    <tr>\n      <th>top</th>\n      <td>2016-03-24 14:49:47</td>\n      <td>NaN</td>\n      <td>sedan</td>\n      <td>NaN</td>\n      <td>manual</td>\n      <td>NaN</td>\n      <td>golf</td>\n      <td>NaN</td>\n      <td>NaN</td>\n      <td>petrol</td>\n      <td>volkswagen</td>\n      <td>no</td>\n      <td>2016-04-03 00:00:00</td>\n      <td>NaN</td>\n      <td>NaN</td>\n      <td>2016-04-06 13:45:54</td>\n    </tr>\n    <tr>\n      <th>freq</th>\n      <td>7</td>\n      <td>NaN</td>\n      <td>91457</td>\n      <td>NaN</td>\n      <td>268249</td>\n      <td>NaN</td>\n      <td>29232</td>\n      <td>NaN</td>\n      <td>NaN</td>\n      <td>216349</td>\n      <td>77012</td>\n      <td>247158</td>\n      <td>13718</td>\n      <td>NaN</td>\n      <td>NaN</td>\n      <td>17</td>\n    </tr>\n    <tr>\n      <th>mean</th>\n      <td>NaN</td>\n      <td>4416.679830</td>\n      <td>NaN</td>\n      <td>2004.234481</td>\n      <td>NaN</td>\n      <td>110.093816</td>\n      <td>NaN</td>\n      <td>128211.363989</td>\n      <td>5.714650</td>\n      <td>NaN</td>\n      <td>NaN</td>\n      <td>NaN</td>\n      <td>NaN</td>\n      <td>0.0</td>\n      <td>50508.503800</td>\n      <td>NaN</td>\n    </tr>\n    <tr>\n      <th>std</th>\n      <td>NaN</td>\n      <td>4514.176349</td>\n      <td>NaN</td>\n      <td>90.228466</td>\n      <td>NaN</td>\n      <td>189.851330</td>\n      <td>NaN</td>\n      <td>37905.083858</td>\n      <td>3.726432</td>\n      <td>NaN</td>\n      <td>NaN</td>\n      <td>NaN</td>\n      <td>NaN</td>\n      <td>0.0</td>\n      <td>25783.100078</td>\n      <td>NaN</td>\n    </tr>\n    <tr>\n      <th>min</th>\n      <td>NaN</td>\n      <td>0.000000</td>\n      <td>NaN</td>\n      <td>1000.000000</td>\n      <td>NaN</td>\n      <td>0.000000</td>\n      <td>NaN</td>\n      <td>5000.000000</td>\n      <td>0.000000</td>\n      <td>NaN</td>\n      <td>NaN</td>\n      <td>NaN</td>\n      <td>NaN</td>\n      <td>0.0</td>\n      <td>1067.000000</td>\n      <td>NaN</td>\n    </tr>\n    <tr>\n      <th>25%</th>\n      <td>NaN</td>\n      <td>1050.000000</td>\n      <td>NaN</td>\n      <td>1999.000000</td>\n      <td>NaN</td>\n      <td>69.000000</td>\n      <td>NaN</td>\n      <td>125000.000000</td>\n      <td>3.000000</td>\n      <td>NaN</td>\n      <td>NaN</td>\n      <td>NaN</td>\n      <td>NaN</td>\n      <td>0.0</td>\n      <td>30165.000000</td>\n      <td>NaN</td>\n    </tr>\n    <tr>\n      <th>50%</th>\n      <td>NaN</td>\n      <td>2700.000000</td>\n      <td>NaN</td>\n      <td>2003.000000</td>\n      <td>NaN</td>\n      <td>105.000000</td>\n      <td>NaN</td>\n      <td>150000.000000</td>\n      <td>6.000000</td>\n      <td>NaN</td>\n      <td>NaN</td>\n      <td>NaN</td>\n      <td>NaN</td>\n      <td>0.0</td>\n      <td>49413.000000</td>\n      <td>NaN</td>\n    </tr>\n    <tr>\n      <th>75%</th>\n      <td>NaN</td>\n      <td>6400.000000</td>\n      <td>NaN</td>\n      <td>2008.000000</td>\n      <td>NaN</td>\n      <td>143.000000</td>\n      <td>NaN</td>\n      <td>150000.000000</td>\n      <td>9.000000</td>\n      <td>NaN</td>\n      <td>NaN</td>\n      <td>NaN</td>\n      <td>NaN</td>\n      <td>0.0</td>\n      <td>71083.000000</td>\n      <td>NaN</td>\n    </tr>\n    <tr>\n      <th>max</th>\n      <td>NaN</td>\n      <td>20000.000000</td>\n      <td>NaN</td>\n      <td>9999.000000</td>\n      <td>NaN</td>\n      <td>20000.000000</td>\n      <td>NaN</td>\n      <td>150000.000000</td>\n      <td>12.000000</td>\n      <td>NaN</td>\n      <td>NaN</td>\n      <td>NaN</td>\n      <td>NaN</td>\n      <td>0.0</td>\n      <td>99998.000000</td>\n      <td>NaN</td>\n    </tr>\n  </tbody>\n</table>\n</div>"
     },
     "execution_count": 8,
     "metadata": {},
     "output_type": "execute_result"
    }
   ],
   "source": [
    "# проверим значения:\n",
    "df.describe(include='all')"
   ],
   "metadata": {
    "collapsed": false,
    "ExecuteTime": {
     "end_time": "2023-12-09T09:38:15.942094900Z",
     "start_time": "2023-12-09T09:38:14.561210Z"
    }
   },
   "id": "853b8fca98b807a4"
  },
  {
   "cell_type": "markdown",
   "source": [
    "Столбцы, требующие обработки:\n",
    "\n",
    "- VehicleType. Для всех NaN установим значение 'unknown'.\n",
    "- Gearbox. Для всех NaN установим значение 'unknown'.\n",
    "- Power. Скорректируем на основе реальных значений в машинах. Иметь 20000 л.с. для машины на данный момент нереально.\n",
    "- FuelType. Восстановим пропущенные значения по популярному типу. ????????????\n",
    "- Repaired. Для всех NaN установим значение 'no'. ?????????\n",
    "- RegistrationYear. Скорректируем на основе реальных значений в машинах.\n",
    "- Model. Для всех NaN установим значение 'unknown'."
   ],
   "metadata": {
    "collapsed": false
   },
   "id": "525723e6a7e4f59b"
  },
  {
   "cell_type": "markdown",
   "source": [
    "### Обработка выбросов\n",
    "#### Признак RegistrationYear"
   ],
   "metadata": {
    "collapsed": false
   },
   "id": "84482376d1beed29"
  },
  {
   "cell_type": "code",
   "execution_count": 9,
   "outputs": [
    {
     "data": {
      "text/plain": "<Figure size 800x800 with 1 Axes>",
      "image/png": "[encoded data removed]"
     },
     "metadata": {},
     "output_type": "display_data"
    }
   ],
   "source": [
    "df.boxplot(column=['RegistrationYear'], figsize=(8,8))\n",
    "plt.show()"
   ],
   "metadata": {
    "collapsed": false,
    "ExecuteTime": {
     "end_time": "2023-12-09T09:38:17.409737400Z",
     "start_time": "2023-12-09T09:38:15.851074700Z"
    }
   },
   "id": "6cc8f41a2471c13b"
  },
  {
   "cell_type": "code",
   "execution_count": 10,
   "outputs": [
    {
     "data": {
      "text/plain": "RegistrationYear\n1000    37\n1001     1\n1039     1\n1111     3\n1200     1\n        ..\n9000     3\n9229     1\n9450     1\n9996     1\n9999    26\nName: count, Length: 151, dtype: int64"
     },
     "execution_count": 10,
     "metadata": {},
     "output_type": "execute_result"
    }
   ],
   "source": [
    "# найдем уникальные значения в столбце RegistrationYear и выполним сортировку по индексу:\n",
    "df['RegistrationYear'].value_counts().sort_index()"
   ],
   "metadata": {
    "collapsed": false,
    "ExecuteTime": {
     "end_time": "2023-12-09T09:38:17.409737400Z",
     "start_time": "2023-12-09T09:38:17.035609900Z"
    }
   },
   "id": "59b9b010d0dde35b"
  },
  {
   "cell_type": "code",
   "execution_count": 11,
   "outputs": [
    {
     "name": "stdout",
     "output_type": "stream",
     "text": [
      "2016-03-05 14:06:22\n",
      "2016-04-07 14:36:58\n"
     ]
    }
   ],
   "source": [
    "# проверим даты скачивания анкет из базы:\n",
    "print(df['DateCrawled'].min())\n",
    "print(df['DateCrawled'].max())"
   ],
   "metadata": {
    "collapsed": false,
    "ExecuteTime": {
     "end_time": "2023-12-09T09:38:17.411078200Z",
     "start_time": "2023-12-09T09:38:17.067256900Z"
    }
   },
   "id": "ef54a7a1f44f47ab"
  },
  {
   "cell_type": "markdown",
   "source": [
    "Поскольку наши данные на 2016 год, заменим все значения с годом после 2016 на 2016, и, поскольку автомобили до 1930 года - это скорее всего аномалии, заменим их тоже."
   ],
   "metadata": {
    "collapsed": false
   },
   "id": "a78ffe683858a951"
  },
  {
   "cell_type": "code",
   "execution_count": 12,
   "outputs": [],
   "source": [
    "# обработаем выбросы в столбце RegistrationYear: \n",
    "def balance_reg_year(value):\n",
    "    if value > 2016:\n",
    "        return 2016\n",
    "    elif value < 1930:\n",
    "        return 1930\n",
    "    else:\n",
    "        return value\n",
    "\n",
    "df[\"RegistrationYear\"] = df[\"RegistrationYear\"].apply(balance_reg_year)"
   ],
   "metadata": {
    "collapsed": false,
    "ExecuteTime": {
     "end_time": "2023-12-09T09:38:17.411078200Z",
     "start_time": "2023-12-09T09:38:17.145395200Z"
    }
   },
   "id": "b20fd091f54492be"
  },
  {
   "cell_type": "code",
   "execution_count": 13,
   "outputs": [
    {
     "data": {
      "text/plain": "<Figure size 800x800 with 1 Axes>",
      "image/png": "[encoded data removed]"
     },
     "metadata": {},
     "output_type": "display_data"
    }
   ],
   "source": [
    "df.boxplot(column=['RegistrationYear'], figsize=(8,8))\n",
    "plt.show()"
   ],
   "metadata": {
    "collapsed": false,
    "ExecuteTime": {
     "end_time": "2023-12-09T09:38:18.949197200Z",
     "start_time": "2023-12-09T09:38:17.309738600Z"
    }
   },
   "id": "69dd563b45149b1"
  },
  {
   "cell_type": "markdown",
   "source": [
    "#### Признак Power"
   ],
   "metadata": {
    "collapsed": false
   },
   "id": "a68aa5acb52b4605"
  },
  {
   "cell_type": "code",
   "execution_count": 14,
   "outputs": [
    {
     "data": {
      "text/plain": "<Figure size 800x600 with 1 Axes>",
      "image/png": "[encoded data removed]"
     },
     "metadata": {},
     "output_type": "display_data"
    }
   ],
   "source": [
    "df.boxplot(column=['Power'], figsize=(8,6))\n",
    "plt.show()"
   ],
   "metadata": {
    "collapsed": false,
    "ExecuteTime": {
     "end_time": "2023-12-09T09:38:19.611410Z",
     "start_time": "2023-12-09T09:38:18.525939800Z"
    }
   },
   "id": "3d3197162511cd0f"
  },
  {
   "cell_type": "code",
   "execution_count": 15,
   "outputs": [
    {
     "data": {
      "text/plain": "Power\n0        40225\n1           34\n2           10\n3            9\n4           30\n         ...  \n17932        1\n19208        1\n19211        1\n19312        1\n20000        1\nName: count, Length: 712, dtype: int64"
     },
     "execution_count": 15,
     "metadata": {},
     "output_type": "execute_result"
    }
   ],
   "source": [
    "# найдем уникальные значения в столбце Power и выполним сортировку по индексу:\n",
    "df['Power'].value_counts().sort_index()"
   ],
   "metadata": {
    "collapsed": false,
    "ExecuteTime": {
     "end_time": "2023-12-09T09:38:19.611410Z",
     "start_time": "2023-12-09T09:38:19.263355Z"
    }
   },
   "id": "23343c624f5216a7"
  },
  {
   "cell_type": "code",
   "execution_count": 16,
   "outputs": [],
   "source": [
    "# ограничим признак Power 3500 л.с.:\n",
    "df[\"Power\"] = df[\"Power\"].apply(lambda x: 3500 if x > 3500 else x)"
   ],
   "metadata": {
    "collapsed": false,
    "ExecuteTime": {
     "end_time": "2023-12-09T09:38:20.118284Z",
     "start_time": "2023-12-09T09:38:19.295678900Z"
    }
   },
   "id": "421313c2ecd6b860"
  },
  {
   "cell_type": "markdown",
   "source": [
    "Поскольку иметь 0 л.с. для машины на данный момент нереально, изучим эти данные."
   ],
   "metadata": {
    "collapsed": false
   },
   "id": "bfe3986640ca7520"
  },
  {
   "cell_type": "code",
   "execution_count": 17,
   "outputs": [
    {
     "name": "stdout",
     "output_type": "stream",
     "text": [
      "11.35\n"
     ]
    }
   ],
   "source": [
    "# посчитаем, какой процент от всего датасета занимают строки, где мощность двигателя указана как 0:\n",
    "print('{:.2f}'.format(df[df['Power'] == 0].shape[0]/df.shape[0]*100))"
   ],
   "metadata": {
    "collapsed": false,
    "ExecuteTime": {
     "end_time": "2023-12-09T09:38:20.120803100Z",
     "start_time": "2023-12-09T09:38:19.613666700Z"
    }
   },
   "id": "65c40da63b7338d2"
  },
  {
   "cell_type": "code",
   "execution_count": 18,
   "outputs": [
    {
     "data": {
      "text/plain": "Model\nother         3169\ngolf          2460\ncorsa         1771\npolo          1611\n3er           1534\n              ... \nserie_3          1\nb_max            1\namarok           1\nyeti             1\nelefantino       1\nName: count, Length: 247, dtype: int64"
     },
     "execution_count": 18,
     "metadata": {},
     "output_type": "execute_result"
    }
   ],
   "source": [
    "# посмотрим на марки автомобилей, мощность которых указана как 0:\n",
    "df[df['Power'] == 0]['Model'].value_counts()"
   ],
   "metadata": {
    "collapsed": false,
    "ExecuteTime": {
     "end_time": "2023-12-09T09:38:20.166873400Z",
     "start_time": "2023-12-09T09:38:19.674604800Z"
    }
   },
   "id": "6ad970a4ba73e07a"
  },
  {
   "cell_type": "code",
   "execution_count": 19,
   "outputs": [],
   "source": [
    "# заменим нули на самое частое значение для разных моделей автомобилей:\n",
    "for model in df['Model'].unique():\n",
    "    try:\n",
    "        if df[df['Model'] == model]['Power'].value_counts().index[0] == 0:\n",
    "            new_value = df[df['Model'] == model]['Power'].value_counts().index[1]\n",
    "            df.loc[(df['Power'] == 0) & (df['Model'] == model), 'Power'] = new_value\n",
    "        else:\n",
    "            new_value = df[df['Model'] == model]['Power'].value_counts().index[0]\n",
    "            df.loc[(df['Power'] == 0) & (df['Model'] == model), 'Power'] = new_value\n",
    "    except:\n",
    "        IndexError"
   ],
   "metadata": {
    "collapsed": false,
    "ExecuteTime": {
     "end_time": "2023-12-09T09:38:44.253094700Z",
     "start_time": "2023-12-09T09:38:19.723305400Z"
    }
   },
   "id": "67fcc0080550acef"
  },
  {
   "cell_type": "code",
   "execution_count": 20,
   "outputs": [
    {
     "name": "stdout",
     "output_type": "stream",
     "text": [
      "1.78\n"
     ]
    }
   ],
   "source": [
    "# проверим, остались ли нулевые значения и в каком количестве:\n",
    "print('{:.2f}'.format(df[df['Power'] == 0].shape[0]/df.shape[0]*100))"
   ],
   "metadata": {
    "collapsed": false,
    "ExecuteTime": {
     "end_time": "2023-12-09T09:38:44.281221900Z",
     "start_time": "2023-12-09T09:38:44.242069800Z"
    }
   },
   "id": "d7516d538a6f089"
  },
  {
   "cell_type": "code",
   "execution_count": 21,
   "outputs": [
    {
     "data": {
      "text/plain": "                DateCrawled  Price VehicleType  RegistrationYear Gearbox  \\\n115     2016-03-20 18:53:27      0       small              1999     NaN   \n160     2016-03-19 19:49:15    500       small              1999  manual   \n260     2016-04-04 09:49:59    450         NaN              2016  manual   \n306     2016-03-21 14:38:37    200         NaN              2009     NaN   \n308     2016-03-13 13:38:54   1600       wagon              1999  manual   \n...                     ...    ...         ...               ...     ...   \n354080  2016-04-03 20:37:39   4300       small              2008    auto   \n354083  2016-03-30 07:54:17      0         NaN              2000     NaN   \n354162  2016-03-07 19:51:14   1500         NaN              1995     NaN   \n354338  2016-03-31 19:52:33    180         NaN              1995     NaN   \n354365  2016-03-14 17:48:27   2200         NaN              2005     NaN   \n\n        Power Model  Kilometer  RegistrationMonth FuelType           Brand  \\\n115         0   NaN       5000                  0   petrol      volkswagen   \n160         0   NaN     150000                  0   petrol         renault   \n260         0   NaN     150000                  3   petrol      mitsubishi   \n306         0   NaN      10000                  0      NaN  sonstige_autos   \n308         0   NaN     150000                  6   petrol             bmw   \n...       ...   ...        ...                ...      ...             ...   \n354080      0   NaN     150000                  3      NaN           honda   \n354083      0   NaN     150000                  0      NaN  sonstige_autos   \n354162      0   NaN     150000                  0      NaN      volkswagen   \n354338      0   NaN     125000                  3   petrol            opel   \n354365      0   NaN      20000                  1      NaN  sonstige_autos   \n\n       Repaired          DateCreated  NumberOfPictures  PostalCode  \\\n115         NaN  2016-03-20 00:00:00                 0       37520   \n160          no  2016-03-19 00:00:00                 0       26969   \n260          no  2016-04-04 00:00:00                 0       59302   \n306         NaN  2016-03-21 00:00:00                 0        6493   \n308          no  2016-03-13 00:00:00                 0       41199   \n...         ...                  ...               ...         ...   \n354080      NaN  2016-04-03 00:00:00                 0       30627   \n354083      NaN  2016-03-30 00:00:00                 0        6686   \n354162      NaN  2016-03-07 00:00:00                 0       26789   \n354338      NaN  2016-03-31 00:00:00                 0       41470   \n354365      NaN  2016-03-14 00:00:00                 0       39576   \n\n                   LastSeen  \n115     2016-04-07 02:45:22  \n160     2016-04-01 11:17:48  \n260     2016-04-06 11:17:11  \n306     2016-03-24 02:47:34  \n308     2016-03-28 12:46:35  \n...                     ...  \n354080  2016-04-05 21:16:51  \n354083  2016-04-06 23:46:19  \n354162  2016-04-03 11:46:59  \n354338  2016-04-06 14:18:04  \n354365  2016-04-06 00:46:52  \n\n[6296 rows x 16 columns]",
      "text/html": "<div>\n<style scoped>\n    .dataframe tbody tr th:only-of-type {\n        vertical-align: middle;\n    }\n\n    .dataframe tbody tr th {\n        vertical-align: top;\n    }\n\n    .dataframe thead th {\n        text-align: right;\n    }\n</style>\n<table border=\"1\" class=\"dataframe\">\n  <thead>\n    <tr style=\"text-align: right;\">\n      <th></th>\n      <th>DateCrawled</th>\n      <th>Price</th>\n      <th>VehicleType</th>\n      <th>RegistrationYear</th>\n      <th>Gearbox</th>\n      <th>Power</th>\n      <th>Model</th>\n      <th>Kilometer</th>\n      <th>RegistrationMonth</th>\n      <th>FuelType</th>\n      <th>Brand</th>\n      <th>Repaired</th>\n      <th>DateCreated</th>\n      <th>NumberOfPictures</th>\n      <th>PostalCode</th>\n      <th>LastSeen</th>\n    </tr>\n  </thead>\n  <tbody>\n    <tr>\n      <th>115</th>\n      <td>2016-03-20 18:53:27</td>\n      <td>0</td>\n      <td>small</td>\n      <td>1999</td>\n      <td>NaN</td>\n      <td>0</td>\n      <td>NaN</td>\n      <td>5000</td>\n      <td>0</td>\n      <td>petrol</td>\n      <td>volkswagen</td>\n      <td>NaN</td>\n      <td>2016-03-20 00:00:00</td>\n      <td>0</td>\n      <td>37520</td>\n      <td>2016-04-07 02:45:22</td>\n    </tr>\n    <tr>\n      <th>160</th>\n      <td>2016-03-19 19:49:15</td>\n      <td>500</td>\n      <td>small</td>\n      <td>1999</td>\n      <td>manual</td>\n      <td>0</td>\n      <td>NaN</td>\n      <td>150000</td>\n      <td>0</td>\n      <td>petrol</td>\n      <td>renault</td>\n      <td>no</td>\n      <td>2016-03-19 00:00:00</td>\n      <td>0</td>\n      <td>26969</td>\n      <td>2016-04-01 11:17:48</td>\n    </tr>\n    <tr>\n      <th>260</th>\n      <td>2016-04-04 09:49:59</td>\n      <td>450</td>\n      <td>NaN</td>\n      <td>2016</td>\n      <td>manual</td>\n      <td>0</td>\n      <td>NaN</td>\n      <td>150000</td>\n      <td>3</td>\n      <td>petrol</td>\n      <td>mitsubishi</td>\n      <td>no</td>\n      <td>2016-04-04 00:00:00</td>\n      <td>0</td>\n      <td>59302</td>\n      <td>2016-04-06 11:17:11</td>\n    </tr>\n    <tr>\n      <th>306</th>\n      <td>2016-03-21 14:38:37</td>\n      <td>200</td>\n      <td>NaN</td>\n      <td>2009</td>\n      <td>NaN</td>\n      <td>0</td>\n      <td>NaN</td>\n      <td>10000</td>\n      <td>0</td>\n      <td>NaN</td>\n      <td>sonstige_autos</td>\n      <td>NaN</td>\n      <td>2016-03-21 00:00:00</td>\n      <td>0</td>\n      <td>6493</td>\n      <td>2016-03-24 02:47:34</td>\n    </tr>\n    <tr>\n      <th>308</th>\n      <td>2016-03-13 13:38:54</td>\n      <td>1600</td>\n      <td>wagon</td>\n      <td>1999</td>\n      <td>manual</td>\n      <td>0</td>\n      <td>NaN</td>\n      <td>150000</td>\n      <td>6</td>\n      <td>petrol</td>\n      <td>bmw</td>\n      <td>no</td>\n      <td>2016-03-13 00:00:00</td>\n      <td>0</td>\n      <td>41199</td>\n      <td>2016-03-28 12:46:35</td>\n    </tr>\n    <tr>\n      <th>...</th>\n      <td>...</td>\n      <td>...</td>\n      <td>...</td>\n      <td>...</td>\n      <td>...</td>\n      <td>...</td>\n      <td>...</td>\n      <td>...</td>\n      <td>...</td>\n      <td>...</td>\n      <td>...</td>\n      <td>...</td>\n      <td>...</td>\n      <td>...</td>\n      <td>...</td>\n      <td>...</td>\n    </tr>\n    <tr>\n      <th>354080</th>\n      <td>2016-04-03 20:37:39</td>\n      <td>4300</td>\n      <td>small</td>\n      <td>2008</td>\n      <td>auto</td>\n      <td>0</td>\n      <td>NaN</td>\n      <td>150000</td>\n      <td>3</td>\n      <td>NaN</td>\n      <td>honda</td>\n      <td>NaN</td>\n      <td>2016-04-03 00:00:00</td>\n      <td>0</td>\n      <td>30627</td>\n      <td>2016-04-05 21:16:51</td>\n    </tr>\n    <tr>\n      <th>354083</th>\n      <td>2016-03-30 07:54:17</td>\n      <td>0</td>\n      <td>NaN</td>\n      <td>2000</td>\n      <td>NaN</td>\n      <td>0</td>\n      <td>NaN</td>\n      <td>150000</td>\n      <td>0</td>\n      <td>NaN</td>\n      <td>sonstige_autos</td>\n      <td>NaN</td>\n      <td>2016-03-30 00:00:00</td>\n      <td>0</td>\n      <td>6686</td>\n      <td>2016-04-06 23:46:19</td>\n    </tr>\n    <tr>\n      <th>354162</th>\n      <td>2016-03-07 19:51:14</td>\n      <td>1500</td>\n      <td>NaN</td>\n      <td>1995</td>\n      <td>NaN</td>\n      <td>0</td>\n      <td>NaN</td>\n      <td>150000</td>\n      <td>0</td>\n      <td>NaN</td>\n      <td>volkswagen</td>\n      <td>NaN</td>\n      <td>2016-03-07 00:00:00</td>\n      <td>0</td>\n      <td>26789</td>\n      <td>2016-04-03 11:46:59</td>\n    </tr>\n    <tr>\n      <th>354338</th>\n      <td>2016-03-31 19:52:33</td>\n      <td>180</td>\n      <td>NaN</td>\n      <td>1995</td>\n      <td>NaN</td>\n      <td>0</td>\n      <td>NaN</td>\n      <td>125000</td>\n      <td>3</td>\n      <td>petrol</td>\n      <td>opel</td>\n      <td>NaN</td>\n      <td>2016-03-31 00:00:00</td>\n      <td>0</td>\n      <td>41470</td>\n      <td>2016-04-06 14:18:04</td>\n    </tr>\n    <tr>\n      <th>354365</th>\n      <td>2016-03-14 17:48:27</td>\n      <td>2200</td>\n      <td>NaN</td>\n      <td>2005</td>\n      <td>NaN</td>\n      <td>0</td>\n      <td>NaN</td>\n      <td>20000</td>\n      <td>1</td>\n      <td>NaN</td>\n      <td>sonstige_autos</td>\n      <td>NaN</td>\n      <td>2016-03-14 00:00:00</td>\n      <td>0</td>\n      <td>39576</td>\n      <td>2016-04-06 00:46:52</td>\n    </tr>\n  </tbody>\n</table>\n<p>6296 rows × 16 columns</p>\n</div>"
     },
     "execution_count": 21,
     "metadata": {},
     "output_type": "execute_result"
    }
   ],
   "source": [
    "# посмотрим на эти данные:\n",
    "df[df['Power'] == 0]"
   ],
   "metadata": {
    "collapsed": false,
    "ExecuteTime": {
     "end_time": "2023-12-09T09:38:44.367864100Z",
     "start_time": "2023-12-09T09:38:44.274545300Z"
    }
   },
   "id": "f790d99bab06fa89"
  },
  {
   "cell_type": "code",
   "execution_count": 22,
   "outputs": [
    {
     "data": {
      "text/plain": "                DateCrawled  Price VehicleType  RegistrationYear Gearbox  \\\n115     2016-03-20 18:53:27      0       small              1999     NaN   \n160     2016-03-19 19:49:15    500       small              1999  manual   \n260     2016-04-04 09:49:59    450         NaN              2016  manual   \n306     2016-03-21 14:38:37    200         NaN              2009     NaN   \n308     2016-03-13 13:38:54   1600       wagon              1999  manual   \n...                     ...    ...         ...               ...     ...   \n354080  2016-04-03 20:37:39   4300       small              2008    auto   \n354083  2016-03-30 07:54:17      0         NaN              2000     NaN   \n354162  2016-03-07 19:51:14   1500         NaN              1995     NaN   \n354338  2016-03-31 19:52:33    180         NaN              1995     NaN   \n354365  2016-03-14 17:48:27   2200         NaN              2005     NaN   \n\n        Power Model  Kilometer  RegistrationMonth FuelType           Brand  \\\n115         0   NaN       5000                  0   petrol      volkswagen   \n160         0   NaN     150000                  0   petrol         renault   \n260         0   NaN     150000                  3   petrol      mitsubishi   \n306         0   NaN      10000                  0      NaN  sonstige_autos   \n308         0   NaN     150000                  6   petrol             bmw   \n...       ...   ...        ...                ...      ...             ...   \n354080      0   NaN     150000                  3      NaN           honda   \n354083      0   NaN     150000                  0      NaN  sonstige_autos   \n354162      0   NaN     150000                  0      NaN      volkswagen   \n354338      0   NaN     125000                  3   petrol            opel   \n354365      0   NaN      20000                  1      NaN  sonstige_autos   \n\n       Repaired          DateCreated  NumberOfPictures  PostalCode  \\\n115         NaN  2016-03-20 00:00:00                 0       37520   \n160          no  2016-03-19 00:00:00                 0       26969   \n260          no  2016-04-04 00:00:00                 0       59302   \n306         NaN  2016-03-21 00:00:00                 0        6493   \n308          no  2016-03-13 00:00:00                 0       41199   \n...         ...                  ...               ...         ...   \n354080      NaN  2016-04-03 00:00:00                 0       30627   \n354083      NaN  2016-03-30 00:00:00                 0        6686   \n354162      NaN  2016-03-07 00:00:00                 0       26789   \n354338      NaN  2016-03-31 00:00:00                 0       41470   \n354365      NaN  2016-03-14 00:00:00                 0       39576   \n\n                   LastSeen  \n115     2016-04-07 02:45:22  \n160     2016-04-01 11:17:48  \n260     2016-04-06 11:17:11  \n306     2016-03-24 02:47:34  \n308     2016-03-28 12:46:35  \n...                     ...  \n354080  2016-04-05 21:16:51  \n354083  2016-04-06 23:46:19  \n354162  2016-04-03 11:46:59  \n354338  2016-04-06 14:18:04  \n354365  2016-04-06 00:46:52  \n\n[6294 rows x 16 columns]",
      "text/html": "<div>\n<style scoped>\n    .dataframe tbody tr th:only-of-type {\n        vertical-align: middle;\n    }\n\n    .dataframe tbody tr th {\n        vertical-align: top;\n    }\n\n    .dataframe thead th {\n        text-align: right;\n    }\n</style>\n<table border=\"1\" class=\"dataframe\">\n  <thead>\n    <tr style=\"text-align: right;\">\n      <th></th>\n      <th>DateCrawled</th>\n      <th>Price</th>\n      <th>VehicleType</th>\n      <th>RegistrationYear</th>\n      <th>Gearbox</th>\n      <th>Power</th>\n      <th>Model</th>\n      <th>Kilometer</th>\n      <th>RegistrationMonth</th>\n      <th>FuelType</th>\n      <th>Brand</th>\n      <th>Repaired</th>\n      <th>DateCreated</th>\n      <th>NumberOfPictures</th>\n      <th>PostalCode</th>\n      <th>LastSeen</th>\n    </tr>\n  </thead>\n  <tbody>\n    <tr>\n      <th>115</th>\n      <td>2016-03-20 18:53:27</td>\n      <td>0</td>\n      <td>small</td>\n      <td>1999</td>\n      <td>NaN</td>\n      <td>0</td>\n      <td>NaN</td>\n      <td>5000</td>\n      <td>0</td>\n      <td>petrol</td>\n      <td>volkswagen</td>\n      <td>NaN</td>\n      <td>2016-03-20 00:00:00</td>\n      <td>0</td>\n      <td>37520</td>\n      <td>2016-04-07 02:45:22</td>\n    </tr>\n    <tr>\n      <th>160</th>\n      <td>2016-03-19 19:49:15</td>\n      <td>500</td>\n      <td>small</td>\n      <td>1999</td>\n      <td>manual</td>\n      <td>0</td>\n      <td>NaN</td>\n      <td>150000</td>\n      <td>0</td>\n      <td>petrol</td>\n      <td>renault</td>\n      <td>no</td>\n      <td>2016-03-19 00:00:00</td>\n      <td>0</td>\n      <td>26969</td>\n      <td>2016-04-01 11:17:48</td>\n    </tr>\n    <tr>\n      <th>260</th>\n      <td>2016-04-04 09:49:59</td>\n      <td>450</td>\n      <td>NaN</td>\n      <td>2016</td>\n      <td>manual</td>\n      <td>0</td>\n      <td>NaN</td>\n      <td>150000</td>\n      <td>3</td>\n      <td>petrol</td>\n      <td>mitsubishi</td>\n      <td>no</td>\n      <td>2016-04-04 00:00:00</td>\n      <td>0</td>\n      <td>59302</td>\n      <td>2016-04-06 11:17:11</td>\n    </tr>\n    <tr>\n      <th>306</th>\n      <td>2016-03-21 14:38:37</td>\n      <td>200</td>\n      <td>NaN</td>\n      <td>2009</td>\n      <td>NaN</td>\n      <td>0</td>\n      <td>NaN</td>\n      <td>10000</td>\n      <td>0</td>\n      <td>NaN</td>\n      <td>sonstige_autos</td>\n      <td>NaN</td>\n      <td>2016-03-21 00:00:00</td>\n      <td>0</td>\n      <td>6493</td>\n      <td>2016-03-24 02:47:34</td>\n    </tr>\n    <tr>\n      <th>308</th>\n      <td>2016-03-13 13:38:54</td>\n      <td>1600</td>\n      <td>wagon</td>\n      <td>1999</td>\n      <td>manual</td>\n      <td>0</td>\n      <td>NaN</td>\n      <td>150000</td>\n      <td>6</td>\n      <td>petrol</td>\n      <td>bmw</td>\n      <td>no</td>\n      <td>2016-03-13 00:00:00</td>\n      <td>0</td>\n      <td>41199</td>\n      <td>2016-03-28 12:46:35</td>\n    </tr>\n    <tr>\n      <th>...</th>\n      <td>...</td>\n      <td>...</td>\n      <td>...</td>\n      <td>...</td>\n      <td>...</td>\n      <td>...</td>\n      <td>...</td>\n      <td>...</td>\n      <td>...</td>\n      <td>...</td>\n      <td>...</td>\n      <td>...</td>\n      <td>...</td>\n      <td>...</td>\n      <td>...</td>\n      <td>...</td>\n    </tr>\n    <tr>\n      <th>354080</th>\n      <td>2016-04-03 20:37:39</td>\n      <td>4300</td>\n      <td>small</td>\n      <td>2008</td>\n      <td>auto</td>\n      <td>0</td>\n      <td>NaN</td>\n      <td>150000</td>\n      <td>3</td>\n      <td>NaN</td>\n      <td>honda</td>\n      <td>NaN</td>\n      <td>2016-04-03 00:00:00</td>\n      <td>0</td>\n      <td>30627</td>\n      <td>2016-04-05 21:16:51</td>\n    </tr>\n    <tr>\n      <th>354083</th>\n      <td>2016-03-30 07:54:17</td>\n      <td>0</td>\n      <td>NaN</td>\n      <td>2000</td>\n      <td>NaN</td>\n      <td>0</td>\n      <td>NaN</td>\n      <td>150000</td>\n      <td>0</td>\n      <td>NaN</td>\n      <td>sonstige_autos</td>\n      <td>NaN</td>\n      <td>2016-03-30 00:00:00</td>\n      <td>0</td>\n      <td>6686</td>\n      <td>2016-04-06 23:46:19</td>\n    </tr>\n    <tr>\n      <th>354162</th>\n      <td>2016-03-07 19:51:14</td>\n      <td>1500</td>\n      <td>NaN</td>\n      <td>1995</td>\n      <td>NaN</td>\n      <td>0</td>\n      <td>NaN</td>\n      <td>150000</td>\n      <td>0</td>\n      <td>NaN</td>\n      <td>volkswagen</td>\n      <td>NaN</td>\n      <td>2016-03-07 00:00:00</td>\n      <td>0</td>\n      <td>26789</td>\n      <td>2016-04-03 11:46:59</td>\n    </tr>\n    <tr>\n      <th>354338</th>\n      <td>2016-03-31 19:52:33</td>\n      <td>180</td>\n      <td>NaN</td>\n      <td>1995</td>\n      <td>NaN</td>\n      <td>0</td>\n      <td>NaN</td>\n      <td>125000</td>\n      <td>3</td>\n      <td>petrol</td>\n      <td>opel</td>\n      <td>NaN</td>\n      <td>2016-03-31 00:00:00</td>\n      <td>0</td>\n      <td>41470</td>\n      <td>2016-04-06 14:18:04</td>\n    </tr>\n    <tr>\n      <th>354365</th>\n      <td>2016-03-14 17:48:27</td>\n      <td>2200</td>\n      <td>NaN</td>\n      <td>2005</td>\n      <td>NaN</td>\n      <td>0</td>\n      <td>NaN</td>\n      <td>20000</td>\n      <td>1</td>\n      <td>NaN</td>\n      <td>sonstige_autos</td>\n      <td>NaN</td>\n      <td>2016-03-14 00:00:00</td>\n      <td>0</td>\n      <td>39576</td>\n      <td>2016-04-06 00:46:52</td>\n    </tr>\n  </tbody>\n</table>\n<p>6294 rows × 16 columns</p>\n</div>"
     },
     "execution_count": 22,
     "metadata": {},
     "output_type": "execute_result"
    }
   ],
   "source": [
    "df.loc[(df['Power'] == 0) & df['Model'].isna()]"
   ],
   "metadata": {
    "collapsed": false,
    "ExecuteTime": {
     "end_time": "2023-12-09T09:38:44.427495600Z",
     "start_time": "2023-12-09T09:38:44.325845900Z"
    }
   },
   "id": "20e73996774ca634"
  },
  {
   "cell_type": "markdown",
   "source": [
    "Остается 6296 строк (меньше 2% датасета), в которых значения признака Power равны нулю, и во всех этих строках неизвестны модели автомобилей (пропуски). Ограничим мощность двигателей значениями от 10 л.с.:"
   ],
   "metadata": {
    "collapsed": false
   },
   "id": "6a938cc264acd9d7"
  },
  {
   "cell_type": "code",
   "execution_count": 23,
   "outputs": [],
   "source": [
    "df = df[df['Power'] > 10]"
   ],
   "metadata": {
    "collapsed": false,
    "ExecuteTime": {
     "end_time": "2023-12-09T09:38:44.613717800Z",
     "start_time": "2023-12-09T09:38:44.373722900Z"
    }
   },
   "id": "1b01e0c3a8c3ef3a"
  },
  {
   "cell_type": "code",
   "execution_count": 24,
   "outputs": [
    {
     "data": {
      "text/plain": "<Figure size 800x600 with 1 Axes>",
      "image/png": "[encoded data removed]"
     },
     "metadata": {},
     "output_type": "display_data"
    }
   ],
   "source": [
    "df.boxplot(column=['Power'], figsize=(8,6))\n",
    "plt.show()"
   ],
   "metadata": {
    "collapsed": false,
    "ExecuteTime": {
     "end_time": "2023-12-09T09:38:45.072786400Z",
     "start_time": "2023-12-09T09:38:44.470277800Z"
    }
   },
   "id": "9654ebc022b70a38"
  },
  {
   "cell_type": "markdown",
   "source": [
    "### Обработка пропущенных значений"
   ],
   "metadata": {
    "collapsed": false
   },
   "id": "d804dfccde7ba6e6"
  },
  {
   "cell_type": "code",
   "execution_count": 25,
   "outputs": [
    {
     "name": "stdout",
     "output_type": "stream",
     "text": [
      "DateCrawled - 0.0%\n",
      "Price - 0.0%\n",
      "VehicleType - 9.71%\n",
      "RegistrationYear - 0.0%\n",
      "Gearbox - 4.78%\n",
      "Power - 0.0%\n",
      "Model - 3.81%\n",
      "Kilometer - 0.0%\n",
      "RegistrationMonth - 0.0%\n",
      "FuelType - 8.46%\n",
      "Brand - 0.0%\n",
      "Repaired - 19.2%\n",
      "DateCreated - 0.0%\n",
      "NumberOfPictures - 0.0%\n",
      "PostalCode - 0.0%\n",
      "LastSeen - 0.0%\n"
     ]
    }
   ],
   "source": [
    "# процентный список пропущенных данных:\n",
    "for col in df.columns:\n",
    "    pct_missing = np.mean(df[col].isna())\n",
    "    print('{} - {}%'.format(col, round(pct_missing*100, 2)))"
   ],
   "metadata": {
    "collapsed": false,
    "ExecuteTime": {
     "end_time": "2023-12-09T09:38:45.283312900Z",
     "start_time": "2023-12-09T09:38:45.028476700Z"
    }
   },
   "id": "b5aa52f4e018a66b"
  },
  {
   "cell_type": "markdown",
   "source": [
    "#### Признак VehicleType"
   ],
   "metadata": {
    "collapsed": false
   },
   "id": "5f477b083d87ebdb"
  },
  {
   "cell_type": "code",
   "execution_count": 26,
   "outputs": [
    {
     "data": {
      "text/plain": "Model\ngolf          4033\nother         1856\npolo          1600\ncorsa         1574\n3er           1312\n              ... \nb_max            1\nv60              1\n200              1\nrangerover       1\nq3               1\nName: count, Length: 240, dtype: int64"
     },
     "execution_count": 26,
     "metadata": {},
     "output_type": "execute_result"
    }
   ],
   "source": [
    "# посмотрим на марки автомобилей с пропусками в признаке VehicleType:\n",
    "df[df['VehicleType'].isna()]['Model'].value_counts()"
   ],
   "metadata": {
    "collapsed": false,
    "ExecuteTime": {
     "end_time": "2023-12-09T09:38:45.390092200Z",
     "start_time": "2023-12-09T09:38:45.253680100Z"
    }
   },
   "id": "694e8e0a286007a3"
  },
  {
   "cell_type": "code",
   "execution_count": 27,
   "outputs": [],
   "source": [
    "# заполним пропуски самым частым значением для разных моделей автомобилей:\n",
    "for model in df['Model'].unique():\n",
    "    try:\n",
    "        veh_type_imp = df[df['Model'] == model]['VehicleType'].value_counts().index[0]\n",
    "        df.loc[(df['VehicleType'].isna()) & (df['Model'] == model), 'VehicleType'] = veh_type_imp\n",
    "    except:\n",
    "        IndexError"
   ],
   "metadata": {
    "collapsed": false,
    "ExecuteTime": {
     "end_time": "2023-12-09T09:38:59.242169Z",
     "start_time": "2023-12-09T09:38:45.322459800Z"
    }
   },
   "id": "78cb165f40489821"
  },
  {
   "cell_type": "code",
   "execution_count": 28,
   "outputs": [
    {
     "name": "stdout",
     "output_type": "stream",
     "text": [
      "0.90\n"
     ]
    }
   ],
   "source": [
    "# проверим, остались ли пропуски и в каком количестве:\n",
    "print('{:.2f}'.format(df[df['VehicleType'].isna()].shape[0]/df.shape[0]*100))"
   ],
   "metadata": {
    "collapsed": false,
    "ExecuteTime": {
     "end_time": "2023-12-09T09:38:59.301992Z",
     "start_time": "2023-12-09T09:38:59.242169Z"
    }
   },
   "id": "5709e10d5f0b69b0"
  },
  {
   "cell_type": "code",
   "execution_count": 29,
   "outputs": [
    {
     "data": {
      "text/plain": "                DateCrawled  Price VehicleType  RegistrationYear Gearbox  \\\n435     2016-03-27 18:43:25   1300         NaN              2016  manual   \n524     2016-03-25 22:53:44      0         NaN              2005  manual   \n762     2016-03-25 15:56:33   1200         NaN              2016  manual   \n862     2016-04-02 13:50:51    380         NaN              2016  manual   \n869     2016-03-22 16:57:42    300         NaN              2016  manual   \n...                     ...    ...         ...               ...     ...   \n353706  2016-03-24 16:54:28    900         NaN              2016  manual   \n353769  2016-03-25 17:46:19    650         NaN              2000  manual   \n354007  2016-04-04 21:40:20  10980         NaN              2016  manual   \n354011  2016-04-01 02:36:41   1000         NaN              2016  manual   \n354351  2016-03-11 23:40:32   1900         NaN              2000  manual   \n\n        Power Model  Kilometer  RegistrationMonth FuelType       Brand  \\\n435       150   NaN     150000                 10      NaN  volkswagen   \n524       136   NaN     100000                 10      NaN      toyota   \n762       115   NaN      20000                  0   petrol      nissan   \n862        54   NaN     100000                  0   petrol       skoda   \n869       140   NaN     150000                  0   petrol         bmw   \n...       ...   ...        ...                ...      ...         ...   \n353706    101   NaN     150000                  6      NaN        opel   \n353769    150   NaN     150000                  7      NaN        audi   \n354007     75   NaN      20000                  1      NaN  volkswagen   \n354011     54   NaN     125000                  2      NaN     hyundai   \n354351    110   NaN     150000                  7      NaN  volkswagen   \n\n       Repaired          DateCreated  NumberOfPictures  PostalCode  \\\n435          no  2016-03-27 00:00:00                 0       70374   \n524         NaN  2016-03-25 00:00:00                 0       86163   \n762          no  2016-03-25 00:00:00                 0       41334   \n862         yes  2016-04-02 00:00:00                 0        3046   \n869         NaN  2016-03-22 00:00:00                 0       57489   \n...         ...                  ...               ...         ...   \n353706      NaN  2016-03-24 00:00:00                 0       50170   \n353769       no  2016-03-25 00:00:00                 0       97486   \n354007       no  2016-04-04 00:00:00                 0       44801   \n354011       no  2016-04-01 00:00:00                 0       67547   \n354351       no  2016-03-11 00:00:00                 0       87700   \n\n                   LastSeen  \n435     2016-04-05 15:15:29  \n524     2016-03-26 07:44:30  \n762     2016-03-25 15:56:33  \n862     2016-04-02 13:50:51  \n869     2016-03-26 18:18:21  \n...                     ...  \n353706  2016-04-07 09:17:32  \n353769  2016-03-27 05:16:34  \n354007  2016-04-07 00:15:36  \n354011  2016-04-05 02:45:18  \n354351  2016-03-12 14:16:51  \n\n[3137 rows x 16 columns]",
      "text/html": "<div>\n<style scoped>\n    .dataframe tbody tr th:only-of-type {\n        vertical-align: middle;\n    }\n\n    .dataframe tbody tr th {\n        vertical-align: top;\n    }\n\n    .dataframe thead th {\n        text-align: right;\n    }\n</style>\n<table border=\"1\" class=\"dataframe\">\n  <thead>\n    <tr style=\"text-align: right;\">\n      <th></th>\n      <th>DateCrawled</th>\n      <th>Price</th>\n      <th>VehicleType</th>\n      <th>RegistrationYear</th>\n      <th>Gearbox</th>\n      <th>Power</th>\n      <th>Model</th>\n      <th>Kilometer</th>\n      <th>RegistrationMonth</th>\n      <th>FuelType</th>\n      <th>Brand</th>\n      <th>Repaired</th>\n      <th>DateCreated</th>\n      <th>NumberOfPictures</th>\n      <th>PostalCode</th>\n      <th>LastSeen</th>\n    </tr>\n  </thead>\n  <tbody>\n    <tr>\n      <th>435</th>\n      <td>2016-03-27 18:43:25</td>\n      <td>1300</td>\n      <td>NaN</td>\n      <td>2016</td>\n      <td>manual</td>\n      <td>150</td>\n      <td>NaN</td>\n      <td>150000</td>\n      <td>10</td>\n      <td>NaN</td>\n      <td>volkswagen</td>\n      <td>no</td>\n      <td>2016-03-27 00:00:00</td>\n      <td>0</td>\n      <td>70374</td>\n      <td>2016-04-05 15:15:29</td>\n    </tr>\n    <tr>\n      <th>524</th>\n      <td>2016-03-25 22:53:44</td>\n      <td>0</td>\n      <td>NaN</td>\n      <td>2005</td>\n      <td>manual</td>\n      <td>136</td>\n      <td>NaN</td>\n      <td>100000</td>\n      <td>10</td>\n      <td>NaN</td>\n      <td>toyota</td>\n      <td>NaN</td>\n      <td>2016-03-25 00:00:00</td>\n      <td>0</td>\n      <td>86163</td>\n      <td>2016-03-26 07:44:30</td>\n    </tr>\n    <tr>\n      <th>762</th>\n      <td>2016-03-25 15:56:33</td>\n      <td>1200</td>\n      <td>NaN</td>\n      <td>2016</td>\n      <td>manual</td>\n      <td>115</td>\n      <td>NaN</td>\n      <td>20000</td>\n      <td>0</td>\n      <td>petrol</td>\n      <td>nissan</td>\n      <td>no</td>\n      <td>2016-03-25 00:00:00</td>\n      <td>0</td>\n      <td>41334</td>\n      <td>2016-03-25 15:56:33</td>\n    </tr>\n    <tr>\n      <th>862</th>\n      <td>2016-04-02 13:50:51</td>\n      <td>380</td>\n      <td>NaN</td>\n      <td>2016</td>\n      <td>manual</td>\n      <td>54</td>\n      <td>NaN</td>\n      <td>100000</td>\n      <td>0</td>\n      <td>petrol</td>\n      <td>skoda</td>\n      <td>yes</td>\n      <td>2016-04-02 00:00:00</td>\n      <td>0</td>\n      <td>3046</td>\n      <td>2016-04-02 13:50:51</td>\n    </tr>\n    <tr>\n      <th>869</th>\n      <td>2016-03-22 16:57:42</td>\n      <td>300</td>\n      <td>NaN</td>\n      <td>2016</td>\n      <td>manual</td>\n      <td>140</td>\n      <td>NaN</td>\n      <td>150000</td>\n      <td>0</td>\n      <td>petrol</td>\n      <td>bmw</td>\n      <td>NaN</td>\n      <td>2016-03-22 00:00:00</td>\n      <td>0</td>\n      <td>57489</td>\n      <td>2016-03-26 18:18:21</td>\n    </tr>\n    <tr>\n      <th>...</th>\n      <td>...</td>\n      <td>...</td>\n      <td>...</td>\n      <td>...</td>\n      <td>...</td>\n      <td>...</td>\n      <td>...</td>\n      <td>...</td>\n      <td>...</td>\n      <td>...</td>\n      <td>...</td>\n      <td>...</td>\n      <td>...</td>\n      <td>...</td>\n      <td>...</td>\n      <td>...</td>\n    </tr>\n    <tr>\n      <th>353706</th>\n      <td>2016-03-24 16:54:28</td>\n      <td>900</td>\n      <td>NaN</td>\n      <td>2016</td>\n      <td>manual</td>\n      <td>101</td>\n      <td>NaN</td>\n      <td>150000</td>\n      <td>6</td>\n      <td>NaN</td>\n      <td>opel</td>\n      <td>NaN</td>\n      <td>2016-03-24 00:00:00</td>\n      <td>0</td>\n      <td>50170</td>\n      <td>2016-04-07 09:17:32</td>\n    </tr>\n    <tr>\n      <th>353769</th>\n      <td>2016-03-25 17:46:19</td>\n      <td>650</td>\n      <td>NaN</td>\n      <td>2000</td>\n      <td>manual</td>\n      <td>150</td>\n      <td>NaN</td>\n      <td>150000</td>\n      <td>7</td>\n      <td>NaN</td>\n      <td>audi</td>\n      <td>no</td>\n      <td>2016-03-25 00:00:00</td>\n      <td>0</td>\n      <td>97486</td>\n      <td>2016-03-27 05:16:34</td>\n    </tr>\n    <tr>\n      <th>354007</th>\n      <td>2016-04-04 21:40:20</td>\n      <td>10980</td>\n      <td>NaN</td>\n      <td>2016</td>\n      <td>manual</td>\n      <td>75</td>\n      <td>NaN</td>\n      <td>20000</td>\n      <td>1</td>\n      <td>NaN</td>\n      <td>volkswagen</td>\n      <td>no</td>\n      <td>2016-04-04 00:00:00</td>\n      <td>0</td>\n      <td>44801</td>\n      <td>2016-04-07 00:15:36</td>\n    </tr>\n    <tr>\n      <th>354011</th>\n      <td>2016-04-01 02:36:41</td>\n      <td>1000</td>\n      <td>NaN</td>\n      <td>2016</td>\n      <td>manual</td>\n      <td>54</td>\n      <td>NaN</td>\n      <td>125000</td>\n      <td>2</td>\n      <td>NaN</td>\n      <td>hyundai</td>\n      <td>no</td>\n      <td>2016-04-01 00:00:00</td>\n      <td>0</td>\n      <td>67547</td>\n      <td>2016-04-05 02:45:18</td>\n    </tr>\n    <tr>\n      <th>354351</th>\n      <td>2016-03-11 23:40:32</td>\n      <td>1900</td>\n      <td>NaN</td>\n      <td>2000</td>\n      <td>manual</td>\n      <td>110</td>\n      <td>NaN</td>\n      <td>150000</td>\n      <td>7</td>\n      <td>NaN</td>\n      <td>volkswagen</td>\n      <td>no</td>\n      <td>2016-03-11 00:00:00</td>\n      <td>0</td>\n      <td>87700</td>\n      <td>2016-03-12 14:16:51</td>\n    </tr>\n  </tbody>\n</table>\n<p>3137 rows × 16 columns</p>\n</div>"
     },
     "execution_count": 29,
     "metadata": {},
     "output_type": "execute_result"
    }
   ],
   "source": [
    "# посмотрим на эти данные:\n",
    "df[df['VehicleType'].isna()]"
   ],
   "metadata": {
    "collapsed": false,
    "ExecuteTime": {
     "end_time": "2023-12-09T09:38:59.333872600Z",
     "start_time": "2023-12-09T09:38:59.280955900Z"
    }
   },
   "id": "35e85931e022df44"
  },
  {
   "cell_type": "code",
   "execution_count": 30,
   "outputs": [
    {
     "data": {
      "text/plain": "                DateCrawled  Price VehicleType  RegistrationYear Gearbox  \\\n435     2016-03-27 18:43:25   1300         NaN              2016  manual   \n524     2016-03-25 22:53:44      0         NaN              2005  manual   \n762     2016-03-25 15:56:33   1200         NaN              2016  manual   \n862     2016-04-02 13:50:51    380         NaN              2016  manual   \n869     2016-03-22 16:57:42    300         NaN              2016  manual   \n...                     ...    ...         ...               ...     ...   \n353706  2016-03-24 16:54:28    900         NaN              2016  manual   \n353769  2016-03-25 17:46:19    650         NaN              2000  manual   \n354007  2016-04-04 21:40:20  10980         NaN              2016  manual   \n354011  2016-04-01 02:36:41   1000         NaN              2016  manual   \n354351  2016-03-11 23:40:32   1900         NaN              2000  manual   \n\n        Power Model  Kilometer  RegistrationMonth FuelType       Brand  \\\n435       150   NaN     150000                 10      NaN  volkswagen   \n524       136   NaN     100000                 10      NaN      toyota   \n762       115   NaN      20000                  0   petrol      nissan   \n862        54   NaN     100000                  0   petrol       skoda   \n869       140   NaN     150000                  0   petrol         bmw   \n...       ...   ...        ...                ...      ...         ...   \n353706    101   NaN     150000                  6      NaN        opel   \n353769    150   NaN     150000                  7      NaN        audi   \n354007     75   NaN      20000                  1      NaN  volkswagen   \n354011     54   NaN     125000                  2      NaN     hyundai   \n354351    110   NaN     150000                  7      NaN  volkswagen   \n\n       Repaired          DateCreated  NumberOfPictures  PostalCode  \\\n435          no  2016-03-27 00:00:00                 0       70374   \n524         NaN  2016-03-25 00:00:00                 0       86163   \n762          no  2016-03-25 00:00:00                 0       41334   \n862         yes  2016-04-02 00:00:00                 0        3046   \n869         NaN  2016-03-22 00:00:00                 0       57489   \n...         ...                  ...               ...         ...   \n353706      NaN  2016-03-24 00:00:00                 0       50170   \n353769       no  2016-03-25 00:00:00                 0       97486   \n354007       no  2016-04-04 00:00:00                 0       44801   \n354011       no  2016-04-01 00:00:00                 0       67547   \n354351       no  2016-03-11 00:00:00                 0       87700   \n\n                   LastSeen  \n435     2016-04-05 15:15:29  \n524     2016-03-26 07:44:30  \n762     2016-03-25 15:56:33  \n862     2016-04-02 13:50:51  \n869     2016-03-26 18:18:21  \n...                     ...  \n353706  2016-04-07 09:17:32  \n353769  2016-03-27 05:16:34  \n354007  2016-04-07 00:15:36  \n354011  2016-04-05 02:45:18  \n354351  2016-03-12 14:16:51  \n\n[3137 rows x 16 columns]",
      "text/html": "<div>\n<style scoped>\n    .dataframe tbody tr th:only-of-type {\n        vertical-align: middle;\n    }\n\n    .dataframe tbody tr th {\n        vertical-align: top;\n    }\n\n    .dataframe thead th {\n        text-align: right;\n    }\n</style>\n<table border=\"1\" class=\"dataframe\">\n  <thead>\n    <tr style=\"text-align: right;\">\n      <th></th>\n      <th>DateCrawled</th>\n      <th>Price</th>\n      <th>VehicleType</th>\n      <th>RegistrationYear</th>\n      <th>Gearbox</th>\n      <th>Power</th>\n      <th>Model</th>\n      <th>Kilometer</th>\n      <th>RegistrationMonth</th>\n      <th>FuelType</th>\n      <th>Brand</th>\n      <th>Repaired</th>\n      <th>DateCreated</th>\n      <th>NumberOfPictures</th>\n      <th>PostalCode</th>\n      <th>LastSeen</th>\n    </tr>\n  </thead>\n  <tbody>\n    <tr>\n      <th>435</th>\n      <td>2016-03-27 18:43:25</td>\n      <td>1300</td>\n      <td>NaN</td>\n      <td>2016</td>\n      <td>manual</td>\n      <td>150</td>\n      <td>NaN</td>\n      <td>150000</td>\n      <td>10</td>\n      <td>NaN</td>\n      <td>volkswagen</td>\n      <td>no</td>\n      <td>2016-03-27 00:00:00</td>\n      <td>0</td>\n      <td>70374</td>\n      <td>2016-04-05 15:15:29</td>\n    </tr>\n    <tr>\n      <th>524</th>\n      <td>2016-03-25 22:53:44</td>\n      <td>0</td>\n      <td>NaN</td>\n      <td>2005</td>\n      <td>manual</td>\n      <td>136</td>\n      <td>NaN</td>\n      <td>100000</td>\n      <td>10</td>\n      <td>NaN</td>\n      <td>toyota</td>\n      <td>NaN</td>\n      <td>2016-03-25 00:00:00</td>\n      <td>0</td>\n      <td>86163</td>\n      <td>2016-03-26 07:44:30</td>\n    </tr>\n    <tr>\n      <th>762</th>\n      <td>2016-03-25 15:56:33</td>\n      <td>1200</td>\n      <td>NaN</td>\n      <td>2016</td>\n      <td>manual</td>\n      <td>115</td>\n      <td>NaN</td>\n      <td>20000</td>\n      <td>0</td>\n      <td>petrol</td>\n      <td>nissan</td>\n      <td>no</td>\n      <td>2016-03-25 00:00:00</td>\n      <td>0</td>\n      <td>41334</td>\n      <td>2016-03-25 15:56:33</td>\n    </tr>\n    <tr>\n      <th>862</th>\n      <td>2016-04-02 13:50:51</td>\n      <td>380</td>\n      <td>NaN</td>\n      <td>2016</td>\n      <td>manual</td>\n      <td>54</td>\n      <td>NaN</td>\n      <td>100000</td>\n      <td>0</td>\n      <td>petrol</td>\n      <td>skoda</td>\n      <td>yes</td>\n      <td>2016-04-02 00:00:00</td>\n      <td>0</td>\n      <td>3046</td>\n      <td>2016-04-02 13:50:51</td>\n    </tr>\n    <tr>\n      <th>869</th>\n      <td>2016-03-22 16:57:42</td>\n      <td>300</td>\n      <td>NaN</td>\n      <td>2016</td>\n      <td>manual</td>\n      <td>140</td>\n      <td>NaN</td>\n      <td>150000</td>\n      <td>0</td>\n      <td>petrol</td>\n      <td>bmw</td>\n      <td>NaN</td>\n      <td>2016-03-22 00:00:00</td>\n      <td>0</td>\n      <td>57489</td>\n      <td>2016-03-26 18:18:21</td>\n    </tr>\n    <tr>\n      <th>...</th>\n      <td>...</td>\n      <td>...</td>\n      <td>...</td>\n      <td>...</td>\n      <td>...</td>\n      <td>...</td>\n      <td>...</td>\n      <td>...</td>\n      <td>...</td>\n      <td>...</td>\n      <td>...</td>\n      <td>...</td>\n      <td>...</td>\n      <td>...</td>\n      <td>...</td>\n      <td>...</td>\n    </tr>\n    <tr>\n      <th>353706</th>\n      <td>2016-03-24 16:54:28</td>\n      <td>900</td>\n      <td>NaN</td>\n      <td>2016</td>\n      <td>manual</td>\n      <td>101</td>\n      <td>NaN</td>\n      <td>150000</td>\n      <td>6</td>\n      <td>NaN</td>\n      <td>opel</td>\n      <td>NaN</td>\n      <td>2016-03-24 00:00:00</td>\n      <td>0</td>\n      <td>50170</td>\n      <td>2016-04-07 09:17:32</td>\n    </tr>\n    <tr>\n      <th>353769</th>\n      <td>2016-03-25 17:46:19</td>\n      <td>650</td>\n      <td>NaN</td>\n      <td>2000</td>\n      <td>manual</td>\n      <td>150</td>\n      <td>NaN</td>\n      <td>150000</td>\n      <td>7</td>\n      <td>NaN</td>\n      <td>audi</td>\n      <td>no</td>\n      <td>2016-03-25 00:00:00</td>\n      <td>0</td>\n      <td>97486</td>\n      <td>2016-03-27 05:16:34</td>\n    </tr>\n    <tr>\n      <th>354007</th>\n      <td>2016-04-04 21:40:20</td>\n      <td>10980</td>\n      <td>NaN</td>\n      <td>2016</td>\n      <td>manual</td>\n      <td>75</td>\n      <td>NaN</td>\n      <td>20000</td>\n      <td>1</td>\n      <td>NaN</td>\n      <td>volkswagen</td>\n      <td>no</td>\n      <td>2016-04-04 00:00:00</td>\n      <td>0</td>\n      <td>44801</td>\n      <td>2016-04-07 00:15:36</td>\n    </tr>\n    <tr>\n      <th>354011</th>\n      <td>2016-04-01 02:36:41</td>\n      <td>1000</td>\n      <td>NaN</td>\n      <td>2016</td>\n      <td>manual</td>\n      <td>54</td>\n      <td>NaN</td>\n      <td>125000</td>\n      <td>2</td>\n      <td>NaN</td>\n      <td>hyundai</td>\n      <td>no</td>\n      <td>2016-04-01 00:00:00</td>\n      <td>0</td>\n      <td>67547</td>\n      <td>2016-04-05 02:45:18</td>\n    </tr>\n    <tr>\n      <th>354351</th>\n      <td>2016-03-11 23:40:32</td>\n      <td>1900</td>\n      <td>NaN</td>\n      <td>2000</td>\n      <td>manual</td>\n      <td>110</td>\n      <td>NaN</td>\n      <td>150000</td>\n      <td>7</td>\n      <td>NaN</td>\n      <td>volkswagen</td>\n      <td>no</td>\n      <td>2016-03-11 00:00:00</td>\n      <td>0</td>\n      <td>87700</td>\n      <td>2016-03-12 14:16:51</td>\n    </tr>\n  </tbody>\n</table>\n<p>3137 rows × 16 columns</p>\n</div>"
     },
     "execution_count": 30,
     "metadata": {},
     "output_type": "execute_result"
    }
   ],
   "source": [
    "df.loc[(df['VehicleType'].isna()) & df['Model'].isna()]"
   ],
   "metadata": {
    "collapsed": false,
    "ExecuteTime": {
     "end_time": "2023-12-09T09:38:59.492481900Z",
     "start_time": "2023-12-09T09:38:59.321561900Z"
    }
   },
   "id": "8a30aac7a08fd76b"
  },
  {
   "cell_type": "markdown",
   "source": [
    "Остается 6828 строк (меньше 2% датасета), в которых остались пропуски в признаке VehicleType, и во всех этих строках неизвестны модели автомобилей (пропуски)."
   ],
   "metadata": {
    "collapsed": false
   },
   "id": "43ae7c05b735616a"
  },
  {
   "cell_type": "markdown",
   "source": [
    "#### Признак Gearbox"
   ],
   "metadata": {
    "collapsed": false
   },
   "id": "4fbdcb8af4a32864"
  },
  {
   "cell_type": "code",
   "execution_count": 31,
   "outputs": [
    {
     "data": {
      "text/plain": "Model\ngolf                 1475\nother                1394\nfortwo                786\ncorsa                 779\npolo                  731\n                     ... \nrange_rover_sport       1\nglk                     1\nyeti                    1\ncrossfire               1\nnubira                  1\nName: count, Length: 235, dtype: int64"
     },
     "execution_count": 31,
     "metadata": {},
     "output_type": "execute_result"
    }
   ],
   "source": [
    "# посмотрим на марки автомобилей с пропусками в признаке Gearbox:\n",
    "df[df['Gearbox'].isna()]['Model'].value_counts()"
   ],
   "metadata": {
    "collapsed": false,
    "ExecuteTime": {
     "end_time": "2023-12-09T09:38:59.545395100Z",
     "start_time": "2023-12-09T09:38:59.384918300Z"
    }
   },
   "id": "11da4f982ca94b07"
  },
  {
   "cell_type": "code",
   "execution_count": 32,
   "outputs": [],
   "source": [
    "# заполним пропуски самым частым значением для разных моделей автомобилей:\n",
    "for model in df['Model'].unique():\n",
    "    try:\n",
    "        veh_type_imp = df[df['Model'] == model]['Gearbox'].value_counts().index[0]\n",
    "        df.loc[(df['Gearbox'].isna()) & (df['Model'] == model), 'Gearbox'] = veh_type_imp\n",
    "    except:\n",
    "        IndexError"
   ],
   "metadata": {
    "collapsed": false,
    "ExecuteTime": {
     "end_time": "2023-12-09T09:39:14.318631400Z",
     "start_time": "2023-12-09T09:38:59.436624900Z"
    }
   },
   "id": "171f14868d5e28d8"
  },
  {
   "cell_type": "code",
   "execution_count": 33,
   "outputs": [
    {
     "name": "stdout",
     "output_type": "stream",
     "text": [
      "0.27\n"
     ]
    }
   ],
   "source": [
    "# проверим, остались ли пропуски и в каком количестве:\n",
    "print('{:.2f}'.format(df[df['Gearbox'].isna()].shape[0]/df.shape[0]*100))"
   ],
   "metadata": {
    "collapsed": false,
    "ExecuteTime": {
     "end_time": "2023-12-09T09:39:14.395170400Z",
     "start_time": "2023-12-09T09:39:14.318631400Z"
    }
   },
   "id": "35d8f0ae6839749b"
  },
  {
   "cell_type": "code",
   "execution_count": 34,
   "outputs": [
    {
     "data": {
      "text/plain": "                DateCrawled  Price VehicleType  RegistrationYear Gearbox  \\\n151     2016-03-27 20:47:22   6799       small              2009     NaN   \n161     2016-03-28 10:50:04   1495       wagon              2001     NaN   \n186     2016-03-16 15:51:08  14000       sedan              2008     NaN   \n1331    2016-04-03 19:53:44    650         NaN              1970     NaN   \n1345    2016-03-21 01:57:37    899         NaN              1990     NaN   \n...                     ...    ...         ...               ...     ...   \n351669  2016-03-15 15:48:26   2499       sedan              2001     NaN   \n352626  2016-03-28 11:06:23   1850         NaN              2000     NaN   \n353072  2016-03-27 12:57:36      0         NaN              1990     NaN   \n353104  2016-03-05 23:54:33   1200         NaN              2000     NaN   \n353892  2016-03-06 11:42:12   7900         bus              2009     NaN   \n\n        Power Model  Kilometer  RegistrationMonth  FuelType           Brand  \\\n151        60   NaN      20000                  5    petrol      volkswagen   \n161        64   NaN     150000                  9  gasoline      volkswagen   \n186       235   NaN     150000                  0       NaN             bmw   \n1331       26   NaN     100000                  5       NaN         trabant   \n1345       37   NaN      60000                  2       NaN  sonstige_autos   \n...       ...   ...        ...                ...       ...             ...   \n351669    180   NaN     150000                  0       NaN            audi   \n352626     89   NaN     150000                  7       NaN            fiat   \n353072     75   NaN     150000                  0  gasoline   mercedes_benz   \n353104     75   NaN     150000                  0       NaN      volkswagen   \n353892    140   NaN     125000                  7  gasoline  sonstige_autos   \n\n       Repaired          DateCreated  NumberOfPictures  PostalCode  \\\n151          no  2016-03-27 00:00:00                 0       89077   \n161         NaN  2016-03-28 00:00:00                 0       99086   \n186          no  2016-02-12 00:00:00                 0       95131   \n1331        NaN  2016-04-03 00:00:00                 0        9337   \n1345        NaN  2016-03-21 00:00:00                 0       85057   \n...         ...                  ...               ...         ...   \n351669      NaN  2016-03-15 00:00:00                 0       53639   \n352626      NaN  2016-03-28 00:00:00                 0       56182   \n353072      NaN  2016-03-27 00:00:00                 0       88339   \n353104      NaN  2016-03-05 00:00:00                 0       86561   \n353892       no  2016-03-06 00:00:00                 0       97256   \n\n                   LastSeen  \n151     2016-03-27 20:47:22  \n161     2016-04-04 11:45:46  \n186     2016-04-07 14:56:12  \n1331    2016-04-05 20:45:24  \n1345    2016-03-27 21:44:30  \n...                     ...  \n351669  2016-03-21 13:16:02  \n352626  2016-03-28 11:06:23  \n353072  2016-03-27 13:41:54  \n353104  2016-03-08 20:48:55  \n353892  2016-03-26 16:16:02  \n\n[937 rows x 16 columns]",
      "text/html": "<div>\n<style scoped>\n    .dataframe tbody tr th:only-of-type {\n        vertical-align: middle;\n    }\n\n    .dataframe tbody tr th {\n        vertical-align: top;\n    }\n\n    .dataframe thead th {\n        text-align: right;\n    }\n</style>\n<table border=\"1\" class=\"dataframe\">\n  <thead>\n    <tr style=\"text-align: right;\">\n      <th></th>\n      <th>DateCrawled</th>\n      <th>Price</th>\n      <th>VehicleType</th>\n      <th>RegistrationYear</th>\n      <th>Gearbox</th>\n      <th>Power</th>\n      <th>Model</th>\n      <th>Kilometer</th>\n      <th>RegistrationMonth</th>\n      <th>FuelType</th>\n      <th>Brand</th>\n      <th>Repaired</th>\n      <th>DateCreated</th>\n      <th>NumberOfPictures</th>\n      <th>PostalCode</th>\n      <th>LastSeen</th>\n    </tr>\n  </thead>\n  <tbody>\n    <tr>\n      <th>151</th>\n      <td>2016-03-27 20:47:22</td>\n      <td>6799</td>\n      <td>small</td>\n      <td>2009</td>\n      <td>NaN</td>\n      <td>60</td>\n      <td>NaN</td>\n      <td>20000</td>\n      <td>5</td>\n      <td>petrol</td>\n      <td>volkswagen</td>\n      <td>no</td>\n      <td>2016-03-27 00:00:00</td>\n      <td>0</td>\n      <td>89077</td>\n      <td>2016-03-27 20:47:22</td>\n    </tr>\n    <tr>\n      <th>161</th>\n      <td>2016-03-28 10:50:04</td>\n      <td>1495</td>\n      <td>wagon</td>\n      <td>2001</td>\n      <td>NaN</td>\n      <td>64</td>\n      <td>NaN</td>\n      <td>150000</td>\n      <td>9</td>\n      <td>gasoline</td>\n      <td>volkswagen</td>\n      <td>NaN</td>\n      <td>2016-03-28 00:00:00</td>\n      <td>0</td>\n      <td>99086</td>\n      <td>2016-04-04 11:45:46</td>\n    </tr>\n    <tr>\n      <th>186</th>\n      <td>2016-03-16 15:51:08</td>\n      <td>14000</td>\n      <td>sedan</td>\n      <td>2008</td>\n      <td>NaN</td>\n      <td>235</td>\n      <td>NaN</td>\n      <td>150000</td>\n      <td>0</td>\n      <td>NaN</td>\n      <td>bmw</td>\n      <td>no</td>\n      <td>2016-02-12 00:00:00</td>\n      <td>0</td>\n      <td>95131</td>\n      <td>2016-04-07 14:56:12</td>\n    </tr>\n    <tr>\n      <th>1331</th>\n      <td>2016-04-03 19:53:44</td>\n      <td>650</td>\n      <td>NaN</td>\n      <td>1970</td>\n      <td>NaN</td>\n      <td>26</td>\n      <td>NaN</td>\n      <td>100000</td>\n      <td>5</td>\n      <td>NaN</td>\n      <td>trabant</td>\n      <td>NaN</td>\n      <td>2016-04-03 00:00:00</td>\n      <td>0</td>\n      <td>9337</td>\n      <td>2016-04-05 20:45:24</td>\n    </tr>\n    <tr>\n      <th>1345</th>\n      <td>2016-03-21 01:57:37</td>\n      <td>899</td>\n      <td>NaN</td>\n      <td>1990</td>\n      <td>NaN</td>\n      <td>37</td>\n      <td>NaN</td>\n      <td>60000</td>\n      <td>2</td>\n      <td>NaN</td>\n      <td>sonstige_autos</td>\n      <td>NaN</td>\n      <td>2016-03-21 00:00:00</td>\n      <td>0</td>\n      <td>85057</td>\n      <td>2016-03-27 21:44:30</td>\n    </tr>\n    <tr>\n      <th>...</th>\n      <td>...</td>\n      <td>...</td>\n      <td>...</td>\n      <td>...</td>\n      <td>...</td>\n      <td>...</td>\n      <td>...</td>\n      <td>...</td>\n      <td>...</td>\n      <td>...</td>\n      <td>...</td>\n      <td>...</td>\n      <td>...</td>\n      <td>...</td>\n      <td>...</td>\n      <td>...</td>\n    </tr>\n    <tr>\n      <th>351669</th>\n      <td>2016-03-15 15:48:26</td>\n      <td>2499</td>\n      <td>sedan</td>\n      <td>2001</td>\n      <td>NaN</td>\n      <td>180</td>\n      <td>NaN</td>\n      <td>150000</td>\n      <td>0</td>\n      <td>NaN</td>\n      <td>audi</td>\n      <td>NaN</td>\n      <td>2016-03-15 00:00:00</td>\n      <td>0</td>\n      <td>53639</td>\n      <td>2016-03-21 13:16:02</td>\n    </tr>\n    <tr>\n      <th>352626</th>\n      <td>2016-03-28 11:06:23</td>\n      <td>1850</td>\n      <td>NaN</td>\n      <td>2000</td>\n      <td>NaN</td>\n      <td>89</td>\n      <td>NaN</td>\n      <td>150000</td>\n      <td>7</td>\n      <td>NaN</td>\n      <td>fiat</td>\n      <td>NaN</td>\n      <td>2016-03-28 00:00:00</td>\n      <td>0</td>\n      <td>56182</td>\n      <td>2016-03-28 11:06:23</td>\n    </tr>\n    <tr>\n      <th>353072</th>\n      <td>2016-03-27 12:57:36</td>\n      <td>0</td>\n      <td>NaN</td>\n      <td>1990</td>\n      <td>NaN</td>\n      <td>75</td>\n      <td>NaN</td>\n      <td>150000</td>\n      <td>0</td>\n      <td>gasoline</td>\n      <td>mercedes_benz</td>\n      <td>NaN</td>\n      <td>2016-03-27 00:00:00</td>\n      <td>0</td>\n      <td>88339</td>\n      <td>2016-03-27 13:41:54</td>\n    </tr>\n    <tr>\n      <th>353104</th>\n      <td>2016-03-05 23:54:33</td>\n      <td>1200</td>\n      <td>NaN</td>\n      <td>2000</td>\n      <td>NaN</td>\n      <td>75</td>\n      <td>NaN</td>\n      <td>150000</td>\n      <td>0</td>\n      <td>NaN</td>\n      <td>volkswagen</td>\n      <td>NaN</td>\n      <td>2016-03-05 00:00:00</td>\n      <td>0</td>\n      <td>86561</td>\n      <td>2016-03-08 20:48:55</td>\n    </tr>\n    <tr>\n      <th>353892</th>\n      <td>2016-03-06 11:42:12</td>\n      <td>7900</td>\n      <td>bus</td>\n      <td>2009</td>\n      <td>NaN</td>\n      <td>140</td>\n      <td>NaN</td>\n      <td>125000</td>\n      <td>7</td>\n      <td>gasoline</td>\n      <td>sonstige_autos</td>\n      <td>no</td>\n      <td>2016-03-06 00:00:00</td>\n      <td>0</td>\n      <td>97256</td>\n      <td>2016-03-26 16:16:02</td>\n    </tr>\n  </tbody>\n</table>\n<p>937 rows × 16 columns</p>\n</div>"
     },
     "execution_count": 34,
     "metadata": {},
     "output_type": "execute_result"
    }
   ],
   "source": [
    "df.loc[(df['Gearbox'].isna()) & df['Model'].isna()]"
   ],
   "metadata": {
    "collapsed": false,
    "ExecuteTime": {
     "end_time": "2023-12-09T09:39:14.434713900Z",
     "start_time": "2023-12-09T09:39:14.352682300Z"
    }
   },
   "id": "63fe8446ac75e3d5"
  },
  {
   "cell_type": "markdown",
   "source": [
    "Остается 4131 строка (чуть больше 1% датасета), в которых остались пропуски в признаке Gearbox, и во всех этих строках неизвестны модели автомобилей (пропуски)."
   ],
   "metadata": {
    "collapsed": false
   },
   "id": "88bedcb42dc53d69"
  },
  {
   "cell_type": "markdown",
   "source": [
    "#### Признак FuelType"
   ],
   "metadata": {
    "collapsed": false
   },
   "id": "551dbc4055bcf29a"
  },
  {
   "cell_type": "code",
   "execution_count": 35,
   "outputs": [
    {
     "data": {
      "text/plain": "Model\ngolf                 2429\nother                1953\n3er                  1330\npolo                 1325\ncorsa                1315\n                     ... \nrange_rover_sport       1\ncitigo                  1\nv60                     1\nmusa                    1\ndiscovery               1\nName: count, Length: 235, dtype: int64"
     },
     "execution_count": 35,
     "metadata": {},
     "output_type": "execute_result"
    }
   ],
   "source": [
    "# посмотрим на марки автомобилей с пропусками в признаке FuelType:\n",
    "df[df['FuelType'].isna()]['Model'].value_counts()"
   ],
   "metadata": {
    "collapsed": false,
    "ExecuteTime": {
     "end_time": "2023-12-09T09:39:14.563300900Z",
     "start_time": "2023-12-09T09:39:14.415300100Z"
    }
   },
   "id": "b993888cfa1b68c1"
  },
  {
   "cell_type": "code",
   "execution_count": 36,
   "outputs": [],
   "source": [
    "# заполним пропуски самым частым значением для разных моделей автомобилей:\n",
    "for model in df['Model'].unique():\n",
    "    try:\n",
    "        veh_type_imp = df[df['Model'] == model]['FuelType'].value_counts().index[0]\n",
    "        df.loc[(df['FuelType'].isna()) & (df['Model'] == model), 'FuelType'] = veh_type_imp\n",
    "    except:\n",
    "        IndexError"
   ],
   "metadata": {
    "collapsed": false,
    "ExecuteTime": {
     "end_time": "2023-12-09T09:39:27.346693600Z",
     "start_time": "2023-12-09T09:39:14.486223100Z"
    }
   },
   "id": "5a2c42d66126b6f4"
  },
  {
   "cell_type": "code",
   "execution_count": 37,
   "outputs": [
    {
     "name": "stdout",
     "output_type": "stream",
     "text": [
      "1.07\n"
     ]
    }
   ],
   "source": [
    "# проверим, остались ли пропуски и в каком количестве:\n",
    "print('{:.2f}'.format(df[df['FuelType'].isna()].shape[0]/df.shape[0]*100))"
   ],
   "metadata": {
    "collapsed": false,
    "ExecuteTime": {
     "end_time": "2023-12-09T09:39:27.405099700Z",
     "start_time": "2023-12-09T09:39:27.346693600Z"
    }
   },
   "id": "13e65d871166b1f1"
  },
  {
   "cell_type": "code",
   "execution_count": 38,
   "outputs": [
    {
     "data": {
      "text/plain": "                DateCrawled  Price VehicleType  RegistrationYear Gearbox  \\\n59      2016-03-29 15:48:15      1         suv              1994  manual   \n81      2016-04-03 12:56:45    350       small              1997  manual   \n135     2016-03-27 20:51:23   1450       sedan              1992  manual   \n186     2016-03-16 15:51:08  14000       sedan              2008     NaN   \n273     2016-03-29 23:38:02   1500       coupe              1994  manual   \n...                     ...    ...         ...               ...     ...   \n353769  2016-03-25 17:46:19    650         NaN              2000  manual   \n353816  2016-03-09 13:37:36   9800       small              2013  manual   \n354007  2016-04-04 21:40:20  10980         NaN              2016  manual   \n354011  2016-04-01 02:36:41   1000         NaN              2016  manual   \n354351  2016-03-11 23:40:32   1900         NaN              2000  manual   \n\n        Power Model  Kilometer  RegistrationMonth FuelType           Brand  \\\n59        286   NaN     150000                 11      NaN  sonstige_autos   \n81         54   NaN     150000                  3      NaN            fiat   \n135       136   NaN     150000                  0      NaN            audi   \n186       235   NaN     150000                  0      NaN             bmw   \n273       116   NaN     150000                  8      NaN            audi   \n...       ...   ...        ...                ...      ...             ...   \n353769    150   NaN     150000                  7      NaN            audi   \n353816     90   NaN      50000                  4      NaN         renault   \n354007     75   NaN      20000                  1      NaN      volkswagen   \n354011     54   NaN     125000                  2      NaN         hyundai   \n354351    110   NaN     150000                  7      NaN      volkswagen   \n\n       Repaired          DateCreated  NumberOfPictures  PostalCode  \\\n59          NaN  2016-03-29 00:00:00                 0       53721   \n81          yes  2016-04-03 00:00:00                 0       45665   \n135          no  2016-03-27 00:00:00                 0       38709   \n186          no  2016-02-12 00:00:00                 0       95131   \n273          no  2016-03-29 00:00:00                 0       32791   \n...         ...                  ...               ...         ...   \n353769       no  2016-03-25 00:00:00                 0       97486   \n353816      NaN  2016-03-09 00:00:00                 0       38855   \n354007       no  2016-04-04 00:00:00                 0       44801   \n354011       no  2016-04-01 00:00:00                 0       67547   \n354351       no  2016-03-11 00:00:00                 0       87700   \n\n                   LastSeen  \n59      2016-04-06 01:44:38  \n81      2016-04-05 11:47:13  \n135     2016-04-05 20:17:31  \n186     2016-04-07 14:56:12  \n273     2016-04-06 20:16:34  \n...                     ...  \n353769  2016-03-27 05:16:34  \n353816  2016-03-14 20:45:05  \n354007  2016-04-07 00:15:36  \n354011  2016-04-05 02:45:18  \n354351  2016-03-12 14:16:51  \n\n[3716 rows x 16 columns]",
      "text/html": "<div>\n<style scoped>\n    .dataframe tbody tr th:only-of-type {\n        vertical-align: middle;\n    }\n\n    .dataframe tbody tr th {\n        vertical-align: top;\n    }\n\n    .dataframe thead th {\n        text-align: right;\n    }\n</style>\n<table border=\"1\" class=\"dataframe\">\n  <thead>\n    <tr style=\"text-align: right;\">\n      <th></th>\n      <th>DateCrawled</th>\n      <th>Price</th>\n      <th>VehicleType</th>\n      <th>RegistrationYear</th>\n      <th>Gearbox</th>\n      <th>Power</th>\n      <th>Model</th>\n      <th>Kilometer</th>\n      <th>RegistrationMonth</th>\n      <th>FuelType</th>\n      <th>Brand</th>\n      <th>Repaired</th>\n      <th>DateCreated</th>\n      <th>NumberOfPictures</th>\n      <th>PostalCode</th>\n      <th>LastSeen</th>\n    </tr>\n  </thead>\n  <tbody>\n    <tr>\n      <th>59</th>\n      <td>2016-03-29 15:48:15</td>\n      <td>1</td>\n      <td>suv</td>\n      <td>1994</td>\n      <td>manual</td>\n      <td>286</td>\n      <td>NaN</td>\n      <td>150000</td>\n      <td>11</td>\n      <td>NaN</td>\n      <td>sonstige_autos</td>\n      <td>NaN</td>\n      <td>2016-03-29 00:00:00</td>\n      <td>0</td>\n      <td>53721</td>\n      <td>2016-04-06 01:44:38</td>\n    </tr>\n    <tr>\n      <th>81</th>\n      <td>2016-04-03 12:56:45</td>\n      <td>350</td>\n      <td>small</td>\n      <td>1997</td>\n      <td>manual</td>\n      <td>54</td>\n      <td>NaN</td>\n      <td>150000</td>\n      <td>3</td>\n      <td>NaN</td>\n      <td>fiat</td>\n      <td>yes</td>\n      <td>2016-04-03 00:00:00</td>\n      <td>0</td>\n      <td>45665</td>\n      <td>2016-04-05 11:47:13</td>\n    </tr>\n    <tr>\n      <th>135</th>\n      <td>2016-03-27 20:51:23</td>\n      <td>1450</td>\n      <td>sedan</td>\n      <td>1992</td>\n      <td>manual</td>\n      <td>136</td>\n      <td>NaN</td>\n      <td>150000</td>\n      <td>0</td>\n      <td>NaN</td>\n      <td>audi</td>\n      <td>no</td>\n      <td>2016-03-27 00:00:00</td>\n      <td>0</td>\n      <td>38709</td>\n      <td>2016-04-05 20:17:31</td>\n    </tr>\n    <tr>\n      <th>186</th>\n      <td>2016-03-16 15:51:08</td>\n      <td>14000</td>\n      <td>sedan</td>\n      <td>2008</td>\n      <td>NaN</td>\n      <td>235</td>\n      <td>NaN</td>\n      <td>150000</td>\n      <td>0</td>\n      <td>NaN</td>\n      <td>bmw</td>\n      <td>no</td>\n      <td>2016-02-12 00:00:00</td>\n      <td>0</td>\n      <td>95131</td>\n      <td>2016-04-07 14:56:12</td>\n    </tr>\n    <tr>\n      <th>273</th>\n      <td>2016-03-29 23:38:02</td>\n      <td>1500</td>\n      <td>coupe</td>\n      <td>1994</td>\n      <td>manual</td>\n      <td>116</td>\n      <td>NaN</td>\n      <td>150000</td>\n      <td>8</td>\n      <td>NaN</td>\n      <td>audi</td>\n      <td>no</td>\n      <td>2016-03-29 00:00:00</td>\n      <td>0</td>\n      <td>32791</td>\n      <td>2016-04-06 20:16:34</td>\n    </tr>\n    <tr>\n      <th>...</th>\n      <td>...</td>\n      <td>...</td>\n      <td>...</td>\n      <td>...</td>\n      <td>...</td>\n      <td>...</td>\n      <td>...</td>\n      <td>...</td>\n      <td>...</td>\n      <td>...</td>\n      <td>...</td>\n      <td>...</td>\n      <td>...</td>\n      <td>...</td>\n      <td>...</td>\n      <td>...</td>\n    </tr>\n    <tr>\n      <th>353769</th>\n      <td>2016-03-25 17:46:19</td>\n      <td>650</td>\n      <td>NaN</td>\n      <td>2000</td>\n      <td>manual</td>\n      <td>150</td>\n      <td>NaN</td>\n      <td>150000</td>\n      <td>7</td>\n      <td>NaN</td>\n      <td>audi</td>\n      <td>no</td>\n      <td>2016-03-25 00:00:00</td>\n      <td>0</td>\n      <td>97486</td>\n      <td>2016-03-27 05:16:34</td>\n    </tr>\n    <tr>\n      <th>353816</th>\n      <td>2016-03-09 13:37:36</td>\n      <td>9800</td>\n      <td>small</td>\n      <td>2013</td>\n      <td>manual</td>\n      <td>90</td>\n      <td>NaN</td>\n      <td>50000</td>\n      <td>4</td>\n      <td>NaN</td>\n      <td>renault</td>\n      <td>NaN</td>\n      <td>2016-03-09 00:00:00</td>\n      <td>0</td>\n      <td>38855</td>\n      <td>2016-03-14 20:45:05</td>\n    </tr>\n    <tr>\n      <th>354007</th>\n      <td>2016-04-04 21:40:20</td>\n      <td>10980</td>\n      <td>NaN</td>\n      <td>2016</td>\n      <td>manual</td>\n      <td>75</td>\n      <td>NaN</td>\n      <td>20000</td>\n      <td>1</td>\n      <td>NaN</td>\n      <td>volkswagen</td>\n      <td>no</td>\n      <td>2016-04-04 00:00:00</td>\n      <td>0</td>\n      <td>44801</td>\n      <td>2016-04-07 00:15:36</td>\n    </tr>\n    <tr>\n      <th>354011</th>\n      <td>2016-04-01 02:36:41</td>\n      <td>1000</td>\n      <td>NaN</td>\n      <td>2016</td>\n      <td>manual</td>\n      <td>54</td>\n      <td>NaN</td>\n      <td>125000</td>\n      <td>2</td>\n      <td>NaN</td>\n      <td>hyundai</td>\n      <td>no</td>\n      <td>2016-04-01 00:00:00</td>\n      <td>0</td>\n      <td>67547</td>\n      <td>2016-04-05 02:45:18</td>\n    </tr>\n    <tr>\n      <th>354351</th>\n      <td>2016-03-11 23:40:32</td>\n      <td>1900</td>\n      <td>NaN</td>\n      <td>2000</td>\n      <td>manual</td>\n      <td>110</td>\n      <td>NaN</td>\n      <td>150000</td>\n      <td>7</td>\n      <td>NaN</td>\n      <td>volkswagen</td>\n      <td>no</td>\n      <td>2016-03-11 00:00:00</td>\n      <td>0</td>\n      <td>87700</td>\n      <td>2016-03-12 14:16:51</td>\n    </tr>\n  </tbody>\n</table>\n<p>3716 rows × 16 columns</p>\n</div>"
     },
     "execution_count": 38,
     "metadata": {},
     "output_type": "execute_result"
    }
   ],
   "source": [
    "df.loc[(df['FuelType'].isna()) & df['Model'].isna()]"
   ],
   "metadata": {
    "collapsed": false,
    "ExecuteTime": {
     "end_time": "2023-12-09T09:39:27.535075900Z",
     "start_time": "2023-12-09T09:39:27.396632400Z"
    }
   },
   "id": "ab823ec2bfc96b81"
  },
  {
   "cell_type": "markdown",
   "source": [
    "Остается 7163 строки (чуть больше 2% датасета), в которых остались пропуски в признаке FuelType, и во всех этих строках неизвестны модели автомобилей (пропуски).\n",
    "\n",
    "Заполним пропуски у признаков Model и Repaired в дальнейшем при создании пайплайна значением unknown, добавив логический параметр add_indicator=True."
   ],
   "metadata": {
    "collapsed": false
   },
   "id": "9bb081570dcd3f54"
  },
  {
   "cell_type": "code",
   "execution_count": 39,
   "outputs": [],
   "source": [
    "# удалим неинформативные признаки:\n",
    "df.drop(['DateCrawled', 'RegistrationMonth', 'DateCreated', 'NumberOfPictures', 'PostalCode', 'LastSeen'], axis=1, inplace=True)"
   ],
   "metadata": {
    "collapsed": false,
    "ExecuteTime": {
     "end_time": "2023-12-09T09:39:27.566340200Z",
     "start_time": "2023-12-09T09:39:27.472161100Z"
    }
   },
   "id": "65a3f6632b91d2c5"
  },
  {
   "cell_type": "code",
   "execution_count": 40,
   "outputs": [
    {
     "name": "stdout",
     "output_type": "stream",
     "text": [
      "<class 'pandas.core.frame.DataFrame'>\n",
      "Index: 347834 entries, 0 to 354368\n",
      "Data columns (total 10 columns):\n",
      " #   Column            Non-Null Count   Dtype \n",
      "---  ------            --------------   ----- \n",
      " 0   Price             347834 non-null  int64 \n",
      " 1   VehicleType       344697 non-null  object\n",
      " 2   RegistrationYear  347834 non-null  int64 \n",
      " 3   Gearbox           346897 non-null  object\n",
      " 4   Power             347834 non-null  int64 \n",
      " 5   Model             334585 non-null  object\n",
      " 6   Kilometer         347834 non-null  int64 \n",
      " 7   FuelType          344118 non-null  object\n",
      " 8   Brand             347834 non-null  object\n",
      " 9   Repaired          281054 non-null  object\n",
      "dtypes: int64(4), object(6)\n",
      "memory usage: 29.2+ MB\n"
     ]
    }
   ],
   "source": [
    "df.info()"
   ],
   "metadata": {
    "collapsed": false,
    "ExecuteTime": {
     "end_time": "2023-12-09T09:39:27.874832100Z",
     "start_time": "2023-12-09T09:39:27.535075900Z"
    }
   },
   "id": "b5f12aa93e85a14e"
  },
  {
   "cell_type": "code",
   "execution_count": 41,
   "outputs": [
    {
     "data": {
      "text/plain": "Price                   0\nVehicleType          3137\nRegistrationYear        0\nGearbox               937\nPower                   0\nModel               13249\nKilometer               0\nFuelType             3716\nBrand                   0\nRepaired            66780\ndtype: int64"
     },
     "execution_count": 41,
     "metadata": {},
     "output_type": "execute_result"
    }
   ],
   "source": [
    "df.isna().sum()"
   ],
   "metadata": {
    "collapsed": false,
    "ExecuteTime": {
     "end_time": "2023-12-09T09:39:27.901879100Z",
     "start_time": "2023-12-09T09:39:27.708277600Z"
    }
   },
   "id": "bd5f1029e1d8e99c"
  },
  {
   "cell_type": "code",
   "execution_count": 42,
   "outputs": [
    {
     "name": "stdout",
     "output_type": "stream",
     "text": [
      "Price - 0.0%\n",
      "VehicleType - 0.9%\n",
      "RegistrationYear - 0.0%\n",
      "Gearbox - 0.27%\n",
      "Power - 0.0%\n",
      "Model - 3.81%\n",
      "Kilometer - 0.0%\n",
      "FuelType - 1.07%\n",
      "Brand - 0.0%\n",
      "Repaired - 19.2%\n"
     ]
    }
   ],
   "source": [
    "# процентный список пропущенных данных:\n",
    "for col in df.columns:\n",
    "    pct_missing = np.mean(df[col].isnull())\n",
    "    print('{} - {}%'.format(col, round(pct_missing*100, 2)))"
   ],
   "metadata": {
    "collapsed": false,
    "ExecuteTime": {
     "end_time": "2023-12-09T09:39:28.296226100Z",
     "start_time": "2023-12-09T09:39:27.874832100Z"
    }
   },
   "id": "d32c8a3ea62cabbe"
  },
  {
   "cell_type": "markdown",
   "source": [
    "Исследуем признаки на мультиколлинеарность."
   ],
   "metadata": {
    "collapsed": false
   },
   "id": "1e97bb347734445e"
  },
  {
   "cell_type": "code",
   "execution_count": 43,
   "outputs": [
    {
     "name": "stdout",
     "output_type": "stream",
     "text": [
      "interval columns not set, guessing: ['Price', 'RegistrationYear', 'Power', 'Kilometer']\n"
     ]
    },
    {
     "data": {
      "text/plain": "                  Price  VehicleType  RegistrationYear  Gearbox  Power  Model  \\\nPrice              1.00         0.27              0.56     0.32   0.11   0.57   \nVehicleType        0.27         1.00              0.16     0.28   0.04   0.92   \nRegistrationYear   0.56         0.16              1.00     0.09   0.04   0.59   \nGearbox            0.32         0.28              0.09     1.00   0.09   0.66   \nPower              0.11         0.04              0.04     0.09   1.00   0.22   \nModel              0.57         0.92              0.59     0.66   0.22   1.00   \nKilometer          0.31         0.17              0.33     0.01   0.01   0.44   \nFuelType           0.26         0.33              0.21     0.15   0.03   0.56   \nBrand              0.36         0.63              0.37     0.53   0.10   1.00   \nRepaired           0.38         0.08              0.17     0.05   0.01   0.16   \n\n                  Kilometer  FuelType  Brand  Repaired  \nPrice                  0.31      0.26   0.36      0.38  \nVehicleType            0.17      0.33   0.63      0.08  \nRegistrationYear       0.33      0.21   0.37      0.17  \nGearbox                0.01      0.15   0.53      0.05  \nPower                  0.01      0.03   0.10      0.01  \nModel                  0.44      0.56   1.00      0.16  \nKilometer              1.00      0.14   0.27      0.11  \nFuelType               0.14      1.00   0.32      0.05  \nBrand                  0.27      0.32   1.00      0.11  \nRepaired               0.11      0.05   0.11      1.00  ",
      "text/html": "<div>\n<style scoped>\n    .dataframe tbody tr th:only-of-type {\n        vertical-align: middle;\n    }\n\n    .dataframe tbody tr th {\n        vertical-align: top;\n    }\n\n    .dataframe thead th {\n        text-align: right;\n    }\n</style>\n<table border=\"1\" class=\"dataframe\">\n  <thead>\n    <tr style=\"text-align: right;\">\n      <th></th>\n      <th>Price</th>\n      <th>VehicleType</th>\n      <th>RegistrationYear</th>\n      <th>Gearbox</th>\n      <th>Power</th>\n      <th>Model</th>\n      <th>Kilometer</th>\n      <th>FuelType</th>\n      <th>Brand</th>\n      <th>Repaired</th>\n    </tr>\n  </thead>\n  <tbody>\n    <tr>\n      <th>Price</th>\n      <td>1.00</td>\n      <td>0.27</td>\n      <td>0.56</td>\n      <td>0.32</td>\n      <td>0.11</td>\n      <td>0.57</td>\n      <td>0.31</td>\n      <td>0.26</td>\n      <td>0.36</td>\n      <td>0.38</td>\n    </tr>\n    <tr>\n      <th>VehicleType</th>\n      <td>0.27</td>\n      <td>1.00</td>\n      <td>0.16</td>\n      <td>0.28</td>\n      <td>0.04</td>\n      <td>0.92</td>\n      <td>0.17</td>\n      <td>0.33</td>\n      <td>0.63</td>\n      <td>0.08</td>\n    </tr>\n    <tr>\n      <th>RegistrationYear</th>\n      <td>0.56</td>\n      <td>0.16</td>\n      <td>1.00</td>\n      <td>0.09</td>\n      <td>0.04</td>\n      <td>0.59</td>\n      <td>0.33</td>\n      <td>0.21</td>\n      <td>0.37</td>\n      <td>0.17</td>\n    </tr>\n    <tr>\n      <th>Gearbox</th>\n      <td>0.32</td>\n      <td>0.28</td>\n      <td>0.09</td>\n      <td>1.00</td>\n      <td>0.09</td>\n      <td>0.66</td>\n      <td>0.01</td>\n      <td>0.15</td>\n      <td>0.53</td>\n      <td>0.05</td>\n    </tr>\n    <tr>\n      <th>Power</th>\n      <td>0.11</td>\n      <td>0.04</td>\n      <td>0.04</td>\n      <td>0.09</td>\n      <td>1.00</td>\n      <td>0.22</td>\n      <td>0.01</td>\n      <td>0.03</td>\n      <td>0.10</td>\n      <td>0.01</td>\n    </tr>\n    <tr>\n      <th>Model</th>\n      <td>0.57</td>\n      <td>0.92</td>\n      <td>0.59</td>\n      <td>0.66</td>\n      <td>0.22</td>\n      <td>1.00</td>\n      <td>0.44</td>\n      <td>0.56</td>\n      <td>1.00</td>\n      <td>0.16</td>\n    </tr>\n    <tr>\n      <th>Kilometer</th>\n      <td>0.31</td>\n      <td>0.17</td>\n      <td>0.33</td>\n      <td>0.01</td>\n      <td>0.01</td>\n      <td>0.44</td>\n      <td>1.00</td>\n      <td>0.14</td>\n      <td>0.27</td>\n      <td>0.11</td>\n    </tr>\n    <tr>\n      <th>FuelType</th>\n      <td>0.26</td>\n      <td>0.33</td>\n      <td>0.21</td>\n      <td>0.15</td>\n      <td>0.03</td>\n      <td>0.56</td>\n      <td>0.14</td>\n      <td>1.00</td>\n      <td>0.32</td>\n      <td>0.05</td>\n    </tr>\n    <tr>\n      <th>Brand</th>\n      <td>0.36</td>\n      <td>0.63</td>\n      <td>0.37</td>\n      <td>0.53</td>\n      <td>0.10</td>\n      <td>1.00</td>\n      <td>0.27</td>\n      <td>0.32</td>\n      <td>1.00</td>\n      <td>0.11</td>\n    </tr>\n    <tr>\n      <th>Repaired</th>\n      <td>0.38</td>\n      <td>0.08</td>\n      <td>0.17</td>\n      <td>0.05</td>\n      <td>0.01</td>\n      <td>0.16</td>\n      <td>0.11</td>\n      <td>0.05</td>\n      <td>0.11</td>\n      <td>1.00</td>\n    </tr>\n  </tbody>\n</table>\n</div>"
     },
     "execution_count": 43,
     "metadata": {},
     "output_type": "execute_result"
    }
   ],
   "source": [
    "# построим 𝜙k correlation matrix:\n",
    "phik_overview = df.phik_matrix()\n",
    "phik_overview.round(2)"
   ],
   "metadata": {
    "collapsed": false,
    "ExecuteTime": {
     "end_time": "2023-12-09T09:39:41.518207400Z",
     "start_time": "2023-12-09T09:39:28.246332800Z"
    }
   },
   "id": "9da738f2a4c1208"
  },
  {
   "cell_type": "code",
   "execution_count": 44,
   "outputs": [
    {
     "data": {
      "text/plain": "Model               0.57\nRegistrationYear    0.56\nRepaired            0.38\nBrand               0.36\nGearbox             0.32\nKilometer           0.31\nVehicleType         0.27\nFuelType            0.26\nPower               0.11\nName: Price, dtype: float64"
     },
     "execution_count": 44,
     "metadata": {},
     "output_type": "execute_result"
    }
   ],
   "source": [
    "# посмотрим, с какими признаками сильнее всего коррелирует/связан целевой атрибут:\n",
    "phik_target = phik_overview['Price'].sort_values(ascending=False).iloc[1:]\n",
    "phik_target.round(2)"
   ],
   "metadata": {
    "collapsed": false,
    "ExecuteTime": {
     "end_time": "2023-12-09T09:39:41.569640400Z",
     "start_time": "2023-12-09T09:39:41.506119Z"
    }
   },
   "id": "db2f366af6456e65"
  },
  {
   "cell_type": "code",
   "execution_count": 45,
   "outputs": [
    {
     "data": {
      "text/plain": "<Figure size 1000x800 with 2 Axes>",
      "image/png": "[encoded data removed]"
     },
     "metadata": {},
     "output_type": "display_data"
    }
   ],
   "source": [
    "# построим plot_correlation_matrix:\n",
    "plot_correlation_matrix(phik_overview.values,\n",
    "                        x_labels=phik_overview.columns,\n",
    "                        y_labels=phik_overview.index,\n",
    "                        vmin=0, vmax=1, color_map=\"Greens\",\n",
    "                        title=r\"correlation $\\phi_K$\",\n",
    "                        fontsize_factor=0.9,\n",
    "                        figsize=(10, 8))\n",
    "plt.tight_layout()\n",
    "plt.show()"
   ],
   "metadata": {
    "collapsed": false,
    "ExecuteTime": {
     "end_time": "2023-12-09T09:39:44.506251600Z",
     "start_time": "2023-12-09T09:39:41.524098800Z"
    }
   },
   "id": "5551af3f07337531"
  },
  {
   "cell_type": "markdown",
   "source": [
    "## Разделение на выборки"
   ],
   "metadata": {
    "collapsed": false
   },
   "id": "da91d57401aa5083"
  },
  {
   "cell_type": "code",
   "execution_count": 46,
   "outputs": [],
   "source": [
    "X = df.drop(['Price'], axis = 1)\n",
    "y = df['Price']\n",
    "X_train, X_test, y_train, y_test = train_test_split(X, y, test_size=0.33, random_state=42)"
   ],
   "metadata": {
    "collapsed": false,
    "ExecuteTime": {
     "end_time": "2023-12-09T09:39:44.694363500Z",
     "start_time": "2023-12-09T09:39:44.506251600Z"
    }
   },
   "id": "8f4014a6b4070c73"
  },
  {
   "cell_type": "code",
   "execution_count": 47,
   "outputs": [
    {
     "name": "stdout",
     "output_type": "stream",
     "text": [
      "Размер обучающей выборки: (233048, 9)\n",
      "Размер тестовой выборки: (114786, 9)\n"
     ]
    }
   ],
   "source": [
    "# посмотрим на размеры выборок:\n",
    "print('Размер обучающей выборки:', X_train.shape)\n",
    "print('Размер тестовой выборки:', X_test.shape)"
   ],
   "metadata": {
    "collapsed": false,
    "ExecuteTime": {
     "end_time": "2023-12-09T09:39:44.694363500Z",
     "start_time": "2023-12-09T09:39:44.598170Z"
    }
   },
   "id": "7b675663ab99bd53"
  },
  {
   "cell_type": "code",
   "execution_count": 48,
   "outputs": [],
   "source": [
    "# внесем в переменные списки все численные и категориальные признаки:\n",
    "categorical_features = X_train.select_dtypes(include=['object']).columns.tolist()\n",
    "numeric_features = X_train.select_dtypes(exclude=['object']).columns.tolist()"
   ],
   "metadata": {
    "collapsed": false,
    "ExecuteTime": {
     "end_time": "2023-12-09T09:39:44.694363500Z",
     "start_time": "2023-12-09T09:39:44.613988400Z"
    }
   },
   "id": "585f94750f5f06ea"
  },
  {
   "cell_type": "code",
   "execution_count": 49,
   "outputs": [
    {
     "data": {
      "text/plain": "['VehicleType', 'Gearbox', 'Model', 'FuelType', 'Brand', 'Repaired']"
     },
     "execution_count": 49,
     "metadata": {},
     "output_type": "execute_result"
    }
   ],
   "source": [
    "categorical_features"
   ],
   "metadata": {
    "collapsed": false,
    "ExecuteTime": {
     "end_time": "2023-12-09T09:39:44.694363500Z",
     "start_time": "2023-12-09T09:39:44.644768800Z"
    }
   },
   "id": "2ff3cb5da28184ca"
  },
  {
   "cell_type": "code",
   "execution_count": 50,
   "outputs": [
    {
     "data": {
      "text/plain": "['RegistrationYear', 'Power', 'Kilometer']"
     },
     "execution_count": 50,
     "metadata": {},
     "output_type": "execute_result"
    }
   ],
   "source": [
    "numeric_features"
   ],
   "metadata": {
    "collapsed": false,
    "ExecuteTime": {
     "end_time": "2023-12-09T09:39:44.694363500Z",
     "start_time": "2023-12-09T09:39:44.660531200Z"
    }
   },
   "id": "da192a98a9b63174"
  },
  {
   "cell_type": "markdown",
   "source": [
    "# Обучение моделей\n",
    "## LinearRegression\t"
   ],
   "metadata": {
    "collapsed": false
   },
   "id": "774aa97372c89456"
  },
  {
   "cell_type": "code",
   "execution_count": 51,
   "outputs": [],
   "source": [
    "cat_pipeline = Pipeline([\n",
    "    ('imp', SimpleImputer(strategy='constant', fill_value='unknown', add_indicator=True)),\n",
    "    ('enc', OneHotEncoder(handle_unknown='error', drop='first', sparse_output=False))\n",
    "])\n",
    "\n",
    "num_pipeline = Pipeline([\n",
    "    ('pt', PowerTransformer()),\n",
    "    ('scal', StandardScaler())  \n",
    "])\n",
    "\n",
    "preprocessor = ColumnTransformer([\n",
    "    (\"cat\", cat_pipeline, categorical_features),\n",
    "    (\"num\", num_pipeline, numeric_features)\n",
    "\n",
    "])\n",
    "\n",
    "pipe_lr = Pipeline([\n",
    "    ('preprocessor', preprocessor),\n",
    "    ('model', LinearRegression())\n",
    "])"
   ],
   "metadata": {
    "collapsed": false,
    "ExecuteTime": {
     "end_time": "2023-12-09T09:39:44.698841700Z",
     "start_time": "2023-12-09T09:39:44.680755300Z"
    }
   },
   "id": "5274ad2653088894"
  },
  {
   "cell_type": "code",
   "execution_count": 52,
   "outputs": [],
   "source": [
    "score = ((cross_val_score(pipe_lr, X_train, y_train, cv=5, scoring='neg_mean_squared_error') * -1) ** 0.5).mean()"
   ],
   "metadata": {
    "collapsed": false,
    "ExecuteTime": {
     "end_time": "2023-12-09T09:40:31.856042200Z",
     "start_time": "2023-12-09T09:39:44.689782Z"
    }
   },
   "id": "bdd7e05f2c35cac9"
  },
  {
   "cell_type": "code",
   "execution_count": 53,
   "outputs": [
    {
     "name": "stdout",
     "output_type": "stream",
     "text": [
      "Среднее качество LinearRegression на кросс-валидации = 2791.43\n"
     ]
    }
   ],
   "source": [
    "print('Среднее качество LinearRegression на кросс-валидации =', round(score, 2))"
   ],
   "metadata": {
    "collapsed": false,
    "ExecuteTime": {
     "end_time": "2023-12-09T09:40:32.304027200Z",
     "start_time": "2023-12-09T09:40:31.876528300Z"
    }
   },
   "id": "6f3877687132a225"
  },
  {
   "cell_type": "markdown",
   "source": [
    "## LGBMRegressor\t"
   ],
   "metadata": {
    "collapsed": false
   },
   "id": "eef42abdb35cc8d5"
  },
  {
   "cell_type": "code",
   "execution_count": 54,
   "outputs": [],
   "source": [
    "# for col in X_train.columns:\n",
    "#     if X_train[col].dtype == object:\n",
    "#         X_train[col] = X_train[col].astype('category')"
   ],
   "metadata": {
    "collapsed": false,
    "ExecuteTime": {
     "end_time": "2023-12-08T20:08:51.072220600Z",
     "start_time": "2023-12-08T20:08:50.944245400Z"
    }
   },
   "id": "d1eaab05146c1892"
  },
  {
   "cell_type": "code",
   "execution_count": 54,
   "outputs": [],
   "source": [
    "# class CategoryType(BaseEstimator, TransformerMixin):\n",
    "# \n",
    "#     def transform(self, X):\n",
    "#         for col in X.columns:\n",
    "#             if col in X[col].dtype == object:\n",
    "#                 X.train[col] = X_train[col].astype('category')\n",
    "#         return X\n",
    "# \n",
    "#     def fit(self, X, y=None):\n",
    "#         return self"
   ],
   "metadata": {
    "collapsed": false,
    "ExecuteTime": {
     "end_time": "2023-12-08T20:23:48.131374300Z",
     "start_time": "2023-12-08T20:23:48.108641200Z"
    }
   },
   "id": "20e37fbaa8353aa2"
  },
  {
   "cell_type": "code",
   "execution_count": 83,
   "outputs": [],
   "source": [
    "cat_pipeline = Pipeline([\n",
    "    ('imp', SimpleImputer(strategy='constant', fill_value='unknown', add_indicator=True)),\n",
    "    ('enc', OrdinalEncoder())\n",
    "])\n",
    "\n",
    "num_pipeline = Pipeline([\n",
    "    ('pt', PowerTransformer())\n",
    "])\n",
    "\n",
    "preprocessor = ColumnTransformer([\n",
    "    (\"cat\", cat_pipeline, categorical_features),\n",
    "    (\"num\", num_pipeline, numeric_features)\n",
    "])"
   ],
   "metadata": {
    "collapsed": false,
    "ExecuteTime": {
     "end_time": "2023-12-09T10:07:55.048354700Z",
     "start_time": "2023-12-09T10:07:55.000746400Z"
    }
   },
   "id": "3a093a488186d927"
  },
  {
   "cell_type": "code",
   "execution_count": 55,
   "outputs": [],
   "source": [
    "# X_train_new = preprocessor.fit_transform(X_train)"
   ],
   "metadata": {
    "collapsed": false,
    "ExecuteTime": {
     "end_time": "2023-12-09T09:42:45.705852100Z",
     "start_time": "2023-12-09T09:42:43.525156Z"
    }
   },
   "id": "b97c336f2263d901"
  },
  {
   "cell_type": "code",
   "execution_count": 88,
   "outputs": [],
   "source": [
    "# X_train_new.dtypes"
   ],
   "metadata": {
    "collapsed": false,
    "ExecuteTime": {
     "end_time": "2023-12-09T10:09:42.587205Z",
     "start_time": "2023-12-09T10:09:42.568547Z"
    }
   },
   "id": "79a9b74f466823de"
  },
  {
   "cell_type": "code",
   "execution_count": 78,
   "outputs": [],
   "source": [
    "# for col in X_train_new.columns:\n",
    "#     if X_train_new[col].dtype == object:\n",
    "#         X_train_new[col] = X_train_new[col].astype('category')"
   ],
   "metadata": {
    "collapsed": false,
    "ExecuteTime": {
     "end_time": "2023-12-08T20:52:48.130334600Z",
     "start_time": "2023-12-08T20:52:47.817240600Z"
    }
   },
   "id": "8a5dfc672dbb7d7a"
  },
  {
   "cell_type": "code",
   "execution_count": 69,
   "outputs": [],
   "source": [
    "# cat_features=list(X_train_new.columns[:-3])"
   ],
   "metadata": {
    "collapsed": false,
    "ExecuteTime": {
     "end_time": "2023-12-08T20:50:39.960821Z",
     "start_time": "2023-12-08T20:50:39.936959100Z"
    }
   },
   "id": "4b6bf7816f2be1fc"
  },
  {
   "cell_type": "code",
   "execution_count": 68,
   "outputs": [],
   "source": [
    "# cat_features=['cat__VehicleType',\n",
    "#               'cat__Gearbox',\n",
    "#               'cat__Model',\n",
    "#               'cat__FuelType',\n",
    "#               'cat__Brand',\n",
    "#               'cat__Repaired',\n",
    "#               'cat__missingindicator_VehicleType',\n",
    "#               'cat__missingindicator_Gearbox',\n",
    "#               'cat__missingindicator_Model',\n",
    "#               'cat__missingindicator_FuelType',\n",
    "#               'cat__missingindicator_Repaired']"
   ],
   "metadata": {
    "collapsed": false,
    "ExecuteTime": {
     "end_time": "2023-12-09T09:50:08.558744600Z",
     "start_time": "2023-12-09T09:50:08.479647200Z"
    }
   },
   "id": "e266227af15adcd2"
  },
  {
   "cell_type": "code",
   "execution_count": 84,
   "outputs": [],
   "source": [
    "def optuna_optimize(trial):\n",
    "    param = {\n",
    "        'model__num_iterations': trial.suggest_int('model__num_iterations', 50, 900),\n",
    "        'model__max_depth': trial.suggest_int('model__max_depth', -1, 20),\n",
    "        'model__max_bin': trial.suggest_int('model__max_bin', 100, 255),\n",
    "        'model__learning_rate': trial.suggest_float('model__learning_rate', 0.01, 1),\n",
    "        'model__num_leaves': trial.suggest_int('model__num_leaves', 32, 128),\n",
    "        'model__min_data_in_leaf': trial.suggest_int('model__min_data_in_leaf', 5, 30),\n",
    "        'model__lambda_l1': trial.suggest_float('model__lambda_l1', 0.0, 0.1),\n",
    "        'model__min_child_weight': trial.suggest_float('model__min_child_weight', 0.0, 5.0)\n",
    "    }\n",
    "    \n",
    "    estimator = LGBMRegressor(**param,\n",
    "                              verbosity=-1, \n",
    "                              random_state=42,\n",
    "                              categorical_feature=[0,1,2,3,4,5,6,7,8,9,10])\n",
    "\n",
    "    pipe_lgbm = Pipeline([\n",
    "        ('preprocessor', preprocessor),\n",
    "        ('model', estimator)\n",
    "    ])\n",
    "    \n",
    "    score = ((cross_val_score(pipe_lgbm, X_train, y_train, cv=5, scoring='neg_mean_squared_error') * -1) ** 0.5).mean()\n",
    "    return score"
   ],
   "metadata": {
    "collapsed": false,
    "ExecuteTime": {
     "end_time": "2023-12-09T10:07:58.370938Z",
     "start_time": "2023-12-09T10:07:58.274640500Z"
    }
   },
   "id": "64e63607c6c205d2"
  },
  {
   "cell_type": "code",
   "execution_count": 85,
   "outputs": [
    {
     "name": "stderr",
     "output_type": "stream",
     "text": [
      "[I 2023-12-09 13:07:59,420] A new study created in memory with name: LightGBM Optuna Optimization\n"
     ]
    }
   ],
   "source": [
    "study_lightgbm = optuna.create_study(study_name=\"LightGBM Optuna Optimization\",\n",
    "                                   direction='minimize')"
   ],
   "metadata": {
    "collapsed": false,
    "ExecuteTime": {
     "end_time": "2023-12-09T10:07:59.499403800Z",
     "start_time": "2023-12-09T10:07:59.420641400Z"
    }
   },
   "id": "1a94c345ee962aaf"
  },
  {
   "cell_type": "code",
   "execution_count": 86,
   "outputs": [
    {
     "name": "stderr",
     "output_type": "stream",
     "text": [
      "[I 2023-12-09 13:08:16,116] Trial 0 finished with value: 1793.5903721801587 and parameters: {'model__num_iterations': 549, 'model__max_depth': 19, 'model__max_bin': 155, 'model__learning_rate': 0.9423368614164568, 'model__num_leaves': 75, 'model__min_data_in_leaf': 14, 'model__lambda_l1': 0.003877676227025795, 'model__min_child_weight': 4.067710932534493}. Best is trial 0 with value: 1793.5903721801587.\n",
      "[I 2023-12-09 13:08:30,471] Trial 1 finished with value: 1793.5903721801587 and parameters: {'model__num_iterations': 588, 'model__max_depth': 13, 'model__max_bin': 110, 'model__learning_rate': 0.5939745964944093, 'model__num_leaves': 122, 'model__min_data_in_leaf': 8, 'model__lambda_l1': 0.068771273066387, 'model__min_child_weight': 0.9074432764447599}. Best is trial 0 with value: 1793.5903721801587.\n",
      "[I 2023-12-09 13:08:45,145] Trial 2 finished with value: 1793.5903721801587 and parameters: {'model__num_iterations': 642, 'model__max_depth': 4, 'model__max_bin': 125, 'model__learning_rate': 0.8532609211818698, 'model__num_leaves': 112, 'model__min_data_in_leaf': 10, 'model__lambda_l1': 0.06315929950318752, 'model__min_child_weight': 0.41211613940298486}. Best is trial 0 with value: 1793.5903721801587.\n",
      "[I 2023-12-09 13:09:00,389] Trial 3 finished with value: 1793.5903721801587 and parameters: {'model__num_iterations': 883, 'model__max_depth': 7, 'model__max_bin': 187, 'model__learning_rate': 0.28196985881661457, 'model__num_leaves': 33, 'model__min_data_in_leaf': 10, 'model__lambda_l1': 0.013706908551954522, 'model__min_child_weight': 0.8803994280595556}. Best is trial 0 with value: 1793.5903721801587.\n",
      "[I 2023-12-09 13:09:15,861] Trial 4 finished with value: 1793.5903721801587 and parameters: {'model__num_iterations': 417, 'model__max_depth': 3, 'model__max_bin': 253, 'model__learning_rate': 0.02700262038674276, 'model__num_leaves': 91, 'model__min_data_in_leaf': 27, 'model__lambda_l1': 0.02636025157983789, 'model__min_child_weight': 3.4113774282128273}. Best is trial 0 with value: 1793.5903721801587.\n"
     ]
    }
   ],
   "source": [
    "study_lightgbm.optimize(optuna_optimize, n_trials=5)"
   ],
   "metadata": {
    "collapsed": false,
    "ExecuteTime": {
     "end_time": "2023-12-09T10:09:15.889050500Z",
     "start_time": "2023-12-09T10:08:01.474276500Z"
    }
   },
   "id": "ad797bebccd35432"
  },
  {
   "cell_type": "code",
   "execution_count": 87,
   "outputs": [
    {
     "name": "stdout",
     "output_type": "stream",
     "text": [
      "Наилучшие значения гиперпараметров LightGBM: {'model__num_iterations': 549, 'model__max_depth': 19, 'model__max_bin': 155, 'model__learning_rate': 0.9423368614164568, 'model__num_leaves': 75, 'model__min_data_in_leaf': 14, 'model__lambda_l1': 0.003877676227025795, 'model__min_child_weight': 4.067710932534493}\n",
      "\n",
      "Среднее качество LightGBM на кросс-валидации = 1793.59\n"
     ]
    }
   ],
   "source": [
    "print(\"Наилучшие значения гиперпараметров LightGBM: {}\".format(study_lightgbm.best_params))\n",
    "print()\n",
    "print(\"Среднее качество LightGBM на кросс-валидации = {:.2f}\". format(study_lightgbm.best_value))"
   ],
   "metadata": {
    "collapsed": false,
    "ExecuteTime": {
     "end_time": "2023-12-09T10:09:17.532140300Z",
     "start_time": "2023-12-09T10:09:17.508766400Z"
    }
   },
   "id": "96f23645582a0e91"
  },
  {
   "cell_type": "markdown",
   "source": [
    "## CatBoostRegressor\t"
   ],
   "metadata": {
    "collapsed": false
   },
   "id": "5457b08bf51c25e6"
  },
  {
   "cell_type": "code",
   "execution_count": null,
   "outputs": [],
   "source": [],
   "metadata": {
    "collapsed": false
   },
   "id": "4a64cf1d059a2105"
  }
 ],
 "metadata": {
  "kernelspec": {
   "display_name": "Python 3",
   "language": "python",
   "name": "python3"
  },
  "language_info": {
   "codemirror_mode": {
    "name": "ipython",
    "version": 2
   },
   "file_extension": ".py",
   "mimetype": "text/x-python",
   "name": "python",
   "nbconvert_exporter": "python",
   "pygments_lexer": "ipython2",
   "version": "2.7.6"
  }
 },
 "nbformat": 4,
 "nbformat_minor": 5
}
