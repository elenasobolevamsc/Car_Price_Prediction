{
 "cells": [
  {
   "cell_type": "markdown",
   "source": [
    "# Подготовка данных\n",
    "## Анализ данных"
   ],
   "metadata": {
    "collapsed": false
   },
   "id": "8768fa11ec44c3fc"
  },
  {
   "cell_type": "code",
   "execution_count": 55,
   "outputs": [],
   "source": [
    "# импортируем библиотеки:\n",
    "import warnings\n",
    "warnings.filterwarnings('ignore')\n",
    "\n",
    "import pandas as pd\n",
    "import numpy as np\n",
    "import matplotlib.pyplot as plt\n",
    "\n",
    "from phik.report import plot_correlation_matrix\n",
    "\n",
    "from lightgbm import LGBMRegressor\n",
    "from catboost import CatBoostRegressor\n",
    "from sklearn.linear_model import LinearRegression\n",
    "from sklearn.preprocessing import StandardScaler, OrdinalEncoder\n",
    "from sklearn.model_selection import train_test_split, cross_val_score, GridSearchCV\n",
    "from sklearn.metrics import mean_squared_error"
   ],
   "metadata": {
    "collapsed": false,
    "ExecuteTime": {
     "end_time": "2023-12-06T19:25:15.626372900Z",
     "start_time": "2023-12-06T19:25:13.640220300Z"
    }
   },
   "id": "883181964c124b05"
  },
  {
   "cell_type": "code",
   "execution_count": 2,
   "outputs": [
    {
     "data": {
      "text/plain": "           DateCrawled  Price VehicleType  RegistrationYear Gearbox  Power  \\\n0  2016-03-24 11:52:17    480         NaN              1993  manual      0   \n1  2016-03-24 10:58:45  18300       coupe              2011  manual    190   \n2  2016-03-14 12:52:21   9800         suv              2004    auto    163   \n3  2016-03-17 16:54:04   1500       small              2001  manual     75   \n4  2016-03-31 17:25:20   3600       small              2008  manual     69   \n\n   Model  Kilometer  RegistrationMonth  FuelType       Brand Repaired  \\\n0   golf     150000                  0    petrol  volkswagen      NaN   \n1    NaN     125000                  5  gasoline        audi      yes   \n2  grand     125000                  8  gasoline        jeep      NaN   \n3   golf     150000                  6    petrol  volkswagen       no   \n4  fabia      90000                  7  gasoline       skoda       no   \n\n           DateCreated  NumberOfPictures  PostalCode             LastSeen  \n0  2016-03-24 00:00:00                 0       70435  2016-04-07 03:16:57  \n1  2016-03-24 00:00:00                 0       66954  2016-04-07 01:46:50  \n2  2016-03-14 00:00:00                 0       90480  2016-04-05 12:47:46  \n3  2016-03-17 00:00:00                 0       91074  2016-03-17 17:40:17  \n4  2016-03-31 00:00:00                 0       60437  2016-04-06 10:17:21  ",
      "text/html": "<div>\n<style scoped>\n    .dataframe tbody tr th:only-of-type {\n        vertical-align: middle;\n    }\n\n    .dataframe tbody tr th {\n        vertical-align: top;\n    }\n\n    .dataframe thead th {\n        text-align: right;\n    }\n</style>\n<table border=\"1\" class=\"dataframe\">\n  <thead>\n    <tr style=\"text-align: right;\">\n      <th></th>\n      <th>DateCrawled</th>\n      <th>Price</th>\n      <th>VehicleType</th>\n      <th>RegistrationYear</th>\n      <th>Gearbox</th>\n      <th>Power</th>\n      <th>Model</th>\n      <th>Kilometer</th>\n      <th>RegistrationMonth</th>\n      <th>FuelType</th>\n      <th>Brand</th>\n      <th>Repaired</th>\n      <th>DateCreated</th>\n      <th>NumberOfPictures</th>\n      <th>PostalCode</th>\n      <th>LastSeen</th>\n    </tr>\n  </thead>\n  <tbody>\n    <tr>\n      <th>0</th>\n      <td>2016-03-24 11:52:17</td>\n      <td>480</td>\n      <td>NaN</td>\n      <td>1993</td>\n      <td>manual</td>\n      <td>0</td>\n      <td>golf</td>\n      <td>150000</td>\n      <td>0</td>\n      <td>petrol</td>\n      <td>volkswagen</td>\n      <td>NaN</td>\n      <td>2016-03-24 00:00:00</td>\n      <td>0</td>\n      <td>70435</td>\n      <td>2016-04-07 03:16:57</td>\n    </tr>\n    <tr>\n      <th>1</th>\n      <td>2016-03-24 10:58:45</td>\n      <td>18300</td>\n      <td>coupe</td>\n      <td>2011</td>\n      <td>manual</td>\n      <td>190</td>\n      <td>NaN</td>\n      <td>125000</td>\n      <td>5</td>\n      <td>gasoline</td>\n      <td>audi</td>\n      <td>yes</td>\n      <td>2016-03-24 00:00:00</td>\n      <td>0</td>\n      <td>66954</td>\n      <td>2016-04-07 01:46:50</td>\n    </tr>\n    <tr>\n      <th>2</th>\n      <td>2016-03-14 12:52:21</td>\n      <td>9800</td>\n      <td>suv</td>\n      <td>2004</td>\n      <td>auto</td>\n      <td>163</td>\n      <td>grand</td>\n      <td>125000</td>\n      <td>8</td>\n      <td>gasoline</td>\n      <td>jeep</td>\n      <td>NaN</td>\n      <td>2016-03-14 00:00:00</td>\n      <td>0</td>\n      <td>90480</td>\n      <td>2016-04-05 12:47:46</td>\n    </tr>\n    <tr>\n      <th>3</th>\n      <td>2016-03-17 16:54:04</td>\n      <td>1500</td>\n      <td>small</td>\n      <td>2001</td>\n      <td>manual</td>\n      <td>75</td>\n      <td>golf</td>\n      <td>150000</td>\n      <td>6</td>\n      <td>petrol</td>\n      <td>volkswagen</td>\n      <td>no</td>\n      <td>2016-03-17 00:00:00</td>\n      <td>0</td>\n      <td>91074</td>\n      <td>2016-03-17 17:40:17</td>\n    </tr>\n    <tr>\n      <th>4</th>\n      <td>2016-03-31 17:25:20</td>\n      <td>3600</td>\n      <td>small</td>\n      <td>2008</td>\n      <td>manual</td>\n      <td>69</td>\n      <td>fabia</td>\n      <td>90000</td>\n      <td>7</td>\n      <td>gasoline</td>\n      <td>skoda</td>\n      <td>no</td>\n      <td>2016-03-31 00:00:00</td>\n      <td>0</td>\n      <td>60437</td>\n      <td>2016-04-06 10:17:21</td>\n    </tr>\n  </tbody>\n</table>\n</div>"
     },
     "execution_count": 2,
     "metadata": {},
     "output_type": "execute_result"
    }
   ],
   "source": [
    "# загрузим файл и изучим общую информацию о нем:\n",
    "df = pd.read_csv('Autos.csv')\n",
    "df.head()"
   ],
   "metadata": {
    "collapsed": false,
    "ExecuteTime": {
     "end_time": "2023-12-06T18:41:33.952681200Z",
     "start_time": "2023-12-06T18:41:31.829632500Z"
    }
   },
   "id": "b0af43632c46f1b1"
  },
  {
   "cell_type": "code",
   "execution_count": 3,
   "outputs": [
    {
     "name": "stdout",
     "output_type": "stream",
     "text": [
      "<class 'pandas.core.frame.DataFrame'>\n",
      "RangeIndex: 354369 entries, 0 to 354368\n",
      "Data columns (total 16 columns):\n",
      " #   Column             Non-Null Count   Dtype \n",
      "---  ------             --------------   ----- \n",
      " 0   DateCrawled        354369 non-null  object\n",
      " 1   Price              354369 non-null  int64 \n",
      " 2   VehicleType        316879 non-null  object\n",
      " 3   RegistrationYear   354369 non-null  int64 \n",
      " 4   Gearbox            334536 non-null  object\n",
      " 5   Power              354369 non-null  int64 \n",
      " 6   Model              334664 non-null  object\n",
      " 7   Kilometer          354369 non-null  int64 \n",
      " 8   RegistrationMonth  354369 non-null  int64 \n",
      " 9   FuelType           321474 non-null  object\n",
      " 10  Brand              354369 non-null  object\n",
      " 11  Repaired           283215 non-null  object\n",
      " 12  DateCreated        354369 non-null  object\n",
      " 13  NumberOfPictures   354369 non-null  int64 \n",
      " 14  PostalCode         354369 non-null  int64 \n",
      " 15  LastSeen           354369 non-null  object\n",
      "dtypes: int64(7), object(9)\n",
      "memory usage: 43.3+ MB\n"
     ]
    }
   ],
   "source": [
    "df.info()"
   ],
   "metadata": {
    "collapsed": false,
    "ExecuteTime": {
     "end_time": "2023-12-06T18:41:35.233274400Z",
     "start_time": "2023-12-06T18:41:34.995891400Z"
    }
   },
   "id": "d9d7d1ce38c1526"
  },
  {
   "cell_type": "code",
   "execution_count": 4,
   "outputs": [
    {
     "data": {
      "text/plain": "DateCrawled              0\nPrice                    0\nVehicleType          37490\nRegistrationYear         0\nGearbox              19833\nPower                    0\nModel                19705\nKilometer                0\nRegistrationMonth        0\nFuelType             32895\nBrand                    0\nRepaired             71154\nDateCreated              0\nNumberOfPictures         0\nPostalCode               0\nLastSeen                 0\ndtype: int64"
     },
     "execution_count": 4,
     "metadata": {},
     "output_type": "execute_result"
    }
   ],
   "source": [
    "# найдем пропуски в данных:\n",
    "df.isna().sum()"
   ],
   "metadata": {
    "collapsed": false,
    "ExecuteTime": {
     "end_time": "2023-12-06T18:41:38.765582200Z",
     "start_time": "2023-12-06T18:41:38.619819500Z"
    }
   },
   "id": "34db213060a406cc"
  },
  {
   "cell_type": "code",
   "execution_count": 5,
   "outputs": [
    {
     "data": {
      "text/plain": "4"
     },
     "execution_count": 5,
     "metadata": {},
     "output_type": "execute_result"
    }
   ],
   "source": [
    "# найдем явные дубликаты:\n",
    "df.duplicated().sum()"
   ],
   "metadata": {
    "collapsed": false,
    "ExecuteTime": {
     "end_time": "2023-12-06T18:41:40.451884700Z",
     "start_time": "2023-12-06T18:41:39.391895900Z"
    }
   },
   "id": "d6c8cb22c31f9f32"
  },
  {
   "cell_type": "code",
   "execution_count": 6,
   "outputs": [],
   "source": [
    "# удалим явные дубликаты:\n",
    "df = df.drop_duplicates()"
   ],
   "metadata": {
    "collapsed": false,
    "ExecuteTime": {
     "end_time": "2023-12-06T18:41:41.418931800Z",
     "start_time": "2023-12-06T18:41:40.462033Z"
    }
   },
   "id": "21cf90896e924f1f"
  },
  {
   "cell_type": "markdown",
   "source": [
    "Определим признаки, важные для модели.\n",
    "\n",
    "К значимым признакам отнесем следующие столбцы:\n",
    "\n",
    "- VehicleType. Тип машины определяет ее функционал. Чем больше возможностей у машины, тем выше цена.\n",
    "- Gearbox. Наличие автоматической коробки передач повышает стоимость машины из-за сложности конструкции.\n",
    "- Power. Мощность в лошадиных силах (далее л.с.) напрямую влияют на цену.\n",
    "- Kilometer. Имеет обратно пропорциональную зависимость от цены. Чем больше километров проехала машина, тем меньше ее надежность и, соответственно, цена.\n",
    "- FuelType. Тип топлива определяет конструкцию двигателя внутреннего сгорания.\n",
    "- Brand. Концерн/компания, которая создала автомобиль, показывает качество и надежность автомобиля.\n",
    "- Repaired. Машины, которые побывали в дорожно-транспортных происшествиях, подверглись изменениям, и их надежность ниже.\n",
    "- RegistrationYear. Год регистрации определяет, сколько уже лет машина на ходу, соответственно, чем больше возраст, тем меньше цена.\n",
    "- Model. Тоже может влиять на популярность у покупателей.\n",
    "\n",
    "Остальные столбцы для модели не требуются, так как не влияют на стоимость и не являются информативными: \n",
    "- DateCrawled (дата скачивания анкеты из базы), \n",
    "- RegistrationMonth(месяц регистрации автомобиля), \n",
    "- DateCreated (дата создания анкеты), \n",
    "- NumberOfPictures (количество фотографий автомобиля), \n",
    "- PostalCode (почтовый индекс владельца анкеты (пользователя)),\n",
    "- LastSeen (дата последней активности пользователя)."
   ],
   "metadata": {
    "collapsed": false
   },
   "id": "bdb7d040fe5aa67"
  },
  {
   "cell_type": "markdown",
   "source": [
    "## Предобработка данных"
   ],
   "metadata": {
    "collapsed": false
   },
   "id": "9a15bacb0d0072c3"
  },
  {
   "cell_type": "code",
   "execution_count": 7,
   "outputs": [
    {
     "name": "stdout",
     "output_type": "stream",
     "text": [
      "<class 'pandas.core.frame.DataFrame'>\n",
      "Index: 354365 entries, 0 to 354368\n",
      "Data columns (total 16 columns):\n",
      " #   Column             Non-Null Count   Dtype \n",
      "---  ------             --------------   ----- \n",
      " 0   DateCrawled        354365 non-null  object\n",
      " 1   Price              354365 non-null  int64 \n",
      " 2   VehicleType        316875 non-null  object\n",
      " 3   RegistrationYear   354365 non-null  int64 \n",
      " 4   Gearbox            334532 non-null  object\n",
      " 5   Power              354365 non-null  int64 \n",
      " 6   Model              334660 non-null  object\n",
      " 7   Kilometer          354365 non-null  int64 \n",
      " 8   RegistrationMonth  354365 non-null  int64 \n",
      " 9   FuelType           321470 non-null  object\n",
      " 10  Brand              354365 non-null  object\n",
      " 11  Repaired           283211 non-null  object\n",
      " 12  DateCreated        354365 non-null  object\n",
      " 13  NumberOfPictures   354365 non-null  int64 \n",
      " 14  PostalCode         354365 non-null  int64 \n",
      " 15  LastSeen           354365 non-null  object\n",
      "dtypes: int64(7), object(9)\n",
      "memory usage: 46.0+ MB\n"
     ]
    }
   ],
   "source": [
    "df.info()"
   ],
   "metadata": {
    "collapsed": false,
    "ExecuteTime": {
     "end_time": "2023-12-06T18:41:41.565735400Z",
     "start_time": "2023-12-06T18:41:41.418931800Z"
    }
   },
   "id": "ee2c9497b8c4eb0"
  },
  {
   "cell_type": "code",
   "execution_count": 8,
   "outputs": [
    {
     "data": {
      "text/plain": "                DateCrawled          Price VehicleType  RegistrationYear  \\\ncount                354365  354365.000000      316875     354365.000000   \nunique               271174            NaN           8               NaN   \ntop     2016-03-24 14:49:47            NaN       sedan               NaN   \nfreq                      7            NaN       91457               NaN   \nmean                    NaN    4416.679830         NaN       2004.234481   \nstd                     NaN    4514.176349         NaN         90.228466   \nmin                     NaN       0.000000         NaN       1000.000000   \n25%                     NaN    1050.000000         NaN       1999.000000   \n50%                     NaN    2700.000000         NaN       2003.000000   \n75%                     NaN    6400.000000         NaN       2008.000000   \nmax                     NaN   20000.000000         NaN       9999.000000   \n\n       Gearbox          Power   Model      Kilometer  RegistrationMonth  \\\ncount   334532  354365.000000  334660  354365.000000      354365.000000   \nunique       2            NaN     250            NaN                NaN   \ntop     manual            NaN    golf            NaN                NaN   \nfreq    268249            NaN   29232            NaN                NaN   \nmean       NaN     110.093816     NaN  128211.363989           5.714650   \nstd        NaN     189.851330     NaN   37905.083858           3.726432   \nmin        NaN       0.000000     NaN    5000.000000           0.000000   \n25%        NaN      69.000000     NaN  125000.000000           3.000000   \n50%        NaN     105.000000     NaN  150000.000000           6.000000   \n75%        NaN     143.000000     NaN  150000.000000           9.000000   \nmax        NaN   20000.000000     NaN  150000.000000          12.000000   \n\n       FuelType       Brand Repaired          DateCreated  NumberOfPictures  \\\ncount    321470      354365   283211               354365          354365.0   \nunique        7          40        2                  109               NaN   \ntop      petrol  volkswagen       no  2016-04-03 00:00:00               NaN   \nfreq     216349       77012   247158                13718               NaN   \nmean        NaN         NaN      NaN                  NaN               0.0   \nstd         NaN         NaN      NaN                  NaN               0.0   \nmin         NaN         NaN      NaN                  NaN               0.0   \n25%         NaN         NaN      NaN                  NaN               0.0   \n50%         NaN         NaN      NaN                  NaN               0.0   \n75%         NaN         NaN      NaN                  NaN               0.0   \nmax         NaN         NaN      NaN                  NaN               0.0   \n\n           PostalCode             LastSeen  \ncount   354365.000000               354365  \nunique            NaN               179150  \ntop               NaN  2016-04-06 13:45:54  \nfreq              NaN                   17  \nmean     50508.503800                  NaN  \nstd      25783.100078                  NaN  \nmin       1067.000000                  NaN  \n25%      30165.000000                  NaN  \n50%      49413.000000                  NaN  \n75%      71083.000000                  NaN  \nmax      99998.000000                  NaN  ",
      "text/html": "<div>\n<style scoped>\n    .dataframe tbody tr th:only-of-type {\n        vertical-align: middle;\n    }\n\n    .dataframe tbody tr th {\n        vertical-align: top;\n    }\n\n    .dataframe thead th {\n        text-align: right;\n    }\n</style>\n<table border=\"1\" class=\"dataframe\">\n  <thead>\n    <tr style=\"text-align: right;\">\n      <th></th>\n      <th>DateCrawled</th>\n      <th>Price</th>\n      <th>VehicleType</th>\n      <th>RegistrationYear</th>\n      <th>Gearbox</th>\n      <th>Power</th>\n      <th>Model</th>\n      <th>Kilometer</th>\n      <th>RegistrationMonth</th>\n      <th>FuelType</th>\n      <th>Brand</th>\n      <th>Repaired</th>\n      <th>DateCreated</th>\n      <th>NumberOfPictures</th>\n      <th>PostalCode</th>\n      <th>LastSeen</th>\n    </tr>\n  </thead>\n  <tbody>\n    <tr>\n      <th>count</th>\n      <td>354365</td>\n      <td>354365.000000</td>\n      <td>316875</td>\n      <td>354365.000000</td>\n      <td>334532</td>\n      <td>354365.000000</td>\n      <td>334660</td>\n      <td>354365.000000</td>\n      <td>354365.000000</td>\n      <td>321470</td>\n      <td>354365</td>\n      <td>283211</td>\n      <td>354365</td>\n      <td>354365.0</td>\n      <td>354365.000000</td>\n      <td>354365</td>\n    </tr>\n    <tr>\n      <th>unique</th>\n      <td>271174</td>\n      <td>NaN</td>\n      <td>8</td>\n      <td>NaN</td>\n      <td>2</td>\n      <td>NaN</td>\n      <td>250</td>\n      <td>NaN</td>\n      <td>NaN</td>\n      <td>7</td>\n      <td>40</td>\n      <td>2</td>\n      <td>109</td>\n      <td>NaN</td>\n      <td>NaN</td>\n      <td>179150</td>\n    </tr>\n    <tr>\n      <th>top</th>\n      <td>2016-03-24 14:49:47</td>\n      <td>NaN</td>\n      <td>sedan</td>\n      <td>NaN</td>\n      <td>manual</td>\n      <td>NaN</td>\n      <td>golf</td>\n      <td>NaN</td>\n      <td>NaN</td>\n      <td>petrol</td>\n      <td>volkswagen</td>\n      <td>no</td>\n      <td>2016-04-03 00:00:00</td>\n      <td>NaN</td>\n      <td>NaN</td>\n      <td>2016-04-06 13:45:54</td>\n    </tr>\n    <tr>\n      <th>freq</th>\n      <td>7</td>\n      <td>NaN</td>\n      <td>91457</td>\n      <td>NaN</td>\n      <td>268249</td>\n      <td>NaN</td>\n      <td>29232</td>\n      <td>NaN</td>\n      <td>NaN</td>\n      <td>216349</td>\n      <td>77012</td>\n      <td>247158</td>\n      <td>13718</td>\n      <td>NaN</td>\n      <td>NaN</td>\n      <td>17</td>\n    </tr>\n    <tr>\n      <th>mean</th>\n      <td>NaN</td>\n      <td>4416.679830</td>\n      <td>NaN</td>\n      <td>2004.234481</td>\n      <td>NaN</td>\n      <td>110.093816</td>\n      <td>NaN</td>\n      <td>128211.363989</td>\n      <td>5.714650</td>\n      <td>NaN</td>\n      <td>NaN</td>\n      <td>NaN</td>\n      <td>NaN</td>\n      <td>0.0</td>\n      <td>50508.503800</td>\n      <td>NaN</td>\n    </tr>\n    <tr>\n      <th>std</th>\n      <td>NaN</td>\n      <td>4514.176349</td>\n      <td>NaN</td>\n      <td>90.228466</td>\n      <td>NaN</td>\n      <td>189.851330</td>\n      <td>NaN</td>\n      <td>37905.083858</td>\n      <td>3.726432</td>\n      <td>NaN</td>\n      <td>NaN</td>\n      <td>NaN</td>\n      <td>NaN</td>\n      <td>0.0</td>\n      <td>25783.100078</td>\n      <td>NaN</td>\n    </tr>\n    <tr>\n      <th>min</th>\n      <td>NaN</td>\n      <td>0.000000</td>\n      <td>NaN</td>\n      <td>1000.000000</td>\n      <td>NaN</td>\n      <td>0.000000</td>\n      <td>NaN</td>\n      <td>5000.000000</td>\n      <td>0.000000</td>\n      <td>NaN</td>\n      <td>NaN</td>\n      <td>NaN</td>\n      <td>NaN</td>\n      <td>0.0</td>\n      <td>1067.000000</td>\n      <td>NaN</td>\n    </tr>\n    <tr>\n      <th>25%</th>\n      <td>NaN</td>\n      <td>1050.000000</td>\n      <td>NaN</td>\n      <td>1999.000000</td>\n      <td>NaN</td>\n      <td>69.000000</td>\n      <td>NaN</td>\n      <td>125000.000000</td>\n      <td>3.000000</td>\n      <td>NaN</td>\n      <td>NaN</td>\n      <td>NaN</td>\n      <td>NaN</td>\n      <td>0.0</td>\n      <td>30165.000000</td>\n      <td>NaN</td>\n    </tr>\n    <tr>\n      <th>50%</th>\n      <td>NaN</td>\n      <td>2700.000000</td>\n      <td>NaN</td>\n      <td>2003.000000</td>\n      <td>NaN</td>\n      <td>105.000000</td>\n      <td>NaN</td>\n      <td>150000.000000</td>\n      <td>6.000000</td>\n      <td>NaN</td>\n      <td>NaN</td>\n      <td>NaN</td>\n      <td>NaN</td>\n      <td>0.0</td>\n      <td>49413.000000</td>\n      <td>NaN</td>\n    </tr>\n    <tr>\n      <th>75%</th>\n      <td>NaN</td>\n      <td>6400.000000</td>\n      <td>NaN</td>\n      <td>2008.000000</td>\n      <td>NaN</td>\n      <td>143.000000</td>\n      <td>NaN</td>\n      <td>150000.000000</td>\n      <td>9.000000</td>\n      <td>NaN</td>\n      <td>NaN</td>\n      <td>NaN</td>\n      <td>NaN</td>\n      <td>0.0</td>\n      <td>71083.000000</td>\n      <td>NaN</td>\n    </tr>\n    <tr>\n      <th>max</th>\n      <td>NaN</td>\n      <td>20000.000000</td>\n      <td>NaN</td>\n      <td>9999.000000</td>\n      <td>NaN</td>\n      <td>20000.000000</td>\n      <td>NaN</td>\n      <td>150000.000000</td>\n      <td>12.000000</td>\n      <td>NaN</td>\n      <td>NaN</td>\n      <td>NaN</td>\n      <td>NaN</td>\n      <td>0.0</td>\n      <td>99998.000000</td>\n      <td>NaN</td>\n    </tr>\n  </tbody>\n</table>\n</div>"
     },
     "execution_count": 8,
     "metadata": {},
     "output_type": "execute_result"
    }
   ],
   "source": [
    "# проверим значения:\n",
    "df.describe(include='all')"
   ],
   "metadata": {
    "collapsed": false,
    "ExecuteTime": {
     "end_time": "2023-12-06T18:41:42.785675800Z",
     "start_time": "2023-12-06T18:41:41.545697600Z"
    }
   },
   "id": "853b8fca98b807a4"
  },
  {
   "cell_type": "markdown",
   "source": [
    "Столбцы, требующие обработки:\n",
    "\n",
    "- VehicleType. Для всех NaN установим значение 'unknown'.\n",
    "- Gearbox. Для всех NaN установим значение 'unknown'.\n",
    "- Power. Скорректируем на основе реальных значений в машинах. Иметь 20000 л.с. для машины на данный момент нереально.\n",
    "- FuelType. Восстановим пропущенные значения по популярному типу. ????????????\n",
    "- Repaired. Для всех NaN установим значение 'no'. ?????????\n",
    "- RegistrationYear. Скорректируем на основе реальных значений в машинах.\n",
    "- Model. Для всех NaN установим значение 'unknown'."
   ],
   "metadata": {
    "collapsed": false
   },
   "id": "525723e6a7e4f59b"
  },
  {
   "cell_type": "markdown",
   "source": [
    "### Обработка выбросов\n",
    "#### Признак RegistrationYear"
   ],
   "metadata": {
    "collapsed": false
   },
   "id": "84482376d1beed29"
  },
  {
   "cell_type": "code",
   "execution_count": 9,
   "outputs": [
    {
     "data": {
      "text/plain": "<Figure size 800x800 with 1 Axes>",
      "image/png": "[encoded data removed]"
     },
     "metadata": {},
     "output_type": "display_data"
    }
   ],
   "source": [
    "df.boxplot(column=['RegistrationYear'], figsize=(8,8))\n",
    "plt.show()"
   ],
   "metadata": {
    "collapsed": false,
    "ExecuteTime": {
     "end_time": "2023-12-06T18:41:43.810850600Z",
     "start_time": "2023-12-06T18:41:42.766673600Z"
    }
   },
   "id": "6cc8f41a2471c13b"
  },
  {
   "cell_type": "code",
   "execution_count": 10,
   "outputs": [
    {
     "data": {
      "text/plain": "RegistrationYear\n1000    37\n1001     1\n1039     1\n1111     3\n1200     1\n        ..\n9000     3\n9229     1\n9450     1\n9996     1\n9999    26\nName: count, Length: 151, dtype: int64"
     },
     "execution_count": 10,
     "metadata": {},
     "output_type": "execute_result"
    }
   ],
   "source": [
    "# найдем уникальные значения в столбце RegistrationYear и выполним сортировку по индексу:\n",
    "df['RegistrationYear'].value_counts().sort_index()"
   ],
   "metadata": {
    "collapsed": false,
    "ExecuteTime": {
     "end_time": "2023-12-06T18:41:44.018627700Z",
     "start_time": "2023-12-06T18:41:43.760606Z"
    }
   },
   "id": "59b9b010d0dde35b"
  },
  {
   "cell_type": "code",
   "execution_count": 11,
   "outputs": [
    {
     "name": "stdout",
     "output_type": "stream",
     "text": [
      "2016-03-05 14:06:22\n",
      "2016-04-07 14:36:58\n"
     ]
    }
   ],
   "source": [
    "# проверим даты скачивания анкет из базы:\n",
    "print(df['DateCrawled'].min())\n",
    "print(df['DateCrawled'].max())"
   ],
   "metadata": {
    "collapsed": false,
    "ExecuteTime": {
     "end_time": "2023-12-06T18:41:44.050286300Z",
     "start_time": "2023-12-06T18:41:43.813862600Z"
    }
   },
   "id": "ef54a7a1f44f47ab"
  },
  {
   "cell_type": "markdown",
   "source": [
    "Поскольку наши данные на 2016 год, заменим все значения с годом после 2016 на 2016, и, поскольку автомобили до 1930 года - это скорее всего аномалии, заменим их тоже."
   ],
   "metadata": {
    "collapsed": false
   },
   "id": "a78ffe683858a951"
  },
  {
   "cell_type": "code",
   "execution_count": 12,
   "outputs": [],
   "source": [
    "# обработаем выбросы в столбце RegistrationYear: \n",
    "def balance_reg_year(value):\n",
    "    if value > 2016:\n",
    "        return 2016\n",
    "    elif value < 1930:\n",
    "        return 1930\n",
    "    else:\n",
    "        return value\n",
    "\n",
    "df[\"RegistrationYear\"] = df[\"RegistrationYear\"].apply(balance_reg_year)"
   ],
   "metadata": {
    "collapsed": false,
    "ExecuteTime": {
     "end_time": "2023-12-06T18:41:44.256594400Z",
     "start_time": "2023-12-06T18:41:43.927312600Z"
    }
   },
   "id": "b20fd091f54492be"
  },
  {
   "cell_type": "code",
   "execution_count": 13,
   "outputs": [
    {
     "data": {
      "text/plain": "<Figure size 800x800 with 1 Axes>",
      "image/png": "[encoded data removed]"
     },
     "metadata": {},
     "output_type": "display_data"
    }
   ],
   "source": [
    "df.boxplot(column=['RegistrationYear'], figsize=(8,8))\n",
    "plt.show()"
   ],
   "metadata": {
    "collapsed": false,
    "ExecuteTime": {
     "end_time": "2023-12-06T18:41:45.162065700Z",
     "start_time": "2023-12-06T18:41:44.211826700Z"
    }
   },
   "id": "69dd563b45149b1"
  },
  {
   "cell_type": "markdown",
   "source": [
    "#### Признак Power"
   ],
   "metadata": {
    "collapsed": false
   },
   "id": "a68aa5acb52b4605"
  },
  {
   "cell_type": "code",
   "execution_count": 14,
   "outputs": [
    {
     "data": {
      "text/plain": "<Figure size 800x600 with 1 Axes>",
      "image/png": "[encoded data removed]"
     },
     "metadata": {},
     "output_type": "display_data"
    }
   ],
   "source": [
    "df.boxplot(column=['Power'], figsize=(8,6))\n",
    "plt.show()"
   ],
   "metadata": {
    "collapsed": false,
    "ExecuteTime": {
     "end_time": "2023-12-06T18:41:45.876816600Z",
     "start_time": "2023-12-06T18:41:45.132232600Z"
    }
   },
   "id": "3d3197162511cd0f"
  },
  {
   "cell_type": "code",
   "execution_count": 15,
   "outputs": [
    {
     "data": {
      "text/plain": "Power\n0        40225\n1           34\n2           10\n3            9\n4           30\n         ...  \n17932        1\n19208        1\n19211        1\n19312        1\n20000        1\nName: count, Length: 712, dtype: int64"
     },
     "execution_count": 15,
     "metadata": {},
     "output_type": "execute_result"
    }
   ],
   "source": [
    "# найдем уникальные значения в столбце Power и выполним сортировку по индексу:\n",
    "df['Power'].value_counts().sort_index()"
   ],
   "metadata": {
    "collapsed": false,
    "ExecuteTime": {
     "end_time": "2023-12-06T18:41:45.993196400Z",
     "start_time": "2023-12-06T18:41:45.867541300Z"
    }
   },
   "id": "23343c624f5216a7"
  },
  {
   "cell_type": "code",
   "execution_count": 16,
   "outputs": [],
   "source": [
    "# ограничим признак Power 3500 л.с.:\n",
    "df[\"Power\"] = df[\"Power\"].apply(lambda x: 3500 if x > 3500 else x)"
   ],
   "metadata": {
    "collapsed": false,
    "ExecuteTime": {
     "end_time": "2023-12-06T18:41:46.123491300Z",
     "start_time": "2023-12-06T18:41:45.892294800Z"
    }
   },
   "id": "421313c2ecd6b860"
  },
  {
   "cell_type": "markdown",
   "source": [
    "Поскольку иметь 0 л.с. для машины на данный момент нереально, изучим эти данные."
   ],
   "metadata": {
    "collapsed": false
   },
   "id": "bfe3986640ca7520"
  },
  {
   "cell_type": "code",
   "execution_count": 17,
   "outputs": [
    {
     "name": "stdout",
     "output_type": "stream",
     "text": [
      "11.35\n"
     ]
    }
   ],
   "source": [
    "# посчитаем, какой процент от всего датасета занимают строки, где мощность двигателя указана как 0:\n",
    "print('{:.2f}'.format(df[df['Power'] == 0].shape[0]/df.shape[0]*100))"
   ],
   "metadata": {
    "collapsed": false,
    "ExecuteTime": {
     "end_time": "2023-12-06T18:41:46.128509400Z",
     "start_time": "2023-12-06T18:41:46.067053700Z"
    }
   },
   "id": "65c40da63b7338d2"
  },
  {
   "cell_type": "code",
   "execution_count": 18,
   "outputs": [
    {
     "data": {
      "text/plain": "Model\nother         3169\ngolf          2460\ncorsa         1771\npolo          1611\n3er           1534\n              ... \nserie_3          1\nb_max            1\namarok           1\nyeti             1\nelefantino       1\nName: count, Length: 247, dtype: int64"
     },
     "execution_count": 18,
     "metadata": {},
     "output_type": "execute_result"
    }
   ],
   "source": [
    "# посмотрим на марки автомобилей, мощность которых указана как 0:\n",
    "df[df['Power'] == 0]['Model'].value_counts()"
   ],
   "metadata": {
    "collapsed": false,
    "ExecuteTime": {
     "end_time": "2023-12-06T18:41:46.384492800Z",
     "start_time": "2023-12-06T18:41:46.113985900Z"
    }
   },
   "id": "6ad970a4ba73e07a"
  },
  {
   "cell_type": "code",
   "execution_count": 19,
   "outputs": [],
   "source": [
    "# заменим нули на самое частое значение для разных моделей автомобилей:\n",
    "for model in df['Model'].unique():\n",
    "    try:\n",
    "        if df[df['Model'] == model]['Power'].value_counts().index[0] == 0:\n",
    "            new_value = df[df['Model'] == model]['Power'].value_counts().index[1]\n",
    "            df.loc[(df['Power'] == 0) & (df['Model'] == model), 'Power'] = new_value\n",
    "        else:\n",
    "            new_value = df[df['Model'] == model]['Power'].value_counts().index[0]\n",
    "            df.loc[(df['Power'] == 0) & (df['Model'] == model), 'Power'] = new_value\n",
    "    except:\n",
    "        IndexError"
   ],
   "metadata": {
    "collapsed": false,
    "ExecuteTime": {
     "end_time": "2023-12-06T18:42:13.083023400Z",
     "start_time": "2023-12-06T18:41:46.160667Z"
    }
   },
   "id": "67fcc0080550acef"
  },
  {
   "cell_type": "code",
   "execution_count": 20,
   "outputs": [
    {
     "name": "stdout",
     "output_type": "stream",
     "text": [
      "1.78\n"
     ]
    }
   ],
   "source": [
    "# проверим, остались ли нулевые значения и в каком количестве:\n",
    "print('{:.2f}'.format(df[df['Power'] == 0].shape[0]/df.shape[0]*100))"
   ],
   "metadata": {
    "collapsed": false,
    "ExecuteTime": {
     "end_time": "2023-12-06T18:42:13.160061400Z",
     "start_time": "2023-12-06T18:42:13.086211700Z"
    }
   },
   "id": "d7516d538a6f089"
  },
  {
   "cell_type": "code",
   "execution_count": 21,
   "outputs": [
    {
     "data": {
      "text/plain": "                DateCrawled  Price VehicleType  RegistrationYear Gearbox  \\\n115     2016-03-20 18:53:27      0       small              1999     NaN   \n160     2016-03-19 19:49:15    500       small              1999  manual   \n260     2016-04-04 09:49:59    450         NaN              2016  manual   \n306     2016-03-21 14:38:37    200         NaN              2009     NaN   \n308     2016-03-13 13:38:54   1600       wagon              1999  manual   \n...                     ...    ...         ...               ...     ...   \n354080  2016-04-03 20:37:39   4300       small              2008    auto   \n354083  2016-03-30 07:54:17      0         NaN              2000     NaN   \n354162  2016-03-07 19:51:14   1500         NaN              1995     NaN   \n354338  2016-03-31 19:52:33    180         NaN              1995     NaN   \n354365  2016-03-14 17:48:27   2200         NaN              2005     NaN   \n\n        Power Model  Kilometer  RegistrationMonth FuelType           Brand  \\\n115         0   NaN       5000                  0   petrol      volkswagen   \n160         0   NaN     150000                  0   petrol         renault   \n260         0   NaN     150000                  3   petrol      mitsubishi   \n306         0   NaN      10000                  0      NaN  sonstige_autos   \n308         0   NaN     150000                  6   petrol             bmw   \n...       ...   ...        ...                ...      ...             ...   \n354080      0   NaN     150000                  3      NaN           honda   \n354083      0   NaN     150000                  0      NaN  sonstige_autos   \n354162      0   NaN     150000                  0      NaN      volkswagen   \n354338      0   NaN     125000                  3   petrol            opel   \n354365      0   NaN      20000                  1      NaN  sonstige_autos   \n\n       Repaired          DateCreated  NumberOfPictures  PostalCode  \\\n115         NaN  2016-03-20 00:00:00                 0       37520   \n160          no  2016-03-19 00:00:00                 0       26969   \n260          no  2016-04-04 00:00:00                 0       59302   \n306         NaN  2016-03-21 00:00:00                 0        6493   \n308          no  2016-03-13 00:00:00                 0       41199   \n...         ...                  ...               ...         ...   \n354080      NaN  2016-04-03 00:00:00                 0       30627   \n354083      NaN  2016-03-30 00:00:00                 0        6686   \n354162      NaN  2016-03-07 00:00:00                 0       26789   \n354338      NaN  2016-03-31 00:00:00                 0       41470   \n354365      NaN  2016-03-14 00:00:00                 0       39576   \n\n                   LastSeen  \n115     2016-04-07 02:45:22  \n160     2016-04-01 11:17:48  \n260     2016-04-06 11:17:11  \n306     2016-03-24 02:47:34  \n308     2016-03-28 12:46:35  \n...                     ...  \n354080  2016-04-05 21:16:51  \n354083  2016-04-06 23:46:19  \n354162  2016-04-03 11:46:59  \n354338  2016-04-06 14:18:04  \n354365  2016-04-06 00:46:52  \n\n[6296 rows x 16 columns]",
      "text/html": "<div>\n<style scoped>\n    .dataframe tbody tr th:only-of-type {\n        vertical-align: middle;\n    }\n\n    .dataframe tbody tr th {\n        vertical-align: top;\n    }\n\n    .dataframe thead th {\n        text-align: right;\n    }\n</style>\n<table border=\"1\" class=\"dataframe\">\n  <thead>\n    <tr style=\"text-align: right;\">\n      <th></th>\n      <th>DateCrawled</th>\n      <th>Price</th>\n      <th>VehicleType</th>\n      <th>RegistrationYear</th>\n      <th>Gearbox</th>\n      <th>Power</th>\n      <th>Model</th>\n      <th>Kilometer</th>\n      <th>RegistrationMonth</th>\n      <th>FuelType</th>\n      <th>Brand</th>\n      <th>Repaired</th>\n      <th>DateCreated</th>\n      <th>NumberOfPictures</th>\n      <th>PostalCode</th>\n      <th>LastSeen</th>\n    </tr>\n  </thead>\n  <tbody>\n    <tr>\n      <th>115</th>\n      <td>2016-03-20 18:53:27</td>\n      <td>0</td>\n      <td>small</td>\n      <td>1999</td>\n      <td>NaN</td>\n      <td>0</td>\n      <td>NaN</td>\n      <td>5000</td>\n      <td>0</td>\n      <td>petrol</td>\n      <td>volkswagen</td>\n      <td>NaN</td>\n      <td>2016-03-20 00:00:00</td>\n      <td>0</td>\n      <td>37520</td>\n      <td>2016-04-07 02:45:22</td>\n    </tr>\n    <tr>\n      <th>160</th>\n      <td>2016-03-19 19:49:15</td>\n      <td>500</td>\n      <td>small</td>\n      <td>1999</td>\n      <td>manual</td>\n      <td>0</td>\n      <td>NaN</td>\n      <td>150000</td>\n      <td>0</td>\n      <td>petrol</td>\n      <td>renault</td>\n      <td>no</td>\n      <td>2016-03-19 00:00:00</td>\n      <td>0</td>\n      <td>26969</td>\n      <td>2016-04-01 11:17:48</td>\n    </tr>\n    <tr>\n      <th>260</th>\n      <td>2016-04-04 09:49:59</td>\n      <td>450</td>\n      <td>NaN</td>\n      <td>2016</td>\n      <td>manual</td>\n      <td>0</td>\n      <td>NaN</td>\n      <td>150000</td>\n      <td>3</td>\n      <td>petrol</td>\n      <td>mitsubishi</td>\n      <td>no</td>\n      <td>2016-04-04 00:00:00</td>\n      <td>0</td>\n      <td>59302</td>\n      <td>2016-04-06 11:17:11</td>\n    </tr>\n    <tr>\n      <th>306</th>\n      <td>2016-03-21 14:38:37</td>\n      <td>200</td>\n      <td>NaN</td>\n      <td>2009</td>\n      <td>NaN</td>\n      <td>0</td>\n      <td>NaN</td>\n      <td>10000</td>\n      <td>0</td>\n      <td>NaN</td>\n      <td>sonstige_autos</td>\n      <td>NaN</td>\n      <td>2016-03-21 00:00:00</td>\n      <td>0</td>\n      <td>6493</td>\n      <td>2016-03-24 02:47:34</td>\n    </tr>\n    <tr>\n      <th>308</th>\n      <td>2016-03-13 13:38:54</td>\n      <td>1600</td>\n      <td>wagon</td>\n      <td>1999</td>\n      <td>manual</td>\n      <td>0</td>\n      <td>NaN</td>\n      <td>150000</td>\n      <td>6</td>\n      <td>petrol</td>\n      <td>bmw</td>\n      <td>no</td>\n      <td>2016-03-13 00:00:00</td>\n      <td>0</td>\n      <td>41199</td>\n      <td>2016-03-28 12:46:35</td>\n    </tr>\n    <tr>\n      <th>...</th>\n      <td>...</td>\n      <td>...</td>\n      <td>...</td>\n      <td>...</td>\n      <td>...</td>\n      <td>...</td>\n      <td>...</td>\n      <td>...</td>\n      <td>...</td>\n      <td>...</td>\n      <td>...</td>\n      <td>...</td>\n      <td>...</td>\n      <td>...</td>\n      <td>...</td>\n      <td>...</td>\n    </tr>\n    <tr>\n      <th>354080</th>\n      <td>2016-04-03 20:37:39</td>\n      <td>4300</td>\n      <td>small</td>\n      <td>2008</td>\n      <td>auto</td>\n      <td>0</td>\n      <td>NaN</td>\n      <td>150000</td>\n      <td>3</td>\n      <td>NaN</td>\n      <td>honda</td>\n      <td>NaN</td>\n      <td>2016-04-03 00:00:00</td>\n      <td>0</td>\n      <td>30627</td>\n      <td>2016-04-05 21:16:51</td>\n    </tr>\n    <tr>\n      <th>354083</th>\n      <td>2016-03-30 07:54:17</td>\n      <td>0</td>\n      <td>NaN</td>\n      <td>2000</td>\n      <td>NaN</td>\n      <td>0</td>\n      <td>NaN</td>\n      <td>150000</td>\n      <td>0</td>\n      <td>NaN</td>\n      <td>sonstige_autos</td>\n      <td>NaN</td>\n      <td>2016-03-30 00:00:00</td>\n      <td>0</td>\n      <td>6686</td>\n      <td>2016-04-06 23:46:19</td>\n    </tr>\n    <tr>\n      <th>354162</th>\n      <td>2016-03-07 19:51:14</td>\n      <td>1500</td>\n      <td>NaN</td>\n      <td>1995</td>\n      <td>NaN</td>\n      <td>0</td>\n      <td>NaN</td>\n      <td>150000</td>\n      <td>0</td>\n      <td>NaN</td>\n      <td>volkswagen</td>\n      <td>NaN</td>\n      <td>2016-03-07 00:00:00</td>\n      <td>0</td>\n      <td>26789</td>\n      <td>2016-04-03 11:46:59</td>\n    </tr>\n    <tr>\n      <th>354338</th>\n      <td>2016-03-31 19:52:33</td>\n      <td>180</td>\n      <td>NaN</td>\n      <td>1995</td>\n      <td>NaN</td>\n      <td>0</td>\n      <td>NaN</td>\n      <td>125000</td>\n      <td>3</td>\n      <td>petrol</td>\n      <td>opel</td>\n      <td>NaN</td>\n      <td>2016-03-31 00:00:00</td>\n      <td>0</td>\n      <td>41470</td>\n      <td>2016-04-06 14:18:04</td>\n    </tr>\n    <tr>\n      <th>354365</th>\n      <td>2016-03-14 17:48:27</td>\n      <td>2200</td>\n      <td>NaN</td>\n      <td>2005</td>\n      <td>NaN</td>\n      <td>0</td>\n      <td>NaN</td>\n      <td>20000</td>\n      <td>1</td>\n      <td>NaN</td>\n      <td>sonstige_autos</td>\n      <td>NaN</td>\n      <td>2016-03-14 00:00:00</td>\n      <td>0</td>\n      <td>39576</td>\n      <td>2016-04-06 00:46:52</td>\n    </tr>\n  </tbody>\n</table>\n<p>6296 rows × 16 columns</p>\n</div>"
     },
     "execution_count": 21,
     "metadata": {},
     "output_type": "execute_result"
    }
   ],
   "source": [
    "# посмотрим на эти данные:\n",
    "df[df['Power'] == 0]"
   ],
   "metadata": {
    "collapsed": false,
    "ExecuteTime": {
     "end_time": "2023-12-06T18:42:13.176080600Z",
     "start_time": "2023-12-06T18:42:13.121373600Z"
    }
   },
   "id": "f790d99bab06fa89"
  },
  {
   "cell_type": "code",
   "execution_count": 22,
   "outputs": [
    {
     "data": {
      "text/plain": "                DateCrawled  Price VehicleType  RegistrationYear Gearbox  \\\n115     2016-03-20 18:53:27      0       small              1999     NaN   \n160     2016-03-19 19:49:15    500       small              1999  manual   \n260     2016-04-04 09:49:59    450         NaN              2016  manual   \n306     2016-03-21 14:38:37    200         NaN              2009     NaN   \n308     2016-03-13 13:38:54   1600       wagon              1999  manual   \n...                     ...    ...         ...               ...     ...   \n354080  2016-04-03 20:37:39   4300       small              2008    auto   \n354083  2016-03-30 07:54:17      0         NaN              2000     NaN   \n354162  2016-03-07 19:51:14   1500         NaN              1995     NaN   \n354338  2016-03-31 19:52:33    180         NaN              1995     NaN   \n354365  2016-03-14 17:48:27   2200         NaN              2005     NaN   \n\n        Power Model  Kilometer  RegistrationMonth FuelType           Brand  \\\n115         0   NaN       5000                  0   petrol      volkswagen   \n160         0   NaN     150000                  0   petrol         renault   \n260         0   NaN     150000                  3   petrol      mitsubishi   \n306         0   NaN      10000                  0      NaN  sonstige_autos   \n308         0   NaN     150000                  6   petrol             bmw   \n...       ...   ...        ...                ...      ...             ...   \n354080      0   NaN     150000                  3      NaN           honda   \n354083      0   NaN     150000                  0      NaN  sonstige_autos   \n354162      0   NaN     150000                  0      NaN      volkswagen   \n354338      0   NaN     125000                  3   petrol            opel   \n354365      0   NaN      20000                  1      NaN  sonstige_autos   \n\n       Repaired          DateCreated  NumberOfPictures  PostalCode  \\\n115         NaN  2016-03-20 00:00:00                 0       37520   \n160          no  2016-03-19 00:00:00                 0       26969   \n260          no  2016-04-04 00:00:00                 0       59302   \n306         NaN  2016-03-21 00:00:00                 0        6493   \n308          no  2016-03-13 00:00:00                 0       41199   \n...         ...                  ...               ...         ...   \n354080      NaN  2016-04-03 00:00:00                 0       30627   \n354083      NaN  2016-03-30 00:00:00                 0        6686   \n354162      NaN  2016-03-07 00:00:00                 0       26789   \n354338      NaN  2016-03-31 00:00:00                 0       41470   \n354365      NaN  2016-03-14 00:00:00                 0       39576   \n\n                   LastSeen  \n115     2016-04-07 02:45:22  \n160     2016-04-01 11:17:48  \n260     2016-04-06 11:17:11  \n306     2016-03-24 02:47:34  \n308     2016-03-28 12:46:35  \n...                     ...  \n354080  2016-04-05 21:16:51  \n354083  2016-04-06 23:46:19  \n354162  2016-04-03 11:46:59  \n354338  2016-04-06 14:18:04  \n354365  2016-04-06 00:46:52  \n\n[6294 rows x 16 columns]",
      "text/html": "<div>\n<style scoped>\n    .dataframe tbody tr th:only-of-type {\n        vertical-align: middle;\n    }\n\n    .dataframe tbody tr th {\n        vertical-align: top;\n    }\n\n    .dataframe thead th {\n        text-align: right;\n    }\n</style>\n<table border=\"1\" class=\"dataframe\">\n  <thead>\n    <tr style=\"text-align: right;\">\n      <th></th>\n      <th>DateCrawled</th>\n      <th>Price</th>\n      <th>VehicleType</th>\n      <th>RegistrationYear</th>\n      <th>Gearbox</th>\n      <th>Power</th>\n      <th>Model</th>\n      <th>Kilometer</th>\n      <th>RegistrationMonth</th>\n      <th>FuelType</th>\n      <th>Brand</th>\n      <th>Repaired</th>\n      <th>DateCreated</th>\n      <th>NumberOfPictures</th>\n      <th>PostalCode</th>\n      <th>LastSeen</th>\n    </tr>\n  </thead>\n  <tbody>\n    <tr>\n      <th>115</th>\n      <td>2016-03-20 18:53:27</td>\n      <td>0</td>\n      <td>small</td>\n      <td>1999</td>\n      <td>NaN</td>\n      <td>0</td>\n      <td>NaN</td>\n      <td>5000</td>\n      <td>0</td>\n      <td>petrol</td>\n      <td>volkswagen</td>\n      <td>NaN</td>\n      <td>2016-03-20 00:00:00</td>\n      <td>0</td>\n      <td>37520</td>\n      <td>2016-04-07 02:45:22</td>\n    </tr>\n    <tr>\n      <th>160</th>\n      <td>2016-03-19 19:49:15</td>\n      <td>500</td>\n      <td>small</td>\n      <td>1999</td>\n      <td>manual</td>\n      <td>0</td>\n      <td>NaN</td>\n      <td>150000</td>\n      <td>0</td>\n      <td>petrol</td>\n      <td>renault</td>\n      <td>no</td>\n      <td>2016-03-19 00:00:00</td>\n      <td>0</td>\n      <td>26969</td>\n      <td>2016-04-01 11:17:48</td>\n    </tr>\n    <tr>\n      <th>260</th>\n      <td>2016-04-04 09:49:59</td>\n      <td>450</td>\n      <td>NaN</td>\n      <td>2016</td>\n      <td>manual</td>\n      <td>0</td>\n      <td>NaN</td>\n      <td>150000</td>\n      <td>3</td>\n      <td>petrol</td>\n      <td>mitsubishi</td>\n      <td>no</td>\n      <td>2016-04-04 00:00:00</td>\n      <td>0</td>\n      <td>59302</td>\n      <td>2016-04-06 11:17:11</td>\n    </tr>\n    <tr>\n      <th>306</th>\n      <td>2016-03-21 14:38:37</td>\n      <td>200</td>\n      <td>NaN</td>\n      <td>2009</td>\n      <td>NaN</td>\n      <td>0</td>\n      <td>NaN</td>\n      <td>10000</td>\n      <td>0</td>\n      <td>NaN</td>\n      <td>sonstige_autos</td>\n      <td>NaN</td>\n      <td>2016-03-21 00:00:00</td>\n      <td>0</td>\n      <td>6493</td>\n      <td>2016-03-24 02:47:34</td>\n    </tr>\n    <tr>\n      <th>308</th>\n      <td>2016-03-13 13:38:54</td>\n      <td>1600</td>\n      <td>wagon</td>\n      <td>1999</td>\n      <td>manual</td>\n      <td>0</td>\n      <td>NaN</td>\n      <td>150000</td>\n      <td>6</td>\n      <td>petrol</td>\n      <td>bmw</td>\n      <td>no</td>\n      <td>2016-03-13 00:00:00</td>\n      <td>0</td>\n      <td>41199</td>\n      <td>2016-03-28 12:46:35</td>\n    </tr>\n    <tr>\n      <th>...</th>\n      <td>...</td>\n      <td>...</td>\n      <td>...</td>\n      <td>...</td>\n      <td>...</td>\n      <td>...</td>\n      <td>...</td>\n      <td>...</td>\n      <td>...</td>\n      <td>...</td>\n      <td>...</td>\n      <td>...</td>\n      <td>...</td>\n      <td>...</td>\n      <td>...</td>\n      <td>...</td>\n    </tr>\n    <tr>\n      <th>354080</th>\n      <td>2016-04-03 20:37:39</td>\n      <td>4300</td>\n      <td>small</td>\n      <td>2008</td>\n      <td>auto</td>\n      <td>0</td>\n      <td>NaN</td>\n      <td>150000</td>\n      <td>3</td>\n      <td>NaN</td>\n      <td>honda</td>\n      <td>NaN</td>\n      <td>2016-04-03 00:00:00</td>\n      <td>0</td>\n      <td>30627</td>\n      <td>2016-04-05 21:16:51</td>\n    </tr>\n    <tr>\n      <th>354083</th>\n      <td>2016-03-30 07:54:17</td>\n      <td>0</td>\n      <td>NaN</td>\n      <td>2000</td>\n      <td>NaN</td>\n      <td>0</td>\n      <td>NaN</td>\n      <td>150000</td>\n      <td>0</td>\n      <td>NaN</td>\n      <td>sonstige_autos</td>\n      <td>NaN</td>\n      <td>2016-03-30 00:00:00</td>\n      <td>0</td>\n      <td>6686</td>\n      <td>2016-04-06 23:46:19</td>\n    </tr>\n    <tr>\n      <th>354162</th>\n      <td>2016-03-07 19:51:14</td>\n      <td>1500</td>\n      <td>NaN</td>\n      <td>1995</td>\n      <td>NaN</td>\n      <td>0</td>\n      <td>NaN</td>\n      <td>150000</td>\n      <td>0</td>\n      <td>NaN</td>\n      <td>volkswagen</td>\n      <td>NaN</td>\n      <td>2016-03-07 00:00:00</td>\n      <td>0</td>\n      <td>26789</td>\n      <td>2016-04-03 11:46:59</td>\n    </tr>\n    <tr>\n      <th>354338</th>\n      <td>2016-03-31 19:52:33</td>\n      <td>180</td>\n      <td>NaN</td>\n      <td>1995</td>\n      <td>NaN</td>\n      <td>0</td>\n      <td>NaN</td>\n      <td>125000</td>\n      <td>3</td>\n      <td>petrol</td>\n      <td>opel</td>\n      <td>NaN</td>\n      <td>2016-03-31 00:00:00</td>\n      <td>0</td>\n      <td>41470</td>\n      <td>2016-04-06 14:18:04</td>\n    </tr>\n    <tr>\n      <th>354365</th>\n      <td>2016-03-14 17:48:27</td>\n      <td>2200</td>\n      <td>NaN</td>\n      <td>2005</td>\n      <td>NaN</td>\n      <td>0</td>\n      <td>NaN</td>\n      <td>20000</td>\n      <td>1</td>\n      <td>NaN</td>\n      <td>sonstige_autos</td>\n      <td>NaN</td>\n      <td>2016-03-14 00:00:00</td>\n      <td>0</td>\n      <td>39576</td>\n      <td>2016-04-06 00:46:52</td>\n    </tr>\n  </tbody>\n</table>\n<p>6294 rows × 16 columns</p>\n</div>"
     },
     "execution_count": 22,
     "metadata": {},
     "output_type": "execute_result"
    }
   ],
   "source": [
    "df.loc[(df['Power'] == 0) & df['Model'].isna()]"
   ],
   "metadata": {
    "collapsed": false,
    "ExecuteTime": {
     "end_time": "2023-12-06T18:42:13.301137600Z",
     "start_time": "2023-12-06T18:42:13.160061400Z"
    }
   },
   "id": "20e73996774ca634"
  },
  {
   "cell_type": "markdown",
   "source": [
    "Остается 6296 строк (меньше 2% датасета), в которых значения признака Power равны нулю, и во всех этих строках неизвестны модели автомобилей (пропуски)."
   ],
   "metadata": {
    "collapsed": false
   },
   "id": "6a938cc264acd9d7"
  },
  {
   "cell_type": "code",
   "execution_count": 23,
   "outputs": [
    {
     "data": {
      "text/plain": "<Figure size 800x600 with 1 Axes>",
      "image/png": "[encoded data removed]"
     },
     "metadata": {},
     "output_type": "display_data"
    }
   ],
   "source": [
    "df.boxplot(column=['Power'], figsize=(8,6))\n",
    "plt.show()"
   ],
   "metadata": {
    "collapsed": false,
    "ExecuteTime": {
     "end_time": "2023-12-06T18:42:13.881686300Z",
     "start_time": "2023-12-06T18:42:13.231740900Z"
    }
   },
   "id": "9654ebc022b70a38"
  },
  {
   "cell_type": "markdown",
   "source": [],
   "metadata": {
    "collapsed": false
   },
   "id": "d0dfb075829b1fc0"
  },
  {
   "cell_type": "markdown",
   "source": [
    "### Обработка пропущенных значений"
   ],
   "metadata": {
    "collapsed": false
   },
   "id": "d804dfccde7ba6e6"
  },
  {
   "cell_type": "code",
   "execution_count": 24,
   "outputs": [
    {
     "name": "stdout",
     "output_type": "stream",
     "text": [
      "DateCrawled - 0.0%\n",
      "Price - 0.0%\n",
      "VehicleType - 10.58%\n",
      "RegistrationYear - 0.0%\n",
      "Gearbox - 5.6%\n",
      "Power - 0.0%\n",
      "Model - 5.56%\n",
      "Kilometer - 0.0%\n",
      "RegistrationMonth - 0.0%\n",
      "FuelType - 9.28%\n",
      "Brand - 0.0%\n",
      "Repaired - 20.08%\n",
      "DateCreated - 0.0%\n",
      "NumberOfPictures - 0.0%\n",
      "PostalCode - 0.0%\n",
      "LastSeen - 0.0%\n"
     ]
    }
   ],
   "source": [
    "# процентный список пропущенных данных:\n",
    "for col in df.columns:\n",
    "    pct_missing = np.mean(df[col].isna())\n",
    "    print('{} - {}%'.format(col, round(pct_missing*100, 2)))"
   ],
   "metadata": {
    "collapsed": false,
    "ExecuteTime": {
     "end_time": "2023-12-06T18:42:14.052129900Z",
     "start_time": "2023-12-06T18:42:13.881686300Z"
    }
   },
   "id": "b5aa52f4e018a66b"
  },
  {
   "cell_type": "markdown",
   "source": [
    "#### Признак VehicleType"
   ],
   "metadata": {
    "collapsed": false
   },
   "id": "5f477b083d87ebdb"
  },
  {
   "cell_type": "code",
   "execution_count": 25,
   "outputs": [
    {
     "data": {
      "text/plain": "Model\ngolf          4035\nother         1859\npolo          1600\ncorsa         1576\n3er           1312\n              ... \n200              1\nrangerover       1\nserie_1          1\nq3               1\nb_max            1\nName: count, Length: 241, dtype: int64"
     },
     "execution_count": 25,
     "metadata": {},
     "output_type": "execute_result"
    }
   ],
   "source": [
    "# посмотрим на марки автомобилей с пропусками в признаке VehicleType:\n",
    "df[df['VehicleType'].isna()]['Model'].value_counts()"
   ],
   "metadata": {
    "collapsed": false,
    "ExecuteTime": {
     "end_time": "2023-12-06T18:42:14.133806700Z",
     "start_time": "2023-12-06T18:42:14.052129900Z"
    }
   },
   "id": "694e8e0a286007a3"
  },
  {
   "cell_type": "code",
   "execution_count": 26,
   "outputs": [],
   "source": [
    "# заполним пропуски самым частым значением для разных моделей автомобилей:\n",
    "for model in df['Model'].unique():\n",
    "    try:\n",
    "        veh_type_imp = df[df['Model'] == model]['VehicleType'].value_counts().index[0]\n",
    "        df.loc[(df['VehicleType'].isna()) & (df['Model'] == model), 'VehicleType'] = veh_type_imp\n",
    "    except:\n",
    "        IndexError"
   ],
   "metadata": {
    "collapsed": false,
    "ExecuteTime": {
     "end_time": "2023-12-06T18:42:31.986081400Z",
     "start_time": "2023-12-06T18:42:14.103683300Z"
    }
   },
   "id": "78cb165f40489821"
  },
  {
   "cell_type": "code",
   "execution_count": 27,
   "outputs": [
    {
     "name": "stdout",
     "output_type": "stream",
     "text": [
      "1.93\n"
     ]
    }
   ],
   "source": [
    "# проверим, остались ли пропуски и в каком количестве:\n",
    "print('{:.2f}'.format(df[df['VehicleType'].isna()].shape[0]/df.shape[0]*100))"
   ],
   "metadata": {
    "collapsed": false,
    "ExecuteTime": {
     "end_time": "2023-12-06T18:42:32.061610Z",
     "start_time": "2023-12-06T18:42:32.003477100Z"
    }
   },
   "id": "5709e10d5f0b69b0"
  },
  {
   "cell_type": "code",
   "execution_count": 28,
   "outputs": [
    {
     "data": {
      "text/plain": "                DateCrawled  Price VehicleType  RegistrationYear Gearbox  \\\n260     2016-04-04 09:49:59    450         NaN              2016  manual   \n306     2016-03-21 14:38:37    200         NaN              2009     NaN   \n435     2016-03-27 18:43:25   1300         NaN              2016  manual   \n443     2016-03-24 16:46:05   1950         NaN              2016  manual   \n478     2016-03-24 17:49:19      0         NaN              2000  manual   \n...                     ...    ...         ...               ...     ...   \n354083  2016-03-30 07:54:17      0         NaN              2000     NaN   \n354162  2016-03-07 19:51:14   1500         NaN              1995     NaN   \n354338  2016-03-31 19:52:33    180         NaN              1995     NaN   \n354351  2016-03-11 23:40:32   1900         NaN              2000  manual   \n354365  2016-03-14 17:48:27   2200         NaN              2005     NaN   \n\n        Power Model  Kilometer  RegistrationMonth FuelType           Brand  \\\n260         0   NaN     150000                  3   petrol      mitsubishi   \n306         0   NaN      10000                  0      NaN  sonstige_autos   \n435       150   NaN     150000                 10      NaN      volkswagen   \n443         0   NaN     150000                  7   petrol      volkswagen   \n478         0   NaN     150000                  0      NaN            audi   \n...       ...   ...        ...                ...      ...             ...   \n354083      0   NaN     150000                  0      NaN  sonstige_autos   \n354162      0   NaN     150000                  0      NaN      volkswagen   \n354338      0   NaN     125000                  3   petrol            opel   \n354351    110   NaN     150000                  7      NaN      volkswagen   \n354365      0   NaN      20000                  1      NaN  sonstige_autos   \n\n       Repaired          DateCreated  NumberOfPictures  PostalCode  \\\n260          no  2016-04-04 00:00:00                 0       59302   \n306         NaN  2016-03-21 00:00:00                 0        6493   \n435          no  2016-03-27 00:00:00                 0       70374   \n443          no  2016-03-24 00:00:00                 0       70376   \n478         yes  2016-03-24 00:00:00                 0       72514   \n...         ...                  ...               ...         ...   \n354083      NaN  2016-03-30 00:00:00                 0        6686   \n354162      NaN  2016-03-07 00:00:00                 0       26789   \n354338      NaN  2016-03-31 00:00:00                 0       41470   \n354351       no  2016-03-11 00:00:00                 0       87700   \n354365      NaN  2016-03-14 00:00:00                 0       39576   \n\n                   LastSeen  \n260     2016-04-06 11:17:11  \n306     2016-03-24 02:47:34  \n435     2016-04-05 15:15:29  \n443     2016-03-30 18:16:07  \n478     2016-03-29 03:45:06  \n...                     ...  \n354083  2016-04-06 23:46:19  \n354162  2016-04-03 11:46:59  \n354338  2016-04-06 14:18:04  \n354351  2016-03-12 14:16:51  \n354365  2016-04-06 00:46:52  \n\n[6828 rows x 16 columns]",
      "text/html": "<div>\n<style scoped>\n    .dataframe tbody tr th:only-of-type {\n        vertical-align: middle;\n    }\n\n    .dataframe tbody tr th {\n        vertical-align: top;\n    }\n\n    .dataframe thead th {\n        text-align: right;\n    }\n</style>\n<table border=\"1\" class=\"dataframe\">\n  <thead>\n    <tr style=\"text-align: right;\">\n      <th></th>\n      <th>DateCrawled</th>\n      <th>Price</th>\n      <th>VehicleType</th>\n      <th>RegistrationYear</th>\n      <th>Gearbox</th>\n      <th>Power</th>\n      <th>Model</th>\n      <th>Kilometer</th>\n      <th>RegistrationMonth</th>\n      <th>FuelType</th>\n      <th>Brand</th>\n      <th>Repaired</th>\n      <th>DateCreated</th>\n      <th>NumberOfPictures</th>\n      <th>PostalCode</th>\n      <th>LastSeen</th>\n    </tr>\n  </thead>\n  <tbody>\n    <tr>\n      <th>260</th>\n      <td>2016-04-04 09:49:59</td>\n      <td>450</td>\n      <td>NaN</td>\n      <td>2016</td>\n      <td>manual</td>\n      <td>0</td>\n      <td>NaN</td>\n      <td>150000</td>\n      <td>3</td>\n      <td>petrol</td>\n      <td>mitsubishi</td>\n      <td>no</td>\n      <td>2016-04-04 00:00:00</td>\n      <td>0</td>\n      <td>59302</td>\n      <td>2016-04-06 11:17:11</td>\n    </tr>\n    <tr>\n      <th>306</th>\n      <td>2016-03-21 14:38:37</td>\n      <td>200</td>\n      <td>NaN</td>\n      <td>2009</td>\n      <td>NaN</td>\n      <td>0</td>\n      <td>NaN</td>\n      <td>10000</td>\n      <td>0</td>\n      <td>NaN</td>\n      <td>sonstige_autos</td>\n      <td>NaN</td>\n      <td>2016-03-21 00:00:00</td>\n      <td>0</td>\n      <td>6493</td>\n      <td>2016-03-24 02:47:34</td>\n    </tr>\n    <tr>\n      <th>435</th>\n      <td>2016-03-27 18:43:25</td>\n      <td>1300</td>\n      <td>NaN</td>\n      <td>2016</td>\n      <td>manual</td>\n      <td>150</td>\n      <td>NaN</td>\n      <td>150000</td>\n      <td>10</td>\n      <td>NaN</td>\n      <td>volkswagen</td>\n      <td>no</td>\n      <td>2016-03-27 00:00:00</td>\n      <td>0</td>\n      <td>70374</td>\n      <td>2016-04-05 15:15:29</td>\n    </tr>\n    <tr>\n      <th>443</th>\n      <td>2016-03-24 16:46:05</td>\n      <td>1950</td>\n      <td>NaN</td>\n      <td>2016</td>\n      <td>manual</td>\n      <td>0</td>\n      <td>NaN</td>\n      <td>150000</td>\n      <td>7</td>\n      <td>petrol</td>\n      <td>volkswagen</td>\n      <td>no</td>\n      <td>2016-03-24 00:00:00</td>\n      <td>0</td>\n      <td>70376</td>\n      <td>2016-03-30 18:16:07</td>\n    </tr>\n    <tr>\n      <th>478</th>\n      <td>2016-03-24 17:49:19</td>\n      <td>0</td>\n      <td>NaN</td>\n      <td>2000</td>\n      <td>manual</td>\n      <td>0</td>\n      <td>NaN</td>\n      <td>150000</td>\n      <td>0</td>\n      <td>NaN</td>\n      <td>audi</td>\n      <td>yes</td>\n      <td>2016-03-24 00:00:00</td>\n      <td>0</td>\n      <td>72514</td>\n      <td>2016-03-29 03:45:06</td>\n    </tr>\n    <tr>\n      <th>...</th>\n      <td>...</td>\n      <td>...</td>\n      <td>...</td>\n      <td>...</td>\n      <td>...</td>\n      <td>...</td>\n      <td>...</td>\n      <td>...</td>\n      <td>...</td>\n      <td>...</td>\n      <td>...</td>\n      <td>...</td>\n      <td>...</td>\n      <td>...</td>\n      <td>...</td>\n      <td>...</td>\n    </tr>\n    <tr>\n      <th>354083</th>\n      <td>2016-03-30 07:54:17</td>\n      <td>0</td>\n      <td>NaN</td>\n      <td>2000</td>\n      <td>NaN</td>\n      <td>0</td>\n      <td>NaN</td>\n      <td>150000</td>\n      <td>0</td>\n      <td>NaN</td>\n      <td>sonstige_autos</td>\n      <td>NaN</td>\n      <td>2016-03-30 00:00:00</td>\n      <td>0</td>\n      <td>6686</td>\n      <td>2016-04-06 23:46:19</td>\n    </tr>\n    <tr>\n      <th>354162</th>\n      <td>2016-03-07 19:51:14</td>\n      <td>1500</td>\n      <td>NaN</td>\n      <td>1995</td>\n      <td>NaN</td>\n      <td>0</td>\n      <td>NaN</td>\n      <td>150000</td>\n      <td>0</td>\n      <td>NaN</td>\n      <td>volkswagen</td>\n      <td>NaN</td>\n      <td>2016-03-07 00:00:00</td>\n      <td>0</td>\n      <td>26789</td>\n      <td>2016-04-03 11:46:59</td>\n    </tr>\n    <tr>\n      <th>354338</th>\n      <td>2016-03-31 19:52:33</td>\n      <td>180</td>\n      <td>NaN</td>\n      <td>1995</td>\n      <td>NaN</td>\n      <td>0</td>\n      <td>NaN</td>\n      <td>125000</td>\n      <td>3</td>\n      <td>petrol</td>\n      <td>opel</td>\n      <td>NaN</td>\n      <td>2016-03-31 00:00:00</td>\n      <td>0</td>\n      <td>41470</td>\n      <td>2016-04-06 14:18:04</td>\n    </tr>\n    <tr>\n      <th>354351</th>\n      <td>2016-03-11 23:40:32</td>\n      <td>1900</td>\n      <td>NaN</td>\n      <td>2000</td>\n      <td>manual</td>\n      <td>110</td>\n      <td>NaN</td>\n      <td>150000</td>\n      <td>7</td>\n      <td>NaN</td>\n      <td>volkswagen</td>\n      <td>no</td>\n      <td>2016-03-11 00:00:00</td>\n      <td>0</td>\n      <td>87700</td>\n      <td>2016-03-12 14:16:51</td>\n    </tr>\n    <tr>\n      <th>354365</th>\n      <td>2016-03-14 17:48:27</td>\n      <td>2200</td>\n      <td>NaN</td>\n      <td>2005</td>\n      <td>NaN</td>\n      <td>0</td>\n      <td>NaN</td>\n      <td>20000</td>\n      <td>1</td>\n      <td>NaN</td>\n      <td>sonstige_autos</td>\n      <td>NaN</td>\n      <td>2016-03-14 00:00:00</td>\n      <td>0</td>\n      <td>39576</td>\n      <td>2016-04-06 00:46:52</td>\n    </tr>\n  </tbody>\n</table>\n<p>6828 rows × 16 columns</p>\n</div>"
     },
     "execution_count": 28,
     "metadata": {},
     "output_type": "execute_result"
    }
   ],
   "source": [
    "# посмотрим на эти данные:\n",
    "df[df['VehicleType'].isna()]"
   ],
   "metadata": {
    "collapsed": false,
    "ExecuteTime": {
     "end_time": "2023-12-06T18:42:32.081187600Z",
     "start_time": "2023-12-06T18:42:32.020472500Z"
    }
   },
   "id": "35e85931e022df44"
  },
  {
   "cell_type": "code",
   "execution_count": 29,
   "outputs": [
    {
     "data": {
      "text/plain": "                DateCrawled  Price VehicleType  RegistrationYear Gearbox  \\\n260     2016-04-04 09:49:59    450         NaN              2016  manual   \n306     2016-03-21 14:38:37    200         NaN              2009     NaN   \n435     2016-03-27 18:43:25   1300         NaN              2016  manual   \n443     2016-03-24 16:46:05   1950         NaN              2016  manual   \n478     2016-03-24 17:49:19      0         NaN              2000  manual   \n...                     ...    ...         ...               ...     ...   \n354083  2016-03-30 07:54:17      0         NaN              2000     NaN   \n354162  2016-03-07 19:51:14   1500         NaN              1995     NaN   \n354338  2016-03-31 19:52:33    180         NaN              1995     NaN   \n354351  2016-03-11 23:40:32   1900         NaN              2000  manual   \n354365  2016-03-14 17:48:27   2200         NaN              2005     NaN   \n\n        Power Model  Kilometer  RegistrationMonth FuelType           Brand  \\\n260         0   NaN     150000                  3   petrol      mitsubishi   \n306         0   NaN      10000                  0      NaN  sonstige_autos   \n435       150   NaN     150000                 10      NaN      volkswagen   \n443         0   NaN     150000                  7   petrol      volkswagen   \n478         0   NaN     150000                  0      NaN            audi   \n...       ...   ...        ...                ...      ...             ...   \n354083      0   NaN     150000                  0      NaN  sonstige_autos   \n354162      0   NaN     150000                  0      NaN      volkswagen   \n354338      0   NaN     125000                  3   petrol            opel   \n354351    110   NaN     150000                  7      NaN      volkswagen   \n354365      0   NaN      20000                  1      NaN  sonstige_autos   \n\n       Repaired          DateCreated  NumberOfPictures  PostalCode  \\\n260          no  2016-04-04 00:00:00                 0       59302   \n306         NaN  2016-03-21 00:00:00                 0        6493   \n435          no  2016-03-27 00:00:00                 0       70374   \n443          no  2016-03-24 00:00:00                 0       70376   \n478         yes  2016-03-24 00:00:00                 0       72514   \n...         ...                  ...               ...         ...   \n354083      NaN  2016-03-30 00:00:00                 0        6686   \n354162      NaN  2016-03-07 00:00:00                 0       26789   \n354338      NaN  2016-03-31 00:00:00                 0       41470   \n354351       no  2016-03-11 00:00:00                 0       87700   \n354365      NaN  2016-03-14 00:00:00                 0       39576   \n\n                   LastSeen  \n260     2016-04-06 11:17:11  \n306     2016-03-24 02:47:34  \n435     2016-04-05 15:15:29  \n443     2016-03-30 18:16:07  \n478     2016-03-29 03:45:06  \n...                     ...  \n354083  2016-04-06 23:46:19  \n354162  2016-04-03 11:46:59  \n354338  2016-04-06 14:18:04  \n354351  2016-03-12 14:16:51  \n354365  2016-04-06 00:46:52  \n\n[6828 rows x 16 columns]",
      "text/html": "<div>\n<style scoped>\n    .dataframe tbody tr th:only-of-type {\n        vertical-align: middle;\n    }\n\n    .dataframe tbody tr th {\n        vertical-align: top;\n    }\n\n    .dataframe thead th {\n        text-align: right;\n    }\n</style>\n<table border=\"1\" class=\"dataframe\">\n  <thead>\n    <tr style=\"text-align: right;\">\n      <th></th>\n      <th>DateCrawled</th>\n      <th>Price</th>\n      <th>VehicleType</th>\n      <th>RegistrationYear</th>\n      <th>Gearbox</th>\n      <th>Power</th>\n      <th>Model</th>\n      <th>Kilometer</th>\n      <th>RegistrationMonth</th>\n      <th>FuelType</th>\n      <th>Brand</th>\n      <th>Repaired</th>\n      <th>DateCreated</th>\n      <th>NumberOfPictures</th>\n      <th>PostalCode</th>\n      <th>LastSeen</th>\n    </tr>\n  </thead>\n  <tbody>\n    <tr>\n      <th>260</th>\n      <td>2016-04-04 09:49:59</td>\n      <td>450</td>\n      <td>NaN</td>\n      <td>2016</td>\n      <td>manual</td>\n      <td>0</td>\n      <td>NaN</td>\n      <td>150000</td>\n      <td>3</td>\n      <td>petrol</td>\n      <td>mitsubishi</td>\n      <td>no</td>\n      <td>2016-04-04 00:00:00</td>\n      <td>0</td>\n      <td>59302</td>\n      <td>2016-04-06 11:17:11</td>\n    </tr>\n    <tr>\n      <th>306</th>\n      <td>2016-03-21 14:38:37</td>\n      <td>200</td>\n      <td>NaN</td>\n      <td>2009</td>\n      <td>NaN</td>\n      <td>0</td>\n      <td>NaN</td>\n      <td>10000</td>\n      <td>0</td>\n      <td>NaN</td>\n      <td>sonstige_autos</td>\n      <td>NaN</td>\n      <td>2016-03-21 00:00:00</td>\n      <td>0</td>\n      <td>6493</td>\n      <td>2016-03-24 02:47:34</td>\n    </tr>\n    <tr>\n      <th>435</th>\n      <td>2016-03-27 18:43:25</td>\n      <td>1300</td>\n      <td>NaN</td>\n      <td>2016</td>\n      <td>manual</td>\n      <td>150</td>\n      <td>NaN</td>\n      <td>150000</td>\n      <td>10</td>\n      <td>NaN</td>\n      <td>volkswagen</td>\n      <td>no</td>\n      <td>2016-03-27 00:00:00</td>\n      <td>0</td>\n      <td>70374</td>\n      <td>2016-04-05 15:15:29</td>\n    </tr>\n    <tr>\n      <th>443</th>\n      <td>2016-03-24 16:46:05</td>\n      <td>1950</td>\n      <td>NaN</td>\n      <td>2016</td>\n      <td>manual</td>\n      <td>0</td>\n      <td>NaN</td>\n      <td>150000</td>\n      <td>7</td>\n      <td>petrol</td>\n      <td>volkswagen</td>\n      <td>no</td>\n      <td>2016-03-24 00:00:00</td>\n      <td>0</td>\n      <td>70376</td>\n      <td>2016-03-30 18:16:07</td>\n    </tr>\n    <tr>\n      <th>478</th>\n      <td>2016-03-24 17:49:19</td>\n      <td>0</td>\n      <td>NaN</td>\n      <td>2000</td>\n      <td>manual</td>\n      <td>0</td>\n      <td>NaN</td>\n      <td>150000</td>\n      <td>0</td>\n      <td>NaN</td>\n      <td>audi</td>\n      <td>yes</td>\n      <td>2016-03-24 00:00:00</td>\n      <td>0</td>\n      <td>72514</td>\n      <td>2016-03-29 03:45:06</td>\n    </tr>\n    <tr>\n      <th>...</th>\n      <td>...</td>\n      <td>...</td>\n      <td>...</td>\n      <td>...</td>\n      <td>...</td>\n      <td>...</td>\n      <td>...</td>\n      <td>...</td>\n      <td>...</td>\n      <td>...</td>\n      <td>...</td>\n      <td>...</td>\n      <td>...</td>\n      <td>...</td>\n      <td>...</td>\n      <td>...</td>\n    </tr>\n    <tr>\n      <th>354083</th>\n      <td>2016-03-30 07:54:17</td>\n      <td>0</td>\n      <td>NaN</td>\n      <td>2000</td>\n      <td>NaN</td>\n      <td>0</td>\n      <td>NaN</td>\n      <td>150000</td>\n      <td>0</td>\n      <td>NaN</td>\n      <td>sonstige_autos</td>\n      <td>NaN</td>\n      <td>2016-03-30 00:00:00</td>\n      <td>0</td>\n      <td>6686</td>\n      <td>2016-04-06 23:46:19</td>\n    </tr>\n    <tr>\n      <th>354162</th>\n      <td>2016-03-07 19:51:14</td>\n      <td>1500</td>\n      <td>NaN</td>\n      <td>1995</td>\n      <td>NaN</td>\n      <td>0</td>\n      <td>NaN</td>\n      <td>150000</td>\n      <td>0</td>\n      <td>NaN</td>\n      <td>volkswagen</td>\n      <td>NaN</td>\n      <td>2016-03-07 00:00:00</td>\n      <td>0</td>\n      <td>26789</td>\n      <td>2016-04-03 11:46:59</td>\n    </tr>\n    <tr>\n      <th>354338</th>\n      <td>2016-03-31 19:52:33</td>\n      <td>180</td>\n      <td>NaN</td>\n      <td>1995</td>\n      <td>NaN</td>\n      <td>0</td>\n      <td>NaN</td>\n      <td>125000</td>\n      <td>3</td>\n      <td>petrol</td>\n      <td>opel</td>\n      <td>NaN</td>\n      <td>2016-03-31 00:00:00</td>\n      <td>0</td>\n      <td>41470</td>\n      <td>2016-04-06 14:18:04</td>\n    </tr>\n    <tr>\n      <th>354351</th>\n      <td>2016-03-11 23:40:32</td>\n      <td>1900</td>\n      <td>NaN</td>\n      <td>2000</td>\n      <td>manual</td>\n      <td>110</td>\n      <td>NaN</td>\n      <td>150000</td>\n      <td>7</td>\n      <td>NaN</td>\n      <td>volkswagen</td>\n      <td>no</td>\n      <td>2016-03-11 00:00:00</td>\n      <td>0</td>\n      <td>87700</td>\n      <td>2016-03-12 14:16:51</td>\n    </tr>\n    <tr>\n      <th>354365</th>\n      <td>2016-03-14 17:48:27</td>\n      <td>2200</td>\n      <td>NaN</td>\n      <td>2005</td>\n      <td>NaN</td>\n      <td>0</td>\n      <td>NaN</td>\n      <td>20000</td>\n      <td>1</td>\n      <td>NaN</td>\n      <td>sonstige_autos</td>\n      <td>NaN</td>\n      <td>2016-03-14 00:00:00</td>\n      <td>0</td>\n      <td>39576</td>\n      <td>2016-04-06 00:46:52</td>\n    </tr>\n  </tbody>\n</table>\n<p>6828 rows × 16 columns</p>\n</div>"
     },
     "execution_count": 29,
     "metadata": {},
     "output_type": "execute_result"
    }
   ],
   "source": [
    "df.loc[(df['VehicleType'].isna()) & df['Model'].isna()]"
   ],
   "metadata": {
    "collapsed": false,
    "ExecuteTime": {
     "end_time": "2023-12-06T18:42:32.211136800Z",
     "start_time": "2023-12-06T18:42:32.066466200Z"
    }
   },
   "id": "8a30aac7a08fd76b"
  },
  {
   "cell_type": "markdown",
   "source": [
    "Остается 6828 строк (меньше 2% датасета), в которых остались пропуски в признаке VehicleType, и во всех этих строках неизвестны модели автомобилей (пропуски)."
   ],
   "metadata": {
    "collapsed": false
   },
   "id": "43ae7c05b735616a"
  },
  {
   "cell_type": "markdown",
   "source": [
    "#### Признак Gearbox"
   ],
   "metadata": {
    "collapsed": false
   },
   "id": "4fbdcb8af4a32864"
  },
  {
   "cell_type": "code",
   "execution_count": 30,
   "outputs": [
    {
     "data": {
      "text/plain": "Model\ngolf         1475\nother        1396\nfortwo        786\ncorsa         779\npolo          732\n             ... \nserie_3         1\nmusa            1\nb_max           1\ncrossfire       1\nnubira          1\nName: count, Length: 236, dtype: int64"
     },
     "execution_count": 30,
     "metadata": {},
     "output_type": "execute_result"
    }
   ],
   "source": [
    "# посмотрим на марки автомобилей с пропусками в признаке Gearbox:\n",
    "df[df['Gearbox'].isna()]['Model'].value_counts()"
   ],
   "metadata": {
    "collapsed": false,
    "ExecuteTime": {
     "end_time": "2023-12-06T18:42:32.289771500Z",
     "start_time": "2023-12-06T18:42:32.124548300Z"
    }
   },
   "id": "11da4f982ca94b07"
  },
  {
   "cell_type": "code",
   "execution_count": 31,
   "outputs": [],
   "source": [
    "# заполним пропуски самым частым значением для разных моделей автомобилей:\n",
    "for model in df['Model'].unique():\n",
    "    try:\n",
    "        veh_type_imp = df[df['Model'] == model]['Gearbox'].value_counts().index[0]\n",
    "        df.loc[(df['Gearbox'].isna()) & (df['Model'] == model), 'Gearbox'] = veh_type_imp\n",
    "    except:\n",
    "        IndexError"
   ],
   "metadata": {
    "collapsed": false,
    "ExecuteTime": {
     "end_time": "2023-12-06T18:42:46.975460500Z",
     "start_time": "2023-12-06T18:42:32.189036400Z"
    }
   },
   "id": "171f14868d5e28d8"
  },
  {
   "cell_type": "code",
   "execution_count": 32,
   "outputs": [
    {
     "name": "stdout",
     "output_type": "stream",
     "text": [
      "1.17\n"
     ]
    }
   ],
   "source": [
    "# проверим, остались ли пропуски и в каком количестве:\n",
    "print('{:.2f}'.format(df[df['Gearbox'].isna()].shape[0]/df.shape[0]*100))"
   ],
   "metadata": {
    "collapsed": false,
    "ExecuteTime": {
     "end_time": "2023-12-06T18:42:47.037098200Z",
     "start_time": "2023-12-06T18:42:46.977820200Z"
    }
   },
   "id": "35d8f0ae6839749b"
  },
  {
   "cell_type": "code",
   "execution_count": 33,
   "outputs": [
    {
     "data": {
      "text/plain": "                DateCrawled  Price VehicleType  RegistrationYear Gearbox  \\\n115     2016-03-20 18:53:27      0       small              1999     NaN   \n151     2016-03-27 20:47:22   6799       small              2009     NaN   \n161     2016-03-28 10:50:04   1495       wagon              2001     NaN   \n186     2016-03-16 15:51:08  14000       sedan              2008     NaN   \n306     2016-03-21 14:38:37    200         NaN              2009     NaN   \n...                     ...    ...         ...               ...     ...   \n354073  2016-03-19 14:53:26   1750         NaN              1995     NaN   \n354083  2016-03-30 07:54:17      0         NaN              2000     NaN   \n354162  2016-03-07 19:51:14   1500         NaN              1995     NaN   \n354338  2016-03-31 19:52:33    180         NaN              1995     NaN   \n354365  2016-03-14 17:48:27   2200         NaN              2005     NaN   \n\n        Power Model  Kilometer  RegistrationMonth  FuelType           Brand  \\\n115         0   NaN       5000                  0    petrol      volkswagen   \n151        60   NaN      20000                  5    petrol      volkswagen   \n161        64   NaN     150000                  9  gasoline      volkswagen   \n186       235   NaN     150000                  0       NaN             bmw   \n306         0   NaN      10000                  0       NaN  sonstige_autos   \n...       ...   ...        ...                ...       ...             ...   \n354073      0   NaN     100000                 12       NaN  sonstige_autos   \n354083      0   NaN     150000                  0       NaN  sonstige_autos   \n354162      0   NaN     150000                  0       NaN      volkswagen   \n354338      0   NaN     125000                  3    petrol            opel   \n354365      0   NaN      20000                  1       NaN  sonstige_autos   \n\n       Repaired          DateCreated  NumberOfPictures  PostalCode  \\\n115         NaN  2016-03-20 00:00:00                 0       37520   \n151          no  2016-03-27 00:00:00                 0       89077   \n161         NaN  2016-03-28 00:00:00                 0       99086   \n186          no  2016-02-12 00:00:00                 0       95131   \n306         NaN  2016-03-21 00:00:00                 0        6493   \n...         ...                  ...               ...         ...   \n354073      NaN  2016-03-19 00:00:00                 0        6188   \n354083      NaN  2016-03-30 00:00:00                 0        6686   \n354162      NaN  2016-03-07 00:00:00                 0       26789   \n354338      NaN  2016-03-31 00:00:00                 0       41470   \n354365      NaN  2016-03-14 00:00:00                 0       39576   \n\n                   LastSeen  \n115     2016-04-07 02:45:22  \n151     2016-03-27 20:47:22  \n161     2016-04-04 11:45:46  \n186     2016-04-07 14:56:12  \n306     2016-03-24 02:47:34  \n...                     ...  \n354073  2016-04-01 01:47:17  \n354083  2016-04-06 23:46:19  \n354162  2016-04-03 11:46:59  \n354338  2016-04-06 14:18:04  \n354365  2016-04-06 00:46:52  \n\n[4131 rows x 16 columns]",
      "text/html": "<div>\n<style scoped>\n    .dataframe tbody tr th:only-of-type {\n        vertical-align: middle;\n    }\n\n    .dataframe tbody tr th {\n        vertical-align: top;\n    }\n\n    .dataframe thead th {\n        text-align: right;\n    }\n</style>\n<table border=\"1\" class=\"dataframe\">\n  <thead>\n    <tr style=\"text-align: right;\">\n      <th></th>\n      <th>DateCrawled</th>\n      <th>Price</th>\n      <th>VehicleType</th>\n      <th>RegistrationYear</th>\n      <th>Gearbox</th>\n      <th>Power</th>\n      <th>Model</th>\n      <th>Kilometer</th>\n      <th>RegistrationMonth</th>\n      <th>FuelType</th>\n      <th>Brand</th>\n      <th>Repaired</th>\n      <th>DateCreated</th>\n      <th>NumberOfPictures</th>\n      <th>PostalCode</th>\n      <th>LastSeen</th>\n    </tr>\n  </thead>\n  <tbody>\n    <tr>\n      <th>115</th>\n      <td>2016-03-20 18:53:27</td>\n      <td>0</td>\n      <td>small</td>\n      <td>1999</td>\n      <td>NaN</td>\n      <td>0</td>\n      <td>NaN</td>\n      <td>5000</td>\n      <td>0</td>\n      <td>petrol</td>\n      <td>volkswagen</td>\n      <td>NaN</td>\n      <td>2016-03-20 00:00:00</td>\n      <td>0</td>\n      <td>37520</td>\n      <td>2016-04-07 02:45:22</td>\n    </tr>\n    <tr>\n      <th>151</th>\n      <td>2016-03-27 20:47:22</td>\n      <td>6799</td>\n      <td>small</td>\n      <td>2009</td>\n      <td>NaN</td>\n      <td>60</td>\n      <td>NaN</td>\n      <td>20000</td>\n      <td>5</td>\n      <td>petrol</td>\n      <td>volkswagen</td>\n      <td>no</td>\n      <td>2016-03-27 00:00:00</td>\n      <td>0</td>\n      <td>89077</td>\n      <td>2016-03-27 20:47:22</td>\n    </tr>\n    <tr>\n      <th>161</th>\n      <td>2016-03-28 10:50:04</td>\n      <td>1495</td>\n      <td>wagon</td>\n      <td>2001</td>\n      <td>NaN</td>\n      <td>64</td>\n      <td>NaN</td>\n      <td>150000</td>\n      <td>9</td>\n      <td>gasoline</td>\n      <td>volkswagen</td>\n      <td>NaN</td>\n      <td>2016-03-28 00:00:00</td>\n      <td>0</td>\n      <td>99086</td>\n      <td>2016-04-04 11:45:46</td>\n    </tr>\n    <tr>\n      <th>186</th>\n      <td>2016-03-16 15:51:08</td>\n      <td>14000</td>\n      <td>sedan</td>\n      <td>2008</td>\n      <td>NaN</td>\n      <td>235</td>\n      <td>NaN</td>\n      <td>150000</td>\n      <td>0</td>\n      <td>NaN</td>\n      <td>bmw</td>\n      <td>no</td>\n      <td>2016-02-12 00:00:00</td>\n      <td>0</td>\n      <td>95131</td>\n      <td>2016-04-07 14:56:12</td>\n    </tr>\n    <tr>\n      <th>306</th>\n      <td>2016-03-21 14:38:37</td>\n      <td>200</td>\n      <td>NaN</td>\n      <td>2009</td>\n      <td>NaN</td>\n      <td>0</td>\n      <td>NaN</td>\n      <td>10000</td>\n      <td>0</td>\n      <td>NaN</td>\n      <td>sonstige_autos</td>\n      <td>NaN</td>\n      <td>2016-03-21 00:00:00</td>\n      <td>0</td>\n      <td>6493</td>\n      <td>2016-03-24 02:47:34</td>\n    </tr>\n    <tr>\n      <th>...</th>\n      <td>...</td>\n      <td>...</td>\n      <td>...</td>\n      <td>...</td>\n      <td>...</td>\n      <td>...</td>\n      <td>...</td>\n      <td>...</td>\n      <td>...</td>\n      <td>...</td>\n      <td>...</td>\n      <td>...</td>\n      <td>...</td>\n      <td>...</td>\n      <td>...</td>\n      <td>...</td>\n    </tr>\n    <tr>\n      <th>354073</th>\n      <td>2016-03-19 14:53:26</td>\n      <td>1750</td>\n      <td>NaN</td>\n      <td>1995</td>\n      <td>NaN</td>\n      <td>0</td>\n      <td>NaN</td>\n      <td>100000</td>\n      <td>12</td>\n      <td>NaN</td>\n      <td>sonstige_autos</td>\n      <td>NaN</td>\n      <td>2016-03-19 00:00:00</td>\n      <td>0</td>\n      <td>6188</td>\n      <td>2016-04-01 01:47:17</td>\n    </tr>\n    <tr>\n      <th>354083</th>\n      <td>2016-03-30 07:54:17</td>\n      <td>0</td>\n      <td>NaN</td>\n      <td>2000</td>\n      <td>NaN</td>\n      <td>0</td>\n      <td>NaN</td>\n      <td>150000</td>\n      <td>0</td>\n      <td>NaN</td>\n      <td>sonstige_autos</td>\n      <td>NaN</td>\n      <td>2016-03-30 00:00:00</td>\n      <td>0</td>\n      <td>6686</td>\n      <td>2016-04-06 23:46:19</td>\n    </tr>\n    <tr>\n      <th>354162</th>\n      <td>2016-03-07 19:51:14</td>\n      <td>1500</td>\n      <td>NaN</td>\n      <td>1995</td>\n      <td>NaN</td>\n      <td>0</td>\n      <td>NaN</td>\n      <td>150000</td>\n      <td>0</td>\n      <td>NaN</td>\n      <td>volkswagen</td>\n      <td>NaN</td>\n      <td>2016-03-07 00:00:00</td>\n      <td>0</td>\n      <td>26789</td>\n      <td>2016-04-03 11:46:59</td>\n    </tr>\n    <tr>\n      <th>354338</th>\n      <td>2016-03-31 19:52:33</td>\n      <td>180</td>\n      <td>NaN</td>\n      <td>1995</td>\n      <td>NaN</td>\n      <td>0</td>\n      <td>NaN</td>\n      <td>125000</td>\n      <td>3</td>\n      <td>petrol</td>\n      <td>opel</td>\n      <td>NaN</td>\n      <td>2016-03-31 00:00:00</td>\n      <td>0</td>\n      <td>41470</td>\n      <td>2016-04-06 14:18:04</td>\n    </tr>\n    <tr>\n      <th>354365</th>\n      <td>2016-03-14 17:48:27</td>\n      <td>2200</td>\n      <td>NaN</td>\n      <td>2005</td>\n      <td>NaN</td>\n      <td>0</td>\n      <td>NaN</td>\n      <td>20000</td>\n      <td>1</td>\n      <td>NaN</td>\n      <td>sonstige_autos</td>\n      <td>NaN</td>\n      <td>2016-03-14 00:00:00</td>\n      <td>0</td>\n      <td>39576</td>\n      <td>2016-04-06 00:46:52</td>\n    </tr>\n  </tbody>\n</table>\n<p>4131 rows × 16 columns</p>\n</div>"
     },
     "execution_count": 33,
     "metadata": {},
     "output_type": "execute_result"
    }
   ],
   "source": [
    "df.loc[(df['Gearbox'].isna()) & df['Model'].isna()]"
   ],
   "metadata": {
    "collapsed": false,
    "ExecuteTime": {
     "end_time": "2023-12-06T18:42:47.229927100Z",
     "start_time": "2023-12-06T18:42:47.007559100Z"
    }
   },
   "id": "63fe8446ac75e3d5"
  },
  {
   "cell_type": "markdown",
   "source": [
    "Остается 4131 строка (чуть больше 1% датасета), в которых остались пропуски в признаке Gearbox, и во всех этих строках неизвестны модели автомобилей (пропуски)."
   ],
   "metadata": {
    "collapsed": false
   },
   "id": "88bedcb42dc53d69"
  },
  {
   "cell_type": "markdown",
   "source": [
    "#### Признак FuelType"
   ],
   "metadata": {
    "collapsed": false
   },
   "id": "551dbc4055bcf29a"
  },
  {
   "cell_type": "code",
   "execution_count": 34,
   "outputs": [
    {
     "data": {
      "text/plain": "Model\ngolf                 2430\nother                1959\n3er                  1330\npolo                 1325\ncorsa                1316\n                     ... \nrange_rover_sport       1\ncitigo                  1\nv60                     1\nmusa                    1\ndiscovery               1\nName: count, Length: 235, dtype: int64"
     },
     "execution_count": 34,
     "metadata": {},
     "output_type": "execute_result"
    }
   ],
   "source": [
    "# посмотрим на марки автомобилей с пропусками в признаке FuelType:\n",
    "df[df['FuelType'].isna()]['Model'].value_counts()"
   ],
   "metadata": {
    "collapsed": false,
    "ExecuteTime": {
     "end_time": "2023-12-06T18:42:47.513804600Z",
     "start_time": "2023-12-06T18:42:47.232486700Z"
    }
   },
   "id": "b993888cfa1b68c1"
  },
  {
   "cell_type": "code",
   "execution_count": 35,
   "outputs": [],
   "source": [
    "# заполним пропуски самым частым значением для разных моделей автомобилей:\n",
    "for model in df['Model'].unique():\n",
    "    try:\n",
    "        veh_type_imp = df[df['Model'] == model]['FuelType'].value_counts().index[0]\n",
    "        df.loc[(df['FuelType'].isna()) & (df['Model'] == model), 'FuelType'] = veh_type_imp\n",
    "    except:\n",
    "        IndexError"
   ],
   "metadata": {
    "collapsed": false,
    "ExecuteTime": {
     "end_time": "2023-12-06T18:43:03.136481Z",
     "start_time": "2023-12-06T18:42:47.474697600Z"
    }
   },
   "id": "5a2c42d66126b6f4"
  },
  {
   "cell_type": "code",
   "execution_count": 36,
   "outputs": [
    {
     "name": "stdout",
     "output_type": "stream",
     "text": [
      "2.02\n"
     ]
    }
   ],
   "source": [
    "# проверим, остались ли пропуски и в каком количестве:\n",
    "print('{:.2f}'.format(df[df['FuelType'].isna()].shape[0]/df.shape[0]*100))"
   ],
   "metadata": {
    "collapsed": false,
    "ExecuteTime": {
     "end_time": "2023-12-06T18:43:03.198495100Z",
     "start_time": "2023-12-06T18:43:03.139244800Z"
    }
   },
   "id": "13e65d871166b1f1"
  },
  {
   "cell_type": "code",
   "execution_count": 37,
   "outputs": [
    {
     "data": {
      "text/plain": "                DateCrawled  Price VehicleType  RegistrationYear Gearbox  \\\n59      2016-03-29 15:48:15      1         suv              1994  manual   \n81      2016-04-03 12:56:45    350       small              1997  manual   \n135     2016-03-27 20:51:23   1450       sedan              1992  manual   \n186     2016-03-16 15:51:08  14000       sedan              2008     NaN   \n273     2016-03-29 23:38:02   1500       coupe              1994  manual   \n...                     ...    ...         ...               ...     ...   \n354080  2016-04-03 20:37:39   4300       small              2008    auto   \n354083  2016-03-30 07:54:17      0         NaN              2000     NaN   \n354162  2016-03-07 19:51:14   1500         NaN              1995     NaN   \n354351  2016-03-11 23:40:32   1900         NaN              2000  manual   \n354365  2016-03-14 17:48:27   2200         NaN              2005     NaN   \n\n        Power Model  Kilometer  RegistrationMonth FuelType           Brand  \\\n59        286   NaN     150000                 11      NaN  sonstige_autos   \n81         54   NaN     150000                  3      NaN            fiat   \n135       136   NaN     150000                  0      NaN            audi   \n186       235   NaN     150000                  0      NaN             bmw   \n273       116   NaN     150000                  8      NaN            audi   \n...       ...   ...        ...                ...      ...             ...   \n354080      0   NaN     150000                  3      NaN           honda   \n354083      0   NaN     150000                  0      NaN  sonstige_autos   \n354162      0   NaN     150000                  0      NaN      volkswagen   \n354351    110   NaN     150000                  7      NaN      volkswagen   \n354365      0   NaN      20000                  1      NaN  sonstige_autos   \n\n       Repaired          DateCreated  NumberOfPictures  PostalCode  \\\n59          NaN  2016-03-29 00:00:00                 0       53721   \n81          yes  2016-04-03 00:00:00                 0       45665   \n135          no  2016-03-27 00:00:00                 0       38709   \n186          no  2016-02-12 00:00:00                 0       95131   \n273          no  2016-03-29 00:00:00                 0       32791   \n...         ...                  ...               ...         ...   \n354080      NaN  2016-04-03 00:00:00                 0       30627   \n354083      NaN  2016-03-30 00:00:00                 0        6686   \n354162      NaN  2016-03-07 00:00:00                 0       26789   \n354351       no  2016-03-11 00:00:00                 0       87700   \n354365      NaN  2016-03-14 00:00:00                 0       39576   \n\n                   LastSeen  \n59      2016-04-06 01:44:38  \n81      2016-04-05 11:47:13  \n135     2016-04-05 20:17:31  \n186     2016-04-07 14:56:12  \n273     2016-04-06 20:16:34  \n...                     ...  \n354080  2016-04-05 21:16:51  \n354083  2016-04-06 23:46:19  \n354162  2016-04-03 11:46:59  \n354351  2016-03-12 14:16:51  \n354365  2016-04-06 00:46:52  \n\n[7163 rows x 16 columns]",
      "text/html": "<div>\n<style scoped>\n    .dataframe tbody tr th:only-of-type {\n        vertical-align: middle;\n    }\n\n    .dataframe tbody tr th {\n        vertical-align: top;\n    }\n\n    .dataframe thead th {\n        text-align: right;\n    }\n</style>\n<table border=\"1\" class=\"dataframe\">\n  <thead>\n    <tr style=\"text-align: right;\">\n      <th></th>\n      <th>DateCrawled</th>\n      <th>Price</th>\n      <th>VehicleType</th>\n      <th>RegistrationYear</th>\n      <th>Gearbox</th>\n      <th>Power</th>\n      <th>Model</th>\n      <th>Kilometer</th>\n      <th>RegistrationMonth</th>\n      <th>FuelType</th>\n      <th>Brand</th>\n      <th>Repaired</th>\n      <th>DateCreated</th>\n      <th>NumberOfPictures</th>\n      <th>PostalCode</th>\n      <th>LastSeen</th>\n    </tr>\n  </thead>\n  <tbody>\n    <tr>\n      <th>59</th>\n      <td>2016-03-29 15:48:15</td>\n      <td>1</td>\n      <td>suv</td>\n      <td>1994</td>\n      <td>manual</td>\n      <td>286</td>\n      <td>NaN</td>\n      <td>150000</td>\n      <td>11</td>\n      <td>NaN</td>\n      <td>sonstige_autos</td>\n      <td>NaN</td>\n      <td>2016-03-29 00:00:00</td>\n      <td>0</td>\n      <td>53721</td>\n      <td>2016-04-06 01:44:38</td>\n    </tr>\n    <tr>\n      <th>81</th>\n      <td>2016-04-03 12:56:45</td>\n      <td>350</td>\n      <td>small</td>\n      <td>1997</td>\n      <td>manual</td>\n      <td>54</td>\n      <td>NaN</td>\n      <td>150000</td>\n      <td>3</td>\n      <td>NaN</td>\n      <td>fiat</td>\n      <td>yes</td>\n      <td>2016-04-03 00:00:00</td>\n      <td>0</td>\n      <td>45665</td>\n      <td>2016-04-05 11:47:13</td>\n    </tr>\n    <tr>\n      <th>135</th>\n      <td>2016-03-27 20:51:23</td>\n      <td>1450</td>\n      <td>sedan</td>\n      <td>1992</td>\n      <td>manual</td>\n      <td>136</td>\n      <td>NaN</td>\n      <td>150000</td>\n      <td>0</td>\n      <td>NaN</td>\n      <td>audi</td>\n      <td>no</td>\n      <td>2016-03-27 00:00:00</td>\n      <td>0</td>\n      <td>38709</td>\n      <td>2016-04-05 20:17:31</td>\n    </tr>\n    <tr>\n      <th>186</th>\n      <td>2016-03-16 15:51:08</td>\n      <td>14000</td>\n      <td>sedan</td>\n      <td>2008</td>\n      <td>NaN</td>\n      <td>235</td>\n      <td>NaN</td>\n      <td>150000</td>\n      <td>0</td>\n      <td>NaN</td>\n      <td>bmw</td>\n      <td>no</td>\n      <td>2016-02-12 00:00:00</td>\n      <td>0</td>\n      <td>95131</td>\n      <td>2016-04-07 14:56:12</td>\n    </tr>\n    <tr>\n      <th>273</th>\n      <td>2016-03-29 23:38:02</td>\n      <td>1500</td>\n      <td>coupe</td>\n      <td>1994</td>\n      <td>manual</td>\n      <td>116</td>\n      <td>NaN</td>\n      <td>150000</td>\n      <td>8</td>\n      <td>NaN</td>\n      <td>audi</td>\n      <td>no</td>\n      <td>2016-03-29 00:00:00</td>\n      <td>0</td>\n      <td>32791</td>\n      <td>2016-04-06 20:16:34</td>\n    </tr>\n    <tr>\n      <th>...</th>\n      <td>...</td>\n      <td>...</td>\n      <td>...</td>\n      <td>...</td>\n      <td>...</td>\n      <td>...</td>\n      <td>...</td>\n      <td>...</td>\n      <td>...</td>\n      <td>...</td>\n      <td>...</td>\n      <td>...</td>\n      <td>...</td>\n      <td>...</td>\n      <td>...</td>\n      <td>...</td>\n    </tr>\n    <tr>\n      <th>354080</th>\n      <td>2016-04-03 20:37:39</td>\n      <td>4300</td>\n      <td>small</td>\n      <td>2008</td>\n      <td>auto</td>\n      <td>0</td>\n      <td>NaN</td>\n      <td>150000</td>\n      <td>3</td>\n      <td>NaN</td>\n      <td>honda</td>\n      <td>NaN</td>\n      <td>2016-04-03 00:00:00</td>\n      <td>0</td>\n      <td>30627</td>\n      <td>2016-04-05 21:16:51</td>\n    </tr>\n    <tr>\n      <th>354083</th>\n      <td>2016-03-30 07:54:17</td>\n      <td>0</td>\n      <td>NaN</td>\n      <td>2000</td>\n      <td>NaN</td>\n      <td>0</td>\n      <td>NaN</td>\n      <td>150000</td>\n      <td>0</td>\n      <td>NaN</td>\n      <td>sonstige_autos</td>\n      <td>NaN</td>\n      <td>2016-03-30 00:00:00</td>\n      <td>0</td>\n      <td>6686</td>\n      <td>2016-04-06 23:46:19</td>\n    </tr>\n    <tr>\n      <th>354162</th>\n      <td>2016-03-07 19:51:14</td>\n      <td>1500</td>\n      <td>NaN</td>\n      <td>1995</td>\n      <td>NaN</td>\n      <td>0</td>\n      <td>NaN</td>\n      <td>150000</td>\n      <td>0</td>\n      <td>NaN</td>\n      <td>volkswagen</td>\n      <td>NaN</td>\n      <td>2016-03-07 00:00:00</td>\n      <td>0</td>\n      <td>26789</td>\n      <td>2016-04-03 11:46:59</td>\n    </tr>\n    <tr>\n      <th>354351</th>\n      <td>2016-03-11 23:40:32</td>\n      <td>1900</td>\n      <td>NaN</td>\n      <td>2000</td>\n      <td>manual</td>\n      <td>110</td>\n      <td>NaN</td>\n      <td>150000</td>\n      <td>7</td>\n      <td>NaN</td>\n      <td>volkswagen</td>\n      <td>no</td>\n      <td>2016-03-11 00:00:00</td>\n      <td>0</td>\n      <td>87700</td>\n      <td>2016-03-12 14:16:51</td>\n    </tr>\n    <tr>\n      <th>354365</th>\n      <td>2016-03-14 17:48:27</td>\n      <td>2200</td>\n      <td>NaN</td>\n      <td>2005</td>\n      <td>NaN</td>\n      <td>0</td>\n      <td>NaN</td>\n      <td>20000</td>\n      <td>1</td>\n      <td>NaN</td>\n      <td>sonstige_autos</td>\n      <td>NaN</td>\n      <td>2016-03-14 00:00:00</td>\n      <td>0</td>\n      <td>39576</td>\n      <td>2016-04-06 00:46:52</td>\n    </tr>\n  </tbody>\n</table>\n<p>7163 rows × 16 columns</p>\n</div>"
     },
     "execution_count": 37,
     "metadata": {},
     "output_type": "execute_result"
    }
   ],
   "source": [
    "df.loc[(df['FuelType'].isna()) & df['Model'].isna()]"
   ],
   "metadata": {
    "collapsed": false,
    "ExecuteTime": {
     "end_time": "2023-12-06T18:43:03.246221900Z",
     "start_time": "2023-12-06T18:43:03.182751Z"
    }
   },
   "id": "ab823ec2bfc96b81"
  },
  {
   "cell_type": "markdown",
   "source": [
    "Остается 7163 строки (чуть больше 2% датасета), в которых остались пропуски в признаке FuelType, и во всех этих строках неизвестны модели автомобилей (пропуски).\n",
    "\n",
    "Заполним пропуски у признаков Model и Repaired в дальнейшем при создании пайплайна значением unknown, добавив логический параметр add_indicator=True."
   ],
   "metadata": {
    "collapsed": false
   },
   "id": "9bb081570dcd3f54"
  },
  {
   "cell_type": "code",
   "execution_count": 38,
   "outputs": [],
   "source": [
    "# удалим неинформативные признаки:\n",
    "df.drop(['DateCrawled', 'RegistrationMonth', 'DateCreated', 'NumberOfPictures', 'PostalCode', 'LastSeen'], axis=1, inplace=True)"
   ],
   "metadata": {
    "collapsed": false,
    "ExecuteTime": {
     "end_time": "2023-12-06T18:43:03.357008200Z",
     "start_time": "2023-12-06T18:43:03.246221900Z"
    }
   },
   "id": "65a3f6632b91d2c5"
  },
  {
   "cell_type": "code",
   "execution_count": 39,
   "outputs": [
    {
     "name": "stdout",
     "output_type": "stream",
     "text": [
      "<class 'pandas.core.frame.DataFrame'>\n",
      "Index: 354365 entries, 0 to 354368\n",
      "Data columns (total 10 columns):\n",
      " #   Column            Non-Null Count   Dtype \n",
      "---  ------            --------------   ----- \n",
      " 0   Price             354365 non-null  int64 \n",
      " 1   VehicleType       347537 non-null  object\n",
      " 2   RegistrationYear  354365 non-null  int64 \n",
      " 3   Gearbox           350234 non-null  object\n",
      " 4   Power             354365 non-null  int64 \n",
      " 5   Model             334660 non-null  object\n",
      " 6   Kilometer         354365 non-null  int64 \n",
      " 7   FuelType          347202 non-null  object\n",
      " 8   Brand             354365 non-null  object\n",
      " 9   Repaired          283211 non-null  object\n",
      "dtypes: int64(4), object(6)\n",
      "memory usage: 29.7+ MB\n"
     ]
    }
   ],
   "source": [
    "df.info()"
   ],
   "metadata": {
    "collapsed": false,
    "ExecuteTime": {
     "end_time": "2023-12-06T18:43:03.437671800Z",
     "start_time": "2023-12-06T18:43:03.315962100Z"
    }
   },
   "id": "b5f12aa93e85a14e"
  },
  {
   "cell_type": "code",
   "execution_count": 40,
   "outputs": [
    {
     "data": {
      "text/plain": "Price                   0\nVehicleType          6828\nRegistrationYear        0\nGearbox              4131\nPower                   0\nModel               19705\nKilometer               0\nFuelType             7163\nBrand                   0\nRepaired            71154\ndtype: int64"
     },
     "execution_count": 40,
     "metadata": {},
     "output_type": "execute_result"
    }
   ],
   "source": [
    "df.isna().sum()"
   ],
   "metadata": {
    "collapsed": false,
    "ExecuteTime": {
     "end_time": "2023-12-06T18:43:03.534473400Z",
     "start_time": "2023-12-06T18:43:03.437671800Z"
    }
   },
   "id": "bd5f1029e1d8e99c"
  },
  {
   "cell_type": "code",
   "execution_count": 41,
   "outputs": [
    {
     "name": "stdout",
     "output_type": "stream",
     "text": [
      "Price - 0.0%\n",
      "VehicleType - 1.93%\n",
      "RegistrationYear - 0.0%\n",
      "Gearbox - 1.17%\n",
      "Power - 0.0%\n",
      "Model - 5.56%\n",
      "Kilometer - 0.0%\n",
      "FuelType - 2.02%\n",
      "Brand - 0.0%\n",
      "Repaired - 20.08%\n"
     ]
    }
   ],
   "source": [
    "# процентный список пропущенных данных:\n",
    "for col in df.columns:\n",
    "    pct_missing = np.mean(df[col].isnull())\n",
    "    print('{} - {}%'.format(col, round(pct_missing*100, 2)))"
   ],
   "metadata": {
    "collapsed": false,
    "ExecuteTime": {
     "end_time": "2023-12-06T18:43:03.628677500Z",
     "start_time": "2023-12-06T18:43:03.534473400Z"
    }
   },
   "id": "d32c8a3ea62cabbe"
  },
  {
   "cell_type": "markdown",
   "source": [
    "Исследуем признаки на мультиколлинеарность."
   ],
   "metadata": {
    "collapsed": false
   },
   "id": "1e97bb347734445e"
  },
  {
   "cell_type": "code",
   "execution_count": 47,
   "outputs": [
    {
     "name": "stdout",
     "output_type": "stream",
     "text": [
      "interval columns not set, guessing: ['Price', 'RegistrationYear', 'Power', 'Kilometer']\n"
     ]
    },
    {
     "data": {
      "text/plain": "                  Price  VehicleType  RegistrationYear  Gearbox  Power  Model  \\\nPrice              1.00         0.27              0.55     0.32   0.11   0.58   \nVehicleType        0.27         1.00              0.16     0.28   0.04   0.92   \nRegistrationYear   0.55         0.16              1.00     0.09   0.04   0.59   \nGearbox            0.32         0.28              0.09     1.00   0.10   0.66   \nPower              0.11         0.04              0.04     0.10   1.00   0.22   \nModel              0.58         0.92              0.59     0.66   0.22   1.00   \nKilometer          0.31         0.17              0.32     0.01   0.01   0.44   \nFuelType           0.26         0.33              0.21     0.15   0.03   0.56   \nBrand              0.36         0.63              0.38     0.53   0.10   1.00   \nRepaired           0.38         0.08              0.17     0.05   0.01   0.16   \n\n                  Kilometer  FuelType  Brand  Repaired  \nPrice                  0.31      0.26   0.36      0.38  \nVehicleType            0.17      0.33   0.63      0.08  \nRegistrationYear       0.32      0.21   0.38      0.17  \nGearbox                0.01      0.15   0.53      0.05  \nPower                  0.01      0.03   0.10      0.01  \nModel                  0.44      0.56   1.00      0.16  \nKilometer              1.00      0.14   0.28      0.11  \nFuelType               0.14      1.00   0.32      0.05  \nBrand                  0.28      0.32   1.00      0.11  \nRepaired               0.11      0.05   0.11      1.00  ",
      "text/html": "<div>\n<style scoped>\n    .dataframe tbody tr th:only-of-type {\n        vertical-align: middle;\n    }\n\n    .dataframe tbody tr th {\n        vertical-align: top;\n    }\n\n    .dataframe thead th {\n        text-align: right;\n    }\n</style>\n<table border=\"1\" class=\"dataframe\">\n  <thead>\n    <tr style=\"text-align: right;\">\n      <th></th>\n      <th>Price</th>\n      <th>VehicleType</th>\n      <th>RegistrationYear</th>\n      <th>Gearbox</th>\n      <th>Power</th>\n      <th>Model</th>\n      <th>Kilometer</th>\n      <th>FuelType</th>\n      <th>Brand</th>\n      <th>Repaired</th>\n    </tr>\n  </thead>\n  <tbody>\n    <tr>\n      <th>Price</th>\n      <td>1.00</td>\n      <td>0.27</td>\n      <td>0.55</td>\n      <td>0.32</td>\n      <td>0.11</td>\n      <td>0.58</td>\n      <td>0.31</td>\n      <td>0.26</td>\n      <td>0.36</td>\n      <td>0.38</td>\n    </tr>\n    <tr>\n      <th>VehicleType</th>\n      <td>0.27</td>\n      <td>1.00</td>\n      <td>0.16</td>\n      <td>0.28</td>\n      <td>0.04</td>\n      <td>0.92</td>\n      <td>0.17</td>\n      <td>0.33</td>\n      <td>0.63</td>\n      <td>0.08</td>\n    </tr>\n    <tr>\n      <th>RegistrationYear</th>\n      <td>0.55</td>\n      <td>0.16</td>\n      <td>1.00</td>\n      <td>0.09</td>\n      <td>0.04</td>\n      <td>0.59</td>\n      <td>0.32</td>\n      <td>0.21</td>\n      <td>0.38</td>\n      <td>0.17</td>\n    </tr>\n    <tr>\n      <th>Gearbox</th>\n      <td>0.32</td>\n      <td>0.28</td>\n      <td>0.09</td>\n      <td>1.00</td>\n      <td>0.10</td>\n      <td>0.66</td>\n      <td>0.01</td>\n      <td>0.15</td>\n      <td>0.53</td>\n      <td>0.05</td>\n    </tr>\n    <tr>\n      <th>Power</th>\n      <td>0.11</td>\n      <td>0.04</td>\n      <td>0.04</td>\n      <td>0.10</td>\n      <td>1.00</td>\n      <td>0.22</td>\n      <td>0.01</td>\n      <td>0.03</td>\n      <td>0.10</td>\n      <td>0.01</td>\n    </tr>\n    <tr>\n      <th>Model</th>\n      <td>0.58</td>\n      <td>0.92</td>\n      <td>0.59</td>\n      <td>0.66</td>\n      <td>0.22</td>\n      <td>1.00</td>\n      <td>0.44</td>\n      <td>0.56</td>\n      <td>1.00</td>\n      <td>0.16</td>\n    </tr>\n    <tr>\n      <th>Kilometer</th>\n      <td>0.31</td>\n      <td>0.17</td>\n      <td>0.32</td>\n      <td>0.01</td>\n      <td>0.01</td>\n      <td>0.44</td>\n      <td>1.00</td>\n      <td>0.14</td>\n      <td>0.28</td>\n      <td>0.11</td>\n    </tr>\n    <tr>\n      <th>FuelType</th>\n      <td>0.26</td>\n      <td>0.33</td>\n      <td>0.21</td>\n      <td>0.15</td>\n      <td>0.03</td>\n      <td>0.56</td>\n      <td>0.14</td>\n      <td>1.00</td>\n      <td>0.32</td>\n      <td>0.05</td>\n    </tr>\n    <tr>\n      <th>Brand</th>\n      <td>0.36</td>\n      <td>0.63</td>\n      <td>0.38</td>\n      <td>0.53</td>\n      <td>0.10</td>\n      <td>1.00</td>\n      <td>0.28</td>\n      <td>0.32</td>\n      <td>1.00</td>\n      <td>0.11</td>\n    </tr>\n    <tr>\n      <th>Repaired</th>\n      <td>0.38</td>\n      <td>0.08</td>\n      <td>0.17</td>\n      <td>0.05</td>\n      <td>0.01</td>\n      <td>0.16</td>\n      <td>0.11</td>\n      <td>0.05</td>\n      <td>0.11</td>\n      <td>1.00</td>\n    </tr>\n  </tbody>\n</table>\n</div>"
     },
     "execution_count": 47,
     "metadata": {},
     "output_type": "execute_result"
    }
   ],
   "source": [
    "# построим 𝜙k correlation matrix:\n",
    "phik_overview = df.phik_matrix()\n",
    "phik_overview.round(2)"
   ],
   "metadata": {
    "collapsed": false,
    "ExecuteTime": {
     "end_time": "2023-12-06T18:55:39.573481500Z",
     "start_time": "2023-12-06T18:55:30.194590400Z"
    }
   },
   "id": "9da738f2a4c1208"
  },
  {
   "cell_type": "code",
   "execution_count": 48,
   "outputs": [
    {
     "data": {
      "text/plain": "Model               0.58\nRegistrationYear    0.55\nRepaired            0.38\nBrand               0.36\nGearbox             0.32\nKilometer           0.31\nVehicleType         0.27\nFuelType            0.26\nPower               0.11\nName: Price, dtype: float64"
     },
     "execution_count": 48,
     "metadata": {},
     "output_type": "execute_result"
    }
   ],
   "source": [
    "# посмотрим, с какими признаками сильнее всего коррелирует/связан целевой атрибут:\n",
    "phik_target = phik_overview['Price'].sort_values(ascending=False).iloc[1:]\n",
    "phik_target.round(2)"
   ],
   "metadata": {
    "collapsed": false,
    "ExecuteTime": {
     "end_time": "2023-12-06T18:55:39.647750400Z",
     "start_time": "2023-12-06T18:55:39.573481500Z"
    }
   },
   "id": "db2f366af6456e65"
  },
  {
   "cell_type": "code",
   "execution_count": 53,
   "outputs": [],
   "source": [
    "# построим plot_correlation_matrix:\n",
    "plot_correlation_matrix(phik_overview.values,\n",
    "                        x_labels=phik_overview.columns,\n",
    "                        y_labels=phik_overview.index,\n",
    "                        vmin=0, vmax=1, color_map=\"Greens\",\n",
    "                        title=r\"correlation $\\phi_K$\",\n",
    "                        fontsize_factor=0.9,\n",
    "                        figsize=(10, 8))\n",
    "plt.tight_layout()"
   ],
   "metadata": {
    "collapsed": false,
    "ExecuteTime": {
     "end_time": "2023-12-06T19:03:42.196928100Z",
     "start_time": "2023-12-06T19:03:41.614243700Z"
    }
   },
   "id": "5551af3f07337531"
  },
  {
   "cell_type": "markdown",
   "source": [
    "## Разделение на выборки"
   ],
   "metadata": {
    "collapsed": false
   },
   "id": "da91d57401aa5083"
  },
  {
   "cell_type": "code",
   "execution_count": 54,
   "outputs": [],
   "source": [
    "X = df.drop(['Price'], axis = 1)\n",
    "y = df['Price']\n",
    "X_train, X_test, y_train, y_test = train_test_split(X, y, test_size=0.33, random_state=42)"
   ],
   "metadata": {
    "collapsed": false,
    "ExecuteTime": {
     "end_time": "2023-12-06T19:08:42.560509700Z",
     "start_time": "2023-12-06T19:08:42.216611Z"
    }
   },
   "id": "8f4014a6b4070c73"
  },
  {
   "cell_type": "markdown",
   "source": [
    "# Обучение моделей\n",
    "## LinearRegression\t"
   ],
   "metadata": {
    "collapsed": false
   },
   "id": "774aa97372c89456"
  },
  {
   "cell_type": "markdown",
   "source": [
    "## LGBMRegressor\t"
   ],
   "metadata": {
    "collapsed": false
   },
   "id": "eef42abdb35cc8d5"
  },
  {
   "cell_type": "markdown",
   "source": [
    "## CatBoostRegressor\t"
   ],
   "metadata": {
    "collapsed": false
   },
   "id": "5457b08bf51c25e6"
  }
 ],
 "metadata": {
  "kernelspec": {
   "display_name": "Python 3",
   "language": "python",
   "name": "python3"
  },
  "language_info": {
   "codemirror_mode": {
    "name": "ipython",
    "version": 2
   },
   "file_extension": ".py",
   "mimetype": "text/x-python",
   "name": "python",
   "nbconvert_exporter": "python",
   "pygments_lexer": "ipython2",
   "version": "2.7.6"
  }
 },
 "nbformat": 4,
 "nbformat_minor": 5
}
