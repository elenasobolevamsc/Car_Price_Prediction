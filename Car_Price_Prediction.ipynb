{
 "cells": [
  {
   "cell_type": "markdown",
   "source": [
    "# Подготовка данных\n",
    "## Анализ данных"
   ],
   "metadata": {
    "collapsed": false
   },
   "id": "8768fa11ec44c3fc"
  },
  {
   "cell_type": "code",
   "execution_count": 114,
   "outputs": [],
   "source": [
    "# импортируем библиотеки:\n",
    "import warnings\n",
    "warnings.filterwarnings('ignore')\n",
    "\n",
    "import mlflow\n",
    "import optuna\n",
    "import sklearn\n",
    "import pandas as pd\n",
    "import numpy as np\n",
    "import matplotlib.pyplot as plt\n",
    "\n",
    "from phik.report import plot_correlation_matrix\n",
    "from lightgbm import LGBMRegressor\n",
    "from catboost import CatBoostRegressor\n",
    "from sklearn.linear_model import LinearRegression\n",
    "from sklearn.pipeline import Pipeline\n",
    "from sklearn.compose import ColumnTransformer\n",
    "from sklearn.impute import SimpleImputer\n",
    "from sklearn.model_selection import train_test_split, cross_val_score\n",
    "from sklearn.preprocessing import OneHotEncoder, StandardScaler, PowerTransformer, OrdinalEncoder\n",
    "from sklearn.base import BaseEstimator, TransformerMixin\n",
    "from sklearn.metrics import mean_squared_error\n",
    "\n",
    "mlflow.set_tracking_uri(\"http://127.0.0.1:9000\")\n",
    "client=mlflow.MlflowClient(tracking_uri='http://127.0.0.1:9000')\n",
    "sklearn.set_config(transform_output='pandas')"
   ],
   "metadata": {
    "collapsed": false,
    "ExecuteTime": {
     "end_time": "2023-12-09T18:16:36.533078100Z",
     "start_time": "2023-12-09T18:16:36.390553400Z"
    }
   },
   "id": "883181964c124b05"
  },
  {
   "cell_type": "code",
   "execution_count": 2,
   "outputs": [
    {
     "data": {
      "text/plain": "           DateCrawled  Price VehicleType  RegistrationYear Gearbox  Power  \\\n0  2016-03-24 11:52:17    480         NaN              1993  manual      0   \n1  2016-03-24 10:58:45  18300       coupe              2011  manual    190   \n2  2016-03-14 12:52:21   9800         suv              2004    auto    163   \n3  2016-03-17 16:54:04   1500       small              2001  manual     75   \n4  2016-03-31 17:25:20   3600       small              2008  manual     69   \n\n   Model  Kilometer  RegistrationMonth  FuelType       Brand Repaired  \\\n0   golf     150000                  0    petrol  volkswagen      NaN   \n1    NaN     125000                  5  gasoline        audi      yes   \n2  grand     125000                  8  gasoline        jeep      NaN   \n3   golf     150000                  6    petrol  volkswagen       no   \n4  fabia      90000                  7  gasoline       skoda       no   \n\n           DateCreated  NumberOfPictures  PostalCode             LastSeen  \n0  2016-03-24 00:00:00                 0       70435  2016-04-07 03:16:57  \n1  2016-03-24 00:00:00                 0       66954  2016-04-07 01:46:50  \n2  2016-03-14 00:00:00                 0       90480  2016-04-05 12:47:46  \n3  2016-03-17 00:00:00                 0       91074  2016-03-17 17:40:17  \n4  2016-03-31 00:00:00                 0       60437  2016-04-06 10:17:21  ",
      "text/html": "<div>\n<style scoped>\n    .dataframe tbody tr th:only-of-type {\n        vertical-align: middle;\n    }\n\n    .dataframe tbody tr th {\n        vertical-align: top;\n    }\n\n    .dataframe thead th {\n        text-align: right;\n    }\n</style>\n<table border=\"1\" class=\"dataframe\">\n  <thead>\n    <tr style=\"text-align: right;\">\n      <th></th>\n      <th>DateCrawled</th>\n      <th>Price</th>\n      <th>VehicleType</th>\n      <th>RegistrationYear</th>\n      <th>Gearbox</th>\n      <th>Power</th>\n      <th>Model</th>\n      <th>Kilometer</th>\n      <th>RegistrationMonth</th>\n      <th>FuelType</th>\n      <th>Brand</th>\n      <th>Repaired</th>\n      <th>DateCreated</th>\n      <th>NumberOfPictures</th>\n      <th>PostalCode</th>\n      <th>LastSeen</th>\n    </tr>\n  </thead>\n  <tbody>\n    <tr>\n      <th>0</th>\n      <td>2016-03-24 11:52:17</td>\n      <td>480</td>\n      <td>NaN</td>\n      <td>1993</td>\n      <td>manual</td>\n      <td>0</td>\n      <td>golf</td>\n      <td>150000</td>\n      <td>0</td>\n      <td>petrol</td>\n      <td>volkswagen</td>\n      <td>NaN</td>\n      <td>2016-03-24 00:00:00</td>\n      <td>0</td>\n      <td>70435</td>\n      <td>2016-04-07 03:16:57</td>\n    </tr>\n    <tr>\n      <th>1</th>\n      <td>2016-03-24 10:58:45</td>\n      <td>18300</td>\n      <td>coupe</td>\n      <td>2011</td>\n      <td>manual</td>\n      <td>190</td>\n      <td>NaN</td>\n      <td>125000</td>\n      <td>5</td>\n      <td>gasoline</td>\n      <td>audi</td>\n      <td>yes</td>\n      <td>2016-03-24 00:00:00</td>\n      <td>0</td>\n      <td>66954</td>\n      <td>2016-04-07 01:46:50</td>\n    </tr>\n    <tr>\n      <th>2</th>\n      <td>2016-03-14 12:52:21</td>\n      <td>9800</td>\n      <td>suv</td>\n      <td>2004</td>\n      <td>auto</td>\n      <td>163</td>\n      <td>grand</td>\n      <td>125000</td>\n      <td>8</td>\n      <td>gasoline</td>\n      <td>jeep</td>\n      <td>NaN</td>\n      <td>2016-03-14 00:00:00</td>\n      <td>0</td>\n      <td>90480</td>\n      <td>2016-04-05 12:47:46</td>\n    </tr>\n    <tr>\n      <th>3</th>\n      <td>2016-03-17 16:54:04</td>\n      <td>1500</td>\n      <td>small</td>\n      <td>2001</td>\n      <td>manual</td>\n      <td>75</td>\n      <td>golf</td>\n      <td>150000</td>\n      <td>6</td>\n      <td>petrol</td>\n      <td>volkswagen</td>\n      <td>no</td>\n      <td>2016-03-17 00:00:00</td>\n      <td>0</td>\n      <td>91074</td>\n      <td>2016-03-17 17:40:17</td>\n    </tr>\n    <tr>\n      <th>4</th>\n      <td>2016-03-31 17:25:20</td>\n      <td>3600</td>\n      <td>small</td>\n      <td>2008</td>\n      <td>manual</td>\n      <td>69</td>\n      <td>fabia</td>\n      <td>90000</td>\n      <td>7</td>\n      <td>gasoline</td>\n      <td>skoda</td>\n      <td>no</td>\n      <td>2016-03-31 00:00:00</td>\n      <td>0</td>\n      <td>60437</td>\n      <td>2016-04-06 10:17:21</td>\n    </tr>\n  </tbody>\n</table>\n</div>"
     },
     "execution_count": 2,
     "metadata": {},
     "output_type": "execute_result"
    }
   ],
   "source": [
    "# загрузим файл и изучим общую информацию о нем:\n",
    "df = pd.read_csv('Autos.csv')\n",
    "df.head()"
   ],
   "metadata": {
    "collapsed": false,
    "ExecuteTime": {
     "end_time": "2023-12-09T15:03:51.320655600Z",
     "start_time": "2023-12-09T15:03:48.860590300Z"
    }
   },
   "id": "b0af43632c46f1b1"
  },
  {
   "cell_type": "code",
   "execution_count": 3,
   "outputs": [
    {
     "name": "stdout",
     "output_type": "stream",
     "text": [
      "<class 'pandas.core.frame.DataFrame'>\n",
      "RangeIndex: 354369 entries, 0 to 354368\n",
      "Data columns (total 16 columns):\n",
      " #   Column             Non-Null Count   Dtype \n",
      "---  ------             --------------   ----- \n",
      " 0   DateCrawled        354369 non-null  object\n",
      " 1   Price              354369 non-null  int64 \n",
      " 2   VehicleType        316879 non-null  object\n",
      " 3   RegistrationYear   354369 non-null  int64 \n",
      " 4   Gearbox            334536 non-null  object\n",
      " 5   Power              354369 non-null  int64 \n",
      " 6   Model              334664 non-null  object\n",
      " 7   Kilometer          354369 non-null  int64 \n",
      " 8   RegistrationMonth  354369 non-null  int64 \n",
      " 9   FuelType           321474 non-null  object\n",
      " 10  Brand              354369 non-null  object\n",
      " 11  Repaired           283215 non-null  object\n",
      " 12  DateCreated        354369 non-null  object\n",
      " 13  NumberOfPictures   354369 non-null  int64 \n",
      " 14  PostalCode         354369 non-null  int64 \n",
      " 15  LastSeen           354369 non-null  object\n",
      "dtypes: int64(7), object(9)\n",
      "memory usage: 43.3+ MB\n"
     ]
    }
   ],
   "source": [
    "df.info()"
   ],
   "metadata": {
    "collapsed": false,
    "ExecuteTime": {
     "end_time": "2023-12-09T15:03:53.519055100Z",
     "start_time": "2023-12-09T15:03:53.334217800Z"
    }
   },
   "id": "d9d7d1ce38c1526"
  },
  {
   "cell_type": "code",
   "execution_count": 4,
   "outputs": [
    {
     "data": {
      "text/plain": "DateCrawled              0\nPrice                    0\nVehicleType          37490\nRegistrationYear         0\nGearbox              19833\nPower                    0\nModel                19705\nKilometer                0\nRegistrationMonth        0\nFuelType             32895\nBrand                    0\nRepaired             71154\nDateCreated              0\nNumberOfPictures         0\nPostalCode               0\nLastSeen                 0\ndtype: int64"
     },
     "execution_count": 4,
     "metadata": {},
     "output_type": "execute_result"
    }
   ],
   "source": [
    "# найдем пропуски в данных:\n",
    "df.isna().sum()"
   ],
   "metadata": {
    "collapsed": false,
    "ExecuteTime": {
     "end_time": "2023-12-09T15:03:54.115273700Z",
     "start_time": "2023-12-09T15:03:53.995477500Z"
    }
   },
   "id": "34db213060a406cc"
  },
  {
   "cell_type": "code",
   "execution_count": 5,
   "outputs": [
    {
     "data": {
      "text/plain": "4"
     },
     "execution_count": 5,
     "metadata": {},
     "output_type": "execute_result"
    }
   ],
   "source": [
    "# найдем явные дубликаты:\n",
    "df.duplicated().sum()"
   ],
   "metadata": {
    "collapsed": false,
    "ExecuteTime": {
     "end_time": "2023-12-09T15:03:55.627139300Z",
     "start_time": "2023-12-09T15:03:54.457226800Z"
    }
   },
   "id": "d6c8cb22c31f9f32"
  },
  {
   "cell_type": "code",
   "execution_count": 6,
   "outputs": [],
   "source": [
    "# удалим явные дубликаты:\n",
    "df = df.drop_duplicates()"
   ],
   "metadata": {
    "collapsed": false,
    "ExecuteTime": {
     "end_time": "2023-12-09T15:03:56.620535900Z",
     "start_time": "2023-12-09T15:03:55.558605500Z"
    }
   },
   "id": "21cf90896e924f1f"
  },
  {
   "cell_type": "markdown",
   "source": [
    "Определим признаки, важные для модели.\n",
    "\n",
    "К значимым признакам отнесем следующие столбцы:\n",
    "\n",
    "- VehicleType. Тип машины определяет ее функционал. Чем больше возможностей у машины, тем выше цена.\n",
    "- Gearbox. Наличие автоматической коробки передач повышает стоимость машины из-за сложности конструкции.\n",
    "- Power. Мощность в лошадиных силах (далее л.с.) напрямую влияют на цену.\n",
    "- Kilometer. Имеет обратно пропорциональную зависимость от цены. Чем больше километров проехала машина, тем меньше ее надежность и, соответственно, цена.\n",
    "- FuelType. Тип топлива определяет конструкцию двигателя внутреннего сгорания.\n",
    "- Brand. Концерн/компания, которая создала автомобиль, показывает качество и надежность автомобиля.\n",
    "- Repaired. Машины, которые побывали в дорожно-транспортных происшествиях, подверглись изменениям, и их надежность ниже.\n",
    "- RegistrationYear. Год регистрации определяет, сколько уже лет машина на ходу, соответственно, чем больше возраст, тем меньше цена.\n",
    "- Model. Тоже может влиять на популярность у покупателей.\n",
    "\n",
    "Остальные столбцы для модели не требуются, так как не влияют на стоимость и не являются информативными: \n",
    "- DateCrawled (дата скачивания анкеты из базы), \n",
    "- RegistrationMonth(месяц регистрации автомобиля), \n",
    "- DateCreated (дата создания анкеты), \n",
    "- NumberOfPictures (количество фотографий автомобиля), \n",
    "- PostalCode (почтовый индекс владельца анкеты (пользователя)),\n",
    "- LastSeen (дата последней активности пользователя)."
   ],
   "metadata": {
    "collapsed": false
   },
   "id": "bdb7d040fe5aa67"
  },
  {
   "cell_type": "markdown",
   "source": [
    "## Предобработка данных"
   ],
   "metadata": {
    "collapsed": false
   },
   "id": "9a15bacb0d0072c3"
  },
  {
   "cell_type": "code",
   "execution_count": 7,
   "outputs": [
    {
     "name": "stdout",
     "output_type": "stream",
     "text": [
      "<class 'pandas.core.frame.DataFrame'>\n",
      "Index: 354365 entries, 0 to 354368\n",
      "Data columns (total 16 columns):\n",
      " #   Column             Non-Null Count   Dtype \n",
      "---  ------             --------------   ----- \n",
      " 0   DateCrawled        354365 non-null  object\n",
      " 1   Price              354365 non-null  int64 \n",
      " 2   VehicleType        316875 non-null  object\n",
      " 3   RegistrationYear   354365 non-null  int64 \n",
      " 4   Gearbox            334532 non-null  object\n",
      " 5   Power              354365 non-null  int64 \n",
      " 6   Model              334660 non-null  object\n",
      " 7   Kilometer          354365 non-null  int64 \n",
      " 8   RegistrationMonth  354365 non-null  int64 \n",
      " 9   FuelType           321470 non-null  object\n",
      " 10  Brand              354365 non-null  object\n",
      " 11  Repaired           283211 non-null  object\n",
      " 12  DateCreated        354365 non-null  object\n",
      " 13  NumberOfPictures   354365 non-null  int64 \n",
      " 14  PostalCode         354365 non-null  int64 \n",
      " 15  LastSeen           354365 non-null  object\n",
      "dtypes: int64(7), object(9)\n",
      "memory usage: 46.0+ MB\n"
     ]
    }
   ],
   "source": [
    "df.info()"
   ],
   "metadata": {
    "collapsed": false,
    "ExecuteTime": {
     "end_time": "2023-12-09T15:03:57.064861200Z",
     "start_time": "2023-12-09T15:03:56.622156400Z"
    }
   },
   "id": "ee2c9497b8c4eb0"
  },
  {
   "cell_type": "code",
   "execution_count": 8,
   "outputs": [
    {
     "data": {
      "text/plain": "                DateCrawled          Price VehicleType  RegistrationYear  \\\ncount                354365  354365.000000      316875     354365.000000   \nunique               271174            NaN           8               NaN   \ntop     2016-03-24 14:49:47            NaN       sedan               NaN   \nfreq                      7            NaN       91457               NaN   \nmean                    NaN    4416.679830         NaN       2004.234481   \nstd                     NaN    4514.176349         NaN         90.228466   \nmin                     NaN       0.000000         NaN       1000.000000   \n25%                     NaN    1050.000000         NaN       1999.000000   \n50%                     NaN    2700.000000         NaN       2003.000000   \n75%                     NaN    6400.000000         NaN       2008.000000   \nmax                     NaN   20000.000000         NaN       9999.000000   \n\n       Gearbox          Power   Model      Kilometer  RegistrationMonth  \\\ncount   334532  354365.000000  334660  354365.000000      354365.000000   \nunique       2            NaN     250            NaN                NaN   \ntop     manual            NaN    golf            NaN                NaN   \nfreq    268249            NaN   29232            NaN                NaN   \nmean       NaN     110.093816     NaN  128211.363989           5.714650   \nstd        NaN     189.851330     NaN   37905.083858           3.726432   \nmin        NaN       0.000000     NaN    5000.000000           0.000000   \n25%        NaN      69.000000     NaN  125000.000000           3.000000   \n50%        NaN     105.000000     NaN  150000.000000           6.000000   \n75%        NaN     143.000000     NaN  150000.000000           9.000000   \nmax        NaN   20000.000000     NaN  150000.000000          12.000000   \n\n       FuelType       Brand Repaired          DateCreated  NumberOfPictures  \\\ncount    321470      354365   283211               354365          354365.0   \nunique        7          40        2                  109               NaN   \ntop      petrol  volkswagen       no  2016-04-03 00:00:00               NaN   \nfreq     216349       77012   247158                13718               NaN   \nmean        NaN         NaN      NaN                  NaN               0.0   \nstd         NaN         NaN      NaN                  NaN               0.0   \nmin         NaN         NaN      NaN                  NaN               0.0   \n25%         NaN         NaN      NaN                  NaN               0.0   \n50%         NaN         NaN      NaN                  NaN               0.0   \n75%         NaN         NaN      NaN                  NaN               0.0   \nmax         NaN         NaN      NaN                  NaN               0.0   \n\n           PostalCode             LastSeen  \ncount   354365.000000               354365  \nunique            NaN               179150  \ntop               NaN  2016-04-06 13:45:54  \nfreq              NaN                   17  \nmean     50508.503800                  NaN  \nstd      25783.100078                  NaN  \nmin       1067.000000                  NaN  \n25%      30165.000000                  NaN  \n50%      49413.000000                  NaN  \n75%      71083.000000                  NaN  \nmax      99998.000000                  NaN  ",
      "text/html": "<div>\n<style scoped>\n    .dataframe tbody tr th:only-of-type {\n        vertical-align: middle;\n    }\n\n    .dataframe tbody tr th {\n        vertical-align: top;\n    }\n\n    .dataframe thead th {\n        text-align: right;\n    }\n</style>\n<table border=\"1\" class=\"dataframe\">\n  <thead>\n    <tr style=\"text-align: right;\">\n      <th></th>\n      <th>DateCrawled</th>\n      <th>Price</th>\n      <th>VehicleType</th>\n      <th>RegistrationYear</th>\n      <th>Gearbox</th>\n      <th>Power</th>\n      <th>Model</th>\n      <th>Kilometer</th>\n      <th>RegistrationMonth</th>\n      <th>FuelType</th>\n      <th>Brand</th>\n      <th>Repaired</th>\n      <th>DateCreated</th>\n      <th>NumberOfPictures</th>\n      <th>PostalCode</th>\n      <th>LastSeen</th>\n    </tr>\n  </thead>\n  <tbody>\n    <tr>\n      <th>count</th>\n      <td>354365</td>\n      <td>354365.000000</td>\n      <td>316875</td>\n      <td>354365.000000</td>\n      <td>334532</td>\n      <td>354365.000000</td>\n      <td>334660</td>\n      <td>354365.000000</td>\n      <td>354365.000000</td>\n      <td>321470</td>\n      <td>354365</td>\n      <td>283211</td>\n      <td>354365</td>\n      <td>354365.0</td>\n      <td>354365.000000</td>\n      <td>354365</td>\n    </tr>\n    <tr>\n      <th>unique</th>\n      <td>271174</td>\n      <td>NaN</td>\n      <td>8</td>\n      <td>NaN</td>\n      <td>2</td>\n      <td>NaN</td>\n      <td>250</td>\n      <td>NaN</td>\n      <td>NaN</td>\n      <td>7</td>\n      <td>40</td>\n      <td>2</td>\n      <td>109</td>\n      <td>NaN</td>\n      <td>NaN</td>\n      <td>179150</td>\n    </tr>\n    <tr>\n      <th>top</th>\n      <td>2016-03-24 14:49:47</td>\n      <td>NaN</td>\n      <td>sedan</td>\n      <td>NaN</td>\n      <td>manual</td>\n      <td>NaN</td>\n      <td>golf</td>\n      <td>NaN</td>\n      <td>NaN</td>\n      <td>petrol</td>\n      <td>volkswagen</td>\n      <td>no</td>\n      <td>2016-04-03 00:00:00</td>\n      <td>NaN</td>\n      <td>NaN</td>\n      <td>2016-04-06 13:45:54</td>\n    </tr>\n    <tr>\n      <th>freq</th>\n      <td>7</td>\n      <td>NaN</td>\n      <td>91457</td>\n      <td>NaN</td>\n      <td>268249</td>\n      <td>NaN</td>\n      <td>29232</td>\n      <td>NaN</td>\n      <td>NaN</td>\n      <td>216349</td>\n      <td>77012</td>\n      <td>247158</td>\n      <td>13718</td>\n      <td>NaN</td>\n      <td>NaN</td>\n      <td>17</td>\n    </tr>\n    <tr>\n      <th>mean</th>\n      <td>NaN</td>\n      <td>4416.679830</td>\n      <td>NaN</td>\n      <td>2004.234481</td>\n      <td>NaN</td>\n      <td>110.093816</td>\n      <td>NaN</td>\n      <td>128211.363989</td>\n      <td>5.714650</td>\n      <td>NaN</td>\n      <td>NaN</td>\n      <td>NaN</td>\n      <td>NaN</td>\n      <td>0.0</td>\n      <td>50508.503800</td>\n      <td>NaN</td>\n    </tr>\n    <tr>\n      <th>std</th>\n      <td>NaN</td>\n      <td>4514.176349</td>\n      <td>NaN</td>\n      <td>90.228466</td>\n      <td>NaN</td>\n      <td>189.851330</td>\n      <td>NaN</td>\n      <td>37905.083858</td>\n      <td>3.726432</td>\n      <td>NaN</td>\n      <td>NaN</td>\n      <td>NaN</td>\n      <td>NaN</td>\n      <td>0.0</td>\n      <td>25783.100078</td>\n      <td>NaN</td>\n    </tr>\n    <tr>\n      <th>min</th>\n      <td>NaN</td>\n      <td>0.000000</td>\n      <td>NaN</td>\n      <td>1000.000000</td>\n      <td>NaN</td>\n      <td>0.000000</td>\n      <td>NaN</td>\n      <td>5000.000000</td>\n      <td>0.000000</td>\n      <td>NaN</td>\n      <td>NaN</td>\n      <td>NaN</td>\n      <td>NaN</td>\n      <td>0.0</td>\n      <td>1067.000000</td>\n      <td>NaN</td>\n    </tr>\n    <tr>\n      <th>25%</th>\n      <td>NaN</td>\n      <td>1050.000000</td>\n      <td>NaN</td>\n      <td>1999.000000</td>\n      <td>NaN</td>\n      <td>69.000000</td>\n      <td>NaN</td>\n      <td>125000.000000</td>\n      <td>3.000000</td>\n      <td>NaN</td>\n      <td>NaN</td>\n      <td>NaN</td>\n      <td>NaN</td>\n      <td>0.0</td>\n      <td>30165.000000</td>\n      <td>NaN</td>\n    </tr>\n    <tr>\n      <th>50%</th>\n      <td>NaN</td>\n      <td>2700.000000</td>\n      <td>NaN</td>\n      <td>2003.000000</td>\n      <td>NaN</td>\n      <td>105.000000</td>\n      <td>NaN</td>\n      <td>150000.000000</td>\n      <td>6.000000</td>\n      <td>NaN</td>\n      <td>NaN</td>\n      <td>NaN</td>\n      <td>NaN</td>\n      <td>0.0</td>\n      <td>49413.000000</td>\n      <td>NaN</td>\n    </tr>\n    <tr>\n      <th>75%</th>\n      <td>NaN</td>\n      <td>6400.000000</td>\n      <td>NaN</td>\n      <td>2008.000000</td>\n      <td>NaN</td>\n      <td>143.000000</td>\n      <td>NaN</td>\n      <td>150000.000000</td>\n      <td>9.000000</td>\n      <td>NaN</td>\n      <td>NaN</td>\n      <td>NaN</td>\n      <td>NaN</td>\n      <td>0.0</td>\n      <td>71083.000000</td>\n      <td>NaN</td>\n    </tr>\n    <tr>\n      <th>max</th>\n      <td>NaN</td>\n      <td>20000.000000</td>\n      <td>NaN</td>\n      <td>9999.000000</td>\n      <td>NaN</td>\n      <td>20000.000000</td>\n      <td>NaN</td>\n      <td>150000.000000</td>\n      <td>12.000000</td>\n      <td>NaN</td>\n      <td>NaN</td>\n      <td>NaN</td>\n      <td>NaN</td>\n      <td>0.0</td>\n      <td>99998.000000</td>\n      <td>NaN</td>\n    </tr>\n  </tbody>\n</table>\n</div>"
     },
     "execution_count": 8,
     "metadata": {},
     "output_type": "execute_result"
    }
   ],
   "source": [
    "# проверим значения:\n",
    "df.describe(include='all')"
   ],
   "metadata": {
    "collapsed": false,
    "ExecuteTime": {
     "end_time": "2023-12-09T15:03:58.273942900Z",
     "start_time": "2023-12-09T15:03:56.887680300Z"
    }
   },
   "id": "853b8fca98b807a4"
  },
  {
   "cell_type": "markdown",
   "source": [
    "Столбцы, требующие обработки:\n",
    "\n",
    "- VehicleType. Восстановим значения по самому популярному типу для разных марок автомобилей. Для оставшихся NaN установим значение 'unknown'.\n",
    "- Gearbox. Восстановим значения по самому популярному типу для разных марок автомобилей. Для оставшихся NaN установим значение 'unknown'.\n",
    "- Power. Скорректируем на основе реальных значений в машинах. \n",
    "- FuelType. Восстановим значения по самому популярному типу для разных марок автомобилей. Для оставшихся NaN установим значение 'unknown'.\n",
    "- Repaired. Для всех NaN установим значение 'unknown'. \n",
    "- RegistrationYear. Скорректируем на основе реальных значений в машинах.\n",
    "- Model. Для всех NaN установим значение 'unknown'.\n",
    "- Price. "
   ],
   "metadata": {
    "collapsed": false
   },
   "id": "525723e6a7e4f59b"
  },
  {
   "cell_type": "markdown",
   "source": [
    "### Обработка выбросов\n",
    "#### Признак Price"
   ],
   "metadata": {
    "collapsed": false
   },
   "id": "84482376d1beed29"
  },
  {
   "cell_type": "code",
   "execution_count": 141,
   "outputs": [
    {
     "data": {
      "text/plain": "<Figure size 800x800 with 1 Axes>",
      "image/png": "[encoded data removed]"
     },
     "metadata": {},
     "output_type": "display_data"
    }
   ],
   "source": [
    "df.boxplot(column=['Price'], figsize=(8,8))\n",
    "plt.show()"
   ],
   "metadata": {
    "collapsed": false,
    "ExecuteTime": {
     "end_time": "2023-12-10T09:35:13.546081800Z",
     "start_time": "2023-12-10T09:35:11.491807700Z"
    }
   },
   "id": "54c44ede5e7436c9"
  },
  {
   "cell_type": "code",
   "execution_count": 143,
   "outputs": [
    {
     "data": {
      "text/plain": "<Figure size 2000x500 with 1 Axes>",
      "image/png": "[encoded data removed]"
     },
     "metadata": {},
     "output_type": "display_data"
    }
   ],
   "source": [
    "df['Price'].hist(bins=300, figsize=(20,5))\n",
    "plt.show()"
   ],
   "metadata": {
    "collapsed": false,
    "ExecuteTime": {
     "end_time": "2023-12-10T09:35:51.986936800Z",
     "start_time": "2023-12-10T09:35:49.645885800Z"
    }
   },
   "id": "8d02d8afab6307d7"
  },
  {
   "cell_type": "code",
   "execution_count": 144,
   "outputs": [
    {
     "data": {
      "text/plain": "Price\n0        9491\n500      5487\n1500     5264\n1200     4494\n1000     4474\n         ... \n1368        1\n233         1\n11080       1\n16340       1\n10985       1\nName: count, Length: 3711, dtype: int64"
     },
     "execution_count": 144,
     "metadata": {},
     "output_type": "execute_result"
    }
   ],
   "source": [
    "df['Price'].value_counts()"
   ],
   "metadata": {
    "collapsed": false,
    "ExecuteTime": {
     "end_time": "2023-12-10T09:36:20.023852Z",
     "start_time": "2023-12-10T09:36:19.900188300Z"
    }
   },
   "id": "9f23c4bd7b6567"
  },
  {
   "cell_type": "code",
   "execution_count": 145,
   "outputs": [
    {
     "name": "stdout",
     "output_type": "stream",
     "text": [
      "2.73\n"
     ]
    }
   ],
   "source": [
    "# посчитаем, какой процент от всего датасета занимают строки, где цена автомобиля указана как 0:\n",
    "print('{:.2f}'.format(df[df['Price'] == 0].shape[0]/df.shape[0]*100))"
   ],
   "metadata": {
    "collapsed": false,
    "ExecuteTime": {
     "end_time": "2023-12-10T09:37:33.420512800Z",
     "start_time": "2023-12-10T09:37:33.270615200Z"
    }
   },
   "id": "2dd1d6da357e7502"
  },
  {
   "cell_type": "code",
   "execution_count": null,
   "outputs": [],
   "source": [
    "# удалим строки датасета, в которых цена автомобиля указана как 0:\n",
    "df"
   ],
   "metadata": {
    "collapsed": false
   },
   "id": "e20bd3710c83fe4d"
  },
  {
   "cell_type": "code",
   "execution_count": null,
   "outputs": [],
   "source": [],
   "metadata": {
    "collapsed": false
   },
   "id": "ffbbb93fca33ee63"
  },
  {
   "cell_type": "markdown",
   "source": [
    "#### Признак RegistrationYear"
   ],
   "metadata": {
    "collapsed": false
   },
   "id": "a610bd10c37c0713"
  },
  {
   "cell_type": "code",
   "execution_count": 9,
   "outputs": [
    {
     "data": {
      "text/plain": "<Figure size 800x800 with 1 Axes>",
      "image/png": "[encoded data removed]"
     },
     "metadata": {},
     "output_type": "display_data"
    }
   ],
   "source": [
    "df.boxplot(column=['RegistrationYear'], figsize=(8,8))\n",
    "plt.show()"
   ],
   "metadata": {
    "collapsed": false,
    "ExecuteTime": {
     "end_time": "2023-12-09T15:03:59.282578200Z",
     "start_time": "2023-12-09T15:03:58.258903Z"
    }
   },
   "id": "6cc8f41a2471c13b"
  },
  {
   "cell_type": "code",
   "execution_count": 10,
   "outputs": [
    {
     "data": {
      "text/plain": "RegistrationYear\n1000    37\n1001     1\n1039     1\n1111     3\n1200     1\n        ..\n9000     3\n9229     1\n9450     1\n9996     1\n9999    26\nName: count, Length: 151, dtype: int64"
     },
     "execution_count": 10,
     "metadata": {},
     "output_type": "execute_result"
    }
   ],
   "source": [
    "# найдем уникальные значения в столбце RegistrationYear и выполним сортировку по индексу:\n",
    "df['RegistrationYear'].value_counts().sort_index()"
   ],
   "metadata": {
    "collapsed": false,
    "ExecuteTime": {
     "end_time": "2023-12-09T15:03:59.455092300Z",
     "start_time": "2023-12-09T15:03:59.222443900Z"
    }
   },
   "id": "59b9b010d0dde35b"
  },
  {
   "cell_type": "code",
   "execution_count": 11,
   "outputs": [
    {
     "name": "stdout",
     "output_type": "stream",
     "text": [
      "2016-03-05 14:06:22\n",
      "2016-04-07 14:36:58\n"
     ]
    }
   ],
   "source": [
    "# проверим даты скачивания анкет из базы:\n",
    "print(df['DateCrawled'].min())\n",
    "print(df['DateCrawled'].max())"
   ],
   "metadata": {
    "collapsed": false,
    "ExecuteTime": {
     "end_time": "2023-12-09T15:03:59.566412900Z",
     "start_time": "2023-12-09T15:03:59.252539800Z"
    }
   },
   "id": "ef54a7a1f44f47ab"
  },
  {
   "cell_type": "markdown",
   "source": [
    "Поскольку наши данные на 2016 год, заменим все значения с годом после 2016 на 2016, и, поскольку автомобили до 1930 года - это скорее всего аномалии, заменим их тоже."
   ],
   "metadata": {
    "collapsed": false
   },
   "id": "a78ffe683858a951"
  },
  {
   "cell_type": "code",
   "execution_count": 12,
   "outputs": [],
   "source": [
    "# обработаем выбросы в столбце RegistrationYear: \n",
    "def balance_reg_year(value):\n",
    "    if value > 2016:\n",
    "        return 2016\n",
    "    elif value < 1930:\n",
    "        return 1930\n",
    "    else:\n",
    "        return value\n",
    "\n",
    "df[\"RegistrationYear\"] = df[\"RegistrationYear\"].apply(balance_reg_year)"
   ],
   "metadata": {
    "collapsed": false,
    "ExecuteTime": {
     "end_time": "2023-12-09T15:03:59.877172100Z",
     "start_time": "2023-12-09T15:03:59.320737600Z"
    }
   },
   "id": "b20fd091f54492be"
  },
  {
   "cell_type": "code",
   "execution_count": 13,
   "outputs": [
    {
     "data": {
      "text/plain": "<Figure size 800x800 with 1 Axes>",
      "image/png": "[encoded data removed]"
     },
     "metadata": {},
     "output_type": "display_data"
    }
   ],
   "source": [
    "df.boxplot(column=['RegistrationYear'], figsize=(8,8))\n",
    "plt.show()"
   ],
   "metadata": {
    "collapsed": false,
    "ExecuteTime": {
     "end_time": "2023-12-09T15:04:00.634797500Z",
     "start_time": "2023-12-09T15:03:59.556573500Z"
    }
   },
   "id": "69dd563b45149b1"
  },
  {
   "cell_type": "markdown",
   "source": [
    "#### Признак Power"
   ],
   "metadata": {
    "collapsed": false
   },
   "id": "a68aa5acb52b4605"
  },
  {
   "cell_type": "code",
   "execution_count": 14,
   "outputs": [
    {
     "data": {
      "text/plain": "<Figure size 800x600 with 1 Axes>",
      "image/png": "[encoded data removed]"
     },
     "metadata": {},
     "output_type": "display_data"
    }
   ],
   "source": [
    "df.boxplot(column=['Power'], figsize=(8,6))\n",
    "plt.show()"
   ],
   "metadata": {
    "collapsed": false,
    "ExecuteTime": {
     "end_time": "2023-12-09T15:04:01.520499500Z",
     "start_time": "2023-12-09T15:04:00.439913400Z"
    }
   },
   "id": "3d3197162511cd0f"
  },
  {
   "cell_type": "code",
   "execution_count": 15,
   "outputs": [
    {
     "data": {
      "text/plain": "Power\n0        40225\n1           34\n2           10\n3            9\n4           30\n         ...  \n17932        1\n19208        1\n19211        1\n19312        1\n20000        1\nName: count, Length: 712, dtype: int64"
     },
     "execution_count": 15,
     "metadata": {},
     "output_type": "execute_result"
    }
   ],
   "source": [
    "# найдем уникальные значения в столбце Power и выполним сортировку по индексу:\n",
    "df['Power'].value_counts().sort_index()"
   ],
   "metadata": {
    "collapsed": false,
    "ExecuteTime": {
     "end_time": "2023-12-09T15:04:01.906125300Z",
     "start_time": "2023-12-09T15:04:01.339482400Z"
    }
   },
   "id": "23343c624f5216a7"
  },
  {
   "cell_type": "code",
   "execution_count": 16,
   "outputs": [],
   "source": [
    "# ограничим признак Power 3500 л.с.:\n",
    "df[\"Power\"] = df[\"Power\"].apply(lambda x: 3500 if x > 3500 else x)"
   ],
   "metadata": {
    "collapsed": false,
    "ExecuteTime": {
     "end_time": "2023-12-09T15:04:02.697559500Z",
     "start_time": "2023-12-09T15:04:01.479705300Z"
    }
   },
   "id": "421313c2ecd6b860"
  },
  {
   "cell_type": "markdown",
   "source": [
    "Поскольку иметь 0 л.с. для машины на данный момент нереально, изучим эти данные."
   ],
   "metadata": {
    "collapsed": false
   },
   "id": "bfe3986640ca7520"
  },
  {
   "cell_type": "code",
   "execution_count": 17,
   "outputs": [
    {
     "name": "stdout",
     "output_type": "stream",
     "text": [
      "11.35\n"
     ]
    }
   ],
   "source": [
    "# посчитаем, какой процент от всего датасета занимают строки, где мощность двигателя указана как 0:\n",
    "print('{:.2f}'.format(df[df['Power'] == 0].shape[0]/df.shape[0]*100))"
   ],
   "metadata": {
    "collapsed": false,
    "ExecuteTime": {
     "end_time": "2023-12-09T15:04:02.697559500Z",
     "start_time": "2023-12-09T15:04:01.767085500Z"
    }
   },
   "id": "65c40da63b7338d2"
  },
  {
   "cell_type": "code",
   "execution_count": 18,
   "outputs": [
    {
     "data": {
      "text/plain": "Model\nother         3169\ngolf          2460\ncorsa         1771\npolo          1611\n3er           1534\n              ... \nserie_3          1\nb_max            1\namarok           1\nyeti             1\nelefantino       1\nName: count, Length: 247, dtype: int64"
     },
     "execution_count": 18,
     "metadata": {},
     "output_type": "execute_result"
    }
   ],
   "source": [
    "# посмотрим на марки автомобилей, мощность которых указана как 0:\n",
    "df[df['Power'] == 0]['Model'].value_counts()"
   ],
   "metadata": {
    "collapsed": false,
    "ExecuteTime": {
     "end_time": "2023-12-09T15:04:02.760481200Z",
     "start_time": "2023-12-09T15:04:01.833635Z"
    }
   },
   "id": "6ad970a4ba73e07a"
  },
  {
   "cell_type": "code",
   "execution_count": 19,
   "outputs": [],
   "source": [
    "# заменим нули на самое частое значение для разных моделей автомобилей:\n",
    "for model in df['Model'].unique():\n",
    "    try:\n",
    "        if df[df['Model'] == model]['Power'].value_counts().index[0] == 0:\n",
    "            new_value = df[df['Model'] == model]['Power'].value_counts().index[1]\n",
    "            df.loc[(df['Power'] == 0) & (df['Model'] == model), 'Power'] = new_value\n",
    "        else:\n",
    "            new_value = df[df['Model'] == model]['Power'].value_counts().index[0]\n",
    "            df.loc[(df['Power'] == 0) & (df['Model'] == model), 'Power'] = new_value\n",
    "    except:\n",
    "        IndexError"
   ],
   "metadata": {
    "collapsed": false,
    "ExecuteTime": {
     "end_time": "2023-12-09T15:04:27.162119200Z",
     "start_time": "2023-12-09T15:04:01.897484600Z"
    }
   },
   "id": "67fcc0080550acef"
  },
  {
   "cell_type": "code",
   "execution_count": 20,
   "outputs": [
    {
     "name": "stdout",
     "output_type": "stream",
     "text": [
      "1.78\n"
     ]
    }
   ],
   "source": [
    "# проверим, остались ли нулевые значения и в каком количестве:\n",
    "print('{:.2f}'.format(df[df['Power'] == 0].shape[0]/df.shape[0]*100))"
   ],
   "metadata": {
    "collapsed": false,
    "ExecuteTime": {
     "end_time": "2023-12-09T15:04:27.187487Z",
     "start_time": "2023-12-09T15:04:27.168110700Z"
    }
   },
   "id": "d7516d538a6f089"
  },
  {
   "cell_type": "code",
   "execution_count": 21,
   "outputs": [
    {
     "data": {
      "text/plain": "                DateCrawled  Price VehicleType  RegistrationYear Gearbox  \\\n115     2016-03-20 18:53:27      0       small              1999     NaN   \n160     2016-03-19 19:49:15    500       small              1999  manual   \n260     2016-04-04 09:49:59    450         NaN              2016  manual   \n306     2016-03-21 14:38:37    200         NaN              2009     NaN   \n308     2016-03-13 13:38:54   1600       wagon              1999  manual   \n...                     ...    ...         ...               ...     ...   \n354080  2016-04-03 20:37:39   4300       small              2008    auto   \n354083  2016-03-30 07:54:17      0         NaN              2000     NaN   \n354162  2016-03-07 19:51:14   1500         NaN              1995     NaN   \n354338  2016-03-31 19:52:33    180         NaN              1995     NaN   \n354365  2016-03-14 17:48:27   2200         NaN              2005     NaN   \n\n        Power Model  Kilometer  RegistrationMonth FuelType           Brand  \\\n115         0   NaN       5000                  0   petrol      volkswagen   \n160         0   NaN     150000                  0   petrol         renault   \n260         0   NaN     150000                  3   petrol      mitsubishi   \n306         0   NaN      10000                  0      NaN  sonstige_autos   \n308         0   NaN     150000                  6   petrol             bmw   \n...       ...   ...        ...                ...      ...             ...   \n354080      0   NaN     150000                  3      NaN           honda   \n354083      0   NaN     150000                  0      NaN  sonstige_autos   \n354162      0   NaN     150000                  0      NaN      volkswagen   \n354338      0   NaN     125000                  3   petrol            opel   \n354365      0   NaN      20000                  1      NaN  sonstige_autos   \n\n       Repaired          DateCreated  NumberOfPictures  PostalCode  \\\n115         NaN  2016-03-20 00:00:00                 0       37520   \n160          no  2016-03-19 00:00:00                 0       26969   \n260          no  2016-04-04 00:00:00                 0       59302   \n306         NaN  2016-03-21 00:00:00                 0        6493   \n308          no  2016-03-13 00:00:00                 0       41199   \n...         ...                  ...               ...         ...   \n354080      NaN  2016-04-03 00:00:00                 0       30627   \n354083      NaN  2016-03-30 00:00:00                 0        6686   \n354162      NaN  2016-03-07 00:00:00                 0       26789   \n354338      NaN  2016-03-31 00:00:00                 0       41470   \n354365      NaN  2016-03-14 00:00:00                 0       39576   \n\n                   LastSeen  \n115     2016-04-07 02:45:22  \n160     2016-04-01 11:17:48  \n260     2016-04-06 11:17:11  \n306     2016-03-24 02:47:34  \n308     2016-03-28 12:46:35  \n...                     ...  \n354080  2016-04-05 21:16:51  \n354083  2016-04-06 23:46:19  \n354162  2016-04-03 11:46:59  \n354338  2016-04-06 14:18:04  \n354365  2016-04-06 00:46:52  \n\n[6296 rows x 16 columns]",
      "text/html": "<div>\n<style scoped>\n    .dataframe tbody tr th:only-of-type {\n        vertical-align: middle;\n    }\n\n    .dataframe tbody tr th {\n        vertical-align: top;\n    }\n\n    .dataframe thead th {\n        text-align: right;\n    }\n</style>\n<table border=\"1\" class=\"dataframe\">\n  <thead>\n    <tr style=\"text-align: right;\">\n      <th></th>\n      <th>DateCrawled</th>\n      <th>Price</th>\n      <th>VehicleType</th>\n      <th>RegistrationYear</th>\n      <th>Gearbox</th>\n      <th>Power</th>\n      <th>Model</th>\n      <th>Kilometer</th>\n      <th>RegistrationMonth</th>\n      <th>FuelType</th>\n      <th>Brand</th>\n      <th>Repaired</th>\n      <th>DateCreated</th>\n      <th>NumberOfPictures</th>\n      <th>PostalCode</th>\n      <th>LastSeen</th>\n    </tr>\n  </thead>\n  <tbody>\n    <tr>\n      <th>115</th>\n      <td>2016-03-20 18:53:27</td>\n      <td>0</td>\n      <td>small</td>\n      <td>1999</td>\n      <td>NaN</td>\n      <td>0</td>\n      <td>NaN</td>\n      <td>5000</td>\n      <td>0</td>\n      <td>petrol</td>\n      <td>volkswagen</td>\n      <td>NaN</td>\n      <td>2016-03-20 00:00:00</td>\n      <td>0</td>\n      <td>37520</td>\n      <td>2016-04-07 02:45:22</td>\n    </tr>\n    <tr>\n      <th>160</th>\n      <td>2016-03-19 19:49:15</td>\n      <td>500</td>\n      <td>small</td>\n      <td>1999</td>\n      <td>manual</td>\n      <td>0</td>\n      <td>NaN</td>\n      <td>150000</td>\n      <td>0</td>\n      <td>petrol</td>\n      <td>renault</td>\n      <td>no</td>\n      <td>2016-03-19 00:00:00</td>\n      <td>0</td>\n      <td>26969</td>\n      <td>2016-04-01 11:17:48</td>\n    </tr>\n    <tr>\n      <th>260</th>\n      <td>2016-04-04 09:49:59</td>\n      <td>450</td>\n      <td>NaN</td>\n      <td>2016</td>\n      <td>manual</td>\n      <td>0</td>\n      <td>NaN</td>\n      <td>150000</td>\n      <td>3</td>\n      <td>petrol</td>\n      <td>mitsubishi</td>\n      <td>no</td>\n      <td>2016-04-04 00:00:00</td>\n      <td>0</td>\n      <td>59302</td>\n      <td>2016-04-06 11:17:11</td>\n    </tr>\n    <tr>\n      <th>306</th>\n      <td>2016-03-21 14:38:37</td>\n      <td>200</td>\n      <td>NaN</td>\n      <td>2009</td>\n      <td>NaN</td>\n      <td>0</td>\n      <td>NaN</td>\n      <td>10000</td>\n      <td>0</td>\n      <td>NaN</td>\n      <td>sonstige_autos</td>\n      <td>NaN</td>\n      <td>2016-03-21 00:00:00</td>\n      <td>0</td>\n      <td>6493</td>\n      <td>2016-03-24 02:47:34</td>\n    </tr>\n    <tr>\n      <th>308</th>\n      <td>2016-03-13 13:38:54</td>\n      <td>1600</td>\n      <td>wagon</td>\n      <td>1999</td>\n      <td>manual</td>\n      <td>0</td>\n      <td>NaN</td>\n      <td>150000</td>\n      <td>6</td>\n      <td>petrol</td>\n      <td>bmw</td>\n      <td>no</td>\n      <td>2016-03-13 00:00:00</td>\n      <td>0</td>\n      <td>41199</td>\n      <td>2016-03-28 12:46:35</td>\n    </tr>\n    <tr>\n      <th>...</th>\n      <td>...</td>\n      <td>...</td>\n      <td>...</td>\n      <td>...</td>\n      <td>...</td>\n      <td>...</td>\n      <td>...</td>\n      <td>...</td>\n      <td>...</td>\n      <td>...</td>\n      <td>...</td>\n      <td>...</td>\n      <td>...</td>\n      <td>...</td>\n      <td>...</td>\n      <td>...</td>\n    </tr>\n    <tr>\n      <th>354080</th>\n      <td>2016-04-03 20:37:39</td>\n      <td>4300</td>\n      <td>small</td>\n      <td>2008</td>\n      <td>auto</td>\n      <td>0</td>\n      <td>NaN</td>\n      <td>150000</td>\n      <td>3</td>\n      <td>NaN</td>\n      <td>honda</td>\n      <td>NaN</td>\n      <td>2016-04-03 00:00:00</td>\n      <td>0</td>\n      <td>30627</td>\n      <td>2016-04-05 21:16:51</td>\n    </tr>\n    <tr>\n      <th>354083</th>\n      <td>2016-03-30 07:54:17</td>\n      <td>0</td>\n      <td>NaN</td>\n      <td>2000</td>\n      <td>NaN</td>\n      <td>0</td>\n      <td>NaN</td>\n      <td>150000</td>\n      <td>0</td>\n      <td>NaN</td>\n      <td>sonstige_autos</td>\n      <td>NaN</td>\n      <td>2016-03-30 00:00:00</td>\n      <td>0</td>\n      <td>6686</td>\n      <td>2016-04-06 23:46:19</td>\n    </tr>\n    <tr>\n      <th>354162</th>\n      <td>2016-03-07 19:51:14</td>\n      <td>1500</td>\n      <td>NaN</td>\n      <td>1995</td>\n      <td>NaN</td>\n      <td>0</td>\n      <td>NaN</td>\n      <td>150000</td>\n      <td>0</td>\n      <td>NaN</td>\n      <td>volkswagen</td>\n      <td>NaN</td>\n      <td>2016-03-07 00:00:00</td>\n      <td>0</td>\n      <td>26789</td>\n      <td>2016-04-03 11:46:59</td>\n    </tr>\n    <tr>\n      <th>354338</th>\n      <td>2016-03-31 19:52:33</td>\n      <td>180</td>\n      <td>NaN</td>\n      <td>1995</td>\n      <td>NaN</td>\n      <td>0</td>\n      <td>NaN</td>\n      <td>125000</td>\n      <td>3</td>\n      <td>petrol</td>\n      <td>opel</td>\n      <td>NaN</td>\n      <td>2016-03-31 00:00:00</td>\n      <td>0</td>\n      <td>41470</td>\n      <td>2016-04-06 14:18:04</td>\n    </tr>\n    <tr>\n      <th>354365</th>\n      <td>2016-03-14 17:48:27</td>\n      <td>2200</td>\n      <td>NaN</td>\n      <td>2005</td>\n      <td>NaN</td>\n      <td>0</td>\n      <td>NaN</td>\n      <td>20000</td>\n      <td>1</td>\n      <td>NaN</td>\n      <td>sonstige_autos</td>\n      <td>NaN</td>\n      <td>2016-03-14 00:00:00</td>\n      <td>0</td>\n      <td>39576</td>\n      <td>2016-04-06 00:46:52</td>\n    </tr>\n  </tbody>\n</table>\n<p>6296 rows × 16 columns</p>\n</div>"
     },
     "execution_count": 21,
     "metadata": {},
     "output_type": "execute_result"
    }
   ],
   "source": [
    "# посмотрим на эти данные:\n",
    "df[df['Power'] == 0]"
   ],
   "metadata": {
    "collapsed": false,
    "ExecuteTime": {
     "end_time": "2023-12-09T15:04:27.222709300Z",
     "start_time": "2023-12-09T15:04:27.190485300Z"
    }
   },
   "id": "f790d99bab06fa89"
  },
  {
   "cell_type": "code",
   "execution_count": 22,
   "outputs": [
    {
     "data": {
      "text/plain": "                DateCrawled  Price VehicleType  RegistrationYear Gearbox  \\\n115     2016-03-20 18:53:27      0       small              1999     NaN   \n160     2016-03-19 19:49:15    500       small              1999  manual   \n260     2016-04-04 09:49:59    450         NaN              2016  manual   \n306     2016-03-21 14:38:37    200         NaN              2009     NaN   \n308     2016-03-13 13:38:54   1600       wagon              1999  manual   \n...                     ...    ...         ...               ...     ...   \n354080  2016-04-03 20:37:39   4300       small              2008    auto   \n354083  2016-03-30 07:54:17      0         NaN              2000     NaN   \n354162  2016-03-07 19:51:14   1500         NaN              1995     NaN   \n354338  2016-03-31 19:52:33    180         NaN              1995     NaN   \n354365  2016-03-14 17:48:27   2200         NaN              2005     NaN   \n\n        Power Model  Kilometer  RegistrationMonth FuelType           Brand  \\\n115         0   NaN       5000                  0   petrol      volkswagen   \n160         0   NaN     150000                  0   petrol         renault   \n260         0   NaN     150000                  3   petrol      mitsubishi   \n306         0   NaN      10000                  0      NaN  sonstige_autos   \n308         0   NaN     150000                  6   petrol             bmw   \n...       ...   ...        ...                ...      ...             ...   \n354080      0   NaN     150000                  3      NaN           honda   \n354083      0   NaN     150000                  0      NaN  sonstige_autos   \n354162      0   NaN     150000                  0      NaN      volkswagen   \n354338      0   NaN     125000                  3   petrol            opel   \n354365      0   NaN      20000                  1      NaN  sonstige_autos   \n\n       Repaired          DateCreated  NumberOfPictures  PostalCode  \\\n115         NaN  2016-03-20 00:00:00                 0       37520   \n160          no  2016-03-19 00:00:00                 0       26969   \n260          no  2016-04-04 00:00:00                 0       59302   \n306         NaN  2016-03-21 00:00:00                 0        6493   \n308          no  2016-03-13 00:00:00                 0       41199   \n...         ...                  ...               ...         ...   \n354080      NaN  2016-04-03 00:00:00                 0       30627   \n354083      NaN  2016-03-30 00:00:00                 0        6686   \n354162      NaN  2016-03-07 00:00:00                 0       26789   \n354338      NaN  2016-03-31 00:00:00                 0       41470   \n354365      NaN  2016-03-14 00:00:00                 0       39576   \n\n                   LastSeen  \n115     2016-04-07 02:45:22  \n160     2016-04-01 11:17:48  \n260     2016-04-06 11:17:11  \n306     2016-03-24 02:47:34  \n308     2016-03-28 12:46:35  \n...                     ...  \n354080  2016-04-05 21:16:51  \n354083  2016-04-06 23:46:19  \n354162  2016-04-03 11:46:59  \n354338  2016-04-06 14:18:04  \n354365  2016-04-06 00:46:52  \n\n[6294 rows x 16 columns]",
      "text/html": "<div>\n<style scoped>\n    .dataframe tbody tr th:only-of-type {\n        vertical-align: middle;\n    }\n\n    .dataframe tbody tr th {\n        vertical-align: top;\n    }\n\n    .dataframe thead th {\n        text-align: right;\n    }\n</style>\n<table border=\"1\" class=\"dataframe\">\n  <thead>\n    <tr style=\"text-align: right;\">\n      <th></th>\n      <th>DateCrawled</th>\n      <th>Price</th>\n      <th>VehicleType</th>\n      <th>RegistrationYear</th>\n      <th>Gearbox</th>\n      <th>Power</th>\n      <th>Model</th>\n      <th>Kilometer</th>\n      <th>RegistrationMonth</th>\n      <th>FuelType</th>\n      <th>Brand</th>\n      <th>Repaired</th>\n      <th>DateCreated</th>\n      <th>NumberOfPictures</th>\n      <th>PostalCode</th>\n      <th>LastSeen</th>\n    </tr>\n  </thead>\n  <tbody>\n    <tr>\n      <th>115</th>\n      <td>2016-03-20 18:53:27</td>\n      <td>0</td>\n      <td>small</td>\n      <td>1999</td>\n      <td>NaN</td>\n      <td>0</td>\n      <td>NaN</td>\n      <td>5000</td>\n      <td>0</td>\n      <td>petrol</td>\n      <td>volkswagen</td>\n      <td>NaN</td>\n      <td>2016-03-20 00:00:00</td>\n      <td>0</td>\n      <td>37520</td>\n      <td>2016-04-07 02:45:22</td>\n    </tr>\n    <tr>\n      <th>160</th>\n      <td>2016-03-19 19:49:15</td>\n      <td>500</td>\n      <td>small</td>\n      <td>1999</td>\n      <td>manual</td>\n      <td>0</td>\n      <td>NaN</td>\n      <td>150000</td>\n      <td>0</td>\n      <td>petrol</td>\n      <td>renault</td>\n      <td>no</td>\n      <td>2016-03-19 00:00:00</td>\n      <td>0</td>\n      <td>26969</td>\n      <td>2016-04-01 11:17:48</td>\n    </tr>\n    <tr>\n      <th>260</th>\n      <td>2016-04-04 09:49:59</td>\n      <td>450</td>\n      <td>NaN</td>\n      <td>2016</td>\n      <td>manual</td>\n      <td>0</td>\n      <td>NaN</td>\n      <td>150000</td>\n      <td>3</td>\n      <td>petrol</td>\n      <td>mitsubishi</td>\n      <td>no</td>\n      <td>2016-04-04 00:00:00</td>\n      <td>0</td>\n      <td>59302</td>\n      <td>2016-04-06 11:17:11</td>\n    </tr>\n    <tr>\n      <th>306</th>\n      <td>2016-03-21 14:38:37</td>\n      <td>200</td>\n      <td>NaN</td>\n      <td>2009</td>\n      <td>NaN</td>\n      <td>0</td>\n      <td>NaN</td>\n      <td>10000</td>\n      <td>0</td>\n      <td>NaN</td>\n      <td>sonstige_autos</td>\n      <td>NaN</td>\n      <td>2016-03-21 00:00:00</td>\n      <td>0</td>\n      <td>6493</td>\n      <td>2016-03-24 02:47:34</td>\n    </tr>\n    <tr>\n      <th>308</th>\n      <td>2016-03-13 13:38:54</td>\n      <td>1600</td>\n      <td>wagon</td>\n      <td>1999</td>\n      <td>manual</td>\n      <td>0</td>\n      <td>NaN</td>\n      <td>150000</td>\n      <td>6</td>\n      <td>petrol</td>\n      <td>bmw</td>\n      <td>no</td>\n      <td>2016-03-13 00:00:00</td>\n      <td>0</td>\n      <td>41199</td>\n      <td>2016-03-28 12:46:35</td>\n    </tr>\n    <tr>\n      <th>...</th>\n      <td>...</td>\n      <td>...</td>\n      <td>...</td>\n      <td>...</td>\n      <td>...</td>\n      <td>...</td>\n      <td>...</td>\n      <td>...</td>\n      <td>...</td>\n      <td>...</td>\n      <td>...</td>\n      <td>...</td>\n      <td>...</td>\n      <td>...</td>\n      <td>...</td>\n      <td>...</td>\n    </tr>\n    <tr>\n      <th>354080</th>\n      <td>2016-04-03 20:37:39</td>\n      <td>4300</td>\n      <td>small</td>\n      <td>2008</td>\n      <td>auto</td>\n      <td>0</td>\n      <td>NaN</td>\n      <td>150000</td>\n      <td>3</td>\n      <td>NaN</td>\n      <td>honda</td>\n      <td>NaN</td>\n      <td>2016-04-03 00:00:00</td>\n      <td>0</td>\n      <td>30627</td>\n      <td>2016-04-05 21:16:51</td>\n    </tr>\n    <tr>\n      <th>354083</th>\n      <td>2016-03-30 07:54:17</td>\n      <td>0</td>\n      <td>NaN</td>\n      <td>2000</td>\n      <td>NaN</td>\n      <td>0</td>\n      <td>NaN</td>\n      <td>150000</td>\n      <td>0</td>\n      <td>NaN</td>\n      <td>sonstige_autos</td>\n      <td>NaN</td>\n      <td>2016-03-30 00:00:00</td>\n      <td>0</td>\n      <td>6686</td>\n      <td>2016-04-06 23:46:19</td>\n    </tr>\n    <tr>\n      <th>354162</th>\n      <td>2016-03-07 19:51:14</td>\n      <td>1500</td>\n      <td>NaN</td>\n      <td>1995</td>\n      <td>NaN</td>\n      <td>0</td>\n      <td>NaN</td>\n      <td>150000</td>\n      <td>0</td>\n      <td>NaN</td>\n      <td>volkswagen</td>\n      <td>NaN</td>\n      <td>2016-03-07 00:00:00</td>\n      <td>0</td>\n      <td>26789</td>\n      <td>2016-04-03 11:46:59</td>\n    </tr>\n    <tr>\n      <th>354338</th>\n      <td>2016-03-31 19:52:33</td>\n      <td>180</td>\n      <td>NaN</td>\n      <td>1995</td>\n      <td>NaN</td>\n      <td>0</td>\n      <td>NaN</td>\n      <td>125000</td>\n      <td>3</td>\n      <td>petrol</td>\n      <td>opel</td>\n      <td>NaN</td>\n      <td>2016-03-31 00:00:00</td>\n      <td>0</td>\n      <td>41470</td>\n      <td>2016-04-06 14:18:04</td>\n    </tr>\n    <tr>\n      <th>354365</th>\n      <td>2016-03-14 17:48:27</td>\n      <td>2200</td>\n      <td>NaN</td>\n      <td>2005</td>\n      <td>NaN</td>\n      <td>0</td>\n      <td>NaN</td>\n      <td>20000</td>\n      <td>1</td>\n      <td>NaN</td>\n      <td>sonstige_autos</td>\n      <td>NaN</td>\n      <td>2016-03-14 00:00:00</td>\n      <td>0</td>\n      <td>39576</td>\n      <td>2016-04-06 00:46:52</td>\n    </tr>\n  </tbody>\n</table>\n<p>6294 rows × 16 columns</p>\n</div>"
     },
     "execution_count": 22,
     "metadata": {},
     "output_type": "execute_result"
    }
   ],
   "source": [
    "df.loc[(df['Power'] == 0) & df['Model'].isna()]"
   ],
   "metadata": {
    "collapsed": false,
    "ExecuteTime": {
     "end_time": "2023-12-09T15:04:27.355900700Z",
     "start_time": "2023-12-09T15:04:27.219703400Z"
    }
   },
   "id": "20e73996774ca634"
  },
  {
   "cell_type": "markdown",
   "source": [
    "Остается 6296 строк (меньше 2% датасета), в которых значения признака Power равны нулю, и во всех этих строках неизвестны модели автомобилей (пропуски). Ограничим мощность двигателей значениями от 10 л.с.:"
   ],
   "metadata": {
    "collapsed": false
   },
   "id": "6a938cc264acd9d7"
  },
  {
   "cell_type": "code",
   "execution_count": 23,
   "outputs": [],
   "source": [
    "df = df[df['Power'] > 10]"
   ],
   "metadata": {
    "collapsed": false,
    "ExecuteTime": {
     "end_time": "2023-12-09T15:04:27.431155400Z",
     "start_time": "2023-12-09T15:04:27.265479800Z"
    }
   },
   "id": "1b01e0c3a8c3ef3a"
  },
  {
   "cell_type": "code",
   "execution_count": 24,
   "outputs": [
    {
     "data": {
      "text/plain": "<Figure size 800x600 with 1 Axes>",
      "image/png": "[encoded data removed]"
     },
     "metadata": {},
     "output_type": "display_data"
    }
   ],
   "source": [
    "df.boxplot(column=['Power'], figsize=(8,6))\n",
    "plt.show()"
   ],
   "metadata": {
    "collapsed": false,
    "ExecuteTime": {
     "end_time": "2023-12-09T15:04:28.207904500Z",
     "start_time": "2023-12-09T15:04:27.346558100Z"
    }
   },
   "id": "9654ebc022b70a38"
  },
  {
   "cell_type": "markdown",
   "source": [
    "### Обработка пропущенных значений"
   ],
   "metadata": {
    "collapsed": false
   },
   "id": "d804dfccde7ba6e6"
  },
  {
   "cell_type": "code",
   "execution_count": 25,
   "outputs": [
    {
     "name": "stdout",
     "output_type": "stream",
     "text": [
      "DateCrawled - 0.0%\n",
      "Price - 0.0%\n",
      "VehicleType - 9.71%\n",
      "RegistrationYear - 0.0%\n",
      "Gearbox - 4.78%\n",
      "Power - 0.0%\n",
      "Model - 3.81%\n",
      "Kilometer - 0.0%\n",
      "RegistrationMonth - 0.0%\n",
      "FuelType - 8.46%\n",
      "Brand - 0.0%\n",
      "Repaired - 19.2%\n",
      "DateCreated - 0.0%\n",
      "NumberOfPictures - 0.0%\n",
      "PostalCode - 0.0%\n",
      "LastSeen - 0.0%\n"
     ]
    }
   ],
   "source": [
    "# процентный список пропущенных данных:\n",
    "for col in df.columns:\n",
    "    pct_missing = np.mean(df[col].isna())\n",
    "    print('{} - {}%'.format(col, round(pct_missing*100, 2)))"
   ],
   "metadata": {
    "collapsed": false,
    "ExecuteTime": {
     "end_time": "2023-12-09T15:04:28.352543Z",
     "start_time": "2023-12-09T15:04:28.229437900Z"
    }
   },
   "id": "b5aa52f4e018a66b"
  },
  {
   "cell_type": "markdown",
   "source": [
    "#### Признак VehicleType"
   ],
   "metadata": {
    "collapsed": false
   },
   "id": "5f477b083d87ebdb"
  },
  {
   "cell_type": "code",
   "execution_count": 26,
   "outputs": [
    {
     "data": {
      "text/plain": "Model\ngolf          4033\nother         1856\npolo          1600\ncorsa         1574\n3er           1312\n              ... \nb_max            1\nv60              1\n200              1\nrangerover       1\nq3               1\nName: count, Length: 240, dtype: int64"
     },
     "execution_count": 26,
     "metadata": {},
     "output_type": "execute_result"
    }
   ],
   "source": [
    "# посмотрим на марки автомобилей с пропусками в признаке VehicleType:\n",
    "df[df['VehicleType'].isna()]['Model'].value_counts()"
   ],
   "metadata": {
    "collapsed": false,
    "ExecuteTime": {
     "end_time": "2023-12-09T15:04:28.439987300Z",
     "start_time": "2023-12-09T15:04:28.353542300Z"
    }
   },
   "id": "694e8e0a286007a3"
  },
  {
   "cell_type": "code",
   "execution_count": 27,
   "outputs": [],
   "source": [
    "# заполним пропуски самым частым значением для разных моделей автомобилей:\n",
    "for model in df['Model'].unique():\n",
    "    try:\n",
    "        veh_type_imp = df[df['Model'] == model]['VehicleType'].value_counts().index[0]\n",
    "        df.loc[(df['VehicleType'].isna()) & (df['Model'] == model), 'VehicleType'] = veh_type_imp\n",
    "    except:\n",
    "        IndexError"
   ],
   "metadata": {
    "collapsed": false,
    "ExecuteTime": {
     "end_time": "2023-12-09T15:04:40.873874400Z",
     "start_time": "2023-12-09T15:04:28.437976100Z"
    }
   },
   "id": "78cb165f40489821"
  },
  {
   "cell_type": "code",
   "execution_count": 28,
   "outputs": [
    {
     "name": "stdout",
     "output_type": "stream",
     "text": [
      "0.90\n"
     ]
    }
   ],
   "source": [
    "# проверим, остались ли пропуски и в каком количестве:\n",
    "print('{:.2f}'.format(df[df['VehicleType'].isna()].shape[0]/df.shape[0]*100))"
   ],
   "metadata": {
    "collapsed": false,
    "ExecuteTime": {
     "end_time": "2023-12-09T15:04:40.933999100Z",
     "start_time": "2023-12-09T15:04:40.876661700Z"
    }
   },
   "id": "5709e10d5f0b69b0"
  },
  {
   "cell_type": "code",
   "execution_count": 29,
   "outputs": [
    {
     "data": {
      "text/plain": "                DateCrawled  Price VehicleType  RegistrationYear Gearbox  \\\n435     2016-03-27 18:43:25   1300         NaN              2016  manual   \n524     2016-03-25 22:53:44      0         NaN              2005  manual   \n762     2016-03-25 15:56:33   1200         NaN              2016  manual   \n862     2016-04-02 13:50:51    380         NaN              2016  manual   \n869     2016-03-22 16:57:42    300         NaN              2016  manual   \n...                     ...    ...         ...               ...     ...   \n353706  2016-03-24 16:54:28    900         NaN              2016  manual   \n353769  2016-03-25 17:46:19    650         NaN              2000  manual   \n354007  2016-04-04 21:40:20  10980         NaN              2016  manual   \n354011  2016-04-01 02:36:41   1000         NaN              2016  manual   \n354351  2016-03-11 23:40:32   1900         NaN              2000  manual   \n\n        Power Model  Kilometer  RegistrationMonth FuelType       Brand  \\\n435       150   NaN     150000                 10      NaN  volkswagen   \n524       136   NaN     100000                 10      NaN      toyota   \n762       115   NaN      20000                  0   petrol      nissan   \n862        54   NaN     100000                  0   petrol       skoda   \n869       140   NaN     150000                  0   petrol         bmw   \n...       ...   ...        ...                ...      ...         ...   \n353706    101   NaN     150000                  6      NaN        opel   \n353769    150   NaN     150000                  7      NaN        audi   \n354007     75   NaN      20000                  1      NaN  volkswagen   \n354011     54   NaN     125000                  2      NaN     hyundai   \n354351    110   NaN     150000                  7      NaN  volkswagen   \n\n       Repaired          DateCreated  NumberOfPictures  PostalCode  \\\n435          no  2016-03-27 00:00:00                 0       70374   \n524         NaN  2016-03-25 00:00:00                 0       86163   \n762          no  2016-03-25 00:00:00                 0       41334   \n862         yes  2016-04-02 00:00:00                 0        3046   \n869         NaN  2016-03-22 00:00:00                 0       57489   \n...         ...                  ...               ...         ...   \n353706      NaN  2016-03-24 00:00:00                 0       50170   \n353769       no  2016-03-25 00:00:00                 0       97486   \n354007       no  2016-04-04 00:00:00                 0       44801   \n354011       no  2016-04-01 00:00:00                 0       67547   \n354351       no  2016-03-11 00:00:00                 0       87700   \n\n                   LastSeen  \n435     2016-04-05 15:15:29  \n524     2016-03-26 07:44:30  \n762     2016-03-25 15:56:33  \n862     2016-04-02 13:50:51  \n869     2016-03-26 18:18:21  \n...                     ...  \n353706  2016-04-07 09:17:32  \n353769  2016-03-27 05:16:34  \n354007  2016-04-07 00:15:36  \n354011  2016-04-05 02:45:18  \n354351  2016-03-12 14:16:51  \n\n[3137 rows x 16 columns]",
      "text/html": "<div>\n<style scoped>\n    .dataframe tbody tr th:only-of-type {\n        vertical-align: middle;\n    }\n\n    .dataframe tbody tr th {\n        vertical-align: top;\n    }\n\n    .dataframe thead th {\n        text-align: right;\n    }\n</style>\n<table border=\"1\" class=\"dataframe\">\n  <thead>\n    <tr style=\"text-align: right;\">\n      <th></th>\n      <th>DateCrawled</th>\n      <th>Price</th>\n      <th>VehicleType</th>\n      <th>RegistrationYear</th>\n      <th>Gearbox</th>\n      <th>Power</th>\n      <th>Model</th>\n      <th>Kilometer</th>\n      <th>RegistrationMonth</th>\n      <th>FuelType</th>\n      <th>Brand</th>\n      <th>Repaired</th>\n      <th>DateCreated</th>\n      <th>NumberOfPictures</th>\n      <th>PostalCode</th>\n      <th>LastSeen</th>\n    </tr>\n  </thead>\n  <tbody>\n    <tr>\n      <th>435</th>\n      <td>2016-03-27 18:43:25</td>\n      <td>1300</td>\n      <td>NaN</td>\n      <td>2016</td>\n      <td>manual</td>\n      <td>150</td>\n      <td>NaN</td>\n      <td>150000</td>\n      <td>10</td>\n      <td>NaN</td>\n      <td>volkswagen</td>\n      <td>no</td>\n      <td>2016-03-27 00:00:00</td>\n      <td>0</td>\n      <td>70374</td>\n      <td>2016-04-05 15:15:29</td>\n    </tr>\n    <tr>\n      <th>524</th>\n      <td>2016-03-25 22:53:44</td>\n      <td>0</td>\n      <td>NaN</td>\n      <td>2005</td>\n      <td>manual</td>\n      <td>136</td>\n      <td>NaN</td>\n      <td>100000</td>\n      <td>10</td>\n      <td>NaN</td>\n      <td>toyota</td>\n      <td>NaN</td>\n      <td>2016-03-25 00:00:00</td>\n      <td>0</td>\n      <td>86163</td>\n      <td>2016-03-26 07:44:30</td>\n    </tr>\n    <tr>\n      <th>762</th>\n      <td>2016-03-25 15:56:33</td>\n      <td>1200</td>\n      <td>NaN</td>\n      <td>2016</td>\n      <td>manual</td>\n      <td>115</td>\n      <td>NaN</td>\n      <td>20000</td>\n      <td>0</td>\n      <td>petrol</td>\n      <td>nissan</td>\n      <td>no</td>\n      <td>2016-03-25 00:00:00</td>\n      <td>0</td>\n      <td>41334</td>\n      <td>2016-03-25 15:56:33</td>\n    </tr>\n    <tr>\n      <th>862</th>\n      <td>2016-04-02 13:50:51</td>\n      <td>380</td>\n      <td>NaN</td>\n      <td>2016</td>\n      <td>manual</td>\n      <td>54</td>\n      <td>NaN</td>\n      <td>100000</td>\n      <td>0</td>\n      <td>petrol</td>\n      <td>skoda</td>\n      <td>yes</td>\n      <td>2016-04-02 00:00:00</td>\n      <td>0</td>\n      <td>3046</td>\n      <td>2016-04-02 13:50:51</td>\n    </tr>\n    <tr>\n      <th>869</th>\n      <td>2016-03-22 16:57:42</td>\n      <td>300</td>\n      <td>NaN</td>\n      <td>2016</td>\n      <td>manual</td>\n      <td>140</td>\n      <td>NaN</td>\n      <td>150000</td>\n      <td>0</td>\n      <td>petrol</td>\n      <td>bmw</td>\n      <td>NaN</td>\n      <td>2016-03-22 00:00:00</td>\n      <td>0</td>\n      <td>57489</td>\n      <td>2016-03-26 18:18:21</td>\n    </tr>\n    <tr>\n      <th>...</th>\n      <td>...</td>\n      <td>...</td>\n      <td>...</td>\n      <td>...</td>\n      <td>...</td>\n      <td>...</td>\n      <td>...</td>\n      <td>...</td>\n      <td>...</td>\n      <td>...</td>\n      <td>...</td>\n      <td>...</td>\n      <td>...</td>\n      <td>...</td>\n      <td>...</td>\n      <td>...</td>\n    </tr>\n    <tr>\n      <th>353706</th>\n      <td>2016-03-24 16:54:28</td>\n      <td>900</td>\n      <td>NaN</td>\n      <td>2016</td>\n      <td>manual</td>\n      <td>101</td>\n      <td>NaN</td>\n      <td>150000</td>\n      <td>6</td>\n      <td>NaN</td>\n      <td>opel</td>\n      <td>NaN</td>\n      <td>2016-03-24 00:00:00</td>\n      <td>0</td>\n      <td>50170</td>\n      <td>2016-04-07 09:17:32</td>\n    </tr>\n    <tr>\n      <th>353769</th>\n      <td>2016-03-25 17:46:19</td>\n      <td>650</td>\n      <td>NaN</td>\n      <td>2000</td>\n      <td>manual</td>\n      <td>150</td>\n      <td>NaN</td>\n      <td>150000</td>\n      <td>7</td>\n      <td>NaN</td>\n      <td>audi</td>\n      <td>no</td>\n      <td>2016-03-25 00:00:00</td>\n      <td>0</td>\n      <td>97486</td>\n      <td>2016-03-27 05:16:34</td>\n    </tr>\n    <tr>\n      <th>354007</th>\n      <td>2016-04-04 21:40:20</td>\n      <td>10980</td>\n      <td>NaN</td>\n      <td>2016</td>\n      <td>manual</td>\n      <td>75</td>\n      <td>NaN</td>\n      <td>20000</td>\n      <td>1</td>\n      <td>NaN</td>\n      <td>volkswagen</td>\n      <td>no</td>\n      <td>2016-04-04 00:00:00</td>\n      <td>0</td>\n      <td>44801</td>\n      <td>2016-04-07 00:15:36</td>\n    </tr>\n    <tr>\n      <th>354011</th>\n      <td>2016-04-01 02:36:41</td>\n      <td>1000</td>\n      <td>NaN</td>\n      <td>2016</td>\n      <td>manual</td>\n      <td>54</td>\n      <td>NaN</td>\n      <td>125000</td>\n      <td>2</td>\n      <td>NaN</td>\n      <td>hyundai</td>\n      <td>no</td>\n      <td>2016-04-01 00:00:00</td>\n      <td>0</td>\n      <td>67547</td>\n      <td>2016-04-05 02:45:18</td>\n    </tr>\n    <tr>\n      <th>354351</th>\n      <td>2016-03-11 23:40:32</td>\n      <td>1900</td>\n      <td>NaN</td>\n      <td>2000</td>\n      <td>manual</td>\n      <td>110</td>\n      <td>NaN</td>\n      <td>150000</td>\n      <td>7</td>\n      <td>NaN</td>\n      <td>volkswagen</td>\n      <td>no</td>\n      <td>2016-03-11 00:00:00</td>\n      <td>0</td>\n      <td>87700</td>\n      <td>2016-03-12 14:16:51</td>\n    </tr>\n  </tbody>\n</table>\n<p>3137 rows × 16 columns</p>\n</div>"
     },
     "execution_count": 29,
     "metadata": {},
     "output_type": "execute_result"
    }
   ],
   "source": [
    "# посмотрим на эти данные:\n",
    "df[df['VehicleType'].isna()]"
   ],
   "metadata": {
    "collapsed": false,
    "ExecuteTime": {
     "end_time": "2023-12-09T15:04:40.959368400Z",
     "start_time": "2023-12-09T15:04:40.914668200Z"
    }
   },
   "id": "35e85931e022df44"
  },
  {
   "cell_type": "code",
   "execution_count": 30,
   "outputs": [
    {
     "data": {
      "text/plain": "                DateCrawled  Price VehicleType  RegistrationYear Gearbox  \\\n435     2016-03-27 18:43:25   1300         NaN              2016  manual   \n524     2016-03-25 22:53:44      0         NaN              2005  manual   \n762     2016-03-25 15:56:33   1200         NaN              2016  manual   \n862     2016-04-02 13:50:51    380         NaN              2016  manual   \n869     2016-03-22 16:57:42    300         NaN              2016  manual   \n...                     ...    ...         ...               ...     ...   \n353706  2016-03-24 16:54:28    900         NaN              2016  manual   \n353769  2016-03-25 17:46:19    650         NaN              2000  manual   \n354007  2016-04-04 21:40:20  10980         NaN              2016  manual   \n354011  2016-04-01 02:36:41   1000         NaN              2016  manual   \n354351  2016-03-11 23:40:32   1900         NaN              2000  manual   \n\n        Power Model  Kilometer  RegistrationMonth FuelType       Brand  \\\n435       150   NaN     150000                 10      NaN  volkswagen   \n524       136   NaN     100000                 10      NaN      toyota   \n762       115   NaN      20000                  0   petrol      nissan   \n862        54   NaN     100000                  0   petrol       skoda   \n869       140   NaN     150000                  0   petrol         bmw   \n...       ...   ...        ...                ...      ...         ...   \n353706    101   NaN     150000                  6      NaN        opel   \n353769    150   NaN     150000                  7      NaN        audi   \n354007     75   NaN      20000                  1      NaN  volkswagen   \n354011     54   NaN     125000                  2      NaN     hyundai   \n354351    110   NaN     150000                  7      NaN  volkswagen   \n\n       Repaired          DateCreated  NumberOfPictures  PostalCode  \\\n435          no  2016-03-27 00:00:00                 0       70374   \n524         NaN  2016-03-25 00:00:00                 0       86163   \n762          no  2016-03-25 00:00:00                 0       41334   \n862         yes  2016-04-02 00:00:00                 0        3046   \n869         NaN  2016-03-22 00:00:00                 0       57489   \n...         ...                  ...               ...         ...   \n353706      NaN  2016-03-24 00:00:00                 0       50170   \n353769       no  2016-03-25 00:00:00                 0       97486   \n354007       no  2016-04-04 00:00:00                 0       44801   \n354011       no  2016-04-01 00:00:00                 0       67547   \n354351       no  2016-03-11 00:00:00                 0       87700   \n\n                   LastSeen  \n435     2016-04-05 15:15:29  \n524     2016-03-26 07:44:30  \n762     2016-03-25 15:56:33  \n862     2016-04-02 13:50:51  \n869     2016-03-26 18:18:21  \n...                     ...  \n353706  2016-04-07 09:17:32  \n353769  2016-03-27 05:16:34  \n354007  2016-04-07 00:15:36  \n354011  2016-04-05 02:45:18  \n354351  2016-03-12 14:16:51  \n\n[3137 rows x 16 columns]",
      "text/html": "<div>\n<style scoped>\n    .dataframe tbody tr th:only-of-type {\n        vertical-align: middle;\n    }\n\n    .dataframe tbody tr th {\n        vertical-align: top;\n    }\n\n    .dataframe thead th {\n        text-align: right;\n    }\n</style>\n<table border=\"1\" class=\"dataframe\">\n  <thead>\n    <tr style=\"text-align: right;\">\n      <th></th>\n      <th>DateCrawled</th>\n      <th>Price</th>\n      <th>VehicleType</th>\n      <th>RegistrationYear</th>\n      <th>Gearbox</th>\n      <th>Power</th>\n      <th>Model</th>\n      <th>Kilometer</th>\n      <th>RegistrationMonth</th>\n      <th>FuelType</th>\n      <th>Brand</th>\n      <th>Repaired</th>\n      <th>DateCreated</th>\n      <th>NumberOfPictures</th>\n      <th>PostalCode</th>\n      <th>LastSeen</th>\n    </tr>\n  </thead>\n  <tbody>\n    <tr>\n      <th>435</th>\n      <td>2016-03-27 18:43:25</td>\n      <td>1300</td>\n      <td>NaN</td>\n      <td>2016</td>\n      <td>manual</td>\n      <td>150</td>\n      <td>NaN</td>\n      <td>150000</td>\n      <td>10</td>\n      <td>NaN</td>\n      <td>volkswagen</td>\n      <td>no</td>\n      <td>2016-03-27 00:00:00</td>\n      <td>0</td>\n      <td>70374</td>\n      <td>2016-04-05 15:15:29</td>\n    </tr>\n    <tr>\n      <th>524</th>\n      <td>2016-03-25 22:53:44</td>\n      <td>0</td>\n      <td>NaN</td>\n      <td>2005</td>\n      <td>manual</td>\n      <td>136</td>\n      <td>NaN</td>\n      <td>100000</td>\n      <td>10</td>\n      <td>NaN</td>\n      <td>toyota</td>\n      <td>NaN</td>\n      <td>2016-03-25 00:00:00</td>\n      <td>0</td>\n      <td>86163</td>\n      <td>2016-03-26 07:44:30</td>\n    </tr>\n    <tr>\n      <th>762</th>\n      <td>2016-03-25 15:56:33</td>\n      <td>1200</td>\n      <td>NaN</td>\n      <td>2016</td>\n      <td>manual</td>\n      <td>115</td>\n      <td>NaN</td>\n      <td>20000</td>\n      <td>0</td>\n      <td>petrol</td>\n      <td>nissan</td>\n      <td>no</td>\n      <td>2016-03-25 00:00:00</td>\n      <td>0</td>\n      <td>41334</td>\n      <td>2016-03-25 15:56:33</td>\n    </tr>\n    <tr>\n      <th>862</th>\n      <td>2016-04-02 13:50:51</td>\n      <td>380</td>\n      <td>NaN</td>\n      <td>2016</td>\n      <td>manual</td>\n      <td>54</td>\n      <td>NaN</td>\n      <td>100000</td>\n      <td>0</td>\n      <td>petrol</td>\n      <td>skoda</td>\n      <td>yes</td>\n      <td>2016-04-02 00:00:00</td>\n      <td>0</td>\n      <td>3046</td>\n      <td>2016-04-02 13:50:51</td>\n    </tr>\n    <tr>\n      <th>869</th>\n      <td>2016-03-22 16:57:42</td>\n      <td>300</td>\n      <td>NaN</td>\n      <td>2016</td>\n      <td>manual</td>\n      <td>140</td>\n      <td>NaN</td>\n      <td>150000</td>\n      <td>0</td>\n      <td>petrol</td>\n      <td>bmw</td>\n      <td>NaN</td>\n      <td>2016-03-22 00:00:00</td>\n      <td>0</td>\n      <td>57489</td>\n      <td>2016-03-26 18:18:21</td>\n    </tr>\n    <tr>\n      <th>...</th>\n      <td>...</td>\n      <td>...</td>\n      <td>...</td>\n      <td>...</td>\n      <td>...</td>\n      <td>...</td>\n      <td>...</td>\n      <td>...</td>\n      <td>...</td>\n      <td>...</td>\n      <td>...</td>\n      <td>...</td>\n      <td>...</td>\n      <td>...</td>\n      <td>...</td>\n      <td>...</td>\n    </tr>\n    <tr>\n      <th>353706</th>\n      <td>2016-03-24 16:54:28</td>\n      <td>900</td>\n      <td>NaN</td>\n      <td>2016</td>\n      <td>manual</td>\n      <td>101</td>\n      <td>NaN</td>\n      <td>150000</td>\n      <td>6</td>\n      <td>NaN</td>\n      <td>opel</td>\n      <td>NaN</td>\n      <td>2016-03-24 00:00:00</td>\n      <td>0</td>\n      <td>50170</td>\n      <td>2016-04-07 09:17:32</td>\n    </tr>\n    <tr>\n      <th>353769</th>\n      <td>2016-03-25 17:46:19</td>\n      <td>650</td>\n      <td>NaN</td>\n      <td>2000</td>\n      <td>manual</td>\n      <td>150</td>\n      <td>NaN</td>\n      <td>150000</td>\n      <td>7</td>\n      <td>NaN</td>\n      <td>audi</td>\n      <td>no</td>\n      <td>2016-03-25 00:00:00</td>\n      <td>0</td>\n      <td>97486</td>\n      <td>2016-03-27 05:16:34</td>\n    </tr>\n    <tr>\n      <th>354007</th>\n      <td>2016-04-04 21:40:20</td>\n      <td>10980</td>\n      <td>NaN</td>\n      <td>2016</td>\n      <td>manual</td>\n      <td>75</td>\n      <td>NaN</td>\n      <td>20000</td>\n      <td>1</td>\n      <td>NaN</td>\n      <td>volkswagen</td>\n      <td>no</td>\n      <td>2016-04-04 00:00:00</td>\n      <td>0</td>\n      <td>44801</td>\n      <td>2016-04-07 00:15:36</td>\n    </tr>\n    <tr>\n      <th>354011</th>\n      <td>2016-04-01 02:36:41</td>\n      <td>1000</td>\n      <td>NaN</td>\n      <td>2016</td>\n      <td>manual</td>\n      <td>54</td>\n      <td>NaN</td>\n      <td>125000</td>\n      <td>2</td>\n      <td>NaN</td>\n      <td>hyundai</td>\n      <td>no</td>\n      <td>2016-04-01 00:00:00</td>\n      <td>0</td>\n      <td>67547</td>\n      <td>2016-04-05 02:45:18</td>\n    </tr>\n    <tr>\n      <th>354351</th>\n      <td>2016-03-11 23:40:32</td>\n      <td>1900</td>\n      <td>NaN</td>\n      <td>2000</td>\n      <td>manual</td>\n      <td>110</td>\n      <td>NaN</td>\n      <td>150000</td>\n      <td>7</td>\n      <td>NaN</td>\n      <td>volkswagen</td>\n      <td>no</td>\n      <td>2016-03-11 00:00:00</td>\n      <td>0</td>\n      <td>87700</td>\n      <td>2016-03-12 14:16:51</td>\n    </tr>\n  </tbody>\n</table>\n<p>3137 rows × 16 columns</p>\n</div>"
     },
     "execution_count": 30,
     "metadata": {},
     "output_type": "execute_result"
    }
   ],
   "source": [
    "df.loc[(df['VehicleType'].isna()) & df['Model'].isna()]"
   ],
   "metadata": {
    "collapsed": false,
    "ExecuteTime": {
     "end_time": "2023-12-09T15:04:41.061389700Z",
     "start_time": "2023-12-09T15:04:40.953910500Z"
    }
   },
   "id": "8a30aac7a08fd76b"
  },
  {
   "cell_type": "markdown",
   "source": [
    "Остается 6828 строк (меньше 2% датасета), в которых остались пропуски в признаке VehicleType, и во всех этих строках неизвестны модели автомобилей (пропуски)."
   ],
   "metadata": {
    "collapsed": false
   },
   "id": "43ae7c05b735616a"
  },
  {
   "cell_type": "markdown",
   "source": [
    "#### Признак Gearbox"
   ],
   "metadata": {
    "collapsed": false
   },
   "id": "4fbdcb8af4a32864"
  },
  {
   "cell_type": "code",
   "execution_count": 31,
   "outputs": [
    {
     "data": {
      "text/plain": "Model\ngolf                 1475\nother                1394\nfortwo                786\ncorsa                 779\npolo                  731\n                     ... \nrange_rover_sport       1\nglk                     1\nyeti                    1\ncrossfire               1\nnubira                  1\nName: count, Length: 235, dtype: int64"
     },
     "execution_count": 31,
     "metadata": {},
     "output_type": "execute_result"
    }
   ],
   "source": [
    "# посмотрим на марки автомобилей с пропусками в признаке Gearbox:\n",
    "df[df['Gearbox'].isna()]['Model'].value_counts()"
   ],
   "metadata": {
    "collapsed": false,
    "ExecuteTime": {
     "end_time": "2023-12-09T15:04:41.077103500Z",
     "start_time": "2023-12-09T15:04:41.017997500Z"
    }
   },
   "id": "11da4f982ca94b07"
  },
  {
   "cell_type": "code",
   "execution_count": 32,
   "outputs": [],
   "source": [
    "# заполним пропуски самым частым значением для разных моделей автомобилей:\n",
    "for model in df['Model'].unique():\n",
    "    try:\n",
    "        gearbox_imp = df[df['Model'] == model]['Gearbox'].value_counts().index[0]\n",
    "        df.loc[(df['Gearbox'].isna()) & (df['Model'] == model), 'Gearbox'] = gearbox_imp\n",
    "    except:\n",
    "        IndexError"
   ],
   "metadata": {
    "collapsed": false,
    "ExecuteTime": {
     "end_time": "2023-12-09T15:04:54.575631300Z",
     "start_time": "2023-12-09T15:04:41.065408600Z"
    }
   },
   "id": "171f14868d5e28d8"
  },
  {
   "cell_type": "code",
   "execution_count": 33,
   "outputs": [
    {
     "name": "stdout",
     "output_type": "stream",
     "text": [
      "0.27\n"
     ]
    }
   ],
   "source": [
    "# проверим, остались ли пропуски и в каком количестве:\n",
    "print('{:.2f}'.format(df[df['Gearbox'].isna()].shape[0]/df.shape[0]*100))"
   ],
   "metadata": {
    "collapsed": false,
    "ExecuteTime": {
     "end_time": "2023-12-09T15:04:54.629267100Z",
     "start_time": "2023-12-09T15:04:54.592193300Z"
    }
   },
   "id": "35d8f0ae6839749b"
  },
  {
   "cell_type": "code",
   "execution_count": 34,
   "outputs": [
    {
     "data": {
      "text/plain": "                DateCrawled  Price VehicleType  RegistrationYear Gearbox  \\\n151     2016-03-27 20:47:22   6799       small              2009     NaN   \n161     2016-03-28 10:50:04   1495       wagon              2001     NaN   \n186     2016-03-16 15:51:08  14000       sedan              2008     NaN   \n1331    2016-04-03 19:53:44    650         NaN              1970     NaN   \n1345    2016-03-21 01:57:37    899         NaN              1990     NaN   \n...                     ...    ...         ...               ...     ...   \n351669  2016-03-15 15:48:26   2499       sedan              2001     NaN   \n352626  2016-03-28 11:06:23   1850         NaN              2000     NaN   \n353072  2016-03-27 12:57:36      0         NaN              1990     NaN   \n353104  2016-03-05 23:54:33   1200         NaN              2000     NaN   \n353892  2016-03-06 11:42:12   7900         bus              2009     NaN   \n\n        Power Model  Kilometer  RegistrationMonth  FuelType           Brand  \\\n151        60   NaN      20000                  5    petrol      volkswagen   \n161        64   NaN     150000                  9  gasoline      volkswagen   \n186       235   NaN     150000                  0       NaN             bmw   \n1331       26   NaN     100000                  5       NaN         trabant   \n1345       37   NaN      60000                  2       NaN  sonstige_autos   \n...       ...   ...        ...                ...       ...             ...   \n351669    180   NaN     150000                  0       NaN            audi   \n352626     89   NaN     150000                  7       NaN            fiat   \n353072     75   NaN     150000                  0  gasoline   mercedes_benz   \n353104     75   NaN     150000                  0       NaN      volkswagen   \n353892    140   NaN     125000                  7  gasoline  sonstige_autos   \n\n       Repaired          DateCreated  NumberOfPictures  PostalCode  \\\n151          no  2016-03-27 00:00:00                 0       89077   \n161         NaN  2016-03-28 00:00:00                 0       99086   \n186          no  2016-02-12 00:00:00                 0       95131   \n1331        NaN  2016-04-03 00:00:00                 0        9337   \n1345        NaN  2016-03-21 00:00:00                 0       85057   \n...         ...                  ...               ...         ...   \n351669      NaN  2016-03-15 00:00:00                 0       53639   \n352626      NaN  2016-03-28 00:00:00                 0       56182   \n353072      NaN  2016-03-27 00:00:00                 0       88339   \n353104      NaN  2016-03-05 00:00:00                 0       86561   \n353892       no  2016-03-06 00:00:00                 0       97256   \n\n                   LastSeen  \n151     2016-03-27 20:47:22  \n161     2016-04-04 11:45:46  \n186     2016-04-07 14:56:12  \n1331    2016-04-05 20:45:24  \n1345    2016-03-27 21:44:30  \n...                     ...  \n351669  2016-03-21 13:16:02  \n352626  2016-03-28 11:06:23  \n353072  2016-03-27 13:41:54  \n353104  2016-03-08 20:48:55  \n353892  2016-03-26 16:16:02  \n\n[937 rows x 16 columns]",
      "text/html": "<div>\n<style scoped>\n    .dataframe tbody tr th:only-of-type {\n        vertical-align: middle;\n    }\n\n    .dataframe tbody tr th {\n        vertical-align: top;\n    }\n\n    .dataframe thead th {\n        text-align: right;\n    }\n</style>\n<table border=\"1\" class=\"dataframe\">\n  <thead>\n    <tr style=\"text-align: right;\">\n      <th></th>\n      <th>DateCrawled</th>\n      <th>Price</th>\n      <th>VehicleType</th>\n      <th>RegistrationYear</th>\n      <th>Gearbox</th>\n      <th>Power</th>\n      <th>Model</th>\n      <th>Kilometer</th>\n      <th>RegistrationMonth</th>\n      <th>FuelType</th>\n      <th>Brand</th>\n      <th>Repaired</th>\n      <th>DateCreated</th>\n      <th>NumberOfPictures</th>\n      <th>PostalCode</th>\n      <th>LastSeen</th>\n    </tr>\n  </thead>\n  <tbody>\n    <tr>\n      <th>151</th>\n      <td>2016-03-27 20:47:22</td>\n      <td>6799</td>\n      <td>small</td>\n      <td>2009</td>\n      <td>NaN</td>\n      <td>60</td>\n      <td>NaN</td>\n      <td>20000</td>\n      <td>5</td>\n      <td>petrol</td>\n      <td>volkswagen</td>\n      <td>no</td>\n      <td>2016-03-27 00:00:00</td>\n      <td>0</td>\n      <td>89077</td>\n      <td>2016-03-27 20:47:22</td>\n    </tr>\n    <tr>\n      <th>161</th>\n      <td>2016-03-28 10:50:04</td>\n      <td>1495</td>\n      <td>wagon</td>\n      <td>2001</td>\n      <td>NaN</td>\n      <td>64</td>\n      <td>NaN</td>\n      <td>150000</td>\n      <td>9</td>\n      <td>gasoline</td>\n      <td>volkswagen</td>\n      <td>NaN</td>\n      <td>2016-03-28 00:00:00</td>\n      <td>0</td>\n      <td>99086</td>\n      <td>2016-04-04 11:45:46</td>\n    </tr>\n    <tr>\n      <th>186</th>\n      <td>2016-03-16 15:51:08</td>\n      <td>14000</td>\n      <td>sedan</td>\n      <td>2008</td>\n      <td>NaN</td>\n      <td>235</td>\n      <td>NaN</td>\n      <td>150000</td>\n      <td>0</td>\n      <td>NaN</td>\n      <td>bmw</td>\n      <td>no</td>\n      <td>2016-02-12 00:00:00</td>\n      <td>0</td>\n      <td>95131</td>\n      <td>2016-04-07 14:56:12</td>\n    </tr>\n    <tr>\n      <th>1331</th>\n      <td>2016-04-03 19:53:44</td>\n      <td>650</td>\n      <td>NaN</td>\n      <td>1970</td>\n      <td>NaN</td>\n      <td>26</td>\n      <td>NaN</td>\n      <td>100000</td>\n      <td>5</td>\n      <td>NaN</td>\n      <td>trabant</td>\n      <td>NaN</td>\n      <td>2016-04-03 00:00:00</td>\n      <td>0</td>\n      <td>9337</td>\n      <td>2016-04-05 20:45:24</td>\n    </tr>\n    <tr>\n      <th>1345</th>\n      <td>2016-03-21 01:57:37</td>\n      <td>899</td>\n      <td>NaN</td>\n      <td>1990</td>\n      <td>NaN</td>\n      <td>37</td>\n      <td>NaN</td>\n      <td>60000</td>\n      <td>2</td>\n      <td>NaN</td>\n      <td>sonstige_autos</td>\n      <td>NaN</td>\n      <td>2016-03-21 00:00:00</td>\n      <td>0</td>\n      <td>85057</td>\n      <td>2016-03-27 21:44:30</td>\n    </tr>\n    <tr>\n      <th>...</th>\n      <td>...</td>\n      <td>...</td>\n      <td>...</td>\n      <td>...</td>\n      <td>...</td>\n      <td>...</td>\n      <td>...</td>\n      <td>...</td>\n      <td>...</td>\n      <td>...</td>\n      <td>...</td>\n      <td>...</td>\n      <td>...</td>\n      <td>...</td>\n      <td>...</td>\n      <td>...</td>\n    </tr>\n    <tr>\n      <th>351669</th>\n      <td>2016-03-15 15:48:26</td>\n      <td>2499</td>\n      <td>sedan</td>\n      <td>2001</td>\n      <td>NaN</td>\n      <td>180</td>\n      <td>NaN</td>\n      <td>150000</td>\n      <td>0</td>\n      <td>NaN</td>\n      <td>audi</td>\n      <td>NaN</td>\n      <td>2016-03-15 00:00:00</td>\n      <td>0</td>\n      <td>53639</td>\n      <td>2016-03-21 13:16:02</td>\n    </tr>\n    <tr>\n      <th>352626</th>\n      <td>2016-03-28 11:06:23</td>\n      <td>1850</td>\n      <td>NaN</td>\n      <td>2000</td>\n      <td>NaN</td>\n      <td>89</td>\n      <td>NaN</td>\n      <td>150000</td>\n      <td>7</td>\n      <td>NaN</td>\n      <td>fiat</td>\n      <td>NaN</td>\n      <td>2016-03-28 00:00:00</td>\n      <td>0</td>\n      <td>56182</td>\n      <td>2016-03-28 11:06:23</td>\n    </tr>\n    <tr>\n      <th>353072</th>\n      <td>2016-03-27 12:57:36</td>\n      <td>0</td>\n      <td>NaN</td>\n      <td>1990</td>\n      <td>NaN</td>\n      <td>75</td>\n      <td>NaN</td>\n      <td>150000</td>\n      <td>0</td>\n      <td>gasoline</td>\n      <td>mercedes_benz</td>\n      <td>NaN</td>\n      <td>2016-03-27 00:00:00</td>\n      <td>0</td>\n      <td>88339</td>\n      <td>2016-03-27 13:41:54</td>\n    </tr>\n    <tr>\n      <th>353104</th>\n      <td>2016-03-05 23:54:33</td>\n      <td>1200</td>\n      <td>NaN</td>\n      <td>2000</td>\n      <td>NaN</td>\n      <td>75</td>\n      <td>NaN</td>\n      <td>150000</td>\n      <td>0</td>\n      <td>NaN</td>\n      <td>volkswagen</td>\n      <td>NaN</td>\n      <td>2016-03-05 00:00:00</td>\n      <td>0</td>\n      <td>86561</td>\n      <td>2016-03-08 20:48:55</td>\n    </tr>\n    <tr>\n      <th>353892</th>\n      <td>2016-03-06 11:42:12</td>\n      <td>7900</td>\n      <td>bus</td>\n      <td>2009</td>\n      <td>NaN</td>\n      <td>140</td>\n      <td>NaN</td>\n      <td>125000</td>\n      <td>7</td>\n      <td>gasoline</td>\n      <td>sonstige_autos</td>\n      <td>no</td>\n      <td>2016-03-06 00:00:00</td>\n      <td>0</td>\n      <td>97256</td>\n      <td>2016-03-26 16:16:02</td>\n    </tr>\n  </tbody>\n</table>\n<p>937 rows × 16 columns</p>\n</div>"
     },
     "execution_count": 34,
     "metadata": {},
     "output_type": "execute_result"
    }
   ],
   "source": [
    "df.loc[(df['Gearbox'].isna()) & df['Model'].isna()]"
   ],
   "metadata": {
    "collapsed": false,
    "ExecuteTime": {
     "end_time": "2023-12-09T15:04:54.649701Z",
     "start_time": "2023-12-09T15:04:54.601134500Z"
    }
   },
   "id": "63fe8446ac75e3d5"
  },
  {
   "cell_type": "markdown",
   "source": [
    "Остается 4131 строка (чуть больше 1% датасета), в которых остались пропуски в признаке Gearbox, и во всех этих строках неизвестны модели автомобилей (пропуски)."
   ],
   "metadata": {
    "collapsed": false
   },
   "id": "88bedcb42dc53d69"
  },
  {
   "cell_type": "markdown",
   "source": [
    "#### Признак FuelType"
   ],
   "metadata": {
    "collapsed": false
   },
   "id": "551dbc4055bcf29a"
  },
  {
   "cell_type": "code",
   "execution_count": 35,
   "outputs": [
    {
     "data": {
      "text/plain": "Model\ngolf                 2429\nother                1953\n3er                  1330\npolo                 1325\ncorsa                1315\n                     ... \nrange_rover_sport       1\ncitigo                  1\nv60                     1\nmusa                    1\ndiscovery               1\nName: count, Length: 235, dtype: int64"
     },
     "execution_count": 35,
     "metadata": {},
     "output_type": "execute_result"
    }
   ],
   "source": [
    "# посмотрим на марки автомобилей с пропусками в признаке FuelType:\n",
    "df[df['FuelType'].isna()]['Model'].value_counts()"
   ],
   "metadata": {
    "collapsed": false,
    "ExecuteTime": {
     "end_time": "2023-12-09T15:04:54.766420600Z",
     "start_time": "2023-12-09T15:04:54.650311100Z"
    }
   },
   "id": "b993888cfa1b68c1"
  },
  {
   "cell_type": "code",
   "execution_count": 36,
   "outputs": [],
   "source": [
    "# заполним пропуски самым частым значением для разных моделей автомобилей:\n",
    "for model in df['Model'].unique():\n",
    "    try:\n",
    "        fuel_type_imp = df[df['Model'] == model]['FuelType'].value_counts().index[0]\n",
    "        df.loc[(df['FuelType'].isna()) & (df['Model'] == model), 'FuelType'] = fuel_type_imp\n",
    "    except:\n",
    "        IndexError"
   ],
   "metadata": {
    "collapsed": false,
    "ExecuteTime": {
     "end_time": "2023-12-09T15:05:08.237462700Z",
     "start_time": "2023-12-09T15:04:54.715656800Z"
    }
   },
   "id": "5a2c42d66126b6f4"
  },
  {
   "cell_type": "code",
   "execution_count": 37,
   "outputs": [
    {
     "name": "stdout",
     "output_type": "stream",
     "text": [
      "1.07\n"
     ]
    }
   ],
   "source": [
    "# проверим, остались ли пропуски и в каком количестве:\n",
    "print('{:.2f}'.format(df[df['FuelType'].isna()].shape[0]/df.shape[0]*100))"
   ],
   "metadata": {
    "collapsed": false,
    "ExecuteTime": {
     "end_time": "2023-12-09T15:05:08.297186Z",
     "start_time": "2023-12-09T15:05:08.241320700Z"
    }
   },
   "id": "13e65d871166b1f1"
  },
  {
   "cell_type": "code",
   "execution_count": 38,
   "outputs": [
    {
     "data": {
      "text/plain": "                DateCrawled  Price VehicleType  RegistrationYear Gearbox  \\\n59      2016-03-29 15:48:15      1         suv              1994  manual   \n81      2016-04-03 12:56:45    350       small              1997  manual   \n135     2016-03-27 20:51:23   1450       sedan              1992  manual   \n186     2016-03-16 15:51:08  14000       sedan              2008     NaN   \n273     2016-03-29 23:38:02   1500       coupe              1994  manual   \n...                     ...    ...         ...               ...     ...   \n353769  2016-03-25 17:46:19    650         NaN              2000  manual   \n353816  2016-03-09 13:37:36   9800       small              2013  manual   \n354007  2016-04-04 21:40:20  10980         NaN              2016  manual   \n354011  2016-04-01 02:36:41   1000         NaN              2016  manual   \n354351  2016-03-11 23:40:32   1900         NaN              2000  manual   \n\n        Power Model  Kilometer  RegistrationMonth FuelType           Brand  \\\n59        286   NaN     150000                 11      NaN  sonstige_autos   \n81         54   NaN     150000                  3      NaN            fiat   \n135       136   NaN     150000                  0      NaN            audi   \n186       235   NaN     150000                  0      NaN             bmw   \n273       116   NaN     150000                  8      NaN            audi   \n...       ...   ...        ...                ...      ...             ...   \n353769    150   NaN     150000                  7      NaN            audi   \n353816     90   NaN      50000                  4      NaN         renault   \n354007     75   NaN      20000                  1      NaN      volkswagen   \n354011     54   NaN     125000                  2      NaN         hyundai   \n354351    110   NaN     150000                  7      NaN      volkswagen   \n\n       Repaired          DateCreated  NumberOfPictures  PostalCode  \\\n59          NaN  2016-03-29 00:00:00                 0       53721   \n81          yes  2016-04-03 00:00:00                 0       45665   \n135          no  2016-03-27 00:00:00                 0       38709   \n186          no  2016-02-12 00:00:00                 0       95131   \n273          no  2016-03-29 00:00:00                 0       32791   \n...         ...                  ...               ...         ...   \n353769       no  2016-03-25 00:00:00                 0       97486   \n353816      NaN  2016-03-09 00:00:00                 0       38855   \n354007       no  2016-04-04 00:00:00                 0       44801   \n354011       no  2016-04-01 00:00:00                 0       67547   \n354351       no  2016-03-11 00:00:00                 0       87700   \n\n                   LastSeen  \n59      2016-04-06 01:44:38  \n81      2016-04-05 11:47:13  \n135     2016-04-05 20:17:31  \n186     2016-04-07 14:56:12  \n273     2016-04-06 20:16:34  \n...                     ...  \n353769  2016-03-27 05:16:34  \n353816  2016-03-14 20:45:05  \n354007  2016-04-07 00:15:36  \n354011  2016-04-05 02:45:18  \n354351  2016-03-12 14:16:51  \n\n[3716 rows x 16 columns]",
      "text/html": "<div>\n<style scoped>\n    .dataframe tbody tr th:only-of-type {\n        vertical-align: middle;\n    }\n\n    .dataframe tbody tr th {\n        vertical-align: top;\n    }\n\n    .dataframe thead th {\n        text-align: right;\n    }\n</style>\n<table border=\"1\" class=\"dataframe\">\n  <thead>\n    <tr style=\"text-align: right;\">\n      <th></th>\n      <th>DateCrawled</th>\n      <th>Price</th>\n      <th>VehicleType</th>\n      <th>RegistrationYear</th>\n      <th>Gearbox</th>\n      <th>Power</th>\n      <th>Model</th>\n      <th>Kilometer</th>\n      <th>RegistrationMonth</th>\n      <th>FuelType</th>\n      <th>Brand</th>\n      <th>Repaired</th>\n      <th>DateCreated</th>\n      <th>NumberOfPictures</th>\n      <th>PostalCode</th>\n      <th>LastSeen</th>\n    </tr>\n  </thead>\n  <tbody>\n    <tr>\n      <th>59</th>\n      <td>2016-03-29 15:48:15</td>\n      <td>1</td>\n      <td>suv</td>\n      <td>1994</td>\n      <td>manual</td>\n      <td>286</td>\n      <td>NaN</td>\n      <td>150000</td>\n      <td>11</td>\n      <td>NaN</td>\n      <td>sonstige_autos</td>\n      <td>NaN</td>\n      <td>2016-03-29 00:00:00</td>\n      <td>0</td>\n      <td>53721</td>\n      <td>2016-04-06 01:44:38</td>\n    </tr>\n    <tr>\n      <th>81</th>\n      <td>2016-04-03 12:56:45</td>\n      <td>350</td>\n      <td>small</td>\n      <td>1997</td>\n      <td>manual</td>\n      <td>54</td>\n      <td>NaN</td>\n      <td>150000</td>\n      <td>3</td>\n      <td>NaN</td>\n      <td>fiat</td>\n      <td>yes</td>\n      <td>2016-04-03 00:00:00</td>\n      <td>0</td>\n      <td>45665</td>\n      <td>2016-04-05 11:47:13</td>\n    </tr>\n    <tr>\n      <th>135</th>\n      <td>2016-03-27 20:51:23</td>\n      <td>1450</td>\n      <td>sedan</td>\n      <td>1992</td>\n      <td>manual</td>\n      <td>136</td>\n      <td>NaN</td>\n      <td>150000</td>\n      <td>0</td>\n      <td>NaN</td>\n      <td>audi</td>\n      <td>no</td>\n      <td>2016-03-27 00:00:00</td>\n      <td>0</td>\n      <td>38709</td>\n      <td>2016-04-05 20:17:31</td>\n    </tr>\n    <tr>\n      <th>186</th>\n      <td>2016-03-16 15:51:08</td>\n      <td>14000</td>\n      <td>sedan</td>\n      <td>2008</td>\n      <td>NaN</td>\n      <td>235</td>\n      <td>NaN</td>\n      <td>150000</td>\n      <td>0</td>\n      <td>NaN</td>\n      <td>bmw</td>\n      <td>no</td>\n      <td>2016-02-12 00:00:00</td>\n      <td>0</td>\n      <td>95131</td>\n      <td>2016-04-07 14:56:12</td>\n    </tr>\n    <tr>\n      <th>273</th>\n      <td>2016-03-29 23:38:02</td>\n      <td>1500</td>\n      <td>coupe</td>\n      <td>1994</td>\n      <td>manual</td>\n      <td>116</td>\n      <td>NaN</td>\n      <td>150000</td>\n      <td>8</td>\n      <td>NaN</td>\n      <td>audi</td>\n      <td>no</td>\n      <td>2016-03-29 00:00:00</td>\n      <td>0</td>\n      <td>32791</td>\n      <td>2016-04-06 20:16:34</td>\n    </tr>\n    <tr>\n      <th>...</th>\n      <td>...</td>\n      <td>...</td>\n      <td>...</td>\n      <td>...</td>\n      <td>...</td>\n      <td>...</td>\n      <td>...</td>\n      <td>...</td>\n      <td>...</td>\n      <td>...</td>\n      <td>...</td>\n      <td>...</td>\n      <td>...</td>\n      <td>...</td>\n      <td>...</td>\n      <td>...</td>\n    </tr>\n    <tr>\n      <th>353769</th>\n      <td>2016-03-25 17:46:19</td>\n      <td>650</td>\n      <td>NaN</td>\n      <td>2000</td>\n      <td>manual</td>\n      <td>150</td>\n      <td>NaN</td>\n      <td>150000</td>\n      <td>7</td>\n      <td>NaN</td>\n      <td>audi</td>\n      <td>no</td>\n      <td>2016-03-25 00:00:00</td>\n      <td>0</td>\n      <td>97486</td>\n      <td>2016-03-27 05:16:34</td>\n    </tr>\n    <tr>\n      <th>353816</th>\n      <td>2016-03-09 13:37:36</td>\n      <td>9800</td>\n      <td>small</td>\n      <td>2013</td>\n      <td>manual</td>\n      <td>90</td>\n      <td>NaN</td>\n      <td>50000</td>\n      <td>4</td>\n      <td>NaN</td>\n      <td>renault</td>\n      <td>NaN</td>\n      <td>2016-03-09 00:00:00</td>\n      <td>0</td>\n      <td>38855</td>\n      <td>2016-03-14 20:45:05</td>\n    </tr>\n    <tr>\n      <th>354007</th>\n      <td>2016-04-04 21:40:20</td>\n      <td>10980</td>\n      <td>NaN</td>\n      <td>2016</td>\n      <td>manual</td>\n      <td>75</td>\n      <td>NaN</td>\n      <td>20000</td>\n      <td>1</td>\n      <td>NaN</td>\n      <td>volkswagen</td>\n      <td>no</td>\n      <td>2016-04-04 00:00:00</td>\n      <td>0</td>\n      <td>44801</td>\n      <td>2016-04-07 00:15:36</td>\n    </tr>\n    <tr>\n      <th>354011</th>\n      <td>2016-04-01 02:36:41</td>\n      <td>1000</td>\n      <td>NaN</td>\n      <td>2016</td>\n      <td>manual</td>\n      <td>54</td>\n      <td>NaN</td>\n      <td>125000</td>\n      <td>2</td>\n      <td>NaN</td>\n      <td>hyundai</td>\n      <td>no</td>\n      <td>2016-04-01 00:00:00</td>\n      <td>0</td>\n      <td>67547</td>\n      <td>2016-04-05 02:45:18</td>\n    </tr>\n    <tr>\n      <th>354351</th>\n      <td>2016-03-11 23:40:32</td>\n      <td>1900</td>\n      <td>NaN</td>\n      <td>2000</td>\n      <td>manual</td>\n      <td>110</td>\n      <td>NaN</td>\n      <td>150000</td>\n      <td>7</td>\n      <td>NaN</td>\n      <td>volkswagen</td>\n      <td>no</td>\n      <td>2016-03-11 00:00:00</td>\n      <td>0</td>\n      <td>87700</td>\n      <td>2016-03-12 14:16:51</td>\n    </tr>\n  </tbody>\n</table>\n<p>3716 rows × 16 columns</p>\n</div>"
     },
     "execution_count": 38,
     "metadata": {},
     "output_type": "execute_result"
    }
   ],
   "source": [
    "df.loc[(df['FuelType'].isna()) & df['Model'].isna()]"
   ],
   "metadata": {
    "collapsed": false,
    "ExecuteTime": {
     "end_time": "2023-12-09T15:05:08.356082300Z",
     "start_time": "2023-12-09T15:05:08.268709800Z"
    }
   },
   "id": "ab823ec2bfc96b81"
  },
  {
   "cell_type": "markdown",
   "source": [
    "Остается 7163 строки (чуть больше 2% датасета), в которых остались пропуски в признаке FuelType, и во всех этих строках неизвестны модели автомобилей (пропуски).\n",
    "\n",
    "Заполним пропуски у признаков Model и Repaired в дальнейшем при создании пайплайна значением unknown, добавив логический параметр add_indicator=True."
   ],
   "metadata": {
    "collapsed": false
   },
   "id": "9bb081570dcd3f54"
  },
  {
   "cell_type": "code",
   "execution_count": 39,
   "outputs": [],
   "source": [
    "# удалим неинформативные признаки:\n",
    "df.drop(['DateCrawled', 'RegistrationMonth', 'DateCreated', 'NumberOfPictures', 'PostalCode', 'LastSeen'], axis=1, inplace=True)"
   ],
   "metadata": {
    "collapsed": false,
    "ExecuteTime": {
     "end_time": "2023-12-09T15:05:08.490681200Z",
     "start_time": "2023-12-09T15:05:08.334186300Z"
    }
   },
   "id": "65a3f6632b91d2c5"
  },
  {
   "cell_type": "code",
   "execution_count": 40,
   "outputs": [
    {
     "name": "stdout",
     "output_type": "stream",
     "text": [
      "<class 'pandas.core.frame.DataFrame'>\n",
      "Index: 347834 entries, 0 to 354368\n",
      "Data columns (total 10 columns):\n",
      " #   Column            Non-Null Count   Dtype \n",
      "---  ------            --------------   ----- \n",
      " 0   Price             347834 non-null  int64 \n",
      " 1   VehicleType       344697 non-null  object\n",
      " 2   RegistrationYear  347834 non-null  int64 \n",
      " 3   Gearbox           346897 non-null  object\n",
      " 4   Power             347834 non-null  int64 \n",
      " 5   Model             334585 non-null  object\n",
      " 6   Kilometer         347834 non-null  int64 \n",
      " 7   FuelType          344118 non-null  object\n",
      " 8   Brand             347834 non-null  object\n",
      " 9   Repaired          281054 non-null  object\n",
      "dtypes: int64(4), object(6)\n",
      "memory usage: 29.2+ MB\n"
     ]
    }
   ],
   "source": [
    "df.info()"
   ],
   "metadata": {
    "collapsed": false,
    "ExecuteTime": {
     "end_time": "2023-12-09T15:05:08.545733900Z",
     "start_time": "2023-12-09T15:05:08.376882700Z"
    }
   },
   "id": "b5f12aa93e85a14e"
  },
  {
   "cell_type": "code",
   "execution_count": 41,
   "outputs": [
    {
     "data": {
      "text/plain": "Price                   0\nVehicleType          3137\nRegistrationYear        0\nGearbox               937\nPower                   0\nModel               13249\nKilometer               0\nFuelType             3716\nBrand                   0\nRepaired            66780\ndtype: int64"
     },
     "execution_count": 41,
     "metadata": {},
     "output_type": "execute_result"
    }
   ],
   "source": [
    "df.isna().sum()"
   ],
   "metadata": {
    "collapsed": false,
    "ExecuteTime": {
     "end_time": "2023-12-09T15:05:08.640205Z",
     "start_time": "2023-12-09T15:05:08.499131500Z"
    }
   },
   "id": "bd5f1029e1d8e99c"
  },
  {
   "cell_type": "code",
   "execution_count": 42,
   "outputs": [
    {
     "name": "stdout",
     "output_type": "stream",
     "text": [
      "Price - 0.0%\n",
      "VehicleType - 0.9%\n",
      "RegistrationYear - 0.0%\n",
      "Gearbox - 0.27%\n",
      "Power - 0.0%\n",
      "Model - 3.81%\n",
      "Kilometer - 0.0%\n",
      "FuelType - 1.07%\n",
      "Brand - 0.0%\n",
      "Repaired - 19.2%\n"
     ]
    }
   ],
   "source": [
    "# процентный список пропущенных данных:\n",
    "for col in df.columns:\n",
    "    pct_missing = np.mean(df[col].isnull())\n",
    "    print('{} - {}%'.format(col, round(pct_missing*100, 2)))"
   ],
   "metadata": {
    "collapsed": false,
    "ExecuteTime": {
     "end_time": "2023-12-09T15:05:08.793097Z",
     "start_time": "2023-12-09T15:05:08.640205Z"
    }
   },
   "id": "d32c8a3ea62cabbe"
  },
  {
   "cell_type": "markdown",
   "source": [
    "Исследуем признаки на мультиколлинеарность."
   ],
   "metadata": {
    "collapsed": false
   },
   "id": "1e97bb347734445e"
  },
  {
   "cell_type": "code",
   "execution_count": 43,
   "outputs": [
    {
     "name": "stdout",
     "output_type": "stream",
     "text": [
      "interval columns not set, guessing: ['Price', 'RegistrationYear', 'Power', 'Kilometer']\n"
     ]
    },
    {
     "data": {
      "text/plain": "                  Price  VehicleType  RegistrationYear  Gearbox  Power  Model  \\\nPrice              1.00         0.27              0.56     0.32   0.11   0.57   \nVehicleType        0.27         1.00              0.16     0.28   0.04   0.92   \nRegistrationYear   0.56         0.16              1.00     0.09   0.04   0.59   \nGearbox            0.32         0.28              0.09     1.00   0.09   0.66   \nPower              0.11         0.04              0.04     0.09   1.00   0.22   \nModel              0.57         0.92              0.59     0.66   0.22   1.00   \nKilometer          0.31         0.17              0.33     0.01   0.01   0.44   \nFuelType           0.26         0.33              0.21     0.15   0.03   0.56   \nBrand              0.36         0.63              0.37     0.53   0.10   1.00   \nRepaired           0.38         0.08              0.17     0.05   0.01   0.16   \n\n                  Kilometer  FuelType  Brand  Repaired  \nPrice                  0.31      0.26   0.36      0.38  \nVehicleType            0.17      0.33   0.63      0.08  \nRegistrationYear       0.33      0.21   0.37      0.17  \nGearbox                0.01      0.15   0.53      0.05  \nPower                  0.01      0.03   0.10      0.01  \nModel                  0.44      0.56   1.00      0.16  \nKilometer              1.00      0.14   0.27      0.11  \nFuelType               0.14      1.00   0.32      0.05  \nBrand                  0.27      0.32   1.00      0.11  \nRepaired               0.11      0.05   0.11      1.00  ",
      "text/html": "<div>\n<style scoped>\n    .dataframe tbody tr th:only-of-type {\n        vertical-align: middle;\n    }\n\n    .dataframe tbody tr th {\n        vertical-align: top;\n    }\n\n    .dataframe thead th {\n        text-align: right;\n    }\n</style>\n<table border=\"1\" class=\"dataframe\">\n  <thead>\n    <tr style=\"text-align: right;\">\n      <th></th>\n      <th>Price</th>\n      <th>VehicleType</th>\n      <th>RegistrationYear</th>\n      <th>Gearbox</th>\n      <th>Power</th>\n      <th>Model</th>\n      <th>Kilometer</th>\n      <th>FuelType</th>\n      <th>Brand</th>\n      <th>Repaired</th>\n    </tr>\n  </thead>\n  <tbody>\n    <tr>\n      <th>Price</th>\n      <td>1.00</td>\n      <td>0.27</td>\n      <td>0.56</td>\n      <td>0.32</td>\n      <td>0.11</td>\n      <td>0.57</td>\n      <td>0.31</td>\n      <td>0.26</td>\n      <td>0.36</td>\n      <td>0.38</td>\n    </tr>\n    <tr>\n      <th>VehicleType</th>\n      <td>0.27</td>\n      <td>1.00</td>\n      <td>0.16</td>\n      <td>0.28</td>\n      <td>0.04</td>\n      <td>0.92</td>\n      <td>0.17</td>\n      <td>0.33</td>\n      <td>0.63</td>\n      <td>0.08</td>\n    </tr>\n    <tr>\n      <th>RegistrationYear</th>\n      <td>0.56</td>\n      <td>0.16</td>\n      <td>1.00</td>\n      <td>0.09</td>\n      <td>0.04</td>\n      <td>0.59</td>\n      <td>0.33</td>\n      <td>0.21</td>\n      <td>0.37</td>\n      <td>0.17</td>\n    </tr>\n    <tr>\n      <th>Gearbox</th>\n      <td>0.32</td>\n      <td>0.28</td>\n      <td>0.09</td>\n      <td>1.00</td>\n      <td>0.09</td>\n      <td>0.66</td>\n      <td>0.01</td>\n      <td>0.15</td>\n      <td>0.53</td>\n      <td>0.05</td>\n    </tr>\n    <tr>\n      <th>Power</th>\n      <td>0.11</td>\n      <td>0.04</td>\n      <td>0.04</td>\n      <td>0.09</td>\n      <td>1.00</td>\n      <td>0.22</td>\n      <td>0.01</td>\n      <td>0.03</td>\n      <td>0.10</td>\n      <td>0.01</td>\n    </tr>\n    <tr>\n      <th>Model</th>\n      <td>0.57</td>\n      <td>0.92</td>\n      <td>0.59</td>\n      <td>0.66</td>\n      <td>0.22</td>\n      <td>1.00</td>\n      <td>0.44</td>\n      <td>0.56</td>\n      <td>1.00</td>\n      <td>0.16</td>\n    </tr>\n    <tr>\n      <th>Kilometer</th>\n      <td>0.31</td>\n      <td>0.17</td>\n      <td>0.33</td>\n      <td>0.01</td>\n      <td>0.01</td>\n      <td>0.44</td>\n      <td>1.00</td>\n      <td>0.14</td>\n      <td>0.27</td>\n      <td>0.11</td>\n    </tr>\n    <tr>\n      <th>FuelType</th>\n      <td>0.26</td>\n      <td>0.33</td>\n      <td>0.21</td>\n      <td>0.15</td>\n      <td>0.03</td>\n      <td>0.56</td>\n      <td>0.14</td>\n      <td>1.00</td>\n      <td>0.32</td>\n      <td>0.05</td>\n    </tr>\n    <tr>\n      <th>Brand</th>\n      <td>0.36</td>\n      <td>0.63</td>\n      <td>0.37</td>\n      <td>0.53</td>\n      <td>0.10</td>\n      <td>1.00</td>\n      <td>0.27</td>\n      <td>0.32</td>\n      <td>1.00</td>\n      <td>0.11</td>\n    </tr>\n    <tr>\n      <th>Repaired</th>\n      <td>0.38</td>\n      <td>0.08</td>\n      <td>0.17</td>\n      <td>0.05</td>\n      <td>0.01</td>\n      <td>0.16</td>\n      <td>0.11</td>\n      <td>0.05</td>\n      <td>0.11</td>\n      <td>1.00</td>\n    </tr>\n  </tbody>\n</table>\n</div>"
     },
     "execution_count": 43,
     "metadata": {},
     "output_type": "execute_result"
    }
   ],
   "source": [
    "# построим 𝜙k correlation matrix:\n",
    "phik_overview = df.phik_matrix()\n",
    "phik_overview.round(2)"
   ],
   "metadata": {
    "collapsed": false,
    "ExecuteTime": {
     "end_time": "2023-12-09T15:05:24.187547400Z",
     "start_time": "2023-12-09T15:05:08.768975400Z"
    }
   },
   "id": "9da738f2a4c1208"
  },
  {
   "cell_type": "code",
   "execution_count": 44,
   "outputs": [
    {
     "data": {
      "text/plain": "Model               0.57\nRegistrationYear    0.56\nRepaired            0.38\nBrand               0.36\nGearbox             0.32\nKilometer           0.31\nVehicleType         0.27\nFuelType            0.26\nPower               0.11\nName: Price, dtype: float64"
     },
     "execution_count": 44,
     "metadata": {},
     "output_type": "execute_result"
    }
   ],
   "source": [
    "# посмотрим, с какими признаками сильнее всего коррелирует/связан целевой атрибут:\n",
    "phik_target = phik_overview['Price'].sort_values(ascending=False).iloc[1:]\n",
    "phik_target.round(2)"
   ],
   "metadata": {
    "collapsed": false,
    "ExecuteTime": {
     "end_time": "2023-12-09T15:05:24.242016Z",
     "start_time": "2023-12-09T15:05:24.187547400Z"
    }
   },
   "id": "db2f366af6456e65"
  },
  {
   "cell_type": "code",
   "execution_count": 45,
   "outputs": [
    {
     "data": {
      "text/plain": "<Figure size 1000x800 with 2 Axes>",
      "image/png": "[encoded data removed]"
     },
     "metadata": {},
     "output_type": "display_data"
    }
   ],
   "source": [
    "# построим plot_correlation_matrix:\n",
    "plot_correlation_matrix(phik_overview.values,\n",
    "                        x_labels=phik_overview.columns,\n",
    "                        y_labels=phik_overview.index,\n",
    "                        vmin=0, vmax=1, color_map=\"Greens\",\n",
    "                        title=r\"correlation $\\phi_K$\",\n",
    "                        fontsize_factor=0.9,\n",
    "                        figsize=(10, 8))\n",
    "plt.tight_layout()\n",
    "plt.show()"
   ],
   "metadata": {
    "collapsed": false,
    "ExecuteTime": {
     "end_time": "2023-12-09T15:05:26.647156600Z",
     "start_time": "2023-12-09T15:05:24.208369600Z"
    }
   },
   "id": "5551af3f07337531"
  },
  {
   "cell_type": "markdown",
   "source": [
    "## Разделение на выборки"
   ],
   "metadata": {
    "collapsed": false
   },
   "id": "da91d57401aa5083"
  },
  {
   "cell_type": "code",
   "execution_count": 46,
   "outputs": [],
   "source": [
    "X = df.drop(['Price'], axis = 1)\n",
    "y = df['Price']\n",
    "X_train, X_test, y_train, y_test = train_test_split(X, y, test_size=0.33, random_state=42)"
   ],
   "metadata": {
    "collapsed": false,
    "ExecuteTime": {
     "end_time": "2023-12-09T15:05:26.909935100Z",
     "start_time": "2023-12-09T15:05:26.647156600Z"
    }
   },
   "id": "8f4014a6b4070c73"
  },
  {
   "cell_type": "code",
   "execution_count": 47,
   "outputs": [
    {
     "name": "stdout",
     "output_type": "stream",
     "text": [
      "Размер обучающей выборки: (233048, 9)\n",
      "Размер тестовой выборки: (114786, 9)\n"
     ]
    }
   ],
   "source": [
    "# посмотрим на размеры выборок:\n",
    "print('Размер обучающей выборки:', X_train.shape)\n",
    "print('Размер тестовой выборки:', X_test.shape)"
   ],
   "metadata": {
    "collapsed": false,
    "ExecuteTime": {
     "end_time": "2023-12-09T15:05:26.909935100Z",
     "start_time": "2023-12-09T15:05:26.845290100Z"
    }
   },
   "id": "7b675663ab99bd53"
  },
  {
   "cell_type": "code",
   "execution_count": 48,
   "outputs": [],
   "source": [
    "# внесем в переменные списки все численные и категориальные признаки:\n",
    "categorical_features = X_train.select_dtypes(include=['object']).columns.tolist()\n",
    "numeric_features = X_train.select_dtypes(exclude=['object']).columns.tolist()"
   ],
   "metadata": {
    "collapsed": false,
    "ExecuteTime": {
     "end_time": "2023-12-09T15:05:26.953893Z",
     "start_time": "2023-12-09T15:05:26.870173800Z"
    }
   },
   "id": "585f94750f5f06ea"
  },
  {
   "cell_type": "code",
   "execution_count": 49,
   "outputs": [
    {
     "data": {
      "text/plain": "['VehicleType', 'Gearbox', 'Model', 'FuelType', 'Brand', 'Repaired']"
     },
     "execution_count": 49,
     "metadata": {},
     "output_type": "execute_result"
    }
   ],
   "source": [
    "categorical_features"
   ],
   "metadata": {
    "collapsed": false,
    "ExecuteTime": {
     "end_time": "2023-12-09T15:05:27.045917200Z",
     "start_time": "2023-12-09T15:05:26.922125800Z"
    }
   },
   "id": "2ff3cb5da28184ca"
  },
  {
   "cell_type": "code",
   "execution_count": 50,
   "outputs": [
    {
     "data": {
      "text/plain": "['RegistrationYear', 'Power', 'Kilometer']"
     },
     "execution_count": 50,
     "metadata": {},
     "output_type": "execute_result"
    }
   ],
   "source": [
    "numeric_features"
   ],
   "metadata": {
    "collapsed": false,
    "ExecuteTime": {
     "end_time": "2023-12-09T15:05:27.045917200Z",
     "start_time": "2023-12-09T15:05:26.965144900Z"
    }
   },
   "id": "da192a98a9b63174"
  },
  {
   "cell_type": "markdown",
   "source": [
    "# Обучение моделей\n",
    "## LinearRegression\t"
   ],
   "metadata": {
    "collapsed": false
   },
   "id": "774aa97372c89456"
  },
  {
   "cell_type": "code",
   "execution_count": 51,
   "outputs": [],
   "source": [
    "cat_pipeline = Pipeline([\n",
    "    ('imp', SimpleImputer(strategy='constant', fill_value='unknown', add_indicator=True)),\n",
    "    ('enc', OneHotEncoder(handle_unknown='error', drop='first', sparse_output=False))\n",
    "])\n",
    "\n",
    "num_pipeline = Pipeline([\n",
    "    ('pt', PowerTransformer()),\n",
    "    ('scal', StandardScaler())  \n",
    "])\n",
    "\n",
    "preprocessor = ColumnTransformer([\n",
    "    (\"cat\", cat_pipeline, categorical_features),\n",
    "    (\"num\", num_pipeline, numeric_features)\n",
    "\n",
    "])\n",
    "\n",
    "pipe_lr = Pipeline([\n",
    "    ('preprocessor', preprocessor),\n",
    "    ('model', LinearRegression())\n",
    "])"
   ],
   "metadata": {
    "collapsed": false,
    "ExecuteTime": {
     "end_time": "2023-12-09T15:05:27.045917200Z",
     "start_time": "2023-12-09T15:05:26.988549600Z"
    }
   },
   "id": "5274ad2653088894"
  },
  {
   "cell_type": "code",
   "execution_count": 52,
   "outputs": [],
   "source": [
    "score = ((cross_val_score(pipe_lr, X_train, y_train, cv=5, scoring='neg_mean_squared_error') * -1) ** 0.5).mean()"
   ],
   "metadata": {
    "collapsed": false,
    "ExecuteTime": {
     "end_time": "2023-12-09T15:06:33.050188300Z",
     "start_time": "2023-12-09T15:05:27.012625500Z"
    }
   },
   "id": "bdd7e05f2c35cac9"
  },
  {
   "cell_type": "code",
   "execution_count": 53,
   "outputs": [
    {
     "name": "stdout",
     "output_type": "stream",
     "text": [
      "Среднее качество LinearRegression на кросс-валидации = 2791.43\n"
     ]
    }
   ],
   "source": [
    "print('Среднее качество LinearRegression на кросс-валидации =', round(score, 2))"
   ],
   "metadata": {
    "collapsed": false,
    "ExecuteTime": {
     "end_time": "2023-12-09T15:06:33.523518200Z",
     "start_time": "2023-12-09T15:06:33.073087400Z"
    }
   },
   "id": "6f3877687132a225"
  },
  {
   "cell_type": "markdown",
   "source": [
    "## LGBMRegressor\t"
   ],
   "metadata": {
    "collapsed": false
   },
   "id": "eef42abdb35cc8d5"
  },
  {
   "cell_type": "code",
   "execution_count": 54,
   "outputs": [],
   "source": [
    "# for col in X_train.columns:\n",
    "#     if X_train[col].dtype == object:\n",
    "#         X_train[col] = X_train[col].astype('category')"
   ],
   "metadata": {
    "collapsed": false,
    "ExecuteTime": {
     "end_time": "2023-12-08T20:08:51.072220600Z",
     "start_time": "2023-12-08T20:08:50.944245400Z"
    }
   },
   "id": "d1eaab05146c1892"
  },
  {
   "cell_type": "code",
   "execution_count": 54,
   "outputs": [],
   "source": [
    "# class CategoryType(BaseEstimator, TransformerMixin):\n",
    "# \n",
    "#     def transform(self, X):\n",
    "#         for col in X.columns:\n",
    "#             if col in X[col].dtype == object:\n",
    "#                 X.train[col] = X_train[col].astype('category')\n",
    "#         return X\n",
    "# \n",
    "#     def fit(self, X, y=None):\n",
    "#         return self"
   ],
   "metadata": {
    "collapsed": false,
    "ExecuteTime": {
     "end_time": "2023-12-08T20:23:48.131374300Z",
     "start_time": "2023-12-08T20:23:48.108641200Z"
    }
   },
   "id": "20e37fbaa8353aa2"
  },
  {
   "cell_type": "code",
   "execution_count": 125,
   "outputs": [],
   "source": [
    "cat_pipeline = Pipeline([\n",
    "    ('imp', SimpleImputer(strategy='constant', fill_value='unknown', add_indicator=True)),\n",
    "    ('enc', OrdinalEncoder())\n",
    "])\n",
    "\n",
    "num_pipeline = Pipeline([\n",
    "    ('pt', PowerTransformer())\n",
    "])\n",
    "\n",
    "preprocessor = ColumnTransformer([\n",
    "    (\"cat\", cat_pipeline, categorical_features),\n",
    "    (\"num\", num_pipeline, numeric_features)\n",
    "])"
   ],
   "metadata": {
    "collapsed": false,
    "ExecuteTime": {
     "end_time": "2023-12-09T21:08:26.998504500Z",
     "start_time": "2023-12-09T21:08:26.819265900Z"
    }
   },
   "id": "3a093a488186d927"
  },
  {
   "cell_type": "code",
   "execution_count": 75,
   "outputs": [],
   "source": [
    "# X_train_new = preprocessor.fit_transform(X_train)"
   ],
   "metadata": {
    "collapsed": false,
    "ExecuteTime": {
     "end_time": "2023-12-09T16:01:04.010405Z",
     "start_time": "2023-12-09T16:01:00.382058300Z"
    }
   },
   "id": "b97c336f2263d901"
  },
  {
   "cell_type": "code",
   "execution_count": 77,
   "outputs": [],
   "source": [
    "# X_train_new.dtypes"
   ],
   "metadata": {
    "collapsed": false,
    "ExecuteTime": {
     "end_time": "2023-12-09T16:01:21.744909400Z",
     "start_time": "2023-12-09T16:01:21.707578400Z"
    }
   },
   "id": "79a9b74f466823de"
  },
  {
   "cell_type": "code",
   "execution_count": 78,
   "outputs": [],
   "source": [
    "# for col in X_train_new.columns:\n",
    "#     if X_train_new[col].dtype == object:\n",
    "#         X_train_new[col] = X_train_new[col].astype('category')"
   ],
   "metadata": {
    "collapsed": false,
    "ExecuteTime": {
     "end_time": "2023-12-08T20:52:48.130334600Z",
     "start_time": "2023-12-08T20:52:47.817240600Z"
    }
   },
   "id": "8a5dfc672dbb7d7a"
  },
  {
   "cell_type": "code",
   "execution_count": 69,
   "outputs": [],
   "source": [
    "# cat_features=list(X_train_new.columns[:-3])"
   ],
   "metadata": {
    "collapsed": false,
    "ExecuteTime": {
     "end_time": "2023-12-08T20:50:39.960821Z",
     "start_time": "2023-12-08T20:50:39.936959100Z"
    }
   },
   "id": "4b6bf7816f2be1fc"
  },
  {
   "cell_type": "code",
   "execution_count": 68,
   "outputs": [],
   "source": [
    "# cat_features=['cat__VehicleType',\n",
    "#               'cat__Gearbox',\n",
    "#               'cat__Model',\n",
    "#               'cat__FuelType',\n",
    "#               'cat__Brand',\n",
    "#               'cat__Repaired',\n",
    "#               'cat__missingindicator_VehicleType',\n",
    "#               'cat__missingindicator_Gearbox',\n",
    "#               'cat__missingindicator_Model',\n",
    "#               'cat__missingindicator_FuelType',\n",
    "#               'cat__missingindicator_Repaired']"
   ],
   "metadata": {
    "collapsed": false,
    "ExecuteTime": {
     "end_time": "2023-12-09T09:50:08.558744600Z",
     "start_time": "2023-12-09T09:50:08.479647200Z"
    }
   },
   "id": "e266227af15adcd2"
  },
  {
   "cell_type": "code",
   "execution_count": 126,
   "outputs": [],
   "source": [
    "def optuna_optimize(trial):\n",
    "    param = {\n",
    "        'num_iterations': trial.suggest_int('num_iterations', 50, 900),\n",
    "        'max_depth': trial.suggest_int('max_depth', -1, 20),\n",
    "        'max_bin': trial.suggest_int('max_bin', 100, 255),\n",
    "        'learning_rate': trial.suggest_float('learning_rate', 0.01, 1),\n",
    "        'num_leaves': trial.suggest_int('num_leaves', 32, 128),\n",
    "        'min_data_in_leaf': trial.suggest_int('min_data_in_leaf', 5, 30),\n",
    "        'lambda_l1': trial.suggest_float('lambda_l1', 0.0, 0.1),\n",
    "        'min_child_weight': trial.suggest_float('min_child_weight', 0.0, 5.0),\n",
    "        'feature_fraction': trial.suggest_float('feature_fraction', 0.0, 1.0),\n",
    "        'bagging_fraction': trial.suggest_float('bagging_fraction', 0.0, 1.0)      \n",
    "    }\n",
    "    \n",
    "    estimator = LGBMRegressor(**param,\n",
    "                              # boosting_type='goss',                              \n",
    "                              verbosity=-1, \n",
    "                              random_state=42,\n",
    "                              categorical_feature=[0,1,2,3,4,5])\n",
    "\n",
    "    pipe_lgbm = Pipeline([\n",
    "        ('preprocessor', preprocessor),\n",
    "        ('model', estimator)\n",
    "    ])\n",
    "    \n",
    "    score = ((cross_val_score(pipe_lgbm, X_train, y_train, cv=5, scoring='neg_mean_squared_error') * -1) ** 0.5).mean()\n",
    "    return score"
   ],
   "metadata": {
    "collapsed": false,
    "ExecuteTime": {
     "end_time": "2023-12-09T21:08:31.089212900Z",
     "start_time": "2023-12-09T21:08:31.007598400Z"
    }
   },
   "id": "64e63607c6c205d2"
  },
  {
   "cell_type": "code",
   "execution_count": 127,
   "outputs": [
    {
     "name": "stderr",
     "output_type": "stream",
     "text": [
      "[I 2023-12-10 00:08:33,155] A new study created in memory with name: LightGBM Optuna Optimization\n"
     ]
    }
   ],
   "source": [
    "study_lightgbm = optuna.create_study(study_name=\"LightGBM Optuna Optimization\",\n",
    "                                   direction='minimize')"
   ],
   "metadata": {
    "collapsed": false,
    "ExecuteTime": {
     "end_time": "2023-12-09T21:08:33.234814700Z",
     "start_time": "2023-12-09T21:08:33.144373300Z"
    }
   },
   "id": "1a94c345ee962aaf"
  },
  {
   "cell_type": "code",
   "execution_count": 128,
   "outputs": [
    {
     "name": "stderr",
     "output_type": "stream",
     "text": [
      "[I 2023-12-10 00:09:19,252] Trial 0 finished with value: 1764.3235136993335 and parameters: {'num_iterations': 387, 'max_depth': 0, 'max_bin': 111, 'learning_rate': 0.427365847412621, 'num_leaves': 119, 'min_data_in_leaf': 16, 'lambda_l1': 0.0798873885620151, 'min_child_weight': 4.577329499756193, 'feature_fraction': 0.8674818297837451, 'bagging_fraction': 0.6890367818132596}. Best is trial 0 with value: 1764.3235136993335.\n",
      "[I 2023-12-10 00:09:46,092] Trial 1 finished with value: 1813.444452031321 and parameters: {'num_iterations': 390, 'max_depth': 3, 'max_bin': 153, 'learning_rate': 0.6964100572292093, 'num_leaves': 83, 'min_data_in_leaf': 18, 'lambda_l1': 0.05912856071701739, 'min_child_weight': 0.02798009082965569, 'feature_fraction': 0.5696317544510535, 'bagging_fraction': 0.8592598129308922}. Best is trial 0 with value: 1764.3235136993335.\n",
      "[I 2023-12-10 00:10:36,728] Trial 2 finished with value: 1807.5146310201042 and parameters: {'num_iterations': 558, 'max_depth': 14, 'max_bin': 243, 'learning_rate': 0.6264757914101594, 'num_leaves': 77, 'min_data_in_leaf': 15, 'lambda_l1': 0.02521340299796082, 'min_child_weight': 0.5222906797479637, 'feature_fraction': 0.2050391876254205, 'bagging_fraction': 0.12614626683616725}. Best is trial 0 with value: 1764.3235136993335.\n",
      "[I 2023-12-10 00:11:02,948] Trial 3 finished with value: 1887.2897450603857 and parameters: {'num_iterations': 416, 'max_depth': 2, 'max_bin': 196, 'learning_rate': 0.6395035117413955, 'num_leaves': 49, 'min_data_in_leaf': 10, 'lambda_l1': 0.029974460382276746, 'min_child_weight': 3.641300793855191, 'feature_fraction': 0.3518256532280105, 'bagging_fraction': 0.23922053253662579}. Best is trial 0 with value: 1764.3235136993335.\n",
      "[I 2023-12-10 00:11:46,029] Trial 4 finished with value: 1836.5213008281312 and parameters: {'num_iterations': 401, 'max_depth': 18, 'max_bin': 201, 'learning_rate': 0.8677470178786066, 'num_leaves': 115, 'min_data_in_leaf': 23, 'lambda_l1': 0.09176273757827706, 'min_child_weight': 0.29229009833250663, 'feature_fraction': 0.20996744868340123, 'bagging_fraction': 0.8487866985929989}. Best is trial 0 with value: 1764.3235136993335.\n",
      "[I 2023-12-10 00:12:09,253] Trial 5 finished with value: 1750.277342232156 and parameters: {'num_iterations': 229, 'max_depth': 6, 'max_bin': 187, 'learning_rate': 0.1684973768920212, 'num_leaves': 111, 'min_data_in_leaf': 28, 'lambda_l1': 0.09213754816336495, 'min_child_weight': 3.499117906257479, 'feature_fraction': 0.8335407002441928, 'bagging_fraction': 0.9376506810778941}. Best is trial 5 with value: 1750.277342232156.\n",
      "[I 2023-12-10 00:12:52,987] Trial 6 finished with value: 1838.7857250611273 and parameters: {'num_iterations': 391, 'max_depth': 16, 'max_bin': 120, 'learning_rate': 0.8030449964301779, 'num_leaves': 114, 'min_data_in_leaf': 8, 'lambda_l1': 0.04505381693005198, 'min_child_weight': 1.4689306690311805, 'feature_fraction': 0.26612044120600475, 'bagging_fraction': 0.5209744371914672}. Best is trial 5 with value: 1750.277342232156.\n",
      "[I 2023-12-10 00:13:10,369] Trial 7 finished with value: 1863.3416215819047 and parameters: {'num_iterations': 87, 'max_depth': 20, 'max_bin': 184, 'learning_rate': 0.22125993998549257, 'num_leaves': 110, 'min_data_in_leaf': 7, 'lambda_l1': 0.027275584958751466, 'min_child_weight': 1.3771599246305515, 'feature_fraction': 0.2457704243277412, 'bagging_fraction': 0.06296474784723627}. Best is trial 5 with value: 1750.277342232156.\n",
      "[I 2023-12-10 00:13:32,185] Trial 8 finished with value: 2168.0561387417556 and parameters: {'num_iterations': 369, 'max_depth': 3, 'max_bin': 120, 'learning_rate': 0.5603339297798281, 'num_leaves': 118, 'min_data_in_leaf': 11, 'lambda_l1': 0.05795226938102718, 'min_child_weight': 2.796917648535903, 'feature_fraction': 0.04148938040161043, 'bagging_fraction': 0.1703268393551587}. Best is trial 5 with value: 1750.277342232156.\n",
      "[I 2023-12-10 00:13:55,705] Trial 9 finished with value: 1788.7317495029645 and parameters: {'num_iterations': 255, 'max_depth': 19, 'max_bin': 231, 'learning_rate': 0.6224321327311796, 'num_leaves': 38, 'min_data_in_leaf': 15, 'lambda_l1': 0.08565899067340955, 'min_child_weight': 2.5538941563371975, 'feature_fraction': 0.5707964732145311, 'bagging_fraction': 0.2943502744656543}. Best is trial 5 with value: 1750.277342232156.\n",
      "[I 2023-12-10 00:15:05,945] Trial 10 finished with value: 1717.4771292353216 and parameters: {'num_iterations': 825, 'max_depth': 8, 'max_bin': 149, 'learning_rate': 0.044955937024673806, 'num_leaves': 91, 'min_data_in_leaf': 30, 'lambda_l1': 0.09572548118319854, 'min_child_weight': 4.973468386407937, 'feature_fraction': 0.9912706550836634, 'bagging_fraction': 0.9631376005542821}. Best is trial 10 with value: 1717.4771292353216.\n",
      "[I 2023-12-10 00:16:32,029] Trial 11 finished with value: 1753.708640536634 and parameters: {'num_iterations': 839, 'max_depth': 8, 'max_bin': 152, 'learning_rate': 0.01150156407923282, 'num_leaves': 90, 'min_data_in_leaf': 30, 'lambda_l1': 0.0974554052221863, 'min_child_weight': 4.769618115545372, 'feature_fraction': 0.9612597634263964, 'bagging_fraction': 0.9334720638499148}. Best is trial 10 with value: 1717.4771292353216.\n",
      "[I 2023-12-10 00:17:57,701] Trial 12 finished with value: 1737.6276329184595 and parameters: {'num_iterations': 861, 'max_depth': 8, 'max_bin': 153, 'learning_rate': 0.016413449422236315, 'num_leaves': 95, 'min_data_in_leaf': 29, 'lambda_l1': 0.07560863952981361, 'min_child_weight': 3.9210771381909066, 'feature_fraction': 0.8135242731894081, 'bagging_fraction': 0.9972436101548616}. Best is trial 10 with value: 1717.4771292353216.\n",
      "[I 2023-12-10 00:19:18,046] Trial 13 finished with value: 1709.9336336264296 and parameters: {'num_iterations': 897, 'max_depth': 12, 'max_bin': 142, 'learning_rate': 0.02796106250772024, 'num_leaves': 95, 'min_data_in_leaf': 24, 'lambda_l1': 0.07263132531811096, 'min_child_weight': 4.9402373783332525, 'feature_fraction': 0.998929150131277, 'bagging_fraction': 0.9872685662258356}. Best is trial 13 with value: 1709.9336336264296.\n",
      "[I 2023-12-10 00:20:02,159] Trial 14 finished with value: 1741.2286127258965 and parameters: {'num_iterations': 695, 'max_depth': 12, 'max_bin': 146, 'learning_rate': 0.33828315195299385, 'num_leaves': 75, 'min_data_in_leaf': 24, 'lambda_l1': 0.07204021897661439, 'min_child_weight': 4.686409718839047, 'feature_fraction': 0.9802718658612226, 'bagging_fraction': 0.7355177132817421}. Best is trial 13 with value: 1709.9336336264296.\n",
      "[I 2023-12-10 00:20:48,488] Trial 15 finished with value: 1708.6972727256166 and parameters: {'num_iterations': 708, 'max_depth': 11, 'max_bin': 136, 'learning_rate': 0.13127544410693603, 'num_leaves': 56, 'min_data_in_leaf': 24, 'lambda_l1': 0.07087631414616065, 'min_child_weight': 4.928030868076022, 'feature_fraction': 0.7055580787261124, 'bagging_fraction': 0.7291672152143339}. Best is trial 15 with value: 1708.6972727256166.\n",
      "[I 2023-12-10 00:21:32,799] Trial 16 finished with value: 1717.513198209685 and parameters: {'num_iterations': 649, 'max_depth': 11, 'max_bin': 101, 'learning_rate': 0.21500720816678548, 'num_leaves': 61, 'min_data_in_leaf': 22, 'lambda_l1': 0.06470336224091612, 'min_child_weight': 4.067861658162004, 'feature_fraction': 0.6620620022512383, 'bagging_fraction': 0.7021328362804844}. Best is trial 15 with value: 1708.6972727256166.\n",
      "[I 2023-12-10 00:22:14,657] Trial 17 finished with value: 1744.9507358975457 and parameters: {'num_iterations': 701, 'max_depth': 13, 'max_bin': 130, 'learning_rate': 0.38641188426372874, 'num_leaves': 59, 'min_data_in_leaf': 20, 'lambda_l1': 0.0039064312605869705, 'min_child_weight': 4.257670979782678, 'feature_fraction': 0.7047071140879243, 'bagging_fraction': 0.5930748430419919}. Best is trial 15 with value: 1708.6972727256166.\n",
      "[I 2023-12-10 00:22:57,651] Trial 18 finished with value: 1715.3833430468064 and parameters: {'num_iterations': 760, 'max_depth': 15, 'max_bin': 168, 'learning_rate': 0.113264573708726, 'num_leaves': 32, 'min_data_in_leaf': 26, 'lambda_l1': 0.06953685766673696, 'min_child_weight': 3.2932407489032016, 'feature_fraction': 0.7351717872948187, 'bagging_fraction': 0.8070631913167858}. Best is trial 15 with value: 1708.6972727256166.\n",
      "[I 2023-12-10 00:23:45,348] Trial 19 finished with value: 1736.7412165798007 and parameters: {'num_iterations': 565, 'max_depth': 10, 'max_bin': 137, 'learning_rate': 0.274720901883835, 'num_leaves': 61, 'min_data_in_leaf': 25, 'lambda_l1': 0.08167597421247533, 'min_child_weight': 4.36461892475679, 'feature_fraction': 0.4583915919129801, 'bagging_fraction': 0.40319712901415483}. Best is trial 15 with value: 1708.6972727256166.\n",
      "[I 2023-12-10 00:24:42,960] Trial 20 finished with value: 1699.6863628102979 and parameters: {'num_iterations': 773, 'max_depth': 17, 'max_bin': 165, 'learning_rate': 0.12434126296147298, 'num_leaves': 103, 'min_data_in_leaf': 20, 'lambda_l1': 0.0514612218811531, 'min_child_weight': 4.8507362530734515, 'feature_fraction': 0.9135820099344245, 'bagging_fraction': 0.6527070727180107}. Best is trial 20 with value: 1699.6863628102979.\n",
      "[I 2023-12-10 00:25:48,184] Trial 21 finished with value: 1699.5828738638806 and parameters: {'num_iterations': 897, 'max_depth': 17, 'max_bin': 177, 'learning_rate': 0.12760774639569727, 'num_leaves': 104, 'min_data_in_leaf': 21, 'lambda_l1': 0.05056856439478835, 'min_child_weight': 4.961454409285997, 'feature_fraction': 0.8841043178740428, 'bagging_fraction': 0.6028476113687766}. Best is trial 21 with value: 1699.5828738638806.\n",
      "[I 2023-12-10 00:26:42,992] Trial 22 finished with value: 1701.1650336177972 and parameters: {'num_iterations': 744, 'max_depth': 17, 'max_bin': 167, 'learning_rate': 0.15426997084013017, 'num_leaves': 104, 'min_data_in_leaf': 20, 'lambda_l1': 0.04867688928854404, 'min_child_weight': 4.322960122427434, 'feature_fraction': 0.8471608853899133, 'bagging_fraction': 0.6150973077266387}. Best is trial 21 with value: 1699.5828738638806.\n",
      "[I 2023-12-10 00:27:44,070] Trial 23 finished with value: 1733.6229118384895 and parameters: {'num_iterations': 782, 'max_depth': 17, 'max_bin': 168, 'learning_rate': 0.2736356901417273, 'num_leaves': 128, 'min_data_in_leaf': 19, 'lambda_l1': 0.04712915912367951, 'min_child_weight': 4.350128884103378, 'feature_fraction': 0.886483333648241, 'bagging_fraction': 0.5217676809812202}. Best is trial 21 with value: 1699.5828738638806.\n",
      "[I 2023-12-10 00:28:32,059] Trial 24 finished with value: 1704.6797341384474 and parameters: {'num_iterations': 607, 'max_depth': 17, 'max_bin': 216, 'learning_rate': 0.15431790165873677, 'num_leaves': 101, 'min_data_in_leaf': 20, 'lambda_l1': 0.052668514076174046, 'min_child_weight': 3.9594576481773034, 'feature_fraction': 0.8077099335499968, 'bagging_fraction': 0.6142535629459702}. Best is trial 21 with value: 1699.5828738638806.\n",
      "[I 2023-12-10 00:29:26,225] Trial 25 finished with value: 1743.0254970914725 and parameters: {'num_iterations': 771, 'max_depth': 20, 'max_bin': 170, 'learning_rate': 0.31559466413160286, 'num_leaves': 102, 'min_data_in_leaf': 21, 'lambda_l1': 0.04315984360359537, 'min_child_weight': 4.407830288692838, 'feature_fraction': 0.9059622873885343, 'bagging_fraction': 0.43227775081308306}. Best is trial 21 with value: 1699.5828738638806.\n",
      "[I 2023-12-10 00:30:38,782] Trial 26 finished with value: 1695.0448135720337 and parameters: {'num_iterations': 900, 'max_depth': 15, 'max_bin': 210, 'learning_rate': 0.09714408057858953, 'num_leaves': 127, 'min_data_in_leaf': 13, 'lambda_l1': 0.05258967960726088, 'min_child_weight': 4.526322786957172, 'feature_fraction': 0.7896174345614013, 'bagging_fraction': 0.631475863852566}. Best is trial 26 with value: 1695.0448135720337.\n",
      "[I 2023-12-10 00:31:45,137] Trial 27 finished with value: 1795.3743225218889 and parameters: {'num_iterations': 891, 'max_depth': 15, 'max_bin': 214, 'learning_rate': 0.4469663035139495, 'num_leaves': 127, 'min_data_in_leaf': 13, 'lambda_l1': 0.060906848351123824, 'min_child_weight': 4.987068640257458, 'feature_fraction': 0.7691957979329034, 'bagging_fraction': 0.590646554495577}. Best is trial 26 with value: 1695.0448135720337.\n",
      "[I 2023-12-10 00:32:48,099] Trial 28 finished with value: 1691.591833034745 and parameters: {'num_iterations': 831, 'max_depth': 14, 'max_bin': 208, 'learning_rate': 0.0885511450739079, 'num_leaves': 124, 'min_data_in_leaf': 5, 'lambda_l1': 0.039715895359247015, 'min_child_weight': 4.646859268268985, 'feature_fraction': 0.9148295549138679, 'bagging_fraction': 0.4479329661846452}. Best is trial 28 with value: 1691.591833034745.\n",
      "[I 2023-12-10 00:33:53,661] Trial 29 finished with value: 1692.0420844093558 and parameters: {'num_iterations': 828, 'max_depth': 14, 'max_bin': 216, 'learning_rate': 0.06987384460087394, 'num_leaves': 123, 'min_data_in_leaf': 5, 'lambda_l1': 0.04071758001192691, 'min_child_weight': 3.7696291140667584, 'feature_fraction': 0.9014555420900537, 'bagging_fraction': 0.4382304465611493}. Best is trial 28 with value: 1691.591833034745.\n",
      "[I 2023-12-10 00:34:40,089] Trial 30 finished with value: 1695.668091295666 and parameters: {'num_iterations': 510, 'max_depth': 14, 'max_bin': 252, 'learning_rate': 0.08248954924904801, 'num_leaves': 123, 'min_data_in_leaf': 5, 'lambda_l1': 0.03705205796859772, 'min_child_weight': 3.8102522766634612, 'feature_fraction': 0.7894999256740152, 'bagging_fraction': 0.42017740481543}. Best is trial 28 with value: 1691.591833034745.\n",
      "[I 2023-12-10 00:35:25,939] Trial 31 finished with value: 1692.6865374469548 and parameters: {'num_iterations': 493, 'max_depth': 14, 'max_bin': 253, 'learning_rate': 0.07384483918323723, 'num_leaves': 123, 'min_data_in_leaf': 5, 'lambda_l1': 0.03844886364876969, 'min_child_weight': 3.7386162238185174, 'feature_fraction': 0.7597859496122138, 'bagging_fraction': 0.436561542228286}. Best is trial 28 with value: 1691.591833034745.\n",
      "[I 2023-12-10 00:36:30,143] Trial 32 finished with value: 1692.7088752086706 and parameters: {'num_iterations': 822, 'max_depth': 14, 'max_bin': 228, 'learning_rate': 0.08436031773643438, 'num_leaves': 122, 'min_data_in_leaf': 5, 'lambda_l1': 0.037983927616022005, 'min_child_weight': 3.263096035990997, 'feature_fraction': 0.9244152481307606, 'bagging_fraction': 0.355920187989903}. Best is trial 28 with value: 1691.591833034745.\n",
      "[I 2023-12-10 00:37:25,330] Trial 33 finished with value: 1693.4632967110524 and parameters: {'num_iterations': 653, 'max_depth': 14, 'max_bin': 228, 'learning_rate': 0.07387970290608877, 'num_leaves': 121, 'min_data_in_leaf': 5, 'lambda_l1': 0.037074717564955485, 'min_child_weight': 3.403492241007109, 'feature_fraction': 0.939077513455815, 'bagging_fraction': 0.33960948547790487}. Best is trial 28 with value: 1691.591833034745.\n",
      "[I 2023-12-10 00:38:23,535] Trial 34 finished with value: 1720.7159654761774 and parameters: {'num_iterations': 811, 'max_depth': 13, 'max_bin': 235, 'learning_rate': 0.20337138670963234, 'num_leaves': 120, 'min_data_in_leaf': 7, 'lambda_l1': 0.03825319253885487, 'min_child_weight': 3.1020547368942526, 'feature_fraction': 0.866200664121706, 'bagging_fraction': 0.463227009790976}. Best is trial 28 with value: 1691.591833034745.\n",
      "[I 2023-12-10 00:39:09,446] Trial 35 finished with value: 1697.7775887285266 and parameters: {'num_iterations': 476, 'max_depth': 13, 'max_bin': 254, 'learning_rate': 0.07569508834419222, 'num_leaves': 109, 'min_data_in_leaf': 9, 'lambda_l1': 0.03249072851272113, 'min_child_weight': 3.6912641335710776, 'feature_fraction': 0.9105193431592538, 'bagging_fraction': 0.36726185141302914}. Best is trial 28 with value: 1691.591833034745.\n",
      "[I 2023-12-10 00:39:33,768] Trial 36 finished with value: 1739.7020634807955 and parameters: {'num_iterations': 239, 'max_depth': 6, 'max_bin': 223, 'learning_rate': 0.20566414092348123, 'num_leaves': 116, 'min_data_in_leaf': 6, 'lambda_l1': 0.025030989460615514, 'min_child_weight': 3.2446653325514827, 'feature_fraction': 0.9324718299898369, 'bagging_fraction': 0.4826726310644006}. Best is trial 28 with value: 1691.591833034745.\n",
      "[I 2023-12-10 00:39:59,934] Trial 37 finished with value: 1728.568166497044 and parameters: {'num_iterations': 146, 'max_depth': -1, 'max_bin': 243, 'learning_rate': 0.05922602063690284, 'num_leaves': 122, 'min_data_in_leaf': 11, 'lambda_l1': 0.041727904177001084, 'min_child_weight': 4.063725906388404, 'feature_fraction': 0.8420125166027741, 'bagging_fraction': 0.2998148003415678}. Best is trial 28 with value: 1691.591833034745.\n",
      "[I 2023-12-10 00:40:51,704] Trial 38 finished with value: 1711.4006005645176 and parameters: {'num_iterations': 620, 'max_depth': 10, 'max_bin': 200, 'learning_rate': 0.18414496811842895, 'num_leaves': 110, 'min_data_in_leaf': 8, 'lambda_l1': 0.022012679473352628, 'min_child_weight': 3.561241213201991, 'feature_fraction': 0.6480228941500521, 'bagging_fraction': 0.5325419581983639}. Best is trial 28 with value: 1691.591833034745.\n",
      "[I 2023-12-10 00:41:18,340] Trial 39 finished with value: 1719.69392405742 and parameters: {'num_iterations': 331, 'max_depth': 15, 'max_bin': 241, 'learning_rate': 0.24372914549123378, 'num_leaves': 72, 'min_data_in_leaf': 5, 'lambda_l1': 0.03316115158700605, 'min_child_weight': 3.010788302182132, 'feature_fraction': 0.8557875825351428, 'bagging_fraction': 0.24349539442437024}. Best is trial 28 with value: 1691.591833034745.\n",
      "[I 2023-12-10 00:42:00,836] Trial 40 finished with value: 1706.459450577652 and parameters: {'num_iterations': 530, 'max_depth': 12, 'max_bin': 220, 'learning_rate': 0.16985318441991298, 'num_leaves': 114, 'min_data_in_leaf': 7, 'lambda_l1': 0.0425321773528773, 'min_child_weight': 3.7713101986555158, 'feature_fraction': 0.9555557704211535, 'bagging_fraction': 0.39407780271184595}. Best is trial 28 with value: 1691.591833034745.\n",
      "[I 2023-12-10 00:42:56,664] Trial 41 finished with value: 1692.7588735130405 and parameters: {'num_iterations': 665, 'max_depth': 14, 'max_bin': 230, 'learning_rate': 0.08149094604835833, 'num_leaves': 122, 'min_data_in_leaf': 5, 'lambda_l1': 0.03757086673729284, 'min_child_weight': 3.56697257065415, 'feature_fraction': 0.9355846383950156, 'bagging_fraction': 0.3512185658310446}. Best is trial 28 with value: 1691.591833034745.\n",
      "[I 2023-12-10 00:43:56,501] Trial 42 finished with value: 1690.7486772465788 and parameters: {'num_iterations': 727, 'max_depth': 16, 'max_bin': 208, 'learning_rate': 0.0798494606194097, 'num_leaves': 118, 'min_data_in_leaf': 9, 'lambda_l1': 0.031489602047546826, 'min_child_weight': 3.561051997288991, 'feature_fraction': 0.9247801961069293, 'bagging_fraction': 0.3455390895060133}. Best is trial 42 with value: 1690.7486772465788.\n",
      "[I 2023-12-10 00:45:24,924] Trial 43 finished with value: 1711.8013341031124 and parameters: {'num_iterations': 813, 'max_depth': 19, 'max_bin': 206, 'learning_rate': 0.01789141458759662, 'num_leaves': 117, 'min_data_in_leaf': 9, 'lambda_l1': 0.02986525556370141, 'min_child_weight': 3.451056225040416, 'feature_fraction': 0.8773318658219655, 'bagging_fraction': 0.4627616211368406}. Best is trial 42 with value: 1690.7486772465788.\n",
      "[I 2023-12-10 00:46:22,091] Trial 44 finished with value: 1694.997455281097 and parameters: {'num_iterations': 732, 'max_depth': 16, 'max_bin': 191, 'learning_rate': 0.11390574731087494, 'num_leaves': 125, 'min_data_in_leaf': 6, 'lambda_l1': 0.023068062922139858, 'min_child_weight': 2.848669372231115, 'feature_fraction': 0.7584137635734375, 'bagging_fraction': 0.31718356833263084}. Best is trial 42 with value: 1690.7486772465788.\n",
      "[I 2023-12-10 00:47:31,664] Trial 45 finished with value: 1690.0746595176502 and parameters: {'num_iterations': 829, 'max_depth': 18, 'max_bin': 195, 'learning_rate': 0.051619727941969486, 'num_leaves': 113, 'min_data_in_leaf': 10, 'lambda_l1': 0.04370715093235547, 'min_child_weight': 4.136287593214547, 'feature_fraction': 0.8324664972375415, 'bagging_fraction': 0.38341250806522714}. Best is trial 45 with value: 1690.0746595176502.\n",
      "[I 2023-12-10 00:49:11,192] Trial 46 finished with value: 1719.926675995642 and parameters: {'num_iterations': 858, 'max_depth': 16, 'max_bin': 192, 'learning_rate': 0.01306151638064923, 'num_leaves': 113, 'min_data_in_leaf': 11, 'lambda_l1': 0.044724028276047004, 'min_child_weight': 4.615457029228343, 'feature_fraction': 0.8027874056355202, 'bagging_fraction': 0.24950956197119412}. Best is trial 45 with value: 1690.0746595176502.\n",
      "[I 2023-12-10 00:49:54,757] Trial 47 finished with value: 1703.5934487075804 and parameters: {'num_iterations': 422, 'max_depth': 18, 'max_bin': 204, 'learning_rate': 0.06096134205785559, 'num_leaves': 107, 'min_data_in_leaf': 17, 'lambda_l1': 0.05788631563759377, 'min_child_weight': 4.1097530270571205, 'feature_fraction': 0.9856726389346534, 'bagging_fraction': 0.3883628062987575}. Best is trial 45 with value: 1690.0746595176502.\n",
      "[I 2023-12-10 00:50:23,287] Trial 48 finished with value: 1708.0458598659475 and parameters: {'num_iterations': 312, 'max_depth': 19, 'max_bin': 183, 'learning_rate': 0.16699675805243583, 'num_leaves': 86, 'min_data_in_leaf': 9, 'lambda_l1': 0.03256172343299081, 'min_child_weight': 3.833689011045087, 'feature_fraction': 0.8613281247014766, 'bagging_fraction': 0.426330766030106}. Best is trial 45 with value: 1690.0746595176502.\n",
      "[I 2023-12-10 00:51:15,288] Trial 49 finished with value: 1701.9143903411648 and parameters: {'num_iterations': 583, 'max_depth': 18, 'max_bin': 198, 'learning_rate': 0.05077348829024805, 'num_leaves': 97, 'min_data_in_leaf': 13, 'lambda_l1': 0.045735747893288964, 'min_child_weight': 4.132516447224435, 'feature_fraction': 0.7413452399894102, 'bagging_fraction': 0.5433363201484177}. Best is trial 45 with value: 1690.0746595176502.\n",
      "[I 2023-12-10 00:52:11,023] Trial 50 finished with value: 1724.7902978761456 and parameters: {'num_iterations': 797, 'max_depth': 16, 'max_bin': 212, 'learning_rate': 0.23247558022785958, 'num_leaves': 117, 'min_data_in_leaf': 8, 'lambda_l1': 0.027856501525399716, 'min_child_weight': 4.547573546050461, 'feature_fraction': 0.8314329705359712, 'bagging_fraction': 0.18941693230464166}. Best is trial 45 with value: 1690.0746595176502.\n",
      "[I 2023-12-10 00:53:12,534] Trial 51 finished with value: 1700.8200596796391 and parameters: {'num_iterations': 843, 'max_depth': 14, 'max_bin': 221, 'learning_rate': 0.11470894696017467, 'num_leaves': 119, 'min_data_in_leaf': 6, 'lambda_l1': 0.04007511953259099, 'min_child_weight': 3.577168456823907, 'feature_fraction': 0.9676929010690456, 'bagging_fraction': 0.35551277971519213}. Best is trial 45 with value: 1690.0746595176502.\n",
      "[I 2023-12-10 00:54:33,142] Trial 52 finished with value: 1696.2422977229871 and parameters: {'num_iterations': 854, 'max_depth': 11, 'max_bin': 240, 'learning_rate': 0.04033574108523274, 'num_leaves': 124, 'min_data_in_leaf': 10, 'lambda_l1': 0.034057948418355695, 'min_child_weight': 3.9157167077986594, 'feature_fraction': 0.9082456111194869, 'bagging_fraction': 0.2794679486539212}. Best is trial 45 with value: 1690.0746595176502.\n",
      "[I 2023-12-10 00:55:29,732] Trial 53 finished with value: 1694.5660478223194 and parameters: {'num_iterations': 722, 'max_depth': 13, 'max_bin': 249, 'learning_rate': 0.09602229009690377, 'num_leaves': 113, 'min_data_in_leaf': 7, 'lambda_l1': 0.04058193802079134, 'min_child_weight': 3.710193645340061, 'feature_fraction': 0.998225087469701, 'bagging_fraction': 0.45413629415673096}. Best is trial 45 with value: 1690.0746595176502.\n",
      "[I 2023-12-10 00:56:18,952] Trial 54 finished with value: 1698.9008853263942 and parameters: {'num_iterations': 681, 'max_depth': 20, 'max_bin': 205, 'learning_rate': 0.13343080264381169, 'num_leaves': 107, 'min_data_in_leaf': 6, 'lambda_l1': 0.04558268734260015, 'min_child_weight': 3.205774925695836, 'feature_fraction': 0.829124350231145, 'bagging_fraction': 0.4877951459529072}. Best is trial 45 with value: 1690.0746595176502.\n",
      "[I 2023-12-10 00:57:57,331] Trial 55 finished with value: 1721.9555079675436 and parameters: {'num_iterations': 817, 'max_depth': 16, 'max_bin': 235, 'learning_rate': 0.012120828921345944, 'num_leaves': 118, 'min_data_in_leaf': 8, 'lambda_l1': 0.03589805927452334, 'min_child_weight': 4.173040342816502, 'feature_fraction': 0.9407567531506951, 'bagging_fraction': 0.3250441498526003}. Best is trial 45 with value: 1690.0746595176502.\n",
      "[I 2023-12-10 00:58:59,164] Trial 56 finished with value: 1711.3184862255487 and parameters: {'num_iterations': 745, 'max_depth': 12, 'max_bin': 224, 'learning_rate': 0.17745691740428468, 'num_leaves': 125, 'min_data_in_leaf': 10, 'lambda_l1': 0.029309308465013735, 'min_child_weight': 3.360733317231345, 'feature_fraction': 0.8822575038619758, 'bagging_fraction': 0.4068879916494349}. Best is trial 45 with value: 1690.0746595176502.\n",
      "[I 2023-12-10 00:59:30,375] Trial 57 finished with value: 1879.4727729186502 and parameters: {'num_iterations': 789, 'max_depth': 2, 'max_bin': 193, 'learning_rate': 0.14020316765072696, 'num_leaves': 128, 'min_data_in_leaf': 12, 'lambda_l1': 0.04035313288585246, 'min_child_weight': 3.9156076922091723, 'feature_fraction': 0.9422723945523956, 'bagging_fraction': 0.37936077518263533}. Best is trial 45 with value: 1690.0746595176502.\n",
      "[I 2023-12-10 01:00:45,200] Trial 58 finished with value: 1690.41377099777 and parameters: {'num_iterations': 866, 'max_depth': 18, 'max_bin': 185, 'learning_rate': 0.0459732083756528, 'num_leaves': 111, 'min_data_in_leaf': 15, 'lambda_l1': 0.047573000049608065, 'min_child_weight': 4.743642111805482, 'feature_fraction': 0.8279530942455924, 'bagging_fraction': 0.4390242414712412}. Best is trial 45 with value: 1690.0746595176502.\n",
      "[I 2023-12-10 01:01:44,215] Trial 59 finished with value: 1698.4299673931832 and parameters: {'num_iterations': 865, 'max_depth': 19, 'max_bin': 182, 'learning_rate': 0.06588881568650458, 'num_leaves': 68, 'min_data_in_leaf': 16, 'lambda_l1': 0.052941522135206934, 'min_child_weight': 4.701884650293793, 'feature_fraction': 0.8247296537567538, 'bagging_fraction': 0.5057570544380113}. Best is trial 45 with value: 1690.0746595176502.\n",
      "[I 2023-12-10 01:02:59,774] Trial 60 finished with value: 1707.9186540206567 and parameters: {'num_iterations': 876, 'max_depth': 9, 'max_bin': 178, 'learning_rate': 0.03770292385624638, 'num_leaves': 81, 'min_data_in_leaf': 15, 'lambda_l1': 0.048739235864244404, 'min_child_weight': 4.452844834773509, 'feature_fraction': 0.7762484511695014, 'bagging_fraction': 0.43776331034859717}. Best is trial 45 with value: 1690.0746595176502.\n",
      "[I 2023-12-10 01:04:01,629] Trial 61 finished with value: 1692.481334654133 and parameters: {'num_iterations': 825, 'max_depth': 18, 'max_bin': 160, 'learning_rate': 0.09087164824677196, 'num_leaves': 113, 'min_data_in_leaf': 7, 'lambda_l1': 0.04286381369678039, 'min_child_weight': 4.746830179305619, 'feature_fraction': 0.8958148816373325, 'bagging_fraction': 0.3455743570247658}. Best is trial 45 with value: 1690.0746595176502.\n",
      "[I 2023-12-10 01:04:59,950] Trial 62 finished with value: 1700.5828582764861 and parameters: {'num_iterations': 829, 'max_depth': 18, 'max_bin': 160, 'learning_rate': 0.1449147833228862, 'num_leaves': 112, 'min_data_in_leaf': 8, 'lambda_l1': 0.04442853366419926, 'min_child_weight': 4.802445090212692, 'feature_fraction': 0.8903227817368685, 'bagging_fraction': 0.4151856794239088}. Best is trial 45 with value: 1690.0746595176502.\n",
      "[I 2023-12-10 01:06:02,201] Trial 63 finished with value: 1697.1611522104656 and parameters: {'num_iterations': 760, 'max_depth': 17, 'max_bin': 187, 'learning_rate': 0.0434503698675565, 'num_leaves': 97, 'min_data_in_leaf': 7, 'lambda_l1': 0.048351667667040965, 'min_child_weight': 4.267528083501007, 'feature_fraction': 0.8595914254346204, 'bagging_fraction': 0.2936682299222134}. Best is trial 45 with value: 1690.0746595176502.\n",
      "[I 2023-12-10 01:07:08,355] Trial 64 finished with value: 1696.196101205226 and parameters: {'num_iterations': 869, 'max_depth': 18, 'max_bin': 173, 'learning_rate': 0.1100858696730244, 'num_leaves': 109, 'min_data_in_leaf': 14, 'lambda_l1': 0.05388873443642439, 'min_child_weight': 4.709560071553707, 'feature_fraction': 0.806062042631277, 'bagging_fraction': 0.47609058358602213}. Best is trial 45 with value: 1690.0746595176502.\n",
      "[I 2023-12-10 01:08:07,537] Trial 65 finished with value: 1692.8780855878526 and parameters: {'num_iterations': 787, 'max_depth': 19, 'max_bin': 209, 'learning_rate': 0.1015321373020465, 'num_leaves': 119, 'min_data_in_leaf': 6, 'lambda_l1': 0.04181023341857197, 'min_child_weight': 4.6198301034778195, 'feature_fraction': 0.8965548104862893, 'bagging_fraction': 0.3839151593765396}. Best is trial 45 with value: 1690.0746595176502.\n",
      "[I 2023-12-10 01:09:06,703] Trial 66 finished with value: 1716.2039253167954 and parameters: {'num_iterations': 838, 'max_depth': 15, 'max_bin': 159, 'learning_rate': 0.19360898022798217, 'num_leaves': 115, 'min_data_in_leaf': 10, 'lambda_l1': 0.048510102123325696, 'min_child_weight': 4.371899896303806, 'feature_fraction': 0.9631336847802724, 'bagging_fraction': 0.4409812332757079}. Best is trial 45 with value: 1690.0746595176502.\n",
      "[I 2023-12-10 01:09:49,344] Trial 67 finished with value: 1708.2405518073424 and parameters: {'num_iterations': 754, 'max_depth': 20, 'max_bin': 195, 'learning_rate': 0.15206977445186587, 'num_leaves': 45, 'min_data_in_leaf': 12, 'lambda_l1': 0.034768679940224256, 'min_child_weight': 4.826254010176736, 'feature_fraction': 0.709485512749067, 'bagging_fraction': 0.552647820728876}. Best is trial 45 with value: 1690.0746595176502.\n",
      "[I 2023-12-10 01:10:19,933] Trial 68 finished with value: 1732.8730166627374 and parameters: {'num_iterations': 196, 'max_depth': 17, 'max_bin': 218, 'learning_rate': 0.044471818942908595, 'num_leaves': 106, 'min_data_in_leaf': 9, 'lambda_l1': 0.04409272952428617, 'min_child_weight': 4.2627938410117965, 'feature_fraction': 0.8279782994431157, 'bagging_fraction': 0.3327960622301293}. Best is trial 45 with value: 1690.0746595176502.\n",
      "[I 2023-12-10 01:11:02,670] Trial 69 finished with value: 1695.8960149962527 and parameters: {'num_iterations': 445, 'max_depth': 15, 'max_bin': 160, 'learning_rate': 0.08887495430402326, 'num_leaves': 124, 'min_data_in_leaf': 7, 'lambda_l1': 0.05653064956774541, 'min_child_weight': 4.5664208461244415, 'feature_fraction': 0.7744855840114796, 'bagging_fraction': 0.37331016403082884}. Best is trial 45 with value: 1690.0746595176502.\n",
      "[I 2023-12-10 01:12:29,763] Trial 70 finished with value: 1739.6078454863048 and parameters: {'num_iterations': 701, 'max_depth': 16, 'max_bin': 189, 'learning_rate': 0.011550161218526513, 'num_leaves': 101, 'min_data_in_leaf': 18, 'lambda_l1': 0.03919703353099785, 'min_child_weight': 4.463879779224838, 'feature_fraction': 0.9655888680239783, 'bagging_fraction': 0.49170926713863383}. Best is trial 45 with value: 1690.0746595176502.\n",
      "[I 2023-12-10 01:13:34,991] Trial 71 finished with value: 1691.3501735060668 and parameters: {'num_iterations': 823, 'max_depth': 14, 'max_bin': 199, 'learning_rate': 0.07381324060869364, 'num_leaves': 121, 'min_data_in_leaf': 5, 'lambda_l1': 0.03769730490277838, 'min_child_weight': 3.7211115654479765, 'feature_fraction': 0.9098238829581872, 'bagging_fraction': 0.3511912413661634}. Best is trial 45 with value: 1690.0746595176502.\n",
      "[I 2023-12-10 01:14:40,447] Trial 72 finished with value: 1688.8537288073767 and parameters: {'num_iterations': 799, 'max_depth': 18, 'max_bin': 200, 'learning_rate': 0.06260964656226124, 'num_leaves': 120, 'min_data_in_leaf': 5, 'lambda_l1': 0.04719279217317712, 'min_child_weight': 3.6870700163366696, 'feature_fraction': 0.9092037985172837, 'bagging_fraction': 0.41725117516310073}. Best is trial 72 with value: 1688.8537288073767.\n",
      "[I 2023-12-10 01:15:42,815] Trial 73 finished with value: 1699.7211929843456 and parameters: {'num_iterations': 881, 'max_depth': 18, 'max_bin': 203, 'learning_rate': 0.12491770628258321, 'num_leaves': 115, 'min_data_in_leaf': 6, 'lambda_l1': 0.050963636539239646, 'min_child_weight': 4.015857380282889, 'feature_fraction': 0.9112063310145887, 'bagging_fraction': 0.4058333080312701}. Best is trial 72 with value: 1688.8537288073767.\n",
      "[I 2023-12-10 01:16:48,166] Trial 74 finished with value: 1687.9281512621553 and parameters: {'num_iterations': 805, 'max_depth': 17, 'max_bin': 199, 'learning_rate': 0.06526226800824847, 'num_leaves': 120, 'min_data_in_leaf': 5, 'lambda_l1': 0.0470548713498051, 'min_child_weight': 4.188505533436716, 'feature_fraction': 0.8610343174046917, 'bagging_fraction': 0.332487423426259}. Best is trial 74 with value: 1687.9281512621553.\n",
      "[I 2023-12-10 01:17:58,706] Trial 75 finished with value: 1690.6205333038827 and parameters: {'num_iterations': 797, 'max_depth': 16, 'max_bin': 196, 'learning_rate': 0.045893919623574364, 'num_leaves': 120, 'min_data_in_leaf': 5, 'lambda_l1': 0.04692808984278529, 'min_child_weight': 4.187183555446892, 'feature_fraction': 0.8587038815052256, 'bagging_fraction': 0.272377726076628}. Best is trial 74 with value: 1687.9281512621553.\n",
      "[I 2023-12-10 01:19:08,336] Trial 76 finished with value: 1692.6741872307223 and parameters: {'num_iterations': 799, 'max_depth': 17, 'max_bin': 198, 'learning_rate': 0.04313934206574364, 'num_leaves': 120, 'min_data_in_leaf': 5, 'lambda_l1': 0.055490064161453884, 'min_child_weight': 4.039174348459604, 'feature_fraction': 0.8571850243309005, 'bagging_fraction': 0.2741773178641643}. Best is trial 74 with value: 1687.9281512621553.\n",
      "[I 2023-12-10 01:20:16,941] Trial 77 finished with value: 1695.5223366867092 and parameters: {'num_iterations': 722, 'max_depth': 16, 'max_bin': 208, 'learning_rate': 0.03914162342503881, 'num_leaves': 127, 'min_data_in_leaf': 6, 'lambda_l1': 0.047114871717102075, 'min_child_weight': 4.40017533256346, 'feature_fraction': 0.9236290408428248, 'bagging_fraction': 0.30458315544367653}. Best is trial 74 with value: 1687.9281512621553.\n",
      "[I 2023-12-10 01:21:11,823] Trial 78 finished with value: 1703.6161152086922 and parameters: {'num_iterations': 771, 'max_depth': 19, 'max_bin': 196, 'learning_rate': 0.15597103865813355, 'num_leaves': 110, 'min_data_in_leaf': 5, 'lambda_l1': 0.050515976995118866, 'min_child_weight': 3.9441405550508066, 'feature_fraction': 0.8045017661886849, 'bagging_fraction': 0.21756252482754035}. Best is trial 74 with value: 1687.9281512621553.\n",
      "[I 2023-12-10 01:22:14,079] Trial 79 finished with value: 1725.8429268544555 and parameters: {'num_iterations': 851, 'max_depth': 6, 'max_bin': 201, 'learning_rate': 0.060887861767381514, 'num_leaves': 117, 'min_data_in_leaf': 8, 'lambda_l1': 0.04599967236730822, 'min_child_weight': 3.47513743796331, 'feature_fraction': 0.9771924650626651, 'bagging_fraction': 0.33875306231926}. Best is trial 74 with value: 1687.9281512621553.\n",
      "[I 2023-12-10 01:23:21,208] Trial 80 finished with value: 1697.2141431128125 and parameters: {'num_iterations': 900, 'max_depth': 17, 'max_bin': 187, 'learning_rate': 0.11840423604770758, 'num_leaves': 120, 'min_data_in_leaf': 11, 'lambda_l1': 0.059070067199050905, 'min_child_weight': 4.2062885850785054, 'feature_fraction': 0.8597871927775129, 'bagging_fraction': 0.37486751494213283}. Best is trial 74 with value: 1687.9281512621553.\n",
      "[I 2023-12-10 01:24:26,875] Trial 81 finished with value: 1688.6619049013796 and parameters: {'num_iterations': 806, 'max_depth': 15, 'max_bin': 178, 'learning_rate': 0.06951470502152456, 'num_leaves': 125, 'min_data_in_leaf': 5, 'lambda_l1': 0.042375237629079285, 'min_child_weight': 3.7018024928520648, 'feature_fraction': 0.879160412188656, 'bagging_fraction': 0.4598697618432959}. Best is trial 74 with value: 1687.9281512621553.\n",
      "[I 2023-12-10 01:25:28,552] Trial 82 finished with value: 1692.221630446037 and parameters: {'num_iterations': 793, 'max_depth': 16, 'max_bin': 178, 'learning_rate': 0.09850488641394531, 'num_leaves': 125, 'min_data_in_leaf': 6, 'lambda_l1': 0.04905459802296849, 'min_child_weight': 3.646950801892891, 'feature_fraction': 0.8440521954619693, 'bagging_fraction': 0.46434233803139763}. Best is trial 74 with value: 1687.9281512621553.\n",
      "[I 2023-12-10 01:26:49,323] Trial 83 finished with value: 1695.6729911994948 and parameters: {'num_iterations': 807, 'max_depth': 15, 'max_bin': 184, 'learning_rate': 0.02921583294199815, 'num_leaves': 128, 'min_data_in_leaf': 5, 'lambda_l1': 0.04282095716144062, 'min_child_weight': 3.8566655182522935, 'feature_fraction': 0.8796166480329086, 'bagging_fraction': 0.4072332603905095}. Best is trial 74 with value: 1687.9281512621553.\n",
      "[I 2023-12-10 01:27:53,663] Trial 84 finished with value: 1689.366835700782 and parameters: {'num_iterations': 771, 'max_depth': 15, 'max_bin': 173, 'learning_rate': 0.06228765442248428, 'num_leaves': 122, 'min_data_in_leaf': 7, 'lambda_l1': 0.03617093471069889, 'min_child_weight': 4.139181822000092, 'feature_fraction': 0.9237221323387946, 'bagging_fraction': 0.3142998737247189}. Best is trial 74 with value: 1687.9281512621553.\n",
      "[I 2023-12-10 01:29:27,982] Trial 85 finished with value: 1727.1368605665473 and parameters: {'num_iterations': 734, 'max_depth': 17, 'max_bin': 175, 'learning_rate': 0.01167462805247902, 'num_leaves': 121, 'min_data_in_leaf': 7, 'lambda_l1': 0.036674275294420355, 'min_child_weight': 4.0801788454903765, 'feature_fraction': 0.9480704858062281, 'bagging_fraction': 0.31848681690004216}. Best is trial 74 with value: 1687.9281512621553.\n",
      "[I 2023-12-10 01:30:30,556] Trial 86 finished with value: 1691.899301300136 and parameters: {'num_iterations': 770, 'max_depth': 15, 'max_bin': 180, 'learning_rate': 0.0684113509449501, 'num_leaves': 116, 'min_data_in_leaf': 8, 'lambda_l1': 0.05183717229138061, 'min_child_weight': 4.213139766507887, 'feature_fraction': 0.9985762349175201, 'bagging_fraction': 0.28632939485541603}. Best is trial 74 with value: 1687.9281512621553.\n",
      "[I 2023-12-10 01:31:19,901] Trial 87 finished with value: 1707.6315690818356 and parameters: {'num_iterations': 682, 'max_depth': 13, 'max_bin': 172, 'learning_rate': 0.17811615506447104, 'num_leaves': 111, 'min_data_in_leaf': 6, 'lambda_l1': 0.03211737986097728, 'min_child_weight': 3.6701912834502606, 'feature_fraction': 0.925184765778037, 'bagging_fraction': 0.25651031640409816}. Best is trial 74 with value: 1687.9281512621553.\n",
      "[I 2023-12-10 01:32:15,982] Trial 88 finished with value: 1692.7034768686995 and parameters: {'num_iterations': 631, 'max_depth': 18, 'max_bin': 190, 'learning_rate': 0.05891026622878938, 'num_leaves': 118, 'min_data_in_leaf': 9, 'lambda_l1': 0.04594220293904059, 'min_child_weight': 3.8106316665863904, 'feature_fraction': 0.8709886303476964, 'bagging_fraction': 0.31074031758239046}. Best is trial 74 with value: 1687.9281512621553.\n",
      "[I 2023-12-10 01:33:10,191] Trial 89 finished with value: 1699.402687538514 and parameters: {'num_iterations': 714, 'max_depth': 16, 'max_bin': 186, 'learning_rate': 0.1384127751492814, 'num_leaves': 121, 'min_data_in_leaf': 6, 'lambda_l1': 0.035947543013569054, 'min_child_weight': 4.008965007977736, 'feature_fraction': 0.8106929872156459, 'bagging_fraction': 0.36614498231313025}. Best is trial 74 with value: 1687.9281512621553.\n",
      "[I 2023-12-10 01:34:08,774] Trial 90 finished with value: 1695.6893795018943 and parameters: {'num_iterations': 747, 'max_depth': 17, 'max_bin': 194, 'learning_rate': 0.10397552147392963, 'num_leaves': 126, 'min_data_in_leaf': 7, 'lambda_l1': 0.054198854402539104, 'min_child_weight': 4.315433106286433, 'feature_fraction': 0.9698539396761774, 'bagging_fraction': 0.2673860753700325}. Best is trial 74 with value: 1687.9281512621553.\n",
      "[I 2023-12-10 01:35:15,852] Trial 91 finished with value: 1688.4387885155818 and parameters: {'num_iterations': 845, 'max_depth': 15, 'max_bin': 201, 'learning_rate': 0.07512686580329284, 'num_leaves': 123, 'min_data_in_leaf': 5, 'lambda_l1': 0.0404464718677903, 'min_child_weight': 4.465858176751106, 'feature_fraction': 0.9169978074313174, 'bagging_fraction': 0.3905211933196058}. Best is trial 74 with value: 1687.9281512621553.\n",
      "[I 2023-12-10 01:36:32,031] Trial 92 finished with value: 1694.2783654247032 and parameters: {'num_iterations': 845, 'max_depth': 15, 'max_bin': 201, 'learning_rate': 0.03453797098433407, 'num_leaves': 116, 'min_data_in_leaf': 5, 'lambda_l1': 0.04335196225796875, 'min_child_weight': 4.143718072380178, 'feature_fraction': 0.8437789991218613, 'bagging_fraction': 0.35466624122284646}. Best is trial 74 with value: 1687.9281512621553.\n",
      "[I 2023-12-10 01:37:35,948] Trial 93 finished with value: 1689.636358893336 and parameters: {'num_iterations': 808, 'max_depth': 18, 'max_bin': 213, 'learning_rate': 0.07870283993590191, 'num_leaves': 123, 'min_data_in_leaf': 7, 'lambda_l1': 0.03896481397934383, 'min_child_weight': 4.493294593135616, 'feature_fraction': 0.8908378311093609, 'bagging_fraction': 0.39086226531735185}. Best is trial 74 with value: 1687.9281512621553.\n",
      "[I 2023-12-10 01:38:34,338] Trial 94 finished with value: 1699.1034002631022 and parameters: {'num_iterations': 777, 'max_depth': 20, 'max_bin': 214, 'learning_rate': 0.12648629713064516, 'num_leaves': 124, 'min_data_in_leaf': 8, 'lambda_l1': 0.040748585088581035, 'min_child_weight': 4.505888590533479, 'feature_fraction': 0.9448863485733544, 'bagging_fraction': 0.3865686099484857}. Best is trial 74 with value: 1687.9281512621553.\n",
      "[I 2023-12-10 01:39:46,582] Trial 95 finished with value: 1689.073040504699 and parameters: {'num_iterations': 879, 'max_depth': 19, 'max_bin': 211, 'learning_rate': 0.056245833495901634, 'num_leaves': 118, 'min_data_in_leaf': 9, 'lambda_l1': 0.04819380144402927, 'min_child_weight': 4.338797549482474, 'feature_fraction': 0.8821862129414303, 'bagging_fraction': 0.4156350194555077}. Best is trial 74 with value: 1687.9281512621553.\n",
      "[I 2023-12-10 01:41:09,750] Trial 96 finished with value: 1695.9189424756937 and parameters: {'num_iterations': 875, 'max_depth': 19, 'max_bin': 204, 'learning_rate': 0.028086728198229972, 'num_leaves': 126, 'min_data_in_leaf': 6, 'lambda_l1': 0.04720457145183697, 'min_child_weight': 4.322297823891361, 'feature_fraction': 0.880347374421913, 'bagging_fraction': 0.4163111282898375}. Best is trial 74 with value: 1687.9281512621553.\n",
      "[I 2023-12-10 01:42:21,098] Trial 97 finished with value: 1686.204754913359 and parameters: {'num_iterations': 884, 'max_depth': 18, 'max_bin': 195, 'learning_rate': 0.06056211121914541, 'num_leaves': 114, 'min_data_in_leaf': 7, 'lambda_l1': 0.05106871330529289, 'min_child_weight': 4.889639058314703, 'feature_fraction': 0.7850792936873255, 'bagging_fraction': 0.4428213922947892}. Best is trial 97 with value: 1686.204754913359.\n",
      "[I 2023-12-10 01:43:26,427] Trial 98 finished with value: 1691.6112694167336 and parameters: {'num_iterations': 886, 'max_depth': 19, 'max_bin': 166, 'learning_rate': 0.0937862017830303, 'num_leaves': 106, 'min_data_in_leaf': 10, 'lambda_l1': 0.049839086405283894, 'min_child_weight': 4.87525759396902, 'feature_fraction': 0.8221771500378576, 'bagging_fraction': 0.4279946956891887}. Best is trial 97 with value: 1686.204754913359.\n",
      "[I 2023-12-10 01:44:34,855] Trial 99 finished with value: 1688.479361532643 and parameters: {'num_iterations': 851, 'max_depth': 20, 'max_bin': 210, 'learning_rate': 0.06434972168889948, 'num_leaves': 114, 'min_data_in_leaf': 7, 'lambda_l1': 0.05042797826473873, 'min_child_weight': 4.9901438025216684, 'feature_fraction': 0.794808959658126, 'bagging_fraction': 0.4722235867835328}. Best is trial 97 with value: 1686.204754913359.\n",
      "[I 2023-12-10 01:45:34,313] Trial 100 finished with value: 1705.8925610000456 and parameters: {'num_iterations': 850, 'max_depth': 20, 'max_bin': 214, 'learning_rate': 0.15711401174409503, 'num_leaves': 114, 'min_data_in_leaf': 7, 'lambda_l1': 0.061348062281415004, 'min_child_weight': 4.881640942249639, 'feature_fraction': 0.7911848995173998, 'bagging_fraction': 0.5128198324883169}. Best is trial 97 with value: 1686.204754913359.\n",
      "[I 2023-12-10 01:46:41,282] Trial 101 finished with value: 1690.056016014621 and parameters: {'num_iterations': 865, 'max_depth': 18, 'max_bin': 206, 'learning_rate': 0.06596775152222151, 'num_leaves': 111, 'min_data_in_leaf': 7, 'lambda_l1': 0.05192344130784632, 'min_child_weight': 4.671965347941956, 'feature_fraction': 0.8397353416748389, 'bagging_fraction': 0.45307076459072565}. Best is trial 97 with value: 1686.204754913359.\n",
      "[I 2023-12-10 01:46:58,856] Trial 102 finished with value: 1781.6927863011315 and parameters: {'num_iterations': 64, 'max_depth': 19, 'max_bin': 211, 'learning_rate': 0.06397175251263604, 'num_leaves': 108, 'min_data_in_leaf': 27, 'lambda_l1': 0.052872996335407714, 'min_child_weight': 4.984882628383538, 'feature_fraction': 0.8891036743247944, 'bagging_fraction': 0.4631816937424463}. Best is trial 97 with value: 1686.204754913359.\n",
      "[I 2023-12-10 01:48:00,944] Trial 103 finished with value: 1694.982925896351 and parameters: {'num_iterations': 836, 'max_depth': 18, 'max_bin': 207, 'learning_rate': 0.11227107743849257, 'num_leaves': 123, 'min_data_in_leaf': 8, 'lambda_l1': 0.05065340922026907, 'min_child_weight': 4.553338664344953, 'feature_fraction': 0.8453890859123467, 'bagging_fraction': 0.3967851486882346}. Best is trial 97 with value: 1686.204754913359.\n",
      "[I 2023-12-10 01:49:01,045] Trial 104 finished with value: 1690.8305430167006 and parameters: {'num_iterations': 811, 'max_depth': 20, 'max_bin': 224, 'learning_rate': 0.09000296595628736, 'num_leaves': 104, 'min_data_in_leaf': 7, 'lambda_l1': 0.04451388364075424, 'min_child_weight': 4.654204021224211, 'feature_fraction': 0.7900284479545966, 'bagging_fraction': 0.4937890047966858}. Best is trial 97 with value: 1686.204754913359.\n",
      "[I 2023-12-10 01:50:25,005] Trial 105 finished with value: 1702.5344668465762 and parameters: {'num_iterations': 866, 'max_depth': 19, 'max_bin': 212, 'learning_rate': 0.025244146552476553, 'num_leaves': 112, 'min_data_in_leaf': 9, 'lambda_l1': 0.05475621313133243, 'min_child_weight': 4.4462059481087755, 'feature_fraction': 0.9006858442458634, 'bagging_fraction': 0.45522071306017486}. Best is trial 97 with value: 1686.204754913359.\n",
      "[I 2023-12-10 01:51:27,696] Trial 106 finished with value: 1701.238619175748 and parameters: {'num_iterations': 890, 'max_depth': 18, 'max_bin': 216, 'learning_rate': 0.13450853588816708, 'num_leaves': 115, 'min_data_in_leaf': 6, 'lambda_l1': 0.0420010915074656, 'min_child_weight': 4.801569611604931, 'feature_fraction': 0.7477343421860818, 'bagging_fraction': 0.4785852343532163}. Best is trial 97 with value: 1686.204754913359.\n",
      "[I 2023-12-10 01:52:34,210] Trial 107 finished with value: 1689.795974629046 and parameters: {'num_iterations': 854, 'max_depth': 20, 'max_bin': 219, 'learning_rate': 0.07573730532040288, 'num_leaves': 118, 'min_data_in_leaf': 8, 'lambda_l1': 0.049720408392106, 'min_child_weight': 4.613021015324398, 'feature_fraction': 0.8744899603409666, 'bagging_fraction': 0.4245897136575574}. Best is trial 97 with value: 1686.204754913359.\n",
      "[I 2023-12-10 01:53:40,479] Trial 108 finished with value: 1689.865030160677 and parameters: {'num_iterations': 854, 'max_depth': 20, 'max_bin': 218, 'learning_rate': 0.07341805028707124, 'num_leaves': 118, 'min_data_in_leaf': 7, 'lambda_l1': 0.05626694467868246, 'min_child_weight': 4.618533645754951, 'feature_fraction': 0.9215776654970521, 'bagging_fraction': 0.41664761803256434}. Best is trial 97 with value: 1686.204754913359.\n",
      "[I 2023-12-10 01:54:46,202] Trial 109 finished with value: 1691.5077719759574 and parameters: {'num_iterations': 844, 'max_depth': 20, 'max_bin': 220, 'learning_rate': 0.08090579725586078, 'num_leaves': 118, 'min_data_in_leaf': 8, 'lambda_l1': 0.04979761475414641, 'min_child_weight': 4.937842668769105, 'feature_fraction': 0.9348164481880062, 'bagging_fraction': 0.4236990759388712}. Best is trial 97 with value: 1686.204754913359.\n",
      "[I 2023-12-10 01:55:47,342] Trial 110 finished with value: 1695.088095020656 and parameters: {'num_iterations': 813, 'max_depth': 20, 'max_bin': 223, 'learning_rate': 0.1053501983603693, 'num_leaves': 122, 'min_data_in_leaf': 6, 'lambda_l1': 0.05763973245944902, 'min_child_weight': 4.568448619670357, 'feature_fraction': 0.8784713533848625, 'bagging_fraction': 0.40127976876135035}. Best is trial 97 with value: 1686.204754913359.\n",
      "[I 2023-12-10 01:56:55,128] Trial 111 finished with value: 1689.8558998866913 and parameters: {'num_iterations': 858, 'max_depth': 19, 'max_bin': 210, 'learning_rate': 0.07211489947254651, 'num_leaves': 118, 'min_data_in_leaf': 7, 'lambda_l1': 0.05205370457351479, 'min_child_weight': 4.653314585231097, 'feature_fraction': 0.9189975036089478, 'bagging_fraction': 0.45451392409166047}. Best is trial 97 with value: 1686.204754913359.\n",
      "[I 2023-12-10 01:58:02,470] Trial 112 finished with value: 1689.8497052762468 and parameters: {'num_iterations': 881, 'max_depth': 19, 'max_bin': 233, 'learning_rate': 0.07909866894251331, 'num_leaves': 119, 'min_data_in_leaf': 7, 'lambda_l1': 0.05547285387327079, 'min_child_weight': 4.431631918015221, 'feature_fraction': 0.9522787615652955, 'bagging_fraction': 0.4255835757640102}. Best is trial 97 with value: 1686.204754913359.\n",
      "[I 2023-12-10 01:59:09,280] Trial 113 finished with value: 1701.4325244952142 and parameters: {'num_iterations': 883, 'max_depth': 19, 'max_bin': 234, 'learning_rate': 0.12962172090379862, 'num_leaves': 123, 'min_data_in_leaf': 8, 'lambda_l1': 0.05373772254737321, 'min_child_weight': 4.432513927601141, 'feature_fraction': 0.9604010563596453, 'bagging_fraction': 0.5149881910214132}. Best is trial 97 with value: 1686.204754913359.\n",
      "[I 2023-12-10 02:00:06,237] Trial 114 finished with value: 1719.4374970697613 and parameters: {'num_iterations': 834, 'max_depth': 19, 'max_bin': 230, 'learning_rate': 0.19306577632124344, 'num_leaves': 119, 'min_data_in_leaf': 7, 'lambda_l1': 0.048180364932314805, 'min_child_weight': 4.768439489720608, 'feature_fraction': 0.9790403718449295, 'bagging_fraction': 0.47929077078454696}. Best is trial 97 with value: 1686.204754913359.\n",
      "[I 2023-12-10 02:01:22,638] Trial 115 finished with value: 1697.9933935958913 and parameters: {'num_iterations': 779, 'max_depth': 19, 'max_bin': 227, 'learning_rate': 0.030680469309907383, 'num_leaves': 126, 'min_data_in_leaf': 6, 'lambda_l1': 0.04537446391668321, 'min_child_weight': 4.494718575461755, 'feature_fraction': 0.9013783098518964, 'bagging_fraction': 0.36845851904411475}. Best is trial 97 with value: 1686.204754913359.\n",
      "[I 2023-12-10 02:02:33,584] Trial 116 finished with value: 1687.9630883593757 and parameters: {'num_iterations': 808, 'max_depth': 20, 'max_bin': 201, 'learning_rate': 0.05218063727345234, 'num_leaves': 128, 'min_data_in_leaf': 9, 'lambda_l1': 0.039737844458289776, 'min_child_weight': 4.347259466348281, 'feature_fraction': 0.9489802594057231, 'bagging_fraction': 0.4354244425111568}. Best is trial 97 with value: 1686.204754913359.\n",
      "[I 2023-12-10 02:03:43,627] Trial 117 finished with value: 1690.048150192303 and parameters: {'num_iterations': 805, 'max_depth': 20, 'max_bin': 202, 'learning_rate': 0.05294503441166516, 'num_leaves': 125, 'min_data_in_leaf': 9, 'lambda_l1': 0.03843714064865798, 'min_child_weight': 4.29793129197402, 'feature_fraction': 0.961047427987541, 'bagging_fraction': 0.4364428448309419}. Best is trial 97 with value: 1686.204754913359.\n",
      "[I 2023-12-10 02:05:41,079] Trial 118 finished with value: 1720.1650160500594 and parameters: {'num_iterations': 897, 'max_depth': 20, 'max_bin': 247, 'learning_rate': 0.01060706823646751, 'num_leaves': 128, 'min_data_in_leaf': 5, 'lambda_l1': 0.040204756822883686, 'min_child_weight': 4.4271210250081925, 'feature_fraction': 0.876781584404447, 'bagging_fraction': 0.39525259021762255}. Best is trial 97 with value: 1686.204754913359.\n",
      "[I 2023-12-10 02:06:43,463] Trial 119 finished with value: 1695.9382010323527 and parameters: {'num_iterations': 822, 'max_depth': 17, 'max_bin': 198, 'learning_rate': 0.1115370242160528, 'num_leaves': 122, 'min_data_in_leaf': 9, 'lambda_l1': 0.04249229487984014, 'min_child_weight': 4.356453658757106, 'feature_fraction': 0.948027434349775, 'bagging_fraction': 0.3263825917119812}. Best is trial 97 with value: 1686.204754913359.\n",
      "[I 2023-12-10 02:07:39,490] Trial 120 finished with value: 1724.2739946881265 and parameters: {'num_iterations': 759, 'max_depth': 18, 'max_bin': 191, 'learning_rate': 0.21774133567439102, 'num_leaves': 128, 'min_data_in_leaf': 10, 'lambda_l1': 0.03422262482775238, 'min_child_weight': 4.893405935998013, 'feature_fraction': 0.9317753460701181, 'bagging_fraction': 0.43078399946348284}. Best is trial 97 with value: 1686.204754913359.\n",
      "[I 2023-12-10 02:08:46,517] Trial 121 finished with value: 1691.5749180493754 and parameters: {'num_iterations': 875, 'max_depth': 19, 'max_bin': 210, 'learning_rate': 0.09015320509616372, 'num_leaves': 120, 'min_data_in_leaf': 8, 'lambda_l1': 0.051358735268987696, 'min_child_weight': 4.734882503243954, 'feature_fraction': 0.9158010971362776, 'bagging_fraction': 0.45657733288721936}. Best is trial 97 with value: 1686.204754913359.\n",
      "[I 2023-12-10 02:09:56,097] Trial 122 finished with value: 1690.7538092283448 and parameters: {'num_iterations': 855, 'max_depth': 20, 'max_bin': 204, 'learning_rate': 0.058066474334594866, 'num_leaves': 116, 'min_data_in_leaf': 6, 'lambda_l1': 0.045841153498011725, 'min_child_weight': 4.542691794939998, 'feature_fraction': 0.9883839774608234, 'bagging_fraction': 0.4949129957675358}. Best is trial 97 with value: 1686.204754913359.\n",
      "[I 2023-12-10 02:10:51,650] Trial 123 finished with value: 1696.3793293272986 and parameters: {'num_iterations': 794, 'max_depth': 19, 'max_bin': 125, 'learning_rate': 0.08636763323183304, 'num_leaves': 88, 'min_data_in_leaf': 5, 'lambda_l1': 0.04943721037972144, 'min_child_weight': 4.239303511874692, 'feature_fraction': 0.9190897999120982, 'bagging_fraction': 0.4711803017447007}. Best is trial 97 with value: 1686.204754913359.\n",
      "[I 2023-12-10 02:11:51,357] Trial 124 finished with value: 1709.445360141071 and parameters: {'num_iterations': 831, 'max_depth': 18, 'max_bin': 215, 'learning_rate': 0.15048258865670167, 'num_leaves': 123, 'min_data_in_leaf': 7, 'lambda_l1': 0.039108920682902455, 'min_child_weight': 4.681315658329673, 'feature_fraction': 0.893181113776885, 'bagging_fraction': 0.4476222567093309}. Best is trial 97 with value: 1686.204754913359.\n",
      "[I 2023-12-10 02:13:17,483] Trial 125 finished with value: 1693.061405145457 and parameters: {'num_iterations': 900, 'max_depth': 20, 'max_bin': 211, 'learning_rate': 0.03077185091630883, 'num_leaves': 125, 'min_data_in_leaf': 8, 'lambda_l1': 0.05529119299378907, 'min_child_weight': 4.84603952452207, 'feature_fraction': 0.8654518315653328, 'bagging_fraction': 0.5268720769420149}. Best is trial 97 with value: 1686.204754913359.\n",
      "[I 2023-12-10 02:14:24,580] Trial 126 finished with value: 1690.388419121578 and parameters: {'num_iterations': 866, 'max_depth': 19, 'max_bin': 200, 'learning_rate': 0.07368971521999211, 'num_leaves': 114, 'min_data_in_leaf': 7, 'lambda_l1': 0.04436968802992461, 'min_child_weight': 4.373733019338146, 'feature_fraction': 0.9501199904268512, 'bagging_fraction': 0.41058704016032405}. Best is trial 97 with value: 1686.204754913359.\n",
      "[I 2023-12-10 02:15:12,655] Trial 127 finished with value: 1735.87161277673 and parameters: {'num_iterations': 841, 'max_depth': 5, 'max_bin': 218, 'learning_rate': 0.11799725399967273, 'num_leaves': 121, 'min_data_in_leaf': 23, 'lambda_l1': 0.04791030213043138, 'min_child_weight': 4.055245439526938, 'feature_fraction': 0.9058810965213824, 'bagging_fraction': 0.38425529558884564}. Best is trial 97 with value: 1686.204754913359.\n",
      "[I 2023-12-10 02:16:20,138] Trial 128 finished with value: 1689.1388864260448 and parameters: {'num_iterations': 817, 'max_depth': 17, 'max_bin': 206, 'learning_rate': 0.05517953655602903, 'num_leaves': 119, 'min_data_in_leaf': 6, 'lambda_l1': 0.04164846494309297, 'min_child_weight': 4.601941693899285, 'feature_fraction': 0.8646680817255673, 'bagging_fraction': 0.3585971256283729}. Best is trial 97 with value: 1686.204754913359.\n",
      "[I 2023-12-10 02:17:03,011] Trial 129 finished with value: 1707.756559262253 and parameters: {'num_iterations': 784, 'max_depth': 17, 'max_bin': 206, 'learning_rate': 0.17081460212729607, 'num_leaves': 51, 'min_data_in_leaf': 5, 'lambda_l1': 0.03556651952241417, 'min_child_weight': 4.494329883217612, 'feature_fraction': 0.8532272783457453, 'bagging_fraction': 0.37299902788407535}. Best is trial 97 with value: 1686.204754913359.\n",
      "[I 2023-12-10 02:18:13,239] Trial 130 finished with value: 1688.3531164402234 and parameters: {'num_iterations': 806, 'max_depth': 18, 'max_bin': 196, 'learning_rate': 0.04735894546175387, 'num_leaves': 116, 'min_data_in_leaf': 6, 'lambda_l1': 0.04163849197871482, 'min_child_weight': 4.264765344060671, 'feature_fraction': 0.8092306979836, 'bagging_fraction': 0.3354566388292169}. Best is trial 97 with value: 1686.204754913359.\n",
      "[I 2023-12-10 02:19:27,037] Trial 131 finished with value: 1690.4938186536765 and parameters: {'num_iterations': 811, 'max_depth': 18, 'max_bin': 198, 'learning_rate': 0.05183796403271579, 'num_leaves': 116, 'min_data_in_leaf': 6, 'lambda_l1': 0.0409391014271667, 'min_child_weight': 4.17809731392425, 'feature_fraction': 0.8148619226593855, 'bagging_fraction': 0.3399480855658019}. Best is trial 97 with value: 1686.204754913359.\n",
      "[I 2023-12-10 02:20:42,163] Trial 132 finished with value: 1696.233138694091 and parameters: {'num_iterations': 798, 'max_depth': 17, 'max_bin': 193, 'learning_rate': 0.03294478718394307, 'num_leaves': 120, 'min_data_in_leaf': 5, 'lambda_l1': 0.04234330855498342, 'min_child_weight': 4.26870578300587, 'feature_fraction': 0.7769513742960275, 'bagging_fraction': 0.3630457697648771}. Best is trial 97 with value: 1686.204754913359.\n",
      "[I 2023-12-10 02:21:48,969] Trial 133 finished with value: 1689.3512980914195 and parameters: {'num_iterations': 764, 'max_depth': 17, 'max_bin': 202, 'learning_rate': 0.050453387710245524, 'num_leaves': 123, 'min_data_in_leaf': 6, 'lambda_l1': 0.03819878361846575, 'min_child_weight': 3.915866976185281, 'feature_fraction': 0.8694158270194895, 'bagging_fraction': 0.3142962423352243}. Best is trial 97 with value: 1686.204754913359.\n",
      "[I 2023-12-10 02:23:27,585] Trial 134 finished with value: 1725.2038985418044 and parameters: {'num_iterations': 766, 'max_depth': 16, 'max_bin': 201, 'learning_rate': 0.011295701571270321, 'num_leaves': 124, 'min_data_in_leaf': 6, 'lambda_l1': 0.03830419541371808, 'min_child_weight': 3.938158466665284, 'feature_fraction': 0.8670888963875316, 'bagging_fraction': 0.3279992072183474}. Best is trial 97 with value: 1686.204754913359.\n",
      "[I 2023-12-10 02:24:32,165] Trial 135 finished with value: 1687.7916023082391 and parameters: {'num_iterations': 742, 'max_depth': 17, 'max_bin': 207, 'learning_rate': 0.053740976424420765, 'num_leaves': 126, 'min_data_in_leaf': 5, 'lambda_l1': 0.03682885408121432, 'min_child_weight': 4.037064918709543, 'feature_fraction': 0.8258404977240904, 'bagging_fraction': 0.2926807567315919}. Best is trial 97 with value: 1686.204754913359.\n",
      "[I 2023-12-10 02:25:42,895] Trial 136 finished with value: 1688.1700464970484 and parameters: {'num_iterations': 741, 'max_depth': 17, 'max_bin': 204, 'learning_rate': 0.05037174072840461, 'num_leaves': 127, 'min_data_in_leaf': 5, 'lambda_l1': 0.03580242070128799, 'min_child_weight': 3.874250563705306, 'feature_fraction': 0.830563774169618, 'bagging_fraction': 0.2936848405196384}. Best is trial 97 with value: 1686.204754913359.\n",
      "[I 2023-12-10 02:26:49,475] Trial 137 finished with value: 1689.5639317312318 and parameters: {'num_iterations': 738, 'max_depth': 17, 'max_bin': 204, 'learning_rate': 0.049128237229516876, 'num_leaves': 126, 'min_data_in_leaf': 5, 'lambda_l1': 0.03406734611686451, 'min_child_weight': 3.917606391134601, 'feature_fraction': 0.8051108980527966, 'bagging_fraction': 0.2981100263655885}. Best is trial 97 with value: 1686.204754913359.\n",
      "[I 2023-12-10 02:28:07,625] Trial 138 finished with value: 1698.1570276066166 and parameters: {'num_iterations': 774, 'max_depth': 16, 'max_bin': 196, 'learning_rate': 0.027564697894175996, 'num_leaves': 127, 'min_data_in_leaf': 5, 'lambda_l1': 0.03655572708136685, 'min_child_weight': 3.809635527820488, 'feature_fraction': 0.8239139805688832, 'bagging_fraction': 0.31383354863877805}. Best is trial 97 with value: 1686.204754913359.\n",
      "[I 2023-12-10 02:29:09,158] Trial 139 finished with value: 1692.538052890411 and parameters: {'num_iterations': 758, 'max_depth': 17, 'max_bin': 202, 'learning_rate': 0.10101031180309464, 'num_leaves': 128, 'min_data_in_leaf': 6, 'lambda_l1': 0.031066436854526532, 'min_child_weight': 4.132836090693967, 'feature_fraction': 0.7651140186809986, 'bagging_fraction': 0.2379602496162376}. Best is trial 97 with value: 1686.204754913359.\n",
      "[I 2023-12-10 02:30:10,713] Trial 140 finished with value: 1692.4157618574268 and parameters: {'num_iterations': 689, 'max_depth': 15, 'max_bin': 189, 'learning_rate': 0.049676259396766675, 'num_leaves': 122, 'min_data_in_leaf': 5, 'lambda_l1': 0.036293708420994365, 'min_child_weight': 4.031253126663867, 'feature_fraction': 0.8421525292824533, 'bagging_fraction': 0.28568528717710095}. Best is trial 97 with value: 1686.204754913359.\n",
      "[I 2023-12-10 02:31:17,710] Trial 141 finished with value: 1691.347484318186 and parameters: {'num_iterations': 735, 'max_depth': 17, 'max_bin': 206, 'learning_rate': 0.04660360193909164, 'num_leaves': 126, 'min_data_in_leaf': 5, 'lambda_l1': 0.03501356983669713, 'min_child_weight': 3.884772732822255, 'feature_fraction': 0.7936227321696073, 'bagging_fraction': 0.29785990588080014}. Best is trial 97 with value: 1686.204754913359.\n",
      "[I 2023-12-10 02:32:23,696] Trial 142 finished with value: 1688.0789443459448 and parameters: {'num_iterations': 743, 'max_depth': 16, 'max_bin': 208, 'learning_rate': 0.0541219572591951, 'num_leaves': 125, 'min_data_in_leaf': 5, 'lambda_l1': 0.03320247174774388, 'min_child_weight': 3.980103936989227, 'feature_fraction': 0.8016136877633363, 'bagging_fraction': 0.3049507317752634}. Best is trial 97 with value: 1686.204754913359.\n",
      "[I 2023-12-10 02:33:35,723] Trial 143 finished with value: 1702.8504423432096 and parameters: {'num_iterations': 714, 'max_depth': 16, 'max_bin': 208, 'learning_rate': 0.026503294633160715, 'num_leaves': 124, 'min_data_in_leaf': 6, 'lambda_l1': 0.0328142294262095, 'min_child_weight': 4.0061351681056125, 'feature_fraction': 0.733099438855407, 'bagging_fraction': 0.34009463972277265}. Best is trial 97 with value: 1686.204754913359.\n",
      "[I 2023-12-10 02:34:39,861] Trial 144 finished with value: 1689.3313380338855 and parameters: {'num_iterations': 750, 'max_depth': 16, 'max_bin': 194, 'learning_rate': 0.06233852620007298, 'num_leaves': 121, 'min_data_in_leaf': 6, 'lambda_l1': 0.04105179185177643, 'min_child_weight': 3.7490672156204075, 'feature_fraction': 0.8114173371420362, 'bagging_fraction': 0.3090102618010344}. Best is trial 97 with value: 1686.204754913359.\n",
      "[I 2023-12-10 02:36:19,639] Trial 145 finished with value: 1729.201512728372 and parameters: {'num_iterations': 755, 'max_depth': 16, 'max_bin': 195, 'learning_rate': 0.01005664878391363, 'num_leaves': 125, 'min_data_in_leaf': 5, 'lambda_l1': 0.04086222498849793, 'min_child_weight': 3.7512156415184155, 'feature_fraction': 0.8118660415861606, 'bagging_fraction': 0.26413398428092294}. Best is trial 97 with value: 1686.204754913359.\n",
      "[I 2023-12-10 02:37:03,396] Trial 146 finished with value: 1699.639344972607 and parameters: {'num_iterations': 663, 'max_depth': 17, 'max_bin': 193, 'learning_rate': 0.10416890709992208, 'num_leaves': 65, 'min_data_in_leaf': 6, 'lambda_l1': 0.0430391309917297, 'min_child_weight': 3.6010776730085876, 'feature_fraction': 0.8274063061801307, 'bagging_fraction': 0.2860127456934771}. Best is trial 97 with value: 1686.204754913359.\n",
      "[I 2023-12-10 02:37:52,871] Trial 147 finished with value: 1779.5610430423847 and parameters: {'num_iterations': 703, 'max_depth': 18, 'max_bin': 109, 'learning_rate': 0.3958905523197522, 'num_leaves': 121, 'min_data_in_leaf': 5, 'lambda_l1': 0.03864062474368842, 'min_child_weight': 3.4636038798708273, 'feature_fraction': 0.7595672468585599, 'bagging_fraction': 0.35261643189679165}. Best is trial 97 with value: 1686.204754913359.\n",
      "[I 2023-12-10 02:39:02,018] Trial 148 finished with value: 1687.8321724411642 and parameters: {'num_iterations': 786, 'max_depth': 17, 'max_bin': 200, 'learning_rate': 0.05768530168726208, 'num_leaves': 128, 'min_data_in_leaf': 6, 'lambda_l1': 0.04421035670934063, 'min_child_weight': 3.7850425467123565, 'feature_fraction': 0.7895697873350953, 'bagging_fraction': 0.3183967549198901}. Best is trial 97 with value: 1686.204754913359.\n",
      "[I 2023-12-10 02:40:03,013] Trial 149 finished with value: 1696.5991301608603 and parameters: {'num_iterations': 793, 'max_depth': 16, 'max_bin': 197, 'learning_rate': 0.12424658872376677, 'num_leaves': 128, 'min_data_in_leaf': 6, 'lambda_l1': 0.046087469448169875, 'min_child_weight': 3.724239369621986, 'feature_fraction': 0.7843226160002039, 'bagging_fraction': 0.33378756268414705}. Best is trial 97 with value: 1686.204754913359.\n",
      "[I 2023-12-10 02:41:06,596] Trial 150 finished with value: 1690.17414168065 and parameters: {'num_iterations': 746, 'max_depth': 18, 'max_bin': 199, 'learning_rate': 0.06472108202108391, 'num_leaves': 126, 'min_data_in_leaf': 5, 'lambda_l1': 0.04403583092688218, 'min_child_weight': 3.562090145400466, 'feature_fraction': 0.7943426924829785, 'bagging_fraction': 0.3615783996207941}. Best is trial 97 with value: 1686.204754913359.\n",
      "[I 2023-12-10 02:42:17,520] Trial 151 finished with value: 1693.1576473283226 and parameters: {'num_iterations': 789, 'max_depth': 17, 'max_bin': 202, 'learning_rate': 0.040249626725293905, 'num_leaves': 124, 'min_data_in_leaf': 6, 'lambda_l1': 0.040447666640496066, 'min_child_weight': 3.8646258857925337, 'feature_fraction': 0.8427049017086613, 'bagging_fraction': 0.310753208604742}. Best is trial 97 with value: 1686.204754913359.\n",
      "[I 2023-12-10 02:43:16,403] Trial 152 finished with value: 1689.4813417187033 and parameters: {'num_iterations': 729, 'max_depth': 17, 'max_bin': 209, 'learning_rate': 0.08638644892906983, 'num_leaves': 120, 'min_data_in_leaf': 6, 'lambda_l1': 0.04181543269664919, 'min_child_weight': 3.9657565275050732, 'feature_fraction': 0.8158467807727978, 'bagging_fraction': 0.3005516321977148}. Best is trial 97 with value: 1686.204754913359.\n",
      "[I 2023-12-10 02:44:25,069] Trial 153 finished with value: 1687.6191858763868 and parameters: {'num_iterations': 822, 'max_depth': 16, 'max_bin': 204, 'learning_rate': 0.05803597895208778, 'num_leaves': 123, 'min_data_in_leaf': 5, 'lambda_l1': 0.03751318445208273, 'min_child_weight': 3.818914550841544, 'feature_fraction': 0.7256364703119879, 'bagging_fraction': 0.3288180352384692}. Best is trial 97 with value: 1686.204754913359.\n",
      "[I 2023-12-10 02:45:27,246] Trial 154 finished with value: 1692.1981318199767 and parameters: {'num_iterations': 828, 'max_depth': 15, 'max_bin': 206, 'learning_rate': 0.09766390530960081, 'num_leaves': 117, 'min_data_in_leaf': 5, 'lambda_l1': 0.04425982908072388, 'min_child_weight': 3.8106960798097647, 'feature_fraction': 0.7299793214325485, 'bagging_fraction': 0.2464621484948359}. Best is trial 97 with value: 1686.204754913359.\n",
      "[I 2023-12-10 02:46:30,618] Trial 155 finished with value: 1695.7981494130865 and parameters: {'num_iterations': 821, 'max_depth': 16, 'max_bin': 190, 'learning_rate': 0.0620619768820654, 'num_leaves': 78, 'min_data_in_leaf': 5, 'lambda_l1': 0.04686966865349707, 'min_child_weight': 3.639294329200481, 'feature_fraction': 0.7531174920106606, 'bagging_fraction': 0.27056566843778584}. Best is trial 97 with value: 1686.204754913359.\n",
      "[I 2023-12-10 02:47:21,016] Trial 156 finished with value: 1741.8884030055856 and parameters: {'num_iterations': 812, 'max_depth': 16, 'max_bin': 204, 'learning_rate': 0.036261050708263534, 'num_leaves': 34, 'min_data_in_leaf': 5, 'lambda_l1': 0.03063717400108692, 'min_child_weight': 4.065243851560088, 'feature_fraction': 0.7723132358556692, 'bagging_fraction': 0.3445916920798639}. Best is trial 97 with value: 1686.204754913359.\n",
      "[I 2023-12-10 02:48:03,339] Trial 157 finished with value: 1743.4640335728782 and parameters: {'num_iterations': 536, 'max_depth': 15, 'max_bin': 199, 'learning_rate': 0.3125770568113286, 'num_leaves': 128, 'min_data_in_leaf': 6, 'lambda_l1': 0.040133648123788626, 'min_child_weight': 3.7777827668716495, 'feature_fraction': 0.7797867909041296, 'bagging_fraction': 0.37182719606636483}. Best is trial 97 with value: 1686.204754913359.\n",
      "[I 2023-12-10 02:49:04,355] Trial 158 finished with value: 1692.305059222658 and parameters: {'num_iterations': 780, 'max_depth': 17, 'max_bin': 212, 'learning_rate': 0.09540213337498603, 'num_leaves': 122, 'min_data_in_leaf': 5, 'lambda_l1': 0.037470284532656335, 'min_child_weight': 4.981844461605979, 'feature_fraction': 0.7138457045931523, 'bagging_fraction': 0.33053481597466067}. Best is trial 97 with value: 1686.204754913359.\n",
      "[I 2023-12-10 02:50:03,486] Trial 159 finished with value: 1700.9510231595007 and parameters: {'num_iterations': 804, 'max_depth': 18, 'max_bin': 208, 'learning_rate': 0.1367479375632863, 'num_leaves': 125, 'min_data_in_leaf': 6, 'lambda_l1': 0.03341201271386838, 'min_child_weight': 4.1905078312046, 'feature_fraction': 0.829969624861058, 'bagging_fraction': 0.2866568951067065}. Best is trial 97 with value: 1686.204754913359.\n",
      "[I 2023-12-10 02:51:00,449] Trial 160 finished with value: 1822.0779583411222 and parameters: {'num_iterations': 841, 'max_depth': 18, 'max_bin': 194, 'learning_rate': 0.5162303076862839, 'num_leaves': 114, 'min_data_in_leaf': 5, 'lambda_l1': 0.044758290020895285, 'min_child_weight': 3.6565710123805393, 'feature_fraction': 0.8027156155418669, 'bagging_fraction': 0.4035593043546776}. Best is trial 97 with value: 1686.204754913359.\n",
      "[I 2023-12-10 02:52:04,540] Trial 161 finished with value: 1689.089876292998 and parameters: {'num_iterations': 753, 'max_depth': 17, 'max_bin': 202, 'learning_rate': 0.05736895821507412, 'num_leaves': 123, 'min_data_in_leaf': 6, 'lambda_l1': 0.03784917803760679, 'min_child_weight': 3.9153111374428007, 'feature_fraction': 0.856524074309071, 'bagging_fraction': 0.320893874778347}. Best is trial 97 with value: 1686.204754913359.\n",
      "[I 2023-12-10 02:52:42,427] Trial 162 finished with value: 1703.0946030410196 and parameters: {'num_iterations': 348, 'max_depth': 16, 'max_bin': 200, 'learning_rate': 0.06459241160885483, 'num_leaves': 119, 'min_data_in_leaf': 6, 'lambda_l1': 0.04242531614622288, 'min_child_weight': 3.538429505557696, 'feature_fraction': 0.851728196297811, 'bagging_fraction': 0.324759339967068}. Best is trial 97 with value: 1686.204754913359.\n",
      "[I 2023-12-10 02:54:01,843] Trial 163 finished with value: 1698.6959637454243 and parameters: {'num_iterations': 782, 'max_depth': 17, 'max_bin': 204, 'learning_rate': 0.026752534125156793, 'num_leaves': 126, 'min_data_in_leaf': 7, 'lambda_l1': 0.035013042508836516, 'min_child_weight': 3.391523135960937, 'feature_fraction': 0.8375601745377709, 'bagging_fraction': 0.36188290873930284}. Best is trial 97 with value: 1686.204754913359.\n",
      "[I 2023-12-10 02:55:07,056] Trial 164 finished with value: 1689.7108828715227 and parameters: {'num_iterations': 823, 'max_depth': 16, 'max_bin': 197, 'learning_rate': 0.08054738880647916, 'num_leaves': 122, 'min_data_in_leaf': 5, 'lambda_l1': 0.037289313941386376, 'min_child_weight': 4.07205401993787, 'feature_fraction': 0.8017448824909224, 'bagging_fraction': 0.30096738512926635}. Best is trial 97 with value: 1686.204754913359.\n",
      "[I 2023-12-10 02:56:12,756] Trial 165 finished with value: 1689.709844619135 and parameters: {'num_iterations': 745, 'max_depth': 18, 'max_bin': 208, 'learning_rate': 0.05131745521865816, 'num_leaves': 124, 'min_data_in_leaf': 6, 'lambda_l1': 0.04005530447452737, 'min_child_weight': 4.255026971775016, 'feature_fraction': 0.7519719796745118, 'bagging_fraction': 0.38320537764449053}. Best is trial 97 with value: 1686.204754913359.\n",
      "[I 2023-12-10 02:57:09,058] Trial 166 finished with value: 1695.6489904299735 and parameters: {'num_iterations': 716, 'max_depth': 17, 'max_bin': 214, 'learning_rate': 0.11292210662182289, 'num_leaves': 120, 'min_data_in_leaf': 7, 'lambda_l1': 0.0461486215849063, 'min_child_weight': 3.8409370910975054, 'feature_fraction': 0.6802949501150761, 'bagging_fraction': 0.34260208276900306}. Best is trial 97 with value: 1686.204754913359.\n",
      "[I 2023-12-10 02:58:23,653] Trial 167 finished with value: 1695.4075593812092 and parameters: {'num_iterations': 796, 'max_depth': 15, 'max_bin': 205, 'learning_rate': 0.03386717979827433, 'num_leaves': 117, 'min_data_in_leaf': 5, 'lambda_l1': 0.029547628520182865, 'min_child_weight': 4.000313657169753, 'feature_fraction': 0.8576046389870305, 'bagging_fraction': 0.27728118750520464}. Best is trial 97 with value: 1686.204754913359.\n",
      "[I 2023-12-10 02:59:22,314] Trial 168 finished with value: 1694.3354094027563 and parameters: {'num_iterations': 762, 'max_depth': 16, 'max_bin': 192, 'learning_rate': 0.06667822415701466, 'num_leaves': 92, 'min_data_in_leaf': 6, 'lambda_l1': 0.04781808928372872, 'min_child_weight': 3.707302360682867, 'feature_fraction': 0.7806747011270313, 'bagging_fraction': 0.2379332245792435}. Best is trial 97 with value: 1686.204754913359.\n",
      "[I 2023-12-10 03:00:59,392] Trial 169 finished with value: 1711.0279393209235 and parameters: {'num_iterations': 841, 'max_depth': 14, 'max_bin': 187, 'learning_rate': 0.016289969129358137, 'num_leaves': 128, 'min_data_in_leaf': 7, 'lambda_l1': 0.042011232612911543, 'min_child_weight': 4.326973299474841, 'feature_fraction': 0.8916836579216514, 'bagging_fraction': 0.3183656130620029}. Best is trial 97 with value: 1686.204754913359.\n",
      "[I 2023-12-10 03:02:13,771] Trial 170 finished with value: 1693.4306418142737 and parameters: {'num_iterations': 813, 'max_depth': 18, 'max_bin': 201, 'learning_rate': 0.0856040560816877, 'num_leaves': 126, 'min_data_in_leaf': 5, 'lambda_l1': 0.039157014160223366, 'min_child_weight': 3.913682014872218, 'feature_fraction': 0.6051365086777225, 'bagging_fraction': 0.39287444994047716}. Best is trial 97 with value: 1686.204754913359.\n",
      "[I 2023-12-10 03:03:21,359] Trial 171 finished with value: 1691.0447586919167 and parameters: {'num_iterations': 768, 'max_depth': 17, 'max_bin': 203, 'learning_rate': 0.04856401269089616, 'num_leaves': 123, 'min_data_in_leaf': 6, 'lambda_l1': 0.03795344035420992, 'min_child_weight': 3.9570827611140587, 'feature_fraction': 0.8674719520482386, 'bagging_fraction': 0.30863768326102603}. Best is trial 97 with value: 1686.204754913359.\n",
      "[I 2023-12-10 03:04:27,117] Trial 172 finished with value: 1687.5266550981282 and parameters: {'num_iterations': 754, 'max_depth': 17, 'max_bin': 196, 'learning_rate': 0.060635344301892054, 'num_leaves': 123, 'min_data_in_leaf': 6, 'lambda_l1': 0.03267092146037198, 'min_child_weight': 4.093934211010421, 'feature_fraction': 0.8175996023766272, 'bagging_fraction': 0.3209870864243244}. Best is trial 97 with value: 1686.204754913359.\n",
      "[I 2023-12-10 03:05:02,585] Trial 173 finished with value: 1707.7913406375733 and parameters: {'num_iterations': 286, 'max_depth': 17, 'max_bin': 196, 'learning_rate': 0.06472197668555237, 'num_leaves': 120, 'min_data_in_leaf': 12, 'lambda_l1': 0.03318682506430803, 'min_child_weight': 4.162919356086506, 'feature_fraction': 0.8200052525017715, 'bagging_fraction': 0.35523938798892246}. Best is trial 97 with value: 1686.204754913359.\n",
      "[I 2023-12-10 03:06:03,940] Trial 174 finished with value: 1692.1861224504457 and parameters: {'num_iterations': 733, 'max_depth': 18, 'max_bin': 200, 'learning_rate': 0.09213970625839854, 'num_leaves': 124, 'min_data_in_leaf': 5, 'lambda_l1': 0.027222624736568304, 'min_child_weight': 4.0669902491831325, 'feature_fraction': 0.8392110446755107, 'bagging_fraction': 0.25975850429776115}. Best is trial 97 with value: 1686.204754913359.\n",
      "[I 2023-12-10 03:07:15,360] Trial 175 finished with value: 1695.1109458847804 and parameters: {'num_iterations': 787, 'max_depth': 17, 'max_bin': 181, 'learning_rate': 0.035565882556098466, 'num_leaves': 116, 'min_data_in_leaf': 6, 'lambda_l1': 0.03504060465625468, 'min_child_weight': 4.25769011038992, 'feature_fraction': 0.7988728429974081, 'bagging_fraction': 0.3364343837592433}. Best is trial 97 with value: 1686.204754913359.\n",
      "[I 2023-12-10 03:08:21,912] Trial 176 finished with value: 1688.9831769275625 and parameters: {'num_iterations': 828, 'max_depth': 16, 'max_bin': 210, 'learning_rate': 0.07731923070926208, 'num_leaves': 121, 'min_data_in_leaf': 7, 'lambda_l1': 0.03234712184618589, 'min_child_weight': 2.2947084772586948, 'feature_fraction': 0.8202071840549082, 'bagging_fraction': 0.29014394246875735}. Best is trial 97 with value: 1686.204754913359.\n",
      "[I 2023-12-10 03:09:26,412] Trial 177 finished with value: 1694.49558234599 and parameters: {'num_iterations': 832, 'max_depth': 15, 'max_bin': 210, 'learning_rate': 0.10886215190806678, 'num_leaves': 126, 'min_data_in_leaf': 7, 'lambda_l1': 0.03312705098145407, 'min_child_weight': 1.9536643803755176, 'feature_fraction': 0.7738120365492731, 'bagging_fraction': 0.288915303590441}. Best is trial 97 with value: 1686.204754913359.\n",
      "[I 2023-12-10 03:10:31,872] Trial 178 finished with value: 1846.1273712389877 and parameters: {'num_iterations': 868, 'max_depth': 17, 'max_bin': 207, 'learning_rate': 0.6243424535746299, 'num_leaves': 118, 'min_data_in_leaf': 19, 'lambda_l1': 0.03074344887202675, 'min_child_weight': 2.239275938717629, 'feature_fraction': 0.8458168836882739, 'bagging_fraction': 0.4356467337529464}. Best is trial 97 with value: 1686.204754913359.\n",
      "[I 2023-12-10 03:11:32,489] Trial 179 finished with value: 1953.4490968563823 and parameters: {'num_iterations': 853, 'max_depth': 19, 'max_bin': 212, 'learning_rate': 0.7932182998294621, 'num_leaves': 122, 'min_data_in_leaf': 5, 'lambda_l1': 0.027937053323694352, 'min_child_weight': 4.334022670658482, 'feature_fraction': 0.8831930167292354, 'bagging_fraction': 0.40970685110098415}. Best is trial 97 with value: 1686.204754913359.\n",
      "[I 2023-12-10 03:12:34,547] Trial 180 finished with value: 1690.4929962971553 and parameters: {'num_iterations': 805, 'max_depth': 18, 'max_bin': 205, 'learning_rate': 0.07901328906384791, 'num_leaves': 113, 'min_data_in_leaf': 7, 'lambda_l1': 0.032111019888924605, 'min_child_weight': 4.108925861332237, 'feature_fraction': 0.8218962736687491, 'bagging_fraction': 0.37008426266288397}. Best is trial 97 with value: 1686.204754913359.\n",
      "[I 2023-12-10 03:13:39,828] Trial 181 finished with value: 1689.4844271929792 and parameters: {'num_iterations': 752, 'max_depth': 16, 'max_bin': 198, 'learning_rate': 0.05654654460791943, 'num_leaves': 121, 'min_data_in_leaf': 6, 'lambda_l1': 0.0363720527492446, 'min_child_weight': 3.850752170764425, 'feature_fraction': 0.8146372098077505, 'bagging_fraction': 0.3274710797804592}. Best is trial 97 with value: 1686.204754913359.\n",
      "[I 2023-12-10 03:15:14,614] Trial 182 finished with value: 1724.543802852993 and parameters: {'num_iterations': 781, 'max_depth': 16, 'max_bin': 192, 'learning_rate': 0.011379702652537911, 'num_leaves': 124, 'min_data_in_leaf': 6, 'lambda_l1': 0.043619673483032154, 'min_child_weight': 3.4793286567951216, 'feature_fraction': 0.7442937306408344, 'bagging_fraction': 0.29002053941840505}. Best is trial 97 with value: 1686.204754913359.\n",
      "[I 2023-12-10 03:15:37,546] Trial 183 finished with value: 1729.5244947299093 and parameters: {'num_iterations': 124, 'max_depth': 17, 'max_bin': 215, 'learning_rate': 0.07439812101108367, 'num_leaves': 120, 'min_data_in_leaf': 5, 'lambda_l1': 0.040468658030624556, 'min_child_weight': 3.759134671505251, 'feature_fraction': 0.8559774883052774, 'bagging_fraction': 0.30930406649778225}. Best is trial 97 with value: 1686.204754913359.\n",
      "[I 2023-12-10 03:16:51,494] Trial 184 finished with value: 1689.067119025462 and parameters: {'num_iterations': 819, 'max_depth': 16, 'max_bin': 195, 'learning_rate': 0.04212495154576462, 'num_leaves': 128, 'min_data_in_leaf': 6, 'lambda_l1': 0.03579532392119955, 'min_child_weight': 3.6575052052063444, 'feature_fraction': 0.7999082836617069, 'bagging_fraction': 0.2684762802261895}. Best is trial 97 with value: 1686.204754913359.\n",
      "[I 2023-12-10 03:18:15,777] Trial 185 finished with value: 1698.9190958133877 and parameters: {'num_iterations': 822, 'max_depth': 9, 'max_bin': 203, 'learning_rate': 0.03717168963992935, 'num_leaves': 127, 'min_data_in_leaf': 7, 'lambda_l1': 0.034983878160571726, 'min_child_weight': 3.634452688203934, 'feature_fraction': 0.7588778098480856, 'bagging_fraction': 0.26866147415012753}. Best is trial 97 with value: 1686.204754913359.\n",
      "[I 2023-12-10 03:19:29,582] Trial 186 finished with value: 1687.7871599448347 and parameters: {'num_iterations': 842, 'max_depth': 17, 'max_bin': 207, 'learning_rate': 0.05263515113577778, 'num_leaves': 128, 'min_data_in_leaf': 8, 'lambda_l1': 0.03768482164192344, 'min_child_weight': 3.3155235001017043, 'feature_fraction': 0.7942529757669283, 'bagging_fraction': 0.2308377609146827}. Best is trial 97 with value: 1686.204754913359.\n",
      "[I 2023-12-10 03:20:43,059] Trial 187 finished with value: 1708.6238656755722 and parameters: {'num_iterations': 844, 'max_depth': 7, 'max_bin': 211, 'learning_rate': 0.09848197418953938, 'num_leaves': 128, 'min_data_in_leaf': 8, 'lambda_l1': 0.03168844584026227, 'min_child_weight': 3.3710731088224435, 'feature_fraction': 0.7933081693487477, 'bagging_fraction': 0.22053766809880876}. Best is trial 97 with value: 1686.204754913359.\n",
      "[I 2023-12-10 03:22:10,306] Trial 188 finished with value: 1697.4287084790224 and parameters: {'num_iterations': 871, 'max_depth': 15, 'max_bin': 199, 'learning_rate': 0.025553896884377904, 'num_leaves': 125, 'min_data_in_leaf': 8, 'lambda_l1': 0.03415620850339007, 'min_child_weight': 3.9496101312434626, 'feature_fraction': 0.7824510751387688, 'bagging_fraction': 0.19573195265046273}. Best is trial 97 with value: 1686.204754913359.\n",
      "[I 2023-12-10 03:23:45,005] Trial 189 finished with value: 1704.0088570084336 and parameters: {'num_iterations': 835, 'max_depth': 16, 'max_bin': 209, 'learning_rate': 0.043394559034002925, 'num_leaves': 128, 'min_data_in_leaf': 8, 'lambda_l1': 0.03765802882187449, 'min_child_weight': 4.109618726660867, 'feature_fraction': 0.44721803531157034, 'bagging_fraction': 0.28149503326301917}. Best is trial 97 with value: 1686.204754913359.\n",
      "[I 2023-12-10 03:24:51,117] Trial 190 finished with value: 1698.1529592805473 and parameters: {'num_iterations': 886, 'max_depth': 18, 'max_bin': 148, 'learning_rate': 0.11603433202233014, 'num_leaves': 126, 'min_data_in_leaf': 7, 'lambda_l1': 0.03556957467133249, 'min_child_weight': 3.1548977009707624, 'feature_fraction': 0.730948276899263, 'bagging_fraction': 0.25110246680681897}. Best is trial 97 with value: 1686.204754913359.\n",
      "[I 2023-12-10 03:25:57,802] Trial 191 finished with value: 1688.0460804200652 and parameters: {'num_iterations': 810, 'max_depth': 17, 'max_bin': 206, 'learning_rate': 0.05965631696132205, 'num_leaves': 123, 'min_data_in_leaf': 5, 'lambda_l1': 0.03851401102783125, 'min_child_weight': 3.5957382422423536, 'feature_fraction': 0.8279897349614368, 'bagging_fraction': 0.2326555009722431}. Best is trial 97 with value: 1686.204754913359.\n",
      "[I 2023-12-10 03:26:54,380] Trial 192 finished with value: 1738.1047793431487 and parameters: {'num_iterations': 800, 'max_depth': 17, 'max_bin': 201, 'learning_rate': 0.2568649534965853, 'num_leaves': 123, 'min_data_in_leaf': 5, 'lambda_l1': 0.03663651047339623, 'min_child_weight': 3.2774399922427335, 'feature_fraction': 0.8322805905787483, 'bagging_fraction': 0.22354815245392168}. Best is trial 97 with value: 1686.204754913359.\n",
      "[I 2023-12-10 03:28:00,766] Trial 193 finished with value: 1688.5724291454812 and parameters: {'num_iterations': 851, 'max_depth': 16, 'max_bin': 197, 'learning_rate': 0.08191217777948809, 'num_leaves': 125, 'min_data_in_leaf': 5, 'lambda_l1': 0.0392978449050578, 'min_child_weight': 3.62009601864932, 'feature_fraction': 0.7972824043523978, 'bagging_fraction': 0.2476826757957804}. Best is trial 97 with value: 1686.204754913359.\n",
      "[I 2023-12-10 03:29:21,116] Trial 194 finished with value: 1692.735091556489 and parameters: {'num_iterations': 824, 'max_depth': 16, 'max_bin': 195, 'learning_rate': 0.07373240015954252, 'num_leaves': 126, 'min_data_in_leaf': 29, 'lambda_l1': 0.039423646613294644, 'min_child_weight': 3.551833878793775, 'feature_fraction': 0.7975472406972024, 'bagging_fraction': 0.20006607034568274}. Best is trial 97 with value: 1686.204754913359.\n",
      "[I 2023-12-10 03:30:28,327] Trial 195 finished with value: 1692.933147788543 and parameters: {'num_iterations': 855, 'max_depth': 15, 'max_bin': 197, 'learning_rate': 0.0884837987228286, 'num_leaves': 128, 'min_data_in_leaf': 5, 'lambda_l1': 0.049416696454897394, 'min_child_weight': 3.6762681147699103, 'feature_fraction': 0.7878611043168404, 'bagging_fraction': 0.23706789831445158}. Best is trial 97 with value: 1686.204754913359.\n",
      "[I 2023-12-10 03:31:41,852] Trial 196 finished with value: 1690.5299794529285 and parameters: {'num_iterations': 846, 'max_depth': 16, 'max_bin': 189, 'learning_rate': 0.04405957445561218, 'num_leaves': 125, 'min_data_in_leaf': 5, 'lambda_l1': 0.044833592673475246, 'min_child_weight': 3.3830689164633663, 'feature_fraction': 0.822879190740224, 'bagging_fraction': 0.24630786770910434}. Best is trial 97 with value: 1686.204754913359.\n",
      "[I 2023-12-10 03:32:44,609] Trial 197 finished with value: 1839.6407090340217 and parameters: {'num_iterations': 873, 'max_depth': 18, 'max_bin': 207, 'learning_rate': 0.5760866183678293, 'num_leaves': 124, 'min_data_in_leaf': 9, 'lambda_l1': 0.033824227406762476, 'min_child_weight': 3.5358463295952816, 'feature_fraction': 0.8110983382257959, 'bagging_fraction': 0.26202970673912057}. Best is trial 97 with value: 1686.204754913359.\n",
      "[I 2023-12-10 03:33:50,240] Trial 198 finished with value: 1689.6850447454412 and parameters: {'num_iterations': 807, 'max_depth': 16, 'max_bin': 205, 'learning_rate': 0.07225847397026938, 'num_leaves': 126, 'min_data_in_leaf': 5, 'lambda_l1': 0.02942225126386774, 'min_child_weight': 3.62742678164309, 'feature_fraction': 0.7709869520471191, 'bagging_fraction': 0.1494372535273107}. Best is trial 97 with value: 1686.204754913359.\n",
      "[I 2023-12-10 03:35:12,844] Trial 199 finished with value: 1695.246717640234 and parameters: {'num_iterations': 860, 'max_depth': 19, 'max_bin': 217, 'learning_rate': 0.028806810503341693, 'num_leaves': 122, 'min_data_in_leaf': 5, 'lambda_l1': 0.03909646240405867, 'min_child_weight': 3.842679388753707, 'feature_fraction': 0.7651202677753962, 'bagging_fraction': 0.2091282766414704}. Best is trial 97 with value: 1686.204754913359.\n"
     ]
    }
   ],
   "source": [
    "study_lightgbm.optimize(optuna_optimize, n_trials=200)"
   ],
   "metadata": {
    "collapsed": false,
    "ExecuteTime": {
     "end_time": "2023-12-10T00:35:12.868850300Z",
     "start_time": "2023-12-09T21:08:46.846323400Z"
    }
   },
   "id": "ad797bebccd35432"
  },
  {
   "cell_type": "code",
   "execution_count": 129,
   "outputs": [
    {
     "name": "stdout",
     "output_type": "stream",
     "text": [
      "Наилучшие значения гиперпараметров LightGBM: {'num_iterations': 884, 'max_depth': 18, 'max_bin': 195, 'learning_rate': 0.06056211121914541, 'num_leaves': 114, 'min_data_in_leaf': 7, 'lambda_l1': 0.05106871330529289, 'min_child_weight': 4.889639058314703, 'feature_fraction': 0.7850792936873255, 'bagging_fraction': 0.4428213922947892}\n",
      "\n",
      "Среднее качество LightGBM на кросс-валидации = 1686.20\n"
     ]
    }
   ],
   "source": [
    "print(\"Наилучшие значения гиперпараметров LightGBM: {}\".format(study_lightgbm.best_params))\n",
    "print()\n",
    "print(\"Среднее качество LightGBM на кросс-валидации = {:.2f}\". format(study_lightgbm.best_value))"
   ],
   "metadata": {
    "collapsed": false,
    "ExecuteTime": {
     "end_time": "2023-12-10T07:28:20.847962500Z",
     "start_time": "2023-12-10T07:28:20.722181Z"
    }
   },
   "id": "96f23645582a0e91"
  },
  {
   "cell_type": "markdown",
   "source": [
    "## CatBoostRegressor\t"
   ],
   "metadata": {
    "collapsed": false
   },
   "id": "5457b08bf51c25e6"
  },
  {
   "cell_type": "code",
   "execution_count": 130,
   "outputs": [],
   "source": [
    "cat_features=['cat__VehicleType',\n",
    "              'cat__Gearbox',\n",
    "              'cat__Model',\n",
    "              'cat__FuelType',\n",
    "              'cat__Brand',\n",
    "              'cat__Repaired',\n",
    "              'cat__missingindicator_VehicleType',\n",
    "              'cat__missingindicator_Gearbox',\n",
    "              'cat__missingindicator_Model',\n",
    "              'cat__missingindicator_FuelType',\n",
    "              'cat__missingindicator_Repaired']"
   ],
   "metadata": {
    "collapsed": false,
    "ExecuteTime": {
     "end_time": "2023-12-10T08:43:45.731491600Z",
     "start_time": "2023-12-10T08:43:45.590469300Z"
    }
   },
   "id": "768e96936aca4c23"
  },
  {
   "cell_type": "code",
   "execution_count": 135,
   "outputs": [],
   "source": [
    "cat_pipeline = Pipeline([\n",
    "    ('imp', SimpleImputer(strategy='constant', fill_value='unknown', add_indicator=True))\n",
    "])\n",
    "\n",
    "num_pipeline = Pipeline([\n",
    "    ('pt', PowerTransformer())\n",
    "])\n",
    "\n",
    "preprocessor = ColumnTransformer([\n",
    "    (\"cat\", cat_pipeline, categorical_features),\n",
    "    (\"num\", num_pipeline, numeric_features)\n",
    "])"
   ],
   "metadata": {
    "collapsed": false,
    "ExecuteTime": {
     "end_time": "2023-12-10T08:44:51.349210400Z",
     "start_time": "2023-12-10T08:44:51.308935Z"
    }
   },
   "id": "4a64cf1d059a2105"
  },
  {
   "cell_type": "code",
   "execution_count": 136,
   "outputs": [],
   "source": [
    "def optuna_optimize(trial):\n",
    "    param = {\n",
    "        'iterations': trial.suggest_int('iterations', 100, 1000),\n",
    "        'learning_rate': trial.suggest_float('learning_rate', 1e-3, 0.1),\n",
    "        'depth': trial.suggest_int('depth', 1, 12),\n",
    "        'subsample': trial.suggest_float('subsample', 0.05, 1.0),\n",
    "        'colsample_bylevel': trial.suggest_float('colsample_bylevel', 0.05, 1.0, log=True), # что это значит\n",
    "        'min_data_in_leaf': trial.suggest_int('min_data_in_leaf', 1, 100),\n",
    "        'l2_leaf_reg': trial.suggest_float('l2_leaf_reg', 0.0, 1.0) # какие значения тут any positive value is allowed\n",
    "    }\n",
    "\n",
    "    estimator = CatBoostRegressor(**param,\n",
    "                              boosting_type='Plain',\n",
    "                              random_state=42,\n",
    "                              verbose=False,\n",
    "                              cat_features=cat_features)\n",
    "\n",
    "    pipe_cat = Pipeline([\n",
    "        ('preprocessor', preprocessor),\n",
    "        ('model', estimator)\n",
    "    ])\n",
    "\n",
    "    score = ((cross_val_score(pipe_cat, X_train, y_train, cv=5, scoring='neg_mean_squared_error') * -1) ** 0.5).mean()\n",
    "\n",
    "    return score"
   ],
   "metadata": {
    "collapsed": false,
    "ExecuteTime": {
     "end_time": "2023-12-10T08:44:52.537567600Z",
     "start_time": "2023-12-10T08:44:52.437996400Z"
    }
   },
   "id": "a08e6af036d91ca4"
  },
  {
   "cell_type": "code",
   "execution_count": 137,
   "outputs": [
    {
     "name": "stderr",
     "output_type": "stream",
     "text": [
      "[I 2023-12-10 11:44:53,708] A new study created in memory with name: CatBoost Optuna Optimization\n"
     ]
    }
   ],
   "source": [
    "study_cat = optuna.create_study(study_name=\"CatBoost Optuna Optimization\",\n",
    "                                     direction='minimize')"
   ],
   "metadata": {
    "collapsed": false,
    "ExecuteTime": {
     "end_time": "2023-12-10T08:44:53.741433900Z",
     "start_time": "2023-12-10T08:44:53.704023700Z"
    }
   },
   "id": "bcaa873333d46aad"
  },
  {
   "cell_type": "code",
   "execution_count": 138,
   "outputs": [
    {
     "name": "stderr",
     "output_type": "stream",
     "text": [
      "[I 2023-12-10 11:48:30,905] Trial 0 finished with value: 2034.758341203665 and parameters: {'iterations': 249, 'learning_rate': 0.03152667146401002, 'depth': 10, 'subsample': 0.49313646976764103, 'colsample_bylevel': 0.10897999688933589, 'min_data_in_leaf': 47, 'l2_leaf_reg': 0.9467949178420578}. Best is trial 0 with value: 2034.758341203665.\n",
      "[I 2023-12-10 11:58:59,269] Trial 1 finished with value: 1803.901957440262 and parameters: {'iterations': 240, 'learning_rate': 0.09565225777823766, 'depth': 8, 'subsample': 0.7164927433194265, 'colsample_bylevel': 0.9913772793673669, 'min_data_in_leaf': 39, 'l2_leaf_reg': 0.17029848011764948}. Best is trial 1 with value: 1803.901957440262.\n",
      "[I 2023-12-10 12:03:17,425] Trial 2 finished with value: 2195.619612670383 and parameters: {'iterations': 523, 'learning_rate': 0.013551275889763455, 'depth': 7, 'subsample': 0.3456632534240441, 'colsample_bylevel': 0.11198986953075825, 'min_data_in_leaf': 22, 'l2_leaf_reg': 0.9681042296880266}. Best is trial 1 with value: 1803.901957440262.\n",
      "[I 2023-12-10 12:05:36,770] Trial 3 finished with value: 1998.1741227380885 and parameters: {'iterations': 886, 'learning_rate': 0.08386511822771196, 'depth': 3, 'subsample': 0.14053347290907273, 'colsample_bylevel': 0.11198054969275911, 'min_data_in_leaf': 81, 'l2_leaf_reg': 0.9866307805032488}. Best is trial 1 with value: 1803.901957440262.\n",
      "[I 2023-12-10 12:33:34,737] Trial 4 finished with value: 1742.3443130376625 and parameters: {'iterations': 582, 'learning_rate': 0.06223972829776286, 'depth': 10, 'subsample': 0.982994199807103, 'colsample_bylevel': 0.9589365217494533, 'min_data_in_leaf': 41, 'l2_leaf_reg': 0.13320157595482462}. Best is trial 4 with value: 1742.3443130376625.\n"
     ]
    }
   ],
   "source": [
    "study_cat.optimize(optuna_optimize, n_trials=5)"
   ],
   "metadata": {
    "collapsed": false,
    "ExecuteTime": {
     "end_time": "2023-12-10T09:33:34.882581700Z",
     "start_time": "2023-12-10T08:44:55.237585500Z"
    }
   },
   "id": "be97f824ad9d5f48"
  },
  {
   "cell_type": "code",
   "execution_count": null,
   "outputs": [],
   "source": [
    "print(\"Наилучшие значения гиперпараметров CatBoost: {}\".format(study_cat.best_params))\n",
    "print()\n",
    "print(\"Среднее качество CatBoost на кросс-валидации = {:.2f}\". format(study_cat.best_value))"
   ],
   "metadata": {
    "collapsed": false,
    "ExecuteTime": {
     "start_time": "2023-12-09T18:08:36.970602Z"
    }
   },
   "id": "afb68526897d86f1"
  },
  {
   "cell_type": "code",
   "execution_count": null,
   "outputs": [],
   "source": [],
   "metadata": {
    "collapsed": false
   },
   "id": "32c5905b0c57812f"
  }
 ],
 "metadata": {
  "kernelspec": {
   "display_name": "Python 3",
   "language": "python",
   "name": "python3"
  },
  "language_info": {
   "codemirror_mode": {
    "name": "ipython",
    "version": 2
   },
   "file_extension": ".py",
   "mimetype": "text/x-python",
   "name": "python",
   "nbconvert_exporter": "python",
   "pygments_lexer": "ipython2",
   "version": "2.7.6"
  }
 },
 "nbformat": 4,
 "nbformat_minor": 5
}
